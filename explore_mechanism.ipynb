{
 "cells": [
  {
   "cell_type": "code",
   "execution_count": 22,
   "metadata": {},
   "outputs": [],
   "source": [
    "from hydra import initialize, compose\n",
    "import json\n",
    "from rdkit import Chem\n",
    "from rdkit.Chem import AllChem\n",
    "from rdkit.Chem.Draw import IPythonConsole\n",
    "from pathlib import Path\n",
    "from enz_rxn_data.mechanism import get_overall_reaction\n",
    "from ergochem.draw import draw_reaction, draw_molecule\n",
    "from IPython.display import SVG"
   ]
  },
  {
   "cell_type": "code",
   "execution_count": 23,
   "metadata": {},
   "outputs": [],
   "source": [
    "with initialize(version_base=None, config_path=\"./conf/filepaths\"):\n",
    "    filepaths = compose(config_name=\"filepaths\")"
   ]
  },
  {
   "cell_type": "code",
   "execution_count": 24,
   "metadata": {},
   "outputs": [],
   "source": [
    "with open(Path(filepaths.raw_data) / \"mcsa\" / \"entries_0.json\", \"r\") as f:\n",
    "    entries = json.load(f)\n",
    "    entry_id = '49'\n",
    "    entry_49 = entries[entry_id]['reaction']"
   ]
  },
  {
   "cell_type": "code",
   "execution_count": 25,
   "metadata": {},
   "outputs": [],
   "source": [
    "with open(Path(filepaths.raw_mcsa) / \"entries_7.json\", \"r\") as f:\n",
    "    entries = json.load(f)\n",
    "\n",
    "    entry_id = '722'\n",
    "    entry_722 = entries[entry_id]['reaction']"
   ]
  },
  {
   "cell_type": "code",
   "execution_count": 26,
   "metadata": {},
   "outputs": [
    {
     "name": "stderr",
     "output_type": "stream",
     "text": [
      "[16:23:26] WARNING: not removing hydrogen atom without neighbors\n"
     ]
    },
    {
     "data": {
      "image/png": "[encoded data removed]",
      "text/plain": [
       "<rdkit.Chem.rdChemReactions.ChemicalReaction at 0x7f6b774207b0>"
      ]
     },
     "metadata": {},
     "output_type": "display_data"
    },
    {
     "data": {
      "image/svg+xml": [
       "<svg xmlns=\"http://www.w3.org/2000/svg\" xmlns:rdkit=\"http://www.rdkit.org/xml\" xmlns:xlink=\"http://www.w3.org/1999/xlink\" version=\"1.1\" baseProfile=\"full\" xml:space=\"preserve\" width=\"300px\" height=\"200px\" viewBox=\"0 0 300 200\">\n",
       "<!-- END OF HEADER -->\n",
       "<rect style=\"opacity:1.0;fill:#FFFFFF;stroke:none\" width=\"300.0\" height=\"200.0\" x=\"0.0\" y=\"0.0\"> </rect>\n",
       "<path class=\"atom-0\" d=\"M 130.0 34.8 L 133.9 34.8 L 133.9 46.8 L 148.4 46.8 L 148.4 34.8 L 152.2 34.8 L 152.2 63.1 L 148.4 63.1 L 148.4 50.0 L 133.9 50.0 L 133.9 63.1 L 130.0 63.1 L 130.0 34.8 \" fill=\"#000000\"/>\n",
       "<path class=\"atom-0\" d=\"M 157.6 39.9 L 162.6 39.9 L 162.6 34.6 L 164.8 34.6 L 164.8 39.9 L 170.0 39.9 L 170.0 41.8 L 164.8 41.8 L 164.8 47.0 L 162.6 47.0 L 162.6 41.8 L 157.6 41.8 L 157.6 39.9 \" fill=\"#000000\"/>\n",
       "<path class=\"note\" d=\"M 141.1 165.4 Q 138.5 165.4, 137.2 163.5 Q 135.9 161.6, 135.9 158.1 Q 135.9 154.7, 137.2 152.8 Q 138.5 150.9, 141.1 150.9 Q 143.7 150.9, 145.0 152.8 Q 146.3 154.7, 146.3 158.1 Q 146.3 161.6, 145.0 163.5 Q 143.7 165.4, 141.1 165.4 M 141.1 163.8 Q 142.7 163.8, 143.5 162.4 Q 144.3 160.9, 144.3 158.1 Q 144.3 155.4, 143.5 153.9 Q 142.7 152.5, 141.1 152.5 Q 139.6 152.5, 138.8 153.9 Q 137.9 155.4, 137.9 158.1 Q 137.9 160.9, 138.8 162.4 Q 139.6 163.8, 141.1 163.8 \" fill=\"#000000\"/>\n",
       "</svg>"
      ],
      "text/plain": [
       "<IPython.core.display.SVG object>"
      ]
     },
     "metadata": {},
     "output_type": "display_data"
    },
    {
     "data": {
      "image/svg+xml": [
       "<svg xmlns=\"http://www.w3.org/2000/svg\" xmlns:rdkit=\"http://www.rdkit.org/xml\" xmlns:xlink=\"http://www.w3.org/1999/xlink\" version=\"1.1\" baseProfile=\"full\" xml:space=\"preserve\" width=\"300px\" height=\"200px\" viewBox=\"0 0 300 200\">\n",
       "<!-- END OF HEADER -->\n",
       "<rect style=\"opacity:1.0;fill:#FFFFFF;stroke:none\" width=\"300.0\" height=\"200.0\" x=\"0.0\" y=\"0.0\"> </rect>\n",
       "<path class=\"bond-0 atom-5 atom-0\" d=\"M 74.0,92.5 L 88.8,97.3\" style=\"fill:none;fill-rule:evenodd;stroke:#0000FF;stroke-width:2.0px;stroke-linecap:butt;stroke-linejoin:miter;stroke-opacity:1\"/>\n",
       "<path class=\"bond-0 atom-5 atom-0\" d=\"M 88.8,97.3 L 103.7,102.1\" style=\"fill:none;fill-rule:evenodd;stroke:#000000;stroke-width:2.0px;stroke-linecap:butt;stroke-linejoin:miter;stroke-opacity:1\"/>\n",
       "<path class=\"bond-1 atom-0 atom-1\" d=\"M 103.7,102.1 L 139.4,81.5\" style=\"fill:none;fill-rule:evenodd;stroke:#000000;stroke-width:2.0px;stroke-linecap:butt;stroke-linejoin:miter;stroke-opacity:1\"/>\n",
       "<path class=\"bond-2 atom-1 atom-2\" d=\"M 139.4,81.5 L 175.1,102.1\" style=\"fill:none;fill-rule:evenodd;stroke:#000000;stroke-width:2.0px;stroke-linecap:butt;stroke-linejoin:miter;stroke-opacity:1\"/>\n",
       "<path class=\"bond-3 atom-2 atom-9\" d=\"M 175.1,102.1 L 210.8,81.5\" style=\"fill:none;fill-rule:evenodd;stroke:#000000;stroke-width:2.0px;stroke-linecap:butt;stroke-linejoin:miter;stroke-opacity:1\"/>\n",
       "<path class=\"bond-4 atom-3 atom-0\" d=\"M 103.7,143.3 L 103.7,102.1\" style=\"fill:none;fill-rule:evenodd;stroke:#000000;stroke-width:2.0px;stroke-linecap:butt;stroke-linejoin:miter;stroke-opacity:1\"/>\n",
       "<path class=\"bond-4 atom-3 atom-0\" d=\"M 97.6,138.8 L 97.6,106.6\" style=\"fill:none;fill-rule:evenodd;stroke:#000000;stroke-width:2.0px;stroke-linecap:butt;stroke-linejoin:miter;stroke-opacity:1\"/>\n",
       "<path class=\"bond-5 atom-7 atom-3\" d=\"M 74.0,153.0 L 88.9,148.2\" style=\"fill:none;fill-rule:evenodd;stroke:#0000FF;stroke-width:2.0px;stroke-linecap:butt;stroke-linejoin:miter;stroke-opacity:1\"/>\n",
       "<path class=\"bond-5 atom-7 atom-3\" d=\"M 88.9,148.2 L 103.7,143.3\" style=\"fill:none;fill-rule:evenodd;stroke:#000000;stroke-width:2.0px;stroke-linecap:butt;stroke-linejoin:miter;stroke-opacity:1\"/>\n",
       "<path class=\"bond-6 atom-2 atom-4\" d=\"M 175.1,102.1 L 175.1,116.7\" style=\"fill:none;fill-rule:evenodd;stroke:#000000;stroke-width:2.0px;stroke-linecap:butt;stroke-linejoin:miter;stroke-opacity:1\"/>\n",
       "<path class=\"bond-6 atom-2 atom-4\" d=\"M 175.1,116.7 L 175.1,131.4\" style=\"fill:none;fill-rule:evenodd;stroke:#0000FF;stroke-width:2.0px;stroke-linecap:butt;stroke-linejoin:miter;stroke-opacity:1\"/>\n",
       "<path class=\"bond-7 atom-6 atom-5\" d=\"M 40.3,122.7 L 48.1,112.0\" style=\"fill:none;fill-rule:evenodd;stroke:#000000;stroke-width:2.0px;stroke-linecap:butt;stroke-linejoin:miter;stroke-opacity:1\"/>\n",
       "<path class=\"bond-7 atom-6 atom-5\" d=\"M 48.1,112.0 L 55.9,101.4\" style=\"fill:none;fill-rule:evenodd;stroke:#0000FF;stroke-width:2.0px;stroke-linecap:butt;stroke-linejoin:miter;stroke-opacity:1\"/>\n",
       "<path class=\"bond-7 atom-6 atom-5\" d=\"M 48.0,122.7 L 54.4,113.9\" style=\"fill:none;fill-rule:evenodd;stroke:#000000;stroke-width:2.0px;stroke-linecap:butt;stroke-linejoin:miter;stroke-opacity:1\"/>\n",
       "<path class=\"bond-7 atom-6 atom-5\" d=\"M 54.4,113.9 L 60.9,105.0\" style=\"fill:none;fill-rule:evenodd;stroke:#0000FF;stroke-width:2.0px;stroke-linecap:butt;stroke-linejoin:miter;stroke-opacity:1\"/>\n",
       "<path class=\"bond-8 atom-6 atom-7\" d=\"M 40.3,122.7 L 48.1,133.4\" style=\"fill:none;fill-rule:evenodd;stroke:#000000;stroke-width:2.0px;stroke-linecap:butt;stroke-linejoin:miter;stroke-opacity:1\"/>\n",
       "<path class=\"bond-8 atom-6 atom-7\" d=\"M 48.1,133.4 L 55.9,144.1\" style=\"fill:none;fill-rule:evenodd;stroke:#0000FF;stroke-width:2.0px;stroke-linecap:butt;stroke-linejoin:miter;stroke-opacity:1\"/>\n",
       "<path class=\"bond-9 atom-9 atom-8\" d=\"M 213.9,83.3 L 213.9,68.0\" style=\"fill:none;fill-rule:evenodd;stroke:#000000;stroke-width:2.0px;stroke-linecap:butt;stroke-linejoin:miter;stroke-opacity:1\"/>\n",
       "<path class=\"bond-9 atom-9 atom-8\" d=\"M 213.9,68.0 L 213.9,52.7\" style=\"fill:none;fill-rule:evenodd;stroke:#FF0000;stroke-width:2.0px;stroke-linecap:butt;stroke-linejoin:miter;stroke-opacity:1\"/>\n",
       "<path class=\"bond-9 atom-9 atom-8\" d=\"M 207.7,83.3 L 207.7,68.0\" style=\"fill:none;fill-rule:evenodd;stroke:#000000;stroke-width:2.0px;stroke-linecap:butt;stroke-linejoin:miter;stroke-opacity:1\"/>\n",
       "<path class=\"bond-9 atom-9 atom-8\" d=\"M 207.7,68.0 L 207.7,52.7\" style=\"fill:none;fill-rule:evenodd;stroke:#FF0000;stroke-width:2.0px;stroke-linecap:butt;stroke-linejoin:miter;stroke-opacity:1\"/>\n",
       "<path class=\"bond-10 atom-10 atom-9\" d=\"M 235.3,95.7 L 223.1,88.6\" style=\"fill:none;fill-rule:evenodd;stroke:#FF0000;stroke-width:2.0px;stroke-linecap:butt;stroke-linejoin:miter;stroke-opacity:1\"/>\n",
       "<path class=\"bond-10 atom-10 atom-9\" d=\"M 223.1,88.6 L 210.8,81.5\" style=\"fill:none;fill-rule:evenodd;stroke:#000000;stroke-width:2.0px;stroke-linecap:butt;stroke-linejoin:miter;stroke-opacity:1\"/>\n",
       "<path d=\"M 137.6,82.6 L 139.4,81.5 L 141.2,82.6\" style=\"fill:none;stroke:#000000;stroke-width:2.0px;stroke-linecap:butt;stroke-linejoin:miter;stroke-opacity:1;\"/>\n",
       "<path d=\"M 103.7,141.3 L 103.7,143.3 L 103.0,143.6\" style=\"fill:none;stroke:#000000;stroke-width:2.0px;stroke-linecap:butt;stroke-linejoin:miter;stroke-opacity:1;\"/>\n",
       "<path d=\"M 40.7,122.2 L 40.3,122.7 L 40.7,123.3\" style=\"fill:none;stroke:#000000;stroke-width:2.0px;stroke-linecap:butt;stroke-linejoin:miter;stroke-opacity:1;\"/>\n",
       "<path d=\"M 209.0,82.6 L 210.8,81.5 L 211.4,81.9\" style=\"fill:none;stroke:#000000;stroke-width:2.0px;stroke-linecap:butt;stroke-linejoin:miter;stroke-opacity:1;\"/>\n",
       "<path class=\"atom-4\" d=\"M 170.4 132.7 L 177.4 144.0 Q 178.0 145.1, 179.2 147.1 Q 180.3 149.1, 180.3 149.2 L 180.3 132.7 L 183.1 132.7 L 183.1 153.9 L 180.2 153.9 L 172.8 141.6 Q 171.9 140.2, 171.0 138.6 Q 170.1 136.9, 169.8 136.4 L 169.8 153.9 L 167.1 153.9 L 167.1 132.7 L 170.4 132.7 \" fill=\"#0000FF\"/>\n",
       "<path class=\"atom-4\" d=\"M 187.2 132.7 L 190.0 132.7 L 190.0 141.7 L 200.9 141.7 L 200.9 132.7 L 203.7 132.7 L 203.7 153.9 L 200.9 153.9 L 200.9 144.1 L 190.0 144.1 L 190.0 153.9 L 187.2 153.9 L 187.2 132.7 \" fill=\"#0000FF\"/>\n",
       "<path class=\"atom-4\" d=\"M 214.5 157.2 Q 215.9 157.6, 216.6 158.4 Q 217.2 159.3, 217.2 160.7 Q 217.2 161.9, 216.6 162.8 Q 216.0 163.7, 215.0 164.2 Q 213.9 164.7, 212.4 164.7 Q 210.9 164.7, 209.8 164.2 Q 208.7 163.7, 207.8 162.6 L 208.9 161.5 Q 209.8 162.4, 210.5 162.8 Q 211.3 163.2, 212.4 163.2 Q 213.7 163.2, 214.5 162.5 Q 215.3 161.8, 215.3 160.7 Q 215.3 159.3, 214.4 158.6 Q 213.7 158.0, 211.9 158.0 L 210.9 158.0 L 210.9 156.5 L 211.8 156.5 Q 213.3 156.5, 214.1 155.9 Q 215.0 155.2, 215.0 154.0 Q 215.0 153.0, 214.3 152.5 Q 213.6 152.0, 212.5 152.0 Q 211.3 152.0, 210.6 152.4 Q 209.9 152.8, 209.3 153.8 L 207.9 153.1 Q 208.4 151.9, 209.6 151.2 Q 210.8 150.4, 212.5 150.4 Q 214.5 150.4, 215.7 151.3 Q 216.9 152.3, 216.9 154.0 Q 216.9 155.1, 216.3 155.9 Q 215.7 156.7, 214.5 157.2 \" fill=\"#0000FF\"/>\n",
       "<path class=\"atom-4\" d=\"M 207.9 136.5 L 211.6 136.5 L 211.6 132.6 L 213.3 132.6 L 213.3 136.5 L 217.1 136.5 L 217.1 138.0 L 213.3 138.0 L 213.3 141.9 L 211.6 141.9 L 211.6 138.0 L 207.9 138.0 L 207.9 136.5 \" fill=\"#0000FF\"/>\n",
       "<path class=\"atom-5\" d=\"M 59.9 78.8 L 66.8 90.0 Q 67.5 91.1, 68.6 93.1 Q 69.7 95.2, 69.8 95.3 L 69.8 78.8 L 72.6 78.8 L 72.6 100.0 L 69.7 100.0 L 62.2 87.7 Q 61.4 86.3, 60.4 84.6 Q 59.5 83.0, 59.3 82.5 L 59.3 100.0 L 56.5 100.0 L 56.5 78.8 L 59.9 78.8 \" fill=\"#0000FF\"/>\n",
       "<path class=\"atom-7\" d=\"M 59.9 145.5 L 66.8 156.7 Q 67.5 157.8, 68.6 159.8 Q 69.7 161.8, 69.8 161.9 L 69.8 145.5 L 72.6 145.5 L 72.6 166.7 L 69.7 166.7 L 62.2 154.4 Q 61.4 152.9, 60.4 151.3 Q 59.5 149.6, 59.3 149.1 L 59.3 166.7 L 56.5 166.7 L 56.5 145.5 L 59.9 145.5 \" fill=\"#0000FF\"/>\n",
       "<path class=\"atom-7\" d=\"M 56.3 168.8 L 59.1 168.8 L 59.1 177.8 L 70.0 177.8 L 70.0 168.8 L 72.9 168.8 L 72.9 190.0 L 70.0 190.0 L 70.0 180.2 L 59.1 180.2 L 59.1 190.0 L 56.3 190.0 L 56.3 168.8 \" fill=\"#0000FF\"/>\n",
       "<path class=\"atom-8\" d=\"M 201.0 40.4 Q 201.0 35.3, 203.5 32.5 Q 206.1 29.6, 210.8 29.6 Q 215.5 29.6, 218.0 32.5 Q 220.5 35.3, 220.5 40.4 Q 220.5 45.5, 218.0 48.5 Q 215.4 51.4, 210.8 51.4 Q 206.1 51.4, 203.5 48.5 Q 201.0 45.6, 201.0 40.4 M 210.8 49.0 Q 214.0 49.0, 215.7 46.8 Q 217.5 44.6, 217.5 40.4 Q 217.5 36.2, 215.7 34.1 Q 214.0 32.0, 210.8 32.0 Q 207.5 32.0, 205.8 34.1 Q 204.0 36.2, 204.0 40.4 Q 204.0 44.7, 205.8 46.8 Q 207.5 49.0, 210.8 49.0 \" fill=\"#FF0000\"/>\n",
       "<path class=\"atom-10\" d=\"M 236.7 102.2 Q 236.7 97.1, 239.2 94.2 Q 241.7 91.4, 246.4 91.4 Q 251.1 91.4, 253.7 94.2 Q 256.2 97.1, 256.2 102.2 Q 256.2 107.3, 253.6 110.3 Q 251.1 113.2, 246.4 113.2 Q 241.8 113.2, 239.2 110.3 Q 236.7 107.4, 236.7 102.2 M 246.4 110.8 Q 249.7 110.8, 251.4 108.6 Q 253.2 106.4, 253.2 102.2 Q 253.2 98.0, 251.4 95.9 Q 249.7 93.8, 246.4 93.8 Q 243.2 93.8, 241.4 95.9 Q 239.7 98.0, 239.7 102.2 Q 239.7 106.5, 241.4 108.6 Q 243.2 110.8, 246.4 110.8 \" fill=\"#FF0000\"/>\n",
       "<path class=\"atom-10\" d=\"M 259.2 94.9 L 266.5 94.9 L 266.5 96.4 L 259.2 96.4 L 259.2 94.9 \" fill=\"#FF0000\"/>\n",
       "<path class=\"note\" d=\"M 102.4 95.2 Q 100.5 95.2, 99.5 93.8 Q 98.6 92.3, 98.6 89.8 Q 98.6 87.2, 99.5 85.8 Q 100.5 84.3, 102.4 84.3 Q 104.4 84.3, 105.4 85.8 Q 106.3 87.2, 106.3 89.8 Q 106.3 92.3, 105.3 93.8 Q 104.4 95.2, 102.4 95.2 M 102.4 94.0 Q 103.6 94.0, 104.2 92.9 Q 104.8 91.9, 104.8 89.8 Q 104.8 87.7, 104.2 86.6 Q 103.6 85.5, 102.4 85.5 Q 101.3 85.5, 100.7 86.6 Q 100.0 87.7, 100.0 89.8 Q 100.0 91.9, 100.7 92.9 Q 101.3 94.0, 102.4 94.0 \" fill=\"#000000\"/>\n",
       "<path class=\"note\" d=\"M 136.8 73.2 L 139.1 73.2 L 139.1 65.3 L 136.6 66.0 L 136.2 65.2 L 139.5 63.7 L 140.5 63.9 L 140.5 73.2 L 142.6 73.2 L 142.6 74.4 L 136.8 74.4 L 136.8 73.2 \" fill=\"#000000\"/>\n",
       "<path class=\"note\" d=\"M 171.6 86.4 Q 171.9 85.4, 172.9 84.8 Q 173.8 84.3, 175.1 84.3 Q 176.7 84.3, 177.6 85.1 Q 178.5 86.0, 178.5 87.6 Q 178.5 89.1, 177.3 90.6 Q 176.2 92.1, 173.8 93.8 L 178.7 93.8 L 178.7 95.0 L 171.5 95.0 L 171.5 94.0 Q 173.5 92.6, 174.7 91.5 Q 175.9 90.5, 176.4 89.6 Q 177.0 88.6, 177.0 87.6 Q 177.0 86.6, 176.5 86.0 Q 176.0 85.5, 175.1 85.5 Q 174.2 85.5, 173.7 85.8 Q 173.1 86.2, 172.7 86.9 L 171.6 86.4 \" fill=\"#000000\"/>\n",
       "<path class=\"note\" d=\"M 115.4 150.4 Q 116.4 150.7, 116.9 151.4 Q 117.4 152.1, 117.4 153.1 Q 117.4 154.0, 117.0 154.7 Q 116.5 155.4, 115.7 155.8 Q 114.9 156.2, 113.8 156.2 Q 112.6 156.2, 111.8 155.8 Q 110.9 155.4, 110.3 154.6 L 111.1 153.7 Q 111.8 154.4, 112.3 154.7 Q 112.9 155.0, 113.8 155.0 Q 114.7 155.0, 115.3 154.5 Q 115.9 153.9, 115.9 153.1 Q 115.9 152.0, 115.3 151.5 Q 114.7 151.1, 113.4 151.1 L 112.6 151.1 L 112.6 150.0 L 113.3 150.0 Q 114.5 150.0, 115.1 149.5 Q 115.7 149.0, 115.7 148.0 Q 115.7 147.3, 115.2 146.9 Q 114.7 146.5, 113.8 146.5 Q 112.9 146.5, 112.4 146.8 Q 111.8 147.1, 111.4 147.9 L 110.4 147.4 Q 110.7 146.5, 111.6 145.9 Q 112.5 145.3, 113.8 145.3 Q 115.3 145.3, 116.3 146.0 Q 117.2 146.8, 117.2 148.0 Q 117.2 148.9, 116.7 149.5 Q 116.2 150.1, 115.4 150.4 \" fill=\"#000000\"/>\n",
       "<path class=\"note\" d=\"M 177.9 170.0 L 179.2 170.0 L 179.2 171.2 L 177.9 171.2 L 177.9 173.6 L 176.5 173.6 L 176.5 171.2 L 171.0 171.2 L 171.0 170.2 L 175.7 163.0 L 177.9 163.0 L 177.9 170.0 M 172.8 170.0 L 176.5 170.0 L 176.5 163.9 L 172.8 170.0 \" fill=\"#000000\"/>\n",
       "<path class=\"note\" d=\"M 57.1 64.3 Q 58.0 64.3, 58.8 64.7 Q 59.6 65.1, 60.0 65.9 Q 60.4 66.6, 60.4 67.6 Q 60.4 68.7, 59.9 69.5 Q 59.4 70.3, 58.5 70.7 Q 57.6 71.1, 56.6 71.1 Q 55.7 71.1, 54.8 70.7 Q 53.9 70.4, 53.3 69.7 L 54.1 68.7 Q 54.6 69.3, 55.3 69.6 Q 56.0 69.9, 56.7 69.9 Q 57.6 69.9, 58.3 69.3 Q 58.9 68.7, 58.9 67.6 Q 58.9 66.5, 58.3 66.0 Q 57.6 65.4, 56.6 65.4 Q 55.7 65.4, 54.6 65.8 L 53.8 65.5 L 54.3 60.4 L 59.8 60.4 L 59.6 61.5 L 55.5 61.5 L 55.2 64.7 Q 56.2 64.3, 57.1 64.3 \" fill=\"#000000\"/>\n",
       "<path class=\"note\" d=\"M 28.3 121.5 Q 29.3 121.5, 30.0 121.9 Q 30.7 122.3, 31.1 123.0 Q 31.5 123.7, 31.5 124.7 Q 31.5 125.7, 31.1 126.5 Q 30.6 127.3, 29.8 127.8 Q 29.0 128.2, 28.0 128.2 Q 26.1 128.2, 25.1 126.9 Q 24.2 125.6, 24.2 123.1 Q 24.2 120.3, 25.4 118.8 Q 26.5 117.4, 28.8 117.4 Q 29.5 117.4, 30.0 117.5 Q 30.6 117.7, 31.1 118.0 L 30.5 119.0 Q 29.8 118.6, 28.8 118.6 Q 27.3 118.6, 26.6 119.5 Q 25.8 120.5, 25.7 122.5 Q 26.2 122.0, 26.9 121.7 Q 27.6 121.5, 28.3 121.5 M 28.0 127.0 Q 28.6 127.0, 29.0 126.7 Q 29.5 126.4, 29.8 125.9 Q 30.0 125.3, 30.0 124.7 Q 30.0 123.7, 29.5 123.2 Q 29.0 122.7, 28.1 122.7 Q 27.4 122.7, 26.8 122.9 Q 26.1 123.2, 25.7 123.6 Q 25.8 125.4, 26.3 126.2 Q 26.9 127.0, 28.0 127.0 \" fill=\"#000000\"/>\n",
       "<path class=\"note\" d=\"M 48.0 168.7 L 42.5 168.7 L 42.5 167.5 L 49.5 167.5 L 49.5 168.5 L 45.2 178.1 L 43.8 178.1 L 48.0 168.7 \" fill=\"#000000\"/>\n",
       "<path class=\"note\" d=\"M 212.4 15.1 Q 213.4 15.5, 214.0 16.2 Q 214.5 16.8, 214.5 17.8 Q 214.5 18.7, 214.0 19.4 Q 213.6 20.1, 212.7 20.5 Q 211.9 20.9, 210.8 20.9 Q 209.1 20.9, 208.0 20.1 Q 207.0 19.2, 207.0 17.8 Q 207.0 17.0, 207.5 16.3 Q 207.9 15.6, 208.8 15.2 Q 208.2 14.8, 207.8 14.2 Q 207.4 13.6, 207.4 12.7 Q 207.4 11.5, 208.3 10.7 Q 209.2 10.0, 210.8 10.0 Q 212.3 10.0, 213.2 10.7 Q 214.1 11.5, 214.1 12.7 Q 214.1 13.5, 213.7 14.1 Q 213.3 14.6, 212.4 15.1 M 210.8 11.1 Q 209.9 11.1, 209.4 11.5 Q 208.9 12.0, 208.9 12.7 Q 208.9 13.3, 209.2 13.6 Q 209.6 14.0, 210.0 14.2 Q 210.5 14.4, 211.4 14.7 Q 212.1 14.3, 212.3 13.8 Q 212.6 13.3, 212.6 12.7 Q 212.6 12.0, 212.1 11.5 Q 211.7 11.1, 210.8 11.1 M 210.8 19.8 Q 211.8 19.8, 212.4 19.2 Q 213.0 18.7, 213.0 17.8 Q 213.0 17.2, 212.7 16.9 Q 212.4 16.5, 211.9 16.3 Q 211.4 16.1, 210.6 15.8 L 209.9 15.6 Q 209.2 16.1, 208.8 16.6 Q 208.5 17.1, 208.5 17.8 Q 208.5 18.7, 209.1 19.2 Q 209.8 19.8, 210.8 19.8 \" fill=\"#000000\"/>\n",
       "<path class=\"note\" d=\"M 199.9 69.9 Q 201.7 69.9, 202.7 71.2 Q 203.6 72.5, 203.6 75.0 Q 203.6 77.8, 202.5 79.3 Q 201.3 80.8, 199.0 80.8 Q 198.4 80.8, 197.8 80.6 Q 197.2 80.5, 196.7 80.2 L 197.3 79.2 Q 198.1 79.6, 199.0 79.6 Q 200.5 79.6, 201.3 78.6 Q 202.0 77.6, 202.1 75.6 Q 201.6 76.1, 200.9 76.4 Q 200.2 76.7, 199.5 76.7 Q 198.6 76.7, 197.8 76.3 Q 197.1 75.9, 196.7 75.1 Q 196.3 74.4, 196.3 73.5 Q 196.3 72.4, 196.7 71.6 Q 197.2 70.8, 198.0 70.4 Q 198.8 69.9, 199.9 69.9 M 197.8 73.4 Q 197.8 74.4, 198.3 74.9 Q 198.8 75.5, 199.8 75.5 Q 200.4 75.5, 201.0 75.2 Q 201.7 74.9, 202.1 74.5 Q 202.1 72.7, 201.5 71.9 Q 201.0 71.2, 199.8 71.2 Q 199.3 71.2, 198.8 71.5 Q 198.3 71.8, 198.1 72.3 Q 197.8 72.8, 197.8 73.4 \" fill=\"#000000\"/>\n",
       "<path class=\"note\" d=\"M 260.9 118.8 L 263.2 118.8 L 263.2 110.8 L 260.7 111.6 L 260.3 110.8 L 263.6 109.3 L 264.6 109.5 L 264.6 118.8 L 266.7 118.8 L 266.7 120.0 L 260.9 120.0 L 260.9 118.8 \" fill=\"#000000\"/>\n",
       "<path class=\"note\" d=\"M 271.9 120.1 Q 270.0 120.1, 269.0 118.7 Q 268.1 117.2, 268.1 114.7 Q 268.1 112.1, 269.0 110.7 Q 270.0 109.2, 271.9 109.2 Q 273.9 109.2, 274.9 110.7 Q 275.8 112.1, 275.8 114.7 Q 275.8 117.2, 274.8 118.7 Q 273.9 120.1, 271.9 120.1 M 271.9 118.9 Q 273.1 118.9, 273.7 117.8 Q 274.3 116.7, 274.3 114.7 Q 274.3 112.6, 273.7 111.5 Q 273.1 110.4, 271.9 110.4 Q 270.8 110.4, 270.2 111.5 Q 269.6 112.6, 269.6 114.7 Q 269.6 116.7, 270.2 117.8 Q 270.8 118.9, 271.9 118.9 \" fill=\"#000000\"/>\n",
       "</svg>"
      ],
      "text/plain": [
       "<IPython.core.display.SVG object>"
      ]
     },
     "metadata": {},
     "output_type": "display_data"
    }
   ],
   "source": [
    "def display_mech_labeled_rxn(cpds, mol_path, involved_atoms):\n",
    "    lhs, rhs = get_overall_reaction(cpds, mol_path)\n",
    "    rxn = AllChem.ReactionFromSmarts(\n",
    "        \".\".join([Chem.MolToSmarts(mol) for mol in lhs]) + \">>\" +\n",
    "        \".\".join([Chem.MolToSmarts(mol) for mol in rhs]),\n",
    "        useSmiles=True,\n",
    "    )\n",
    "    display(rxn)\n",
    "    for i, rct in enumerate(lhs):\n",
    "        display(SVG(draw_molecule(rct, size=(300, 200), highlight_atoms=involved_atoms[i], draw_options={\"addAtomIndices\": True})))\n",
    "\n",
    "\n",
    "involved_49 = {\n",
    "    0:[],\n",
    "    1:[],\n",
    "}\n",
    "display_mech_labeled_rxn(entry_49['compounds'], Path(filepaths.mcsa_mols), involved_49)"
   ]
  },
  {
   "cell_type": "code",
   "execution_count": 27,
   "metadata": {},
   "outputs": [
    {
     "name": "stderr",
     "output_type": "stream",
     "text": [
      "[16:23:27] WARNING: not removing hydrogen atom without neighbors\n"
     ]
    },
    {
     "data": {
      "image/png": "[encoded data removed]",
      "text/plain": [
       "<rdkit.Chem.rdChemReactions.ChemicalReaction at 0x7f6b7c058740>"
      ]
     },
     "metadata": {},
     "output_type": "display_data"
    },
    {
     "data": {
      "image/svg+xml": [
       "<svg xmlns=\"http://www.w3.org/2000/svg\" xmlns:rdkit=\"http://www.rdkit.org/xml\" xmlns:xlink=\"http://www.w3.org/1999/xlink\" version=\"1.1\" baseProfile=\"full\" xml:space=\"preserve\" width=\"300px\" height=\"200px\" viewBox=\"0 0 300 200\">\n",
       "<!-- END OF HEADER -->\n",
       "<rect style=\"opacity:1.0;fill:#FFFFFF;stroke:none\" width=\"300.0\" height=\"200.0\" x=\"0.0\" y=\"0.0\"> </rect>\n",
       "<path class=\"bond-0 atom-1 atom-0\" d=\"M 183.0,104.2 L 169.5,96.4\" style=\"fill:none;fill-rule:evenodd;stroke:#FF0000;stroke-width:2.0px;stroke-linecap:butt;stroke-linejoin:miter;stroke-opacity:1\"/>\n",
       "<path class=\"bond-0 atom-1 atom-0\" d=\"M 169.5,96.4 L 156.0,88.6\" style=\"fill:none;fill-rule:evenodd;stroke:#000000;stroke-width:2.0px;stroke-linecap:butt;stroke-linejoin:miter;stroke-opacity:1\"/>\n",
       "<path class=\"bond-1 atom-2 atom-0\" d=\"M 116.7,111.3 L 156.0,88.6\" style=\"fill:none;fill-rule:evenodd;stroke:#000000;stroke-width:2.0px;stroke-linecap:butt;stroke-linejoin:miter;stroke-opacity:1\"/>\n",
       "<path class=\"bond-2 atom-2 atom-5\" d=\"M 113.3,109.3 L 113.3,126.3\" style=\"fill:none;fill-rule:evenodd;stroke:#000000;stroke-width:2.0px;stroke-linecap:butt;stroke-linejoin:miter;stroke-opacity:1\"/>\n",
       "<path class=\"bond-2 atom-2 atom-5\" d=\"M 113.3,126.3 L 113.3,143.3\" style=\"fill:none;fill-rule:evenodd;stroke:#FF0000;stroke-width:2.0px;stroke-linecap:butt;stroke-linejoin:miter;stroke-opacity:1\"/>\n",
       "<path class=\"bond-2 atom-2 atom-5\" d=\"M 120.1,109.3 L 120.1,126.3\" style=\"fill:none;fill-rule:evenodd;stroke:#000000;stroke-width:2.0px;stroke-linecap:butt;stroke-linejoin:miter;stroke-opacity:1\"/>\n",
       "<path class=\"bond-2 atom-2 atom-5\" d=\"M 120.1,126.3 L 120.1,143.3\" style=\"fill:none;fill-rule:evenodd;stroke:#FF0000;stroke-width:2.0px;stroke-linecap:butt;stroke-linejoin:miter;stroke-opacity:1\"/>\n",
       "<path class=\"bond-3 atom-4 atom-2\" d=\"M 77.5,88.6 L 116.7,111.3\" style=\"fill:none;fill-rule:evenodd;stroke:#000000;stroke-width:2.0px;stroke-linecap:butt;stroke-linejoin:miter;stroke-opacity:1\"/>\n",
       "<path class=\"bond-4 atom-3 atom-0\" d=\"M 159.4,57.0 L 159.4,73.8\" style=\"fill:none;fill-rule:evenodd;stroke:#FF0000;stroke-width:2.0px;stroke-linecap:butt;stroke-linejoin:miter;stroke-opacity:1\"/>\n",
       "<path class=\"bond-4 atom-3 atom-0\" d=\"M 159.4,73.8 L 159.4,90.6\" style=\"fill:none;fill-rule:evenodd;stroke:#000000;stroke-width:2.0px;stroke-linecap:butt;stroke-linejoin:miter;stroke-opacity:1\"/>\n",
       "<path class=\"bond-4 atom-3 atom-0\" d=\"M 152.6,57.0 L 152.6,73.8\" style=\"fill:none;fill-rule:evenodd;stroke:#FF0000;stroke-width:2.0px;stroke-linecap:butt;stroke-linejoin:miter;stroke-opacity:1\"/>\n",
       "<path class=\"bond-4 atom-3 atom-0\" d=\"M 152.6,73.8 L 152.6,90.6\" style=\"fill:none;fill-rule:evenodd;stroke:#000000;stroke-width:2.0px;stroke-linecap:butt;stroke-linejoin:miter;stroke-opacity:1\"/>\n",
       "<path d=\"M 156.6,89.0 L 156.0,88.6 L 154.0,89.8\" style=\"fill:none;stroke:#000000;stroke-width:2.0px;stroke-linecap:butt;stroke-linejoin:miter;stroke-opacity:1;\"/>\n",
       "<path d=\"M 118.7,110.2 L 116.7,111.3 L 114.8,110.2\" style=\"fill:none;stroke:#000000;stroke-width:2.0px;stroke-linecap:butt;stroke-linejoin:miter;stroke-opacity:1;\"/>\n",
       "<path class=\"atom-1\" d=\"M 184.5 111.4 Q 184.5 105.8, 187.3 102.6 Q 190.0 99.5, 195.2 99.5 Q 200.4 99.5, 203.1 102.6 Q 205.9 105.8, 205.9 111.4 Q 205.9 117.0, 203.1 120.3 Q 200.3 123.4, 195.2 123.4 Q 190.1 123.4, 187.3 120.3 Q 184.5 117.1, 184.5 111.4 M 195.2 120.8 Q 198.8 120.8, 200.7 118.4 Q 202.6 116.0, 202.6 111.4 Q 202.6 106.8, 200.7 104.5 Q 198.8 102.1, 195.2 102.1 Q 191.6 102.1, 189.7 104.4 Q 187.8 106.7, 187.8 111.4 Q 187.8 116.1, 189.7 118.4 Q 191.6 120.8, 195.2 120.8 \" fill=\"#FF0000\"/>\n",
       "<path class=\"atom-1\" d=\"M 209.2 103.3 L 217.2 103.3 L 217.2 105.0 L 209.2 105.0 L 209.2 103.3 \" fill=\"#FF0000\"/>\n",
       "<path class=\"atom-3\" d=\"M 145.3 43.4 Q 145.3 37.8, 148.0 34.7 Q 150.8 31.6, 156.0 31.6 Q 161.1 31.6, 163.9 34.7 Q 166.7 37.8, 166.7 43.4 Q 166.7 49.1, 163.9 52.3 Q 161.1 55.5, 156.0 55.5 Q 150.8 55.5, 148.0 52.3 Q 145.3 49.1, 145.3 43.4 M 156.0 52.9 Q 159.5 52.9, 161.4 50.5 Q 163.4 48.1, 163.4 43.4 Q 163.4 38.8, 161.4 36.5 Q 159.5 34.2, 156.0 34.2 Q 152.4 34.2, 150.5 36.5 Q 148.6 38.8, 148.6 43.4 Q 148.6 48.1, 150.5 50.5 Q 152.4 52.9, 156.0 52.9 \" fill=\"#FF0000\"/>\n",
       "<path class=\"atom-5\" d=\"M 106.0 156.7 Q 106.0 151.1, 108.8 147.9 Q 111.6 144.8, 116.7 144.8 Q 121.9 144.8, 124.7 147.9 Q 127.4 151.1, 127.4 156.7 Q 127.4 162.3, 124.6 165.5 Q 121.8 168.7, 116.7 168.7 Q 111.6 168.7, 108.8 165.5 Q 106.0 162.4, 106.0 156.7 M 116.7 166.1 Q 120.3 166.1, 122.2 163.7 Q 124.2 161.3, 124.2 156.7 Q 124.2 152.1, 122.2 149.8 Q 120.3 147.4, 116.7 147.4 Q 113.2 147.4, 111.2 149.7 Q 109.3 152.0, 109.3 156.7 Q 109.3 161.4, 111.2 163.7 Q 113.2 166.1, 116.7 166.1 \" fill=\"#FF0000\"/>\n",
       "<path class=\"note\" d=\"M 156.0 108.4 Q 153.8 108.4, 152.8 106.8 Q 151.7 105.2, 151.7 102.4 Q 151.7 99.6, 152.8 98.0 Q 153.8 96.5, 156.0 96.5 Q 158.1 96.5, 159.2 98.0 Q 160.2 99.6, 160.2 102.4 Q 160.2 105.2, 159.2 106.8 Q 158.1 108.4, 156.0 108.4 M 156.0 107.1 Q 157.2 107.1, 157.9 105.9 Q 158.6 104.7, 158.6 102.4 Q 158.6 100.1, 157.9 99.0 Q 157.2 97.8, 156.0 97.8 Q 154.7 97.8, 154.0 99.0 Q 153.3 100.1, 153.3 102.4 Q 153.3 104.7, 154.0 105.9 Q 154.7 107.1, 156.0 107.1 \" fill=\"#000000\"/>\n",
       "<path class=\"note\" d=\"M 216.1 129.6 L 218.7 129.6 L 218.7 120.8 L 215.8 121.7 L 215.5 120.8 L 219.0 119.2 L 220.2 119.4 L 220.2 129.6 L 222.5 129.6 L 222.5 130.9 L 216.1 130.9 L 216.1 129.6 \" fill=\"#000000\"/>\n",
       "<path class=\"note\" d=\"M 124.7 114.6 Q 125.2 113.5, 126.2 112.9 Q 127.2 112.3, 128.6 112.3 Q 130.4 112.3, 131.4 113.2 Q 132.4 114.2, 132.4 115.9 Q 132.4 117.6, 131.1 119.2 Q 129.8 120.8, 127.2 122.7 L 132.6 122.7 L 132.6 124.1 L 124.7 124.1 L 124.7 122.9 Q 126.9 121.4, 128.2 120.2 Q 129.5 119.1, 130.1 118.1 Q 130.7 117.0, 130.7 115.9 Q 130.7 114.8, 130.2 114.2 Q 129.6 113.6, 128.6 113.6 Q 127.7 113.6, 127.1 114.0 Q 126.4 114.3, 126.0 115.2 L 124.7 114.6 \" fill=\"#000000\"/>\n",
       "<path class=\"note\" d=\"M 157.6 15.6 Q 158.8 16.0, 159.3 16.7 Q 159.9 17.4, 159.9 18.6 Q 159.9 19.6, 159.4 20.4 Q 158.9 21.1, 158.0 21.5 Q 157.1 22.0, 155.9 22.0 Q 154.7 22.0, 153.7 21.5 Q 152.8 21.1, 152.0 20.2 L 153.0 19.2 Q 153.7 20.0, 154.3 20.3 Q 154.9 20.6, 155.9 20.6 Q 157.0 20.6, 157.6 20.1 Q 158.2 19.5, 158.2 18.6 Q 158.2 17.4, 157.6 16.9 Q 156.9 16.3, 155.5 16.3 L 154.6 16.3 L 154.6 15.1 L 155.4 15.1 Q 156.6 15.1, 157.3 14.6 Q 158.0 14.0, 158.0 13.0 Q 158.0 12.2, 157.4 11.8 Q 156.9 11.3, 155.9 11.3 Q 154.9 11.3, 154.3 11.7 Q 153.7 12.0, 153.3 12.9 L 152.1 12.3 Q 152.6 11.3, 153.5 10.7 Q 154.5 10.0, 155.9 10.0 Q 157.6 10.0, 158.6 10.8 Q 159.6 11.6, 159.6 13.0 Q 159.6 13.9, 159.1 14.6 Q 158.6 15.3, 157.6 15.6 \" fill=\"#000000\"/>\n",
       "<path class=\"note\" d=\"M 87.5 78.6 L 88.9 78.6 L 88.9 79.9 L 87.5 79.9 L 87.5 82.6 L 85.9 82.6 L 85.9 79.9 L 79.9 79.9 L 79.9 78.9 L 85.0 70.9 L 87.5 70.9 L 87.5 78.6 M 81.8 78.6 L 85.9 78.6 L 85.9 72.0 L 81.8 78.6 \" fill=\"#000000\"/>\n",
       "<path class=\"note\" d=\"M 117.0 182.6 Q 118.1 182.6, 118.9 183.0 Q 119.7 183.4, 120.2 184.3 Q 120.7 185.1, 120.7 186.2 Q 120.7 187.4, 120.1 188.3 Q 119.5 189.1, 118.6 189.6 Q 117.6 190.0, 116.5 190.0 Q 115.4 190.0, 114.5 189.6 Q 113.5 189.2, 112.8 188.5 L 113.8 187.4 Q 114.3 188.0, 115.1 188.4 Q 115.8 188.7, 116.6 188.7 Q 117.6 188.7, 118.3 188.0 Q 119.0 187.4, 119.0 186.2 Q 119.0 185.0, 118.3 184.4 Q 117.6 183.8, 116.5 183.8 Q 115.4 183.8, 114.3 184.3 L 113.4 183.8 L 114.0 178.2 L 120.0 178.2 L 119.8 179.5 L 115.3 179.5 L 115.0 183.0 Q 116.0 182.6, 117.0 182.6 \" fill=\"#000000\"/>\n",
       "</svg>"
      ],
      "text/plain": [
       "<IPython.core.display.SVG object>"
      ]
     },
     "metadata": {},
     "output_type": "display_data"
    },
    {
     "data": {
      "image/svg+xml": [
       "<svg xmlns=\"http://www.w3.org/2000/svg\" xmlns:rdkit=\"http://www.rdkit.org/xml\" xmlns:xlink=\"http://www.w3.org/1999/xlink\" version=\"1.1\" baseProfile=\"full\" xml:space=\"preserve\" width=\"300px\" height=\"200px\" viewBox=\"0 0 300 200\">\n",
       "<!-- END OF HEADER -->\n",
       "<rect style=\"opacity:1.0;fill:#FFFFFF;stroke:none\" width=\"300.0\" height=\"200.0\" x=\"0.0\" y=\"0.0\"> </rect>\n",
       "<path class=\"bond-0 atom-1 atom-0\" d=\"M 183.0,104.2 L 169.5,96.4\" style=\"fill:none;fill-rule:evenodd;stroke:#FF0000;stroke-width:2.0px;stroke-linecap:butt;stroke-linejoin:miter;stroke-opacity:1\"/>\n",
       "<path class=\"bond-0 atom-1 atom-0\" d=\"M 169.5,96.4 L 156.0,88.6\" style=\"fill:none;fill-rule:evenodd;stroke:#000000;stroke-width:2.0px;stroke-linecap:butt;stroke-linejoin:miter;stroke-opacity:1\"/>\n",
       "<path class=\"bond-1 atom-2 atom-0\" d=\"M 116.7,111.3 L 156.0,88.6\" style=\"fill:none;fill-rule:evenodd;stroke:#000000;stroke-width:2.0px;stroke-linecap:butt;stroke-linejoin:miter;stroke-opacity:1\"/>\n",
       "<path class=\"bond-2 atom-2 atom-5\" d=\"M 113.3,109.3 L 113.3,126.3\" style=\"fill:none;fill-rule:evenodd;stroke:#000000;stroke-width:2.0px;stroke-linecap:butt;stroke-linejoin:miter;stroke-opacity:1\"/>\n",
       "<path class=\"bond-2 atom-2 atom-5\" d=\"M 113.3,126.3 L 113.3,143.3\" style=\"fill:none;fill-rule:evenodd;stroke:#FF0000;stroke-width:2.0px;stroke-linecap:butt;stroke-linejoin:miter;stroke-opacity:1\"/>\n",
       "<path class=\"bond-2 atom-2 atom-5\" d=\"M 120.1,109.3 L 120.1,126.3\" style=\"fill:none;fill-rule:evenodd;stroke:#000000;stroke-width:2.0px;stroke-linecap:butt;stroke-linejoin:miter;stroke-opacity:1\"/>\n",
       "<path class=\"bond-2 atom-2 atom-5\" d=\"M 120.1,126.3 L 120.1,143.3\" style=\"fill:none;fill-rule:evenodd;stroke:#FF0000;stroke-width:2.0px;stroke-linecap:butt;stroke-linejoin:miter;stroke-opacity:1\"/>\n",
       "<path class=\"bond-3 atom-4 atom-2\" d=\"M 77.5,88.6 L 116.7,111.3\" style=\"fill:none;fill-rule:evenodd;stroke:#000000;stroke-width:2.0px;stroke-linecap:butt;stroke-linejoin:miter;stroke-opacity:1\"/>\n",
       "<path class=\"bond-4 atom-3 atom-0\" d=\"M 159.4,57.0 L 159.4,73.8\" style=\"fill:none;fill-rule:evenodd;stroke:#FF0000;stroke-width:2.0px;stroke-linecap:butt;stroke-linejoin:miter;stroke-opacity:1\"/>\n",
       "<path class=\"bond-4 atom-3 atom-0\" d=\"M 159.4,73.8 L 159.4,90.6\" style=\"fill:none;fill-rule:evenodd;stroke:#000000;stroke-width:2.0px;stroke-linecap:butt;stroke-linejoin:miter;stroke-opacity:1\"/>\n",
       "<path class=\"bond-4 atom-3 atom-0\" d=\"M 152.6,57.0 L 152.6,73.8\" style=\"fill:none;fill-rule:evenodd;stroke:#FF0000;stroke-width:2.0px;stroke-linecap:butt;stroke-linejoin:miter;stroke-opacity:1\"/>\n",
       "<path class=\"bond-4 atom-3 atom-0\" d=\"M 152.6,73.8 L 152.6,90.6\" style=\"fill:none;fill-rule:evenodd;stroke:#000000;stroke-width:2.0px;stroke-linecap:butt;stroke-linejoin:miter;stroke-opacity:1\"/>\n",
       "<path d=\"M 156.6,89.0 L 156.0,88.6 L 154.0,89.8\" style=\"fill:none;stroke:#000000;stroke-width:2.0px;stroke-linecap:butt;stroke-linejoin:miter;stroke-opacity:1;\"/>\n",
       "<path d=\"M 118.7,110.2 L 116.7,111.3 L 114.8,110.2\" style=\"fill:none;stroke:#000000;stroke-width:2.0px;stroke-linecap:butt;stroke-linejoin:miter;stroke-opacity:1;\"/>\n",
       "<path class=\"atom-1\" d=\"M 184.5 111.4 Q 184.5 105.8, 187.3 102.6 Q 190.0 99.5, 195.2 99.5 Q 200.4 99.5, 203.1 102.6 Q 205.9 105.8, 205.9 111.4 Q 205.9 117.0, 203.1 120.3 Q 200.3 123.4, 195.2 123.4 Q 190.1 123.4, 187.3 120.3 Q 184.5 117.1, 184.5 111.4 M 195.2 120.8 Q 198.8 120.8, 200.7 118.4 Q 202.6 116.0, 202.6 111.4 Q 202.6 106.8, 200.7 104.5 Q 198.8 102.1, 195.2 102.1 Q 191.6 102.1, 189.7 104.4 Q 187.8 106.7, 187.8 111.4 Q 187.8 116.1, 189.7 118.4 Q 191.6 120.8, 195.2 120.8 \" fill=\"#FF0000\"/>\n",
       "<path class=\"atom-1\" d=\"M 209.2 103.3 L 217.2 103.3 L 217.2 105.0 L 209.2 105.0 L 209.2 103.3 \" fill=\"#FF0000\"/>\n",
       "<path class=\"atom-3\" d=\"M 145.3 43.4 Q 145.3 37.8, 148.0 34.7 Q 150.8 31.6, 156.0 31.6 Q 161.1 31.6, 163.9 34.7 Q 166.7 37.8, 166.7 43.4 Q 166.7 49.1, 163.9 52.3 Q 161.1 55.5, 156.0 55.5 Q 150.8 55.5, 148.0 52.3 Q 145.3 49.1, 145.3 43.4 M 156.0 52.9 Q 159.5 52.9, 161.4 50.5 Q 163.4 48.1, 163.4 43.4 Q 163.4 38.8, 161.4 36.5 Q 159.5 34.2, 156.0 34.2 Q 152.4 34.2, 150.5 36.5 Q 148.6 38.8, 148.6 43.4 Q 148.6 48.1, 150.5 50.5 Q 152.4 52.9, 156.0 52.9 \" fill=\"#FF0000\"/>\n",
       "<path class=\"atom-5\" d=\"M 106.0 156.7 Q 106.0 151.1, 108.8 147.9 Q 111.6 144.8, 116.7 144.8 Q 121.9 144.8, 124.7 147.9 Q 127.4 151.1, 127.4 156.7 Q 127.4 162.3, 124.6 165.5 Q 121.8 168.7, 116.7 168.7 Q 111.6 168.7, 108.8 165.5 Q 106.0 162.4, 106.0 156.7 M 116.7 166.1 Q 120.3 166.1, 122.2 163.7 Q 124.2 161.3, 124.2 156.7 Q 124.2 152.1, 122.2 149.8 Q 120.3 147.4, 116.7 147.4 Q 113.2 147.4, 111.2 149.7 Q 109.3 152.0, 109.3 156.7 Q 109.3 161.4, 111.2 163.7 Q 113.2 166.1, 116.7 166.1 \" fill=\"#FF0000\"/>\n",
       "<path class=\"note\" d=\"M 156.0 108.4 Q 153.8 108.4, 152.8 106.8 Q 151.7 105.2, 151.7 102.4 Q 151.7 99.6, 152.8 98.0 Q 153.8 96.5, 156.0 96.5 Q 158.1 96.5, 159.2 98.0 Q 160.2 99.6, 160.2 102.4 Q 160.2 105.2, 159.2 106.8 Q 158.1 108.4, 156.0 108.4 M 156.0 107.1 Q 157.2 107.1, 157.9 105.9 Q 158.6 104.7, 158.6 102.4 Q 158.6 100.1, 157.9 99.0 Q 157.2 97.8, 156.0 97.8 Q 154.7 97.8, 154.0 99.0 Q 153.3 100.1, 153.3 102.4 Q 153.3 104.7, 154.0 105.9 Q 154.7 107.1, 156.0 107.1 \" fill=\"#000000\"/>\n",
       "<path class=\"note\" d=\"M 216.1 129.6 L 218.7 129.6 L 218.7 120.8 L 215.8 121.7 L 215.5 120.8 L 219.0 119.2 L 220.2 119.4 L 220.2 129.6 L 222.5 129.6 L 222.5 130.9 L 216.1 130.9 L 216.1 129.6 \" fill=\"#000000\"/>\n",
       "<path class=\"note\" d=\"M 124.7 114.6 Q 125.2 113.5, 126.2 112.9 Q 127.2 112.3, 128.6 112.3 Q 130.4 112.3, 131.4 113.2 Q 132.4 114.2, 132.4 115.9 Q 132.4 117.6, 131.1 119.2 Q 129.8 120.8, 127.2 122.7 L 132.6 122.7 L 132.6 124.1 L 124.7 124.1 L 124.7 122.9 Q 126.9 121.4, 128.2 120.2 Q 129.5 119.1, 130.1 118.1 Q 130.7 117.0, 130.7 115.9 Q 130.7 114.8, 130.2 114.2 Q 129.6 113.6, 128.6 113.6 Q 127.7 113.6, 127.1 114.0 Q 126.4 114.3, 126.0 115.2 L 124.7 114.6 \" fill=\"#000000\"/>\n",
       "<path class=\"note\" d=\"M 157.6 15.6 Q 158.8 16.0, 159.3 16.7 Q 159.9 17.4, 159.9 18.6 Q 159.9 19.6, 159.4 20.4 Q 158.9 21.1, 158.0 21.5 Q 157.1 22.0, 155.9 22.0 Q 154.7 22.0, 153.7 21.5 Q 152.8 21.1, 152.0 20.2 L 153.0 19.2 Q 153.7 20.0, 154.3 20.3 Q 154.9 20.6, 155.9 20.6 Q 157.0 20.6, 157.6 20.1 Q 158.2 19.5, 158.2 18.6 Q 158.2 17.4, 157.6 16.9 Q 156.9 16.3, 155.5 16.3 L 154.6 16.3 L 154.6 15.1 L 155.4 15.1 Q 156.6 15.1, 157.3 14.6 Q 158.0 14.0, 158.0 13.0 Q 158.0 12.2, 157.4 11.8 Q 156.9 11.3, 155.9 11.3 Q 154.9 11.3, 154.3 11.7 Q 153.7 12.0, 153.3 12.9 L 152.1 12.3 Q 152.6 11.3, 153.5 10.7 Q 154.5 10.0, 155.9 10.0 Q 157.6 10.0, 158.6 10.8 Q 159.6 11.6, 159.6 13.0 Q 159.6 13.9, 159.1 14.6 Q 158.6 15.3, 157.6 15.6 \" fill=\"#000000\"/>\n",
       "<path class=\"note\" d=\"M 87.5 78.6 L 88.9 78.6 L 88.9 79.9 L 87.5 79.9 L 87.5 82.6 L 85.9 82.6 L 85.9 79.9 L 79.9 79.9 L 79.9 78.9 L 85.0 70.9 L 87.5 70.9 L 87.5 78.6 M 81.8 78.6 L 85.9 78.6 L 85.9 72.0 L 81.8 78.6 \" fill=\"#000000\"/>\n",
       "<path class=\"note\" d=\"M 117.0 182.6 Q 118.1 182.6, 118.9 183.0 Q 119.7 183.4, 120.2 184.3 Q 120.7 185.1, 120.7 186.2 Q 120.7 187.4, 120.1 188.3 Q 119.5 189.1, 118.6 189.6 Q 117.6 190.0, 116.5 190.0 Q 115.4 190.0, 114.5 189.6 Q 113.5 189.2, 112.8 188.5 L 113.8 187.4 Q 114.3 188.0, 115.1 188.4 Q 115.8 188.7, 116.6 188.7 Q 117.6 188.7, 118.3 188.0 Q 119.0 187.4, 119.0 186.2 Q 119.0 185.0, 118.3 184.4 Q 117.6 183.8, 116.5 183.8 Q 115.4 183.8, 114.3 184.3 L 113.4 183.8 L 114.0 178.2 L 120.0 178.2 L 119.8 179.5 L 115.3 179.5 L 115.0 183.0 Q 116.0 182.6, 117.0 182.6 \" fill=\"#000000\"/>\n",
       "</svg>"
      ],
      "text/plain": [
       "<IPython.core.display.SVG object>"
      ]
     },
     "metadata": {},
     "output_type": "display_data"
    },
    {
     "data": {
      "image/svg+xml": [
       "<svg xmlns=\"http://www.w3.org/2000/svg\" xmlns:rdkit=\"http://www.rdkit.org/xml\" xmlns:xlink=\"http://www.w3.org/1999/xlink\" version=\"1.1\" baseProfile=\"full\" xml:space=\"preserve\" width=\"300px\" height=\"200px\" viewBox=\"0 0 300 200\">\n",
       "<!-- END OF HEADER -->\n",
       "<rect style=\"opacity:1.0;fill:#FFFFFF;stroke:none\" width=\"300.0\" height=\"200.0\" x=\"0.0\" y=\"0.0\"> </rect>\n",
       "<path class=\"atom-0\" d=\"M 130.0 34.8 L 133.9 34.8 L 133.9 46.8 L 148.4 46.8 L 148.4 34.8 L 152.2 34.8 L 152.2 63.1 L 148.4 63.1 L 148.4 50.0 L 133.9 50.0 L 133.9 63.1 L 130.0 63.1 L 130.0 34.8 \" fill=\"#000000\"/>\n",
       "<path class=\"atom-0\" d=\"M 157.6 39.9 L 162.6 39.9 L 162.6 34.6 L 164.8 34.6 L 164.8 39.9 L 170.0 39.9 L 170.0 41.8 L 164.8 41.8 L 164.8 47.0 L 162.6 47.0 L 162.6 41.8 L 157.6 41.8 L 157.6 39.9 \" fill=\"#000000\"/>\n",
       "<path class=\"note\" d=\"M 141.1 165.4 Q 138.5 165.4, 137.2 163.5 Q 135.9 161.6, 135.9 158.1 Q 135.9 154.7, 137.2 152.8 Q 138.5 150.9, 141.1 150.9 Q 143.7 150.9, 145.0 152.8 Q 146.3 154.7, 146.3 158.1 Q 146.3 161.6, 145.0 163.5 Q 143.7 165.4, 141.1 165.4 M 141.1 163.8 Q 142.7 163.8, 143.5 162.4 Q 144.3 160.9, 144.3 158.1 Q 144.3 155.4, 143.5 153.9 Q 142.7 152.5, 141.1 152.5 Q 139.6 152.5, 138.8 153.9 Q 137.9 155.4, 137.9 158.1 Q 137.9 160.9, 138.8 162.4 Q 139.6 163.8, 141.1 163.8 \" fill=\"#000000\"/>\n",
       "</svg>"
      ],
      "text/plain": [
       "<IPython.core.display.SVG object>"
      ]
     },
     "metadata": {},
     "output_type": "display_data"
    }
   ],
   "source": [
    "involved_722 = {\n",
    "    0:[],\n",
    "    1:[],\n",
    "    2:[],\n",
    "}\n",
    "display_mech_labeled_rxn(entry_722['compounds'], Path(filepaths.mcsa_mols), involved_722)"
   ]
  },
  {
   "cell_type": "code",
   "execution_count": 28,
   "metadata": {},
   "outputs": [
    {
     "data": {
      "image/png": "[encoded data removed]",
      "text/plain": [
       "<rdkit.Chem.rdchem.Mol at 0x7f6b7d4e1cb0>"
      ]
     },
     "metadata": {},
     "output_type": "display_data"
    },
    {
     "data": {
      "image/png": "[encoded data removed]",
      "text/plain": [
       "<rdkit.Chem.rdchem.Mol at 0x7f6b7d4e1af0>"
      ]
     },
     "metadata": {},
     "output_type": "display_data"
    },
    {
     "name": "stdout",
     "output_type": "stream",
     "text": [
      "11 11\n"
     ]
    }
   ],
   "source": [
    "query = Chem.MolFromSmiles('[H][NH2+]C(Cc1c[nH]c[nH+]1)C(=O)[O-]')\n",
    "mol = Chem.MolFromSmiles('[NH3+]C(Cc1c[nH]cn1)C(=O)[O-]')\n",
    "display(query), display(mol)\n",
    "print(query.GetNumAtoms(), mol.GetNumAtoms())"
   ]
  },
  {
   "cell_type": "code",
   "execution_count": 29,
   "metadata": {},
   "outputs": [
    {
     "data": {
      "text/plain": [
       "'[NH3+]C(Cc1c[nH]c[nH+]1)C(=O)[O-]'"
      ]
     },
     "execution_count": 29,
     "metadata": {},
     "output_type": "execute_result"
    }
   ],
   "source": [
    "Chem.MolToSmiles(query)"
   ]
  },
  {
   "cell_type": "code",
   "execution_count": 30,
   "metadata": {},
   "outputs": [
    {
     "ename": "AttributeError",
     "evalue": "module 'rdkit.Chem' has no attribute 'CalcNumHeavyAtoms'",
     "output_type": "error",
     "traceback": [
      "\u001b[0;31m---------------------------------------------------------------------------\u001b[0m",
      "\u001b[0;31mAttributeError\u001b[0m                            Traceback (most recent call last)",
      "Cell \u001b[0;32mIn[30], line 1\u001b[0m\n\u001b[0;32m----> 1\u001b[0m \u001b[43mChem\u001b[49m\u001b[38;5;241;43m.\u001b[39;49m\u001b[43mCalcNumHeavyAtoms\u001b[49m(query)\n",
      "\u001b[0;31mAttributeError\u001b[0m: module 'rdkit.Chem' has no attribute 'CalcNumHeavyAtoms'"
     ]
    }
   ],
   "source": [
    "Chem.CalcNumHeavyAtoms(query)"
   ]
  },
  {
   "cell_type": "code",
   "execution_count": null,
   "metadata": {},
   "outputs": [
    {
     "data": {
      "text/plain": [
       "()"
      ]
     },
     "execution_count": 30,
     "metadata": {},
     "output_type": "execute_result"
    }
   ],
   "source": [
    "mol.GetSubstructMatch(query)"
   ]
  },
  {
   "cell_type": "code",
   "execution_count": null,
   "metadata": {},
   "outputs": [],
   "source": [
    "from ergochem.standardize import standardize_mol"
   ]
  },
  {
   "cell_type": "code",
   "execution_count": null,
   "metadata": {},
   "outputs": [
    {
     "data": {
      "text/plain": [
       "(1, 0, 7, 8, 2, 3, 4, 5, 6, 9, 10)"
      ]
     },
     "execution_count": 35,
     "metadata": {},
     "output_type": "execute_result"
    }
   ],
   "source": [
    "standardize_mol(mol).GetSubstructMatch(standardize_mol(query))"
   ]
  },
  {
   "cell_type": "code",
   "execution_count": null,
   "metadata": {},
   "outputs": [
    {
     "data": {
      "image/png": "[encoded data removed]",
      "text/plain": [
       "<rdkit.Chem.rdchem.Mol at 0x7f7dcc7fc350>"
      ]
     },
     "execution_count": 34,
     "metadata": {},
     "output_type": "execute_result"
    }
   ],
   "source": [
    "standardize_mol(query)"
   ]
  },
  {
   "cell_type": "code",
   "execution_count": null,
   "metadata": {},
   "outputs": [
    {
     "name": "stdout",
     "output_type": "stream",
     "text": [
      "11 11\n"
     ]
    }
   ],
   "source": [
    "print(standardize_mol(mol).GetNumAtoms(), standardize_mol(query).GetNumAtoms())"
   ]
  },
  {
   "cell_type": "code",
   "execution_count": null,
   "metadata": {},
   "outputs": [
    {
     "data": {
      "image/png": "[encoded data removed]",
      "text/plain": [
       "<rdkit.Chem.rdchem.Mol at 0x7f7dcd03b060>"
      ]
     },
     "metadata": {},
     "output_type": "display_data"
    },
    {
     "data": {
      "image/png": "[encoded data removed]",
      "text/plain": [
       "<rdkit.Chem.rdchem.Mol at 0x7f7dcc7f5e00>"
      ]
     },
     "metadata": {},
     "output_type": "display_data"
    },
    {
     "name": "stdout",
     "output_type": "stream",
     "text": [
      "17 17\n"
     ]
    }
   ],
   "source": [
    "mol = Chem.MolFromSmiles('*C(=O)C(C)([NH2+]C(Cc1c[nH]c[nH+]1)C(=O)[O-])O[H]')\n",
    "query = Chem.MolFromSmiles('[C:1]([C:2]([N+:46]([CH:47]([CH2:45][c:55]1[cH:53][nH:51][cH:52][nH+:54]1)[C:49](=[O:48])[O-:50])([H:61])[H:62])([O:59][H:57])[CH3:60])(=[O:3])[*:4]')\n",
    "display(mol), display(query)\n",
    "print(mol.GetNumAtoms(), query.GetNumAtoms())"
   ]
  },
  {
   "cell_type": "code",
   "execution_count": null,
   "metadata": {},
   "outputs": [
    {
     "data": {
      "text/plain": [
       "17"
      ]
     },
     "execution_count": 50,
     "metadata": {},
     "output_type": "execute_result"
    }
   ],
   "source": [
    "len(mol.GetSubstructMatch(query))"
   ]
  },
  {
   "cell_type": "code",
   "execution_count": null,
   "metadata": {},
   "outputs": [
    {
     "data": {
      "image/svg+xml": [
       "<svg xmlns=\"http://www.w3.org/2000/svg\" xmlns:rdkit=\"http://www.rdkit.org/xml\" xmlns:xlink=\"http://www.w3.org/1999/xlink\" version=\"1.1\" baseProfile=\"full\" xml:space=\"preserve\" width=\"200px\" height=\"200px\" viewBox=\"0 0 200 200\">\n",
       "<!-- END OF HEADER -->\n",
       "<rect style=\"opacity:1.0;fill:#FFFFFF;stroke:none\" width=\"200.0\" height=\"200.0\" x=\"0.0\" y=\"0.0\"> </rect>\n",
       "<path class=\"bond-0 atom-0 atom-1\" d=\"M 37.8,33.1 L 48.0,43.2\" style=\"fill:none;fill-rule:evenodd;stroke:#191919;stroke-width:2.0px;stroke-linecap:butt;stroke-linejoin:miter;stroke-opacity:1\"/>\n",
       "<path class=\"bond-0 atom-0 atom-1\" d=\"M 48.0,43.2 L 58.2,53.4\" style=\"fill:none;fill-rule:evenodd;stroke:#000000;stroke-width:2.0px;stroke-linecap:butt;stroke-linejoin:miter;stroke-opacity:1\"/>\n",
       "<path class=\"bond-1 atom-1 atom-2\" d=\"M 57.5,55.8 L 70.0,52.5\" style=\"fill:none;fill-rule:evenodd;stroke:#000000;stroke-width:2.0px;stroke-linecap:butt;stroke-linejoin:miter;stroke-opacity:1\"/>\n",
       "<path class=\"bond-1 atom-1 atom-2\" d=\"M 70.0,52.5 L 82.5,49.1\" style=\"fill:none;fill-rule:evenodd;stroke:#FF0000;stroke-width:2.0px;stroke-linecap:butt;stroke-linejoin:miter;stroke-opacity:1\"/>\n",
       "<path class=\"bond-1 atom-1 atom-2\" d=\"M 56.4,51.6 L 68.8,48.2\" style=\"fill:none;fill-rule:evenodd;stroke:#000000;stroke-width:2.0px;stroke-linecap:butt;stroke-linejoin:miter;stroke-opacity:1\"/>\n",
       "<path class=\"bond-1 atom-1 atom-2\" d=\"M 68.8,48.2 L 81.3,44.8\" style=\"fill:none;fill-rule:evenodd;stroke:#FF0000;stroke-width:2.0px;stroke-linecap:butt;stroke-linejoin:miter;stroke-opacity:1\"/>\n",
       "<path class=\"bond-2 atom-1 atom-3\" d=\"M 58.2,53.4 L 50.6,81.9\" style=\"fill:none;fill-rule:evenodd;stroke:#000000;stroke-width:2.0px;stroke-linecap:butt;stroke-linejoin:miter;stroke-opacity:1\"/>\n",
       "<path class=\"bond-3 atom-3 atom-4\" d=\"M 50.6,81.9 L 43.0,110.4\" style=\"fill:none;fill-rule:evenodd;stroke:#000000;stroke-width:2.0px;stroke-linecap:butt;stroke-linejoin:miter;stroke-opacity:1\"/>\n",
       "<path class=\"bond-4 atom-3 atom-5\" d=\"M 50.6,81.9 L 62.8,85.1\" style=\"fill:none;fill-rule:evenodd;stroke:#000000;stroke-width:2.0px;stroke-linecap:butt;stroke-linejoin:miter;stroke-opacity:1\"/>\n",
       "<path class=\"bond-4 atom-3 atom-5\" d=\"M 62.8,85.1 L 75.0,88.4\" style=\"fill:none;fill-rule:evenodd;stroke:#0000FF;stroke-width:2.0px;stroke-linecap:butt;stroke-linejoin:miter;stroke-opacity:1\"/>\n",
       "<path class=\"bond-5 atom-5 atom-6\" d=\"M 80.5,94.6 L 83.7,106.3\" style=\"fill:none;fill-rule:evenodd;stroke:#0000FF;stroke-width:2.0px;stroke-linecap:butt;stroke-linejoin:miter;stroke-opacity:1\"/>\n",
       "<path class=\"bond-5 atom-5 atom-6\" d=\"M 83.7,106.3 L 86.8,118.0\" style=\"fill:none;fill-rule:evenodd;stroke:#000000;stroke-width:2.0px;stroke-linecap:butt;stroke-linejoin:miter;stroke-opacity:1\"/>\n",
       "<path class=\"bond-6 atom-6 atom-7\" d=\"M 86.8,118.0 L 115.3,125.6\" style=\"fill:none;fill-rule:evenodd;stroke:#000000;stroke-width:2.0px;stroke-linecap:butt;stroke-linejoin:miter;stroke-opacity:1\"/>\n",
       "<path class=\"bond-7 atom-7 atom-8\" d=\"M 115.3,125.6 L 136.2,104.7\" style=\"fill:none;fill-rule:evenodd;stroke:#000000;stroke-width:2.0px;stroke-linecap:butt;stroke-linejoin:miter;stroke-opacity:1\"/>\n",
       "<path class=\"bond-8 atom-8 atom-9\" d=\"M 136.2,104.7 L 165.3,109.2\" style=\"fill:none;fill-rule:evenodd;stroke:#000000;stroke-width:2.0px;stroke-linecap:butt;stroke-linejoin:miter;stroke-opacity:1\"/>\n",
       "<path class=\"bond-8 atom-8 atom-9\" d=\"M 140.0,100.8 L 162.8,104.4\" style=\"fill:none;fill-rule:evenodd;stroke:#000000;stroke-width:2.0px;stroke-linecap:butt;stroke-linejoin:miter;stroke-opacity:1\"/>\n",
       "<path class=\"bond-9 atom-9 atom-10\" d=\"M 165.3,109.2 L 170.7,98.6\" style=\"fill:none;fill-rule:evenodd;stroke:#000000;stroke-width:2.0px;stroke-linecap:butt;stroke-linejoin:miter;stroke-opacity:1\"/>\n",
       "<path class=\"bond-9 atom-9 atom-10\" d=\"M 170.7,98.6 L 176.1,88.1\" style=\"fill:none;fill-rule:evenodd;stroke:#0000FF;stroke-width:2.0px;stroke-linecap:butt;stroke-linejoin:miter;stroke-opacity:1\"/>\n",
       "<path class=\"bond-10 atom-10 atom-11\" d=\"M 174.5,78.8 L 166.1,70.4\" style=\"fill:none;fill-rule:evenodd;stroke:#0000FF;stroke-width:2.0px;stroke-linecap:butt;stroke-linejoin:miter;stroke-opacity:1\"/>\n",
       "<path class=\"bond-10 atom-10 atom-11\" d=\"M 166.1,70.4 L 157.8,62.1\" style=\"fill:none;fill-rule:evenodd;stroke:#000000;stroke-width:2.0px;stroke-linecap:butt;stroke-linejoin:miter;stroke-opacity:1\"/>\n",
       "<path class=\"bond-11 atom-11 atom-12\" d=\"M 157.8,62.1 L 149.3,66.4\" style=\"fill:none;fill-rule:evenodd;stroke:#000000;stroke-width:2.0px;stroke-linecap:butt;stroke-linejoin:miter;stroke-opacity:1\"/>\n",
       "<path class=\"bond-11 atom-11 atom-12\" d=\"M 149.3,66.4 L 140.9,70.7\" style=\"fill:none;fill-rule:evenodd;stroke:#0000FF;stroke-width:2.0px;stroke-linecap:butt;stroke-linejoin:miter;stroke-opacity:1\"/>\n",
       "<path class=\"bond-11 atom-11 atom-12\" d=\"M 156.9,67.5 L 149.9,71.1\" style=\"fill:none;fill-rule:evenodd;stroke:#000000;stroke-width:2.0px;stroke-linecap:butt;stroke-linejoin:miter;stroke-opacity:1\"/>\n",
       "<path class=\"bond-11 atom-11 atom-12\" d=\"M 149.9,71.1 L 142.9,74.7\" style=\"fill:none;fill-rule:evenodd;stroke:#0000FF;stroke-width:2.0px;stroke-linecap:butt;stroke-linejoin:miter;stroke-opacity:1\"/>\n",
       "<path class=\"bond-12 atom-6 atom-13\" d=\"M 86.8,118.0 L 66.0,138.9\" style=\"fill:none;fill-rule:evenodd;stroke:#000000;stroke-width:2.0px;stroke-linecap:butt;stroke-linejoin:miter;stroke-opacity:1\"/>\n",
       "<path class=\"bond-13 atom-13 atom-14\" d=\"M 63.5,138.2 L 66.8,150.5\" style=\"fill:none;fill-rule:evenodd;stroke:#000000;stroke-width:2.0px;stroke-linecap:butt;stroke-linejoin:miter;stroke-opacity:1\"/>\n",
       "<path class=\"bond-13 atom-13 atom-14\" d=\"M 66.8,150.5 L 70.1,162.7\" style=\"fill:none;fill-rule:evenodd;stroke:#FF0000;stroke-width:2.0px;stroke-linecap:butt;stroke-linejoin:miter;stroke-opacity:1\"/>\n",
       "<path class=\"bond-13 atom-13 atom-14\" d=\"M 67.8,137.1 L 71.1,149.3\" style=\"fill:none;fill-rule:evenodd;stroke:#000000;stroke-width:2.0px;stroke-linecap:butt;stroke-linejoin:miter;stroke-opacity:1\"/>\n",
       "<path class=\"bond-13 atom-13 atom-14\" d=\"M 71.1,149.3 L 74.4,161.6\" style=\"fill:none;fill-rule:evenodd;stroke:#FF0000;stroke-width:2.0px;stroke-linecap:butt;stroke-linejoin:miter;stroke-opacity:1\"/>\n",
       "<path class=\"bond-14 atom-13 atom-15\" d=\"M 66.0,138.9 L 54.1,135.7\" style=\"fill:none;fill-rule:evenodd;stroke:#000000;stroke-width:2.0px;stroke-linecap:butt;stroke-linejoin:miter;stroke-opacity:1\"/>\n",
       "<path class=\"bond-14 atom-13 atom-15\" d=\"M 54.1,135.7 L 42.3,132.6\" style=\"fill:none;fill-rule:evenodd;stroke:#FF0000;stroke-width:2.0px;stroke-linecap:butt;stroke-linejoin:miter;stroke-opacity:1\"/>\n",
       "<path class=\"bond-15 atom-3 atom-16\" d=\"M 50.6,81.9 L 38.8,78.7\" style=\"fill:none;fill-rule:evenodd;stroke:#000000;stroke-width:2.0px;stroke-linecap:butt;stroke-linejoin:miter;stroke-opacity:1\"/>\n",
       "<path class=\"bond-15 atom-3 atom-16\" d=\"M 38.8,78.7 L 26.9,75.6\" style=\"fill:none;fill-rule:evenodd;stroke:#FF0000;stroke-width:2.0px;stroke-linecap:butt;stroke-linejoin:miter;stroke-opacity:1\"/>\n",
       "<path class=\"bond-16 atom-12 atom-8\" d=\"M 132.3,80.7 L 134.2,92.7\" style=\"fill:none;fill-rule:evenodd;stroke:#0000FF;stroke-width:2.0px;stroke-linecap:butt;stroke-linejoin:miter;stroke-opacity:1\"/>\n",
       "<path class=\"bond-16 atom-12 atom-8\" d=\"M 134.2,92.7 L 136.2,104.7\" style=\"fill:none;fill-rule:evenodd;stroke:#000000;stroke-width:2.0px;stroke-linecap:butt;stroke-linejoin:miter;stroke-opacity:1\"/>\n",
       "<path d=\"M 57.7,52.9 L 58.2,53.4 L 57.8,54.8\" style=\"fill:none;stroke:#000000;stroke-width:2.0px;stroke-linecap:butt;stroke-linejoin:miter;stroke-opacity:1;\"/>\n",
       "<path d=\"M 113.9,125.2 L 115.3,125.6 L 116.4,124.5\" style=\"fill:none;stroke:#000000;stroke-width:2.0px;stroke-linecap:butt;stroke-linejoin:miter;stroke-opacity:1;\"/>\n",
       "<path d=\"M 163.9,109.0 L 165.3,109.2 L 165.6,108.7\" style=\"fill:none;stroke:#000000;stroke-width:2.0px;stroke-linecap:butt;stroke-linejoin:miter;stroke-opacity:1;\"/>\n",
       "<path d=\"M 158.2,62.5 L 157.8,62.1 L 157.3,62.3\" style=\"fill:none;stroke:#000000;stroke-width:2.0px;stroke-linecap:butt;stroke-linejoin:miter;stroke-opacity:1;\"/>\n",
       "<path d=\"M 67.0,137.8 L 66.0,138.9 L 65.4,138.7\" style=\"fill:none;stroke:#000000;stroke-width:2.0px;stroke-linecap:butt;stroke-linejoin:miter;stroke-opacity:1;\"/>\n",
       "<path class=\"atom-0\" d=\"M 35.7 31.6 L 36.9 30.3 L 35.3 30.0 L 35.6 29.2 L 37.1 29.9 L 36.9 28.3 L 37.7 28.3 L 37.5 29.9 L 39.0 29.2 L 39.3 30.0 L 37.6 30.3 L 38.8 31.6 L 38.1 32.1 L 37.3 30.6 L 36.4 32.1 L 35.7 31.6 \" fill=\"#191919\"/>\n",
       "<path class=\"atom-2\" d=\"M 82.9 45.7 Q 82.9 43.7, 83.8 42.6 Q 84.8 41.5, 86.7 41.5 Q 88.5 41.5, 89.5 42.6 Q 90.5 43.7, 90.5 45.7 Q 90.5 47.7, 89.5 48.9 Q 88.5 50.0, 86.7 50.0 Q 84.8 50.0, 83.8 48.9 Q 82.9 47.7, 82.9 45.7 M 86.7 49.1 Q 88.0 49.1, 88.7 48.2 Q 89.3 47.4, 89.3 45.7 Q 89.3 44.1, 88.7 43.2 Q 88.0 42.4, 86.7 42.4 Q 85.4 42.4, 84.7 43.2 Q 84.0 44.1, 84.0 45.7 Q 84.0 47.4, 84.7 48.2 Q 85.4 49.1, 86.7 49.1 \" fill=\"#FF0000\"/>\n",
       "<path class=\"atom-5\" d=\"M 77.3 85.3 L 80.0 89.7 Q 80.3 90.2, 80.7 91.0 Q 81.2 91.7, 81.2 91.8 L 81.2 85.3 L 82.3 85.3 L 82.3 93.7 L 81.1 93.7 L 78.2 88.8 Q 77.9 88.2, 77.5 87.6 Q 77.1 86.9, 77.0 86.7 L 77.0 93.7 L 76.0 93.7 L 76.0 85.3 L 77.3 85.3 \" fill=\"#0000FF\"/>\n",
       "<path class=\"atom-5\" d=\"M 83.9 85.3 L 85.0 85.3 L 85.0 88.8 L 89.3 88.8 L 89.3 85.3 L 90.4 85.3 L 90.4 93.7 L 89.3 93.7 L 89.3 89.8 L 85.0 89.8 L 85.0 93.7 L 83.9 93.7 L 83.9 85.3 \" fill=\"#0000FF\"/>\n",
       "<path class=\"atom-5\" d=\"M 92.0 93.4 Q 92.2 92.8, 92.7 92.6 Q 93.2 92.3, 93.9 92.3 Q 94.7 92.3, 95.2 92.7 Q 95.6 93.2, 95.6 94.0 Q 95.6 94.8, 95.0 95.5 Q 94.4 96.3, 93.2 97.2 L 95.7 97.2 L 95.7 97.8 L 92.0 97.8 L 92.0 97.3 Q 93.0 96.6, 93.7 96.0 Q 94.3 95.5, 94.6 95.0 Q 94.9 94.5, 94.9 94.0 Q 94.9 93.5, 94.6 93.2 Q 94.3 92.9, 93.9 92.9 Q 93.4 92.9, 93.1 93.1 Q 92.8 93.2, 92.6 93.6 L 92.0 93.4 \" fill=\"#0000FF\"/>\n",
       "<path class=\"atom-5\" d=\"M 92.1 86.8 L 93.5 86.8 L 93.5 85.3 L 94.2 85.3 L 94.2 86.8 L 95.7 86.8 L 95.7 87.4 L 94.2 87.4 L 94.2 88.9 L 93.5 88.9 L 93.5 87.4 L 92.1 87.4 L 92.1 86.8 \" fill=\"#0000FF\"/>\n",
       "<path class=\"atom-10\" d=\"M 176.8 78.7 L 179.6 83.2 Q 179.8 83.6, 180.3 84.4 Q 180.7 85.2, 180.7 85.2 L 180.7 78.7 L 181.8 78.7 L 181.8 87.1 L 180.7 87.1 L 177.8 82.2 Q 177.4 81.7, 177.0 81.0 Q 176.7 80.4, 176.6 80.2 L 176.6 87.1 L 175.5 87.1 L 175.5 78.7 L 176.8 78.7 \" fill=\"#0000FF\"/>\n",
       "<path class=\"atom-10\" d=\"M 183.5 78.7 L 184.6 78.7 L 184.6 82.3 L 188.9 82.3 L 188.9 78.7 L 190.0 78.7 L 190.0 87.1 L 188.9 87.1 L 188.9 83.2 L 184.6 83.2 L 184.6 87.1 L 183.5 87.1 L 183.5 78.7 \" fill=\"#0000FF\"/>\n",
       "<path class=\"atom-12\" d=\"M 120.2 71.3 L 121.3 71.3 L 121.3 74.9 L 125.6 74.9 L 125.6 71.3 L 126.7 71.3 L 126.7 79.7 L 125.6 79.7 L 125.6 75.8 L 121.3 75.8 L 121.3 79.7 L 120.2 79.7 L 120.2 71.3 \" fill=\"#0000FF\"/>\n",
       "<path class=\"atom-12\" d=\"M 129.6 71.3 L 132.4 75.8 Q 132.7 76.2, 133.1 77.0 Q 133.5 77.8, 133.6 77.8 L 133.6 71.3 L 134.7 71.3 L 134.7 79.7 L 133.5 79.7 L 130.6 74.9 Q 130.2 74.3, 129.9 73.6 Q 129.5 73.0, 129.4 72.8 L 129.4 79.7 L 128.3 79.7 L 128.3 71.3 L 129.6 71.3 \" fill=\"#0000FF\"/>\n",
       "<path class=\"atom-12\" d=\"M 136.3 72.8 L 137.7 72.8 L 137.7 71.3 L 138.4 71.3 L 138.4 72.8 L 139.9 72.8 L 139.9 73.4 L 138.4 73.4 L 138.4 75.0 L 137.7 75.0 L 137.7 73.4 L 136.3 73.4 L 136.3 72.8 \" fill=\"#0000FF\"/>\n",
       "<path class=\"atom-14\" d=\"M 69.8 167.4 Q 69.8 165.4, 70.8 164.3 Q 71.8 163.1, 73.7 163.1 Q 75.5 163.1, 76.5 164.3 Q 77.5 165.4, 77.5 167.4 Q 77.5 169.4, 76.5 170.6 Q 75.5 171.7, 73.7 171.7 Q 71.8 171.7, 70.8 170.6 Q 69.8 169.4, 69.8 167.4 M 73.7 170.8 Q 74.9 170.8, 75.6 169.9 Q 76.3 169.1, 76.3 167.4 Q 76.3 165.7, 75.6 164.9 Q 74.9 164.1, 73.7 164.1 Q 72.4 164.1, 71.7 164.9 Q 71.0 165.7, 71.0 167.4 Q 71.0 169.1, 71.7 169.9 Q 72.4 170.8, 73.7 170.8 \" fill=\"#FF0000\"/>\n",
       "<path class=\"atom-15\" d=\"M 33.6 131.3 Q 33.6 129.3, 34.6 128.2 Q 35.6 127.1, 37.5 127.1 Q 39.3 127.1, 40.3 128.2 Q 41.3 129.3, 41.3 131.3 Q 41.3 133.3, 40.3 134.5 Q 39.3 135.6, 37.5 135.6 Q 35.6 135.6, 34.6 134.5 Q 33.6 133.3, 33.6 131.3 M 37.5 134.7 Q 38.7 134.7, 39.4 133.8 Q 40.1 133.0, 40.1 131.3 Q 40.1 129.7, 39.4 128.8 Q 38.7 128.0, 37.5 128.0 Q 36.2 128.0, 35.5 128.8 Q 34.8 129.6, 34.8 131.3 Q 34.8 133.0, 35.5 133.8 Q 36.2 134.7, 37.5 134.7 \" fill=\"#FF0000\"/>\n",
       "<path class=\"atom-15\" d=\"M 42.5 128.4 L 45.3 128.4 L 45.3 129.0 L 42.5 129.0 L 42.5 128.4 \" fill=\"#FF0000\"/>\n",
       "<path class=\"atom-16\" d=\"M 10.0 70.2 L 11.1 70.2 L 11.1 73.7 L 15.4 73.7 L 15.4 70.2 L 16.5 70.2 L 16.5 78.5 L 15.4 78.5 L 15.4 74.7 L 11.1 74.7 L 11.1 78.5 L 10.0 78.5 L 10.0 70.2 \" fill=\"#FF0000\"/>\n",
       "<path class=\"atom-16\" d=\"M 18.3 74.3 Q 18.3 72.3, 19.2 71.2 Q 20.2 70.1, 22.1 70.1 Q 23.9 70.1, 24.9 71.2 Q 25.9 72.3, 25.9 74.3 Q 25.9 76.3, 24.9 77.5 Q 23.9 78.6, 22.1 78.6 Q 20.2 78.6, 19.2 77.5 Q 18.3 76.4, 18.3 74.3 M 22.1 77.7 Q 23.4 77.7, 24.0 76.9 Q 24.7 76.0, 24.7 74.3 Q 24.7 72.7, 24.0 71.8 Q 23.4 71.0, 22.1 71.0 Q 20.8 71.0, 20.1 71.8 Q 19.4 72.7, 19.4 74.3 Q 19.4 76.0, 20.1 76.9 Q 20.8 77.7, 22.1 77.7 \" fill=\"#FF0000\"/>\n",
       "</svg>"
      ],
      "text/plain": [
       "<IPython.core.display.SVG object>"
      ]
     },
     "execution_count": 46,
     "metadata": {},
     "output_type": "execute_result"
    }
   ],
   "source": [
    "SVG(draw_molecule('*C(=O)C(C)([NH2+]C(Cc1c[nH]c[nH+]1)C(=O)[O-])O[H]'))"
   ]
  },
  {
   "cell_type": "code",
   "execution_count": null,
   "metadata": {},
   "outputs": [
    {
     "data": {
      "image/svg+xml": [
       "<svg xmlns=\"http://www.w3.org/2000/svg\" xmlns:rdkit=\"http://www.rdkit.org/xml\" xmlns:xlink=\"http://www.w3.org/1999/xlink\" version=\"1.1\" baseProfile=\"full\" xml:space=\"preserve\" width=\"200px\" height=\"200px\" viewBox=\"0 0 200 200\">\n",
       "<!-- END OF HEADER -->\n",
       "<rect style=\"opacity:1.0;fill:#FFFFFF;stroke:none\" width=\"200.0\" height=\"200.0\" x=\"0.0\" y=\"0.0\"> </rect>\n",
       "<path class=\"bond-0 atom-0 atom-1\" d=\"M 64.1,64.4 L 60.1,79.7\" style=\"fill:none;fill-rule:evenodd;stroke:#000000;stroke-width:2.0px;stroke-linecap:butt;stroke-linejoin:miter;stroke-opacity:1\"/>\n",
       "<path class=\"bond-1 atom-1 atom-2\" d=\"M 66.3,86.1 L 72.9,87.8\" style=\"fill:none;fill-rule:evenodd;stroke:#000000;stroke-width:2.0px;stroke-linecap:butt;stroke-linejoin:miter;stroke-opacity:1\"/>\n",
       "<path class=\"bond-1 atom-1 atom-2\" d=\"M 72.9,87.8 L 79.6,89.6\" style=\"fill:none;fill-rule:evenodd;stroke:#0000FF;stroke-width:2.0px;stroke-linecap:butt;stroke-linejoin:miter;stroke-opacity:1\"/>\n",
       "<path class=\"bond-2 atom-2 atom-3\" d=\"M 84.3,94.9 L 86.4,102.6\" style=\"fill:none;fill-rule:evenodd;stroke:#0000FF;stroke-width:2.0px;stroke-linecap:butt;stroke-linejoin:miter;stroke-opacity:1\"/>\n",
       "<path class=\"bond-2 atom-2 atom-3\" d=\"M 86.4,102.6 L 88.4,110.4\" style=\"fill:none;fill-rule:evenodd;stroke:#000000;stroke-width:2.0px;stroke-linecap:butt;stroke-linejoin:miter;stroke-opacity:1\"/>\n",
       "<path class=\"bond-3 atom-3 atom-4\" d=\"M 100.2,117.5 L 103.2,118.3\" style=\"fill:none;fill-rule:evenodd;stroke:#000000;stroke-width:2.0px;stroke-linecap:butt;stroke-linejoin:miter;stroke-opacity:1\"/>\n",
       "<path class=\"bond-4 atom-4 atom-5\" d=\"M 118.1,116.8 L 127.0,107.9\" style=\"fill:none;fill-rule:evenodd;stroke:#000000;stroke-width:2.0px;stroke-linecap:butt;stroke-linejoin:miter;stroke-opacity:1\"/>\n",
       "<path class=\"bond-5 atom-5 atom-6\" d=\"M 134.7,103.9 L 152.6,106.7\" style=\"fill:none;fill-rule:evenodd;stroke:#000000;stroke-width:2.0px;stroke-linecap:butt;stroke-linejoin:miter;stroke-opacity:1\"/>\n",
       "<path class=\"bond-5 atom-5 atom-6\" d=\"M 135.3,100.2 L 153.2,103.0\" style=\"fill:none;fill-rule:evenodd;stroke:#000000;stroke-width:2.0px;stroke-linecap:butt;stroke-linejoin:miter;stroke-opacity:1\"/>\n",
       "<path class=\"bond-6 atom-6 atom-7\" d=\"M 158.4,102.9 L 161.9,96.1\" style=\"fill:none;fill-rule:evenodd;stroke:#000000;stroke-width:2.0px;stroke-linecap:butt;stroke-linejoin:miter;stroke-opacity:1\"/>\n",
       "<path class=\"bond-6 atom-6 atom-7\" d=\"M 161.9,96.1 L 165.3,89.3\" style=\"fill:none;fill-rule:evenodd;stroke:#0000FF;stroke-width:2.0px;stroke-linecap:butt;stroke-linejoin:miter;stroke-opacity:1\"/>\n",
       "<path class=\"bond-7 atom-7 atom-8\" d=\"M 164.0,81.5 L 159.2,76.6\" style=\"fill:none;fill-rule:evenodd;stroke:#0000FF;stroke-width:2.0px;stroke-linecap:butt;stroke-linejoin:miter;stroke-opacity:1\"/>\n",
       "<path class=\"bond-7 atom-7 atom-8\" d=\"M 159.2,76.6 L 154.3,71.8\" style=\"fill:none;fill-rule:evenodd;stroke:#000000;stroke-width:2.0px;stroke-linecap:butt;stroke-linejoin:miter;stroke-opacity:1\"/>\n",
       "<path class=\"bond-8 atom-8 atom-9\" d=\"M 141.0,71.8 L 138.0,73.3\" style=\"fill:none;fill-rule:evenodd;stroke:#000000;stroke-width:2.0px;stroke-linecap:butt;stroke-linejoin:miter;stroke-opacity:1\"/>\n",
       "<path class=\"bond-8 atom-8 atom-9\" d=\"M 138.0,73.3 L 135.1,74.8\" style=\"fill:none;fill-rule:evenodd;stroke:#0000FF;stroke-width:2.0px;stroke-linecap:butt;stroke-linejoin:miter;stroke-opacity:1\"/>\n",
       "<path class=\"bond-8 atom-8 atom-9\" d=\"M 142.7,75.1 L 139.8,76.6\" style=\"fill:none;fill-rule:evenodd;stroke:#000000;stroke-width:2.0px;stroke-linecap:butt;stroke-linejoin:miter;stroke-opacity:1\"/>\n",
       "<path class=\"bond-8 atom-8 atom-9\" d=\"M 139.8,76.6 L 136.8,78.1\" style=\"fill:none;fill-rule:evenodd;stroke:#0000FF;stroke-width:2.0px;stroke-linecap:butt;stroke-linejoin:miter;stroke-opacity:1\"/>\n",
       "<path class=\"bond-9 atom-3 atom-10\" d=\"M 85.1,119.2 L 76.3,128.0\" style=\"fill:none;fill-rule:evenodd;stroke:#000000;stroke-width:2.0px;stroke-linecap:butt;stroke-linejoin:miter;stroke-opacity:1\"/>\n",
       "<path class=\"bond-10 atom-10 atom-11\" d=\"M 61.7,127.8 L 56.6,126.4\" style=\"fill:none;fill-rule:evenodd;stroke:#000000;stroke-width:2.0px;stroke-linecap:butt;stroke-linejoin:miter;stroke-opacity:1\"/>\n",
       "<path class=\"bond-10 atom-10 atom-11\" d=\"M 56.6,126.4 L 51.6,125.1\" style=\"fill:none;fill-rule:evenodd;stroke:#FF0000;stroke-width:2.0px;stroke-linecap:butt;stroke-linejoin:miter;stroke-opacity:1\"/>\n",
       "<path class=\"bond-10 atom-10 atom-11\" d=\"M 60.8,131.4 L 55.7,130.0\" style=\"fill:none;fill-rule:evenodd;stroke:#000000;stroke-width:2.0px;stroke-linecap:butt;stroke-linejoin:miter;stroke-opacity:1\"/>\n",
       "<path class=\"bond-10 atom-10 atom-11\" d=\"M 55.7,130.0 L 50.6,128.7\" style=\"fill:none;fill-rule:evenodd;stroke:#FF0000;stroke-width:2.0px;stroke-linecap:butt;stroke-linejoin:miter;stroke-opacity:1\"/>\n",
       "<path class=\"bond-11 atom-10 atom-12\" d=\"M 73.1,136.8 L 75.2,144.5\" style=\"fill:none;fill-rule:evenodd;stroke:#000000;stroke-width:2.0px;stroke-linecap:butt;stroke-linejoin:miter;stroke-opacity:1\"/>\n",
       "<path class=\"bond-11 atom-10 atom-12\" d=\"M 75.2,144.5 L 77.3,152.2\" style=\"fill:none;fill-rule:evenodd;stroke:#FF0000;stroke-width:2.0px;stroke-linecap:butt;stroke-linejoin:miter;stroke-opacity:1\"/>\n",
       "<path class=\"bond-12 atom-1 atom-13\" d=\"M 51.5,82.1 L 44.8,80.3\" style=\"fill:none;fill-rule:evenodd;stroke:#000000;stroke-width:2.0px;stroke-linecap:butt;stroke-linejoin:miter;stroke-opacity:1\"/>\n",
       "<path class=\"bond-12 atom-1 atom-13\" d=\"M 44.8,80.3 L 38.0,78.5\" style=\"fill:none;fill-rule:evenodd;stroke:#FF0000;stroke-width:2.0px;stroke-linecap:butt;stroke-linejoin:miter;stroke-opacity:1\"/>\n",
       "<path class=\"bond-13 atom-1 atom-14\" d=\"M 57.7,88.6 L 53.6,103.9\" style=\"fill:none;fill-rule:evenodd;stroke:#000000;stroke-width:2.0px;stroke-linecap:butt;stroke-linejoin:miter;stroke-opacity:1\"/>\n",
       "<path class=\"bond-14 atom-0 atom-15\" d=\"M 62.2,54.2 L 57.2,49.1\" style=\"fill:none;fill-rule:evenodd;stroke:#000000;stroke-width:2.0px;stroke-linecap:butt;stroke-linejoin:miter;stroke-opacity:1\"/>\n",
       "<path class=\"bond-14 atom-0 atom-15\" d=\"M 57.2,49.1 L 52.1,44.1\" style=\"fill:none;fill-rule:evenodd;stroke:#FF0000;stroke-width:2.0px;stroke-linecap:butt;stroke-linejoin:miter;stroke-opacity:1\"/>\n",
       "<path class=\"bond-14 atom-0 atom-15\" d=\"M 59.6,56.8 L 54.5,51.8\" style=\"fill:none;fill-rule:evenodd;stroke:#000000;stroke-width:2.0px;stroke-linecap:butt;stroke-linejoin:miter;stroke-opacity:1\"/>\n",
       "<path class=\"bond-14 atom-0 atom-15\" d=\"M 54.5,51.8 L 49.5,46.8\" style=\"fill:none;fill-rule:evenodd;stroke:#FF0000;stroke-width:2.0px;stroke-linecap:butt;stroke-linejoin:miter;stroke-opacity:1\"/>\n",
       "<path class=\"bond-15 atom-0 atom-16\" d=\"M 72.5,58.0 L 80.1,55.9\" style=\"fill:none;fill-rule:evenodd;stroke:#000000;stroke-width:2.0px;stroke-linecap:butt;stroke-linejoin:miter;stroke-opacity:1\"/>\n",
       "<path class=\"bond-15 atom-0 atom-16\" d=\"M 80.1,55.9 L 87.8,53.8\" style=\"fill:none;fill-rule:evenodd;stroke:#191919;stroke-width:2.0px;stroke-linecap:butt;stroke-linejoin:miter;stroke-opacity:1\"/>\n",
       "<path class=\"bond-16 atom-9 atom-5\" d=\"M 128.2,83.1 L 129.5,91.1\" style=\"fill:none;fill-rule:evenodd;stroke:#0000FF;stroke-width:2.0px;stroke-linecap:butt;stroke-linejoin:miter;stroke-opacity:1\"/>\n",
       "<path class=\"bond-16 atom-9 atom-5\" d=\"M 129.5,91.1 L 130.8,99.1\" style=\"fill:none;fill-rule:evenodd;stroke:#000000;stroke-width:2.0px;stroke-linecap:butt;stroke-linejoin:miter;stroke-opacity:1\"/>\n",
       "<path class=\"atom-0\" d=\"M 59.0 59.9 Q 59.0 58.2, 59.9 57.2 Q 60.7 56.3, 62.3 56.3 Q 63.7 56.3, 64.5 57.3 L 63.8 57.9 Q 63.3 57.1, 62.3 57.1 Q 61.2 57.1, 60.6 57.9 Q 60.1 58.6, 60.1 59.9 Q 60.1 61.3, 60.6 62.0 Q 61.2 62.8, 62.4 62.8 Q 63.2 62.8, 64.1 62.3 L 64.3 63.0 Q 64.0 63.3, 63.4 63.4 Q 62.9 63.6, 62.2 63.6 Q 60.7 63.6, 59.9 62.6 Q 59.0 61.7, 59.0 59.9 \" fill=\"#000000\"/>\n",
       "<path class=\"atom-0\" d=\"M 65.3 62.3 L 66.3 62.3 L 66.3 63.3 L 65.3 63.3 L 65.3 62.3 M 65.3 58.9 L 66.3 58.9 L 66.3 59.9 L 65.3 59.9 L 65.3 58.9 \" fill=\"#000000\"/>\n",
       "<path class=\"atom-0\" d=\"M 67.8 62.7 L 69.3 62.7 L 69.3 57.4 L 67.6 57.9 L 67.4 57.3 L 69.5 56.3 L 70.3 56.5 L 70.3 62.7 L 71.6 62.7 L 71.6 63.5 L 67.8 63.5 L 67.8 62.7 \" fill=\"#000000\"/>\n",
       "<path class=\"atom-1\" d=\"M 52.3 84.1 Q 52.3 82.4, 53.2 81.4 Q 54.0 80.5, 55.6 80.5 Q 57.0 80.5, 57.8 81.5 L 57.1 82.1 Q 56.6 81.3, 55.6 81.3 Q 54.5 81.3, 53.9 82.0 Q 53.4 82.8, 53.4 84.1 Q 53.4 85.5, 53.9 86.2 Q 54.5 87.0, 55.7 87.0 Q 56.4 87.0, 57.4 86.5 L 57.6 87.2 Q 57.3 87.5, 56.7 87.6 Q 56.1 87.8, 55.5 87.8 Q 54.0 87.8, 53.2 86.8 Q 52.3 85.9, 52.3 84.1 \" fill=\"#000000\"/>\n",
       "<path class=\"atom-1\" d=\"M 58.6 86.5 L 59.6 86.5 L 59.6 87.5 L 58.6 87.5 L 58.6 86.5 M 58.6 83.1 L 59.6 83.1 L 59.6 84.1 L 58.6 84.1 L 58.6 83.1 \" fill=\"#000000\"/>\n",
       "<path class=\"atom-1\" d=\"M 60.7 81.9 Q 61.0 81.2, 61.6 80.9 Q 62.2 80.5, 63.1 80.5 Q 64.2 80.5, 64.8 81.1 Q 65.4 81.7, 65.4 82.7 Q 65.4 83.7, 64.6 84.7 Q 63.8 85.7, 62.2 86.9 L 65.5 86.9 L 65.5 87.7 L 60.7 87.7 L 60.7 87.0 Q 62.0 86.1, 62.8 85.4 Q 63.6 84.7, 64.0 84.0 Q 64.4 83.4, 64.4 82.7 Q 64.4 82.1, 64.0 81.7 Q 63.7 81.3, 63.1 81.3 Q 62.5 81.3, 62.1 81.5 Q 61.8 81.8, 61.5 82.3 L 60.7 81.9 \" fill=\"#000000\"/>\n",
       "<path class=\"atom-2\" d=\"M 81.5 87.0 L 83.8 90.8 Q 84.1 91.1, 84.5 91.8 Q 84.8 92.5, 84.8 92.5 L 84.8 87.0 L 85.8 87.0 L 85.8 94.1 L 84.8 94.1 L 82.3 90.0 Q 82.0 89.5, 81.7 89.0 Q 81.4 88.4, 81.3 88.2 L 81.3 94.1 L 80.4 94.1 L 80.4 87.0 L 81.5 87.0 \" fill=\"#0000FF\"/>\n",
       "<path class=\"atom-2\" d=\"M 87.1 92.9 L 88.1 92.9 L 88.1 93.9 L 87.1 93.9 L 87.1 92.9 M 87.1 89.5 L 88.1 89.5 L 88.1 90.5 L 87.1 90.5 L 87.1 89.5 \" fill=\"#0000FF\"/>\n",
       "<path class=\"atom-2\" d=\"M 93.9 91.7 L 94.7 91.7 L 94.7 92.5 L 93.9 92.5 L 93.9 94.1 L 92.9 94.1 L 92.9 92.5 L 89.3 92.5 L 89.3 91.8 L 92.4 87.0 L 93.9 87.0 L 93.9 91.7 M 90.4 91.7 L 92.9 91.7 L 92.9 87.7 L 90.4 91.7 \" fill=\"#0000FF\"/>\n",
       "<path class=\"atom-2\" d=\"M 98.4 89.7 Q 99.1 89.7, 99.6 90.0 Q 100.0 90.2, 100.3 90.7 Q 100.6 91.2, 100.6 91.8 Q 100.6 92.5, 100.3 93.1 Q 100.0 93.6, 99.4 93.9 Q 98.9 94.2, 98.2 94.2 Q 96.9 94.2, 96.3 93.3 Q 95.7 92.5, 95.7 90.8 Q 95.7 88.9, 96.5 87.9 Q 97.2 86.9, 98.8 86.9 Q 99.2 86.9, 99.6 87.0 Q 99.9 87.1, 100.3 87.3 L 99.9 88.0 Q 99.4 87.7, 98.8 87.7 Q 97.8 87.7, 97.3 88.4 Q 96.7 89.0, 96.7 90.4 Q 97.0 90.0, 97.5 89.9 Q 98.0 89.7, 98.4 89.7 M 98.2 93.4 Q 98.6 93.4, 98.9 93.2 Q 99.2 93.0, 99.4 92.6 Q 99.6 92.3, 99.6 91.8 Q 99.6 91.2, 99.2 90.8 Q 98.9 90.5, 98.3 90.5 Q 97.8 90.5, 97.4 90.7 Q 97.0 90.8, 96.7 91.1 Q 96.7 92.3, 97.1 92.8 Q 97.5 93.4, 98.2 93.4 \" fill=\"#0000FF\"/>\n",
       "<path class=\"atom-2\" d=\"M 101.6 87.0 L 102.6 87.0 L 102.6 90.0 L 106.2 90.0 L 106.2 87.0 L 107.1 87.0 L 107.1 94.1 L 106.2 94.1 L 106.2 90.8 L 102.6 90.8 L 102.6 94.1 L 101.6 94.1 L 101.6 87.0 \" fill=\"#0000FF\"/>\n",
       "<path class=\"atom-2\" d=\"M 108.5 93.9 Q 108.6 93.4, 109.0 93.2 Q 109.4 92.9, 110.0 92.9 Q 110.7 92.9, 111.1 93.3 Q 111.5 93.7, 111.5 94.4 Q 111.5 95.1, 111.0 95.7 Q 110.5 96.4, 109.4 97.1 L 111.6 97.1 L 111.6 97.7 L 108.4 97.7 L 108.4 97.2 Q 109.3 96.6, 109.8 96.1 Q 110.4 95.7, 110.6 95.2 Q 110.9 94.8, 110.9 94.4 Q 110.9 93.9, 110.6 93.7 Q 110.4 93.4, 110.0 93.4 Q 109.6 93.4, 109.4 93.6 Q 109.1 93.8, 109.0 94.1 L 108.5 93.9 \" fill=\"#0000FF\"/>\n",
       "<path class=\"atom-2\" d=\"M 108.5 88.3 L 109.7 88.3 L 109.7 87.0 L 110.3 87.0 L 110.3 88.3 L 111.6 88.3 L 111.6 88.8 L 110.3 88.8 L 110.3 90.1 L 109.7 90.1 L 109.7 88.8 L 108.5 88.8 L 108.5 88.3 \" fill=\"#0000FF\"/>\n",
       "<path class=\"atom-3\" d=\"M 79.9 114.7 Q 79.9 113.0, 80.7 112.0 Q 81.5 111.1, 83.1 111.1 Q 84.5 111.1, 85.3 112.1 L 84.7 112.7 Q 84.1 111.9, 83.1 111.9 Q 82.0 111.9, 81.4 112.6 Q 80.9 113.4, 80.9 114.7 Q 80.9 116.1, 81.5 116.8 Q 82.0 117.6, 83.2 117.6 Q 84.0 117.6, 84.9 117.1 L 85.2 117.8 Q 84.8 118.1, 84.2 118.2 Q 83.7 118.4, 83.0 118.4 Q 81.5 118.4, 80.7 117.4 Q 79.9 116.5, 79.9 114.7 \" fill=\"#000000\"/>\n",
       "<path class=\"atom-3\" d=\"M 86.1 117.1 L 87.1 117.1 L 87.1 118.1 L 86.1 118.1 L 86.1 117.1 M 86.1 113.7 L 87.1 113.7 L 87.1 114.7 L 86.1 114.7 L 86.1 113.7 \" fill=\"#000000\"/>\n",
       "<path class=\"atom-3\" d=\"M 92.9 115.8 L 93.8 115.8 L 93.8 116.6 L 92.9 116.6 L 92.9 118.3 L 92.0 118.3 L 92.0 116.6 L 88.3 116.6 L 88.3 116.0 L 91.4 111.2 L 92.9 111.2 L 92.9 115.8 M 89.5 115.8 L 92.0 115.8 L 92.0 111.8 L 89.5 115.8 \" fill=\"#000000\"/>\n",
       "<path class=\"atom-3\" d=\"M 98.4 112.0 L 94.7 112.0 L 94.7 111.2 L 99.4 111.2 L 99.4 111.9 L 96.5 118.3 L 95.5 118.3 L 98.4 112.0 \" fill=\"#000000\"/>\n",
       "<path class=\"atom-4\" d=\"M 104.0 121.2 Q 104.0 119.4, 104.8 118.5 Q 105.6 117.5, 107.2 117.5 Q 108.7 117.5, 109.5 118.6 L 108.8 119.1 Q 108.2 118.4, 107.2 118.4 Q 106.1 118.4, 105.6 119.1 Q 105.0 119.8, 105.0 121.2 Q 105.0 122.6, 105.6 123.3 Q 106.2 124.0, 107.3 124.0 Q 108.1 124.0, 109.0 123.5 L 109.3 124.3 Q 108.9 124.5, 108.4 124.7 Q 107.8 124.8, 107.2 124.8 Q 105.6 124.8, 104.8 123.9 Q 104.0 122.9, 104.0 121.2 \" fill=\"#000000\"/>\n",
       "<path class=\"atom-4\" d=\"M 110.3 123.5 L 111.3 123.5 L 111.3 124.5 L 110.3 124.5 L 110.3 123.5 M 110.3 120.1 L 111.3 120.1 L 111.3 121.1 L 110.3 121.1 L 110.3 120.1 \" fill=\"#000000\"/>\n",
       "<path class=\"atom-4\" d=\"M 117.1 122.3 L 117.9 122.3 L 117.9 123.1 L 117.1 123.1 L 117.1 124.7 L 116.1 124.7 L 116.1 123.1 L 112.4 123.1 L 112.4 122.5 L 115.6 117.6 L 117.1 117.6 L 117.1 122.3 M 113.6 122.3 L 116.1 122.3 L 116.1 118.3 L 113.6 122.3 \" fill=\"#000000\"/>\n",
       "<path class=\"atom-4\" d=\"M 121.4 120.3 Q 122.0 120.3, 122.5 120.5 Q 123.0 120.8, 123.3 121.3 Q 123.6 121.8, 123.6 122.5 Q 123.6 123.2, 123.2 123.7 Q 122.9 124.3, 122.3 124.5 Q 121.7 124.8, 121.1 124.8 Q 120.4 124.8, 119.8 124.6 Q 119.2 124.3, 118.8 123.9 L 119.4 123.2 Q 119.7 123.6, 120.2 123.8 Q 120.6 124.0, 121.1 124.0 Q 121.7 124.0, 122.2 123.6 Q 122.6 123.2, 122.6 122.5 Q 122.6 121.7, 122.2 121.4 Q 121.7 121.0, 121.0 121.0 Q 120.4 121.0, 119.7 121.3 L 119.2 121.0 L 119.5 117.6 L 123.2 117.6 L 123.1 118.4 L 120.3 118.4 L 120.1 120.5 Q 120.8 120.3, 121.4 120.3 \" fill=\"#000000\"/>\n",
       "<path class=\"atom-5\" d=\"M 115.0 103.4 Q 115.0 101.7, 115.8 100.7 Q 116.6 99.8, 118.2 99.8 Q 119.7 99.8, 120.4 100.8 L 119.8 101.4 Q 119.2 100.6, 118.2 100.6 Q 117.1 100.6, 116.6 101.4 Q 116.0 102.1, 116.0 103.4 Q 116.0 104.8, 116.6 105.6 Q 117.2 106.3, 118.3 106.3 Q 119.1 106.3, 120.0 105.8 L 120.3 106.6 Q 119.9 106.8, 119.3 106.9 Q 118.8 107.1, 118.2 107.1 Q 116.6 107.1, 115.8 106.1 Q 115.0 105.2, 115.0 103.4 \" fill=\"#000000\"/>\n",
       "<path class=\"atom-5\" d=\"M 121.2 105.8 L 122.2 105.8 L 122.2 106.8 L 121.2 106.8 L 121.2 105.8 M 121.2 102.4 L 122.2 102.4 L 122.2 103.4 L 121.2 103.4 L 121.2 102.4 \" fill=\"#000000\"/>\n",
       "<path class=\"atom-5\" d=\"M 126.0 102.5 Q 126.6 102.5, 127.1 102.8 Q 127.6 103.1, 127.9 103.6 Q 128.2 104.1, 128.2 104.7 Q 128.2 105.5, 127.8 106.0 Q 127.5 106.5, 126.9 106.8 Q 126.3 107.1, 125.7 107.1 Q 125.0 107.1, 124.4 106.8 Q 123.8 106.6, 123.4 106.1 L 124.0 105.5 Q 124.3 105.9, 124.8 106.1 Q 125.2 106.3, 125.7 106.3 Q 126.3 106.3, 126.7 105.9 Q 127.2 105.5, 127.2 104.8 Q 127.2 104.0, 126.7 103.7 Q 126.3 103.3, 125.6 103.3 Q 125.0 103.3, 124.3 103.6 L 123.8 103.3 L 124.1 99.9 L 127.8 99.9 L 127.7 100.7 L 124.9 100.7 L 124.7 102.8 Q 125.3 102.5, 126.0 102.5 \" fill=\"#000000\"/>\n",
       "<path class=\"atom-5\" d=\"M 131.6 102.5 Q 132.3 102.5, 132.8 102.8 Q 133.3 103.1, 133.6 103.6 Q 133.9 104.1, 133.9 104.7 Q 133.9 105.5, 133.5 106.0 Q 133.2 106.5, 132.6 106.8 Q 132.0 107.1, 131.3 107.1 Q 130.7 107.1, 130.1 106.8 Q 129.5 106.6, 129.1 106.1 L 129.7 105.5 Q 130.0 105.9, 130.5 106.1 Q 130.9 106.3, 131.4 106.3 Q 132.0 106.3, 132.4 105.9 Q 132.9 105.5, 132.9 104.8 Q 132.9 104.0, 132.4 103.7 Q 132.0 103.3, 131.3 103.3 Q 130.7 103.3, 130.0 103.6 L 129.4 103.3 L 129.8 99.9 L 133.4 99.9 L 133.3 100.7 L 130.6 100.7 L 130.4 102.8 Q 131.0 102.5, 131.6 102.5 \" fill=\"#000000\"/>\n",
       "<path class=\"atom-6\" d=\"M 153.5 107.3 Q 153.5 105.5, 154.3 104.6 Q 155.1 103.7, 156.7 103.7 Q 158.2 103.7, 158.9 104.7 L 158.3 105.3 Q 157.7 104.5, 156.7 104.5 Q 155.6 104.5, 155.0 105.2 Q 154.5 105.9, 154.5 107.3 Q 154.5 108.7, 155.1 109.4 Q 155.7 110.1, 156.8 110.1 Q 157.6 110.1, 158.5 109.7 L 158.8 110.4 Q 158.4 110.7, 157.8 110.8 Q 157.3 111.0, 156.7 111.0 Q 155.1 111.0, 154.3 110.0 Q 153.5 109.1, 153.5 107.3 \" fill=\"#000000\"/>\n",
       "<path class=\"atom-6\" d=\"M 159.7 109.7 L 160.7 109.7 L 160.7 110.7 L 159.7 110.7 L 159.7 109.7 M 159.7 106.2 L 160.7 106.2 L 160.7 107.2 L 159.7 107.2 L 159.7 106.2 \" fill=\"#000000\"/>\n",
       "<path class=\"atom-6\" d=\"M 164.5 106.4 Q 165.1 106.4, 165.6 106.7 Q 166.1 107.0, 166.4 107.5 Q 166.7 107.9, 166.7 108.6 Q 166.7 109.3, 166.3 109.9 Q 166.0 110.4, 165.4 110.7 Q 164.8 110.9, 164.2 110.9 Q 163.5 110.9, 162.9 110.7 Q 162.3 110.5, 161.9 110.0 L 162.5 109.4 Q 162.8 109.7, 163.3 109.9 Q 163.7 110.1, 164.2 110.1 Q 164.8 110.1, 165.2 109.7 Q 165.7 109.3, 165.7 108.6 Q 165.7 107.9, 165.2 107.5 Q 164.8 107.2, 164.1 107.2 Q 163.5 107.2, 162.8 107.4 L 162.3 107.2 L 162.6 103.8 L 166.2 103.8 L 166.1 104.6 L 163.4 104.6 L 163.2 106.7 Q 163.8 106.4, 164.5 106.4 \" fill=\"#000000\"/>\n",
       "<path class=\"atom-6\" d=\"M 171.0 107.1 Q 171.7 107.3, 172.0 107.8 Q 172.3 108.2, 172.3 108.9 Q 172.3 109.5, 172.0 110.0 Q 171.7 110.4, 171.2 110.7 Q 170.6 111.0, 169.9 111.0 Q 169.1 111.0, 168.6 110.7 Q 168.0 110.4, 167.6 109.9 L 168.1 109.3 Q 168.6 109.8, 168.9 110.0 Q 169.3 110.2, 169.9 110.2 Q 170.6 110.2, 170.9 109.8 Q 171.3 109.5, 171.3 108.9 Q 171.3 108.2, 170.9 107.9 Q 170.5 107.5, 169.6 107.5 L 169.1 107.5 L 169.1 106.8 L 169.6 106.8 Q 170.4 106.8, 170.8 106.5 Q 171.2 106.1, 171.2 105.5 Q 171.2 105.0, 170.8 104.8 Q 170.5 104.5, 169.9 104.5 Q 169.3 104.5, 169.0 104.7 Q 168.6 104.9, 168.3 105.4 L 167.6 105.1 Q 167.9 104.5, 168.5 104.1 Q 169.1 103.7, 169.9 103.7 Q 171.0 103.7, 171.6 104.2 Q 172.2 104.7, 172.2 105.5 Q 172.2 106.1, 171.9 106.5 Q 171.6 106.9, 171.0 107.1 \" fill=\"#000000\"/>\n",
       "<path class=\"atom-7\" d=\"M 166.0 81.4 L 168.3 85.2 Q 168.5 85.6, 168.9 86.2 Q 169.3 86.9, 169.3 86.9 L 169.3 81.4 L 170.2 81.4 L 170.2 88.5 L 169.2 88.5 L 166.8 84.4 Q 166.5 83.9, 166.2 83.4 Q 165.9 82.8, 165.8 82.7 L 165.8 88.5 L 164.8 88.5 L 164.8 81.4 L 166.0 81.4 \" fill=\"#0000FF\"/>\n",
       "<path class=\"atom-7\" d=\"M 171.5 87.3 L 172.5 87.3 L 172.5 88.3 L 171.5 88.3 L 171.5 87.3 M 171.5 83.9 L 172.5 83.9 L 172.5 84.9 L 171.5 84.9 L 171.5 83.9 \" fill=\"#0000FF\"/>\n",
       "<path class=\"atom-7\" d=\"M 176.2 84.1 Q 176.8 84.1, 177.3 84.4 Q 177.9 84.6, 178.1 85.1 Q 178.4 85.6, 178.4 86.3 Q 178.4 87.0, 178.1 87.5 Q 177.7 88.1, 177.1 88.3 Q 176.6 88.6, 175.9 88.6 Q 175.3 88.6, 174.7 88.4 Q 174.1 88.1, 173.6 87.7 L 174.2 87.0 Q 174.6 87.4, 175.0 87.6 Q 175.5 87.8, 175.9 87.8 Q 176.6 87.8, 177.0 87.4 Q 177.4 87.0, 177.4 86.3 Q 177.4 85.5, 177.0 85.2 Q 176.6 84.8, 175.9 84.8 Q 175.3 84.8, 174.6 85.1 L 174.0 84.8 L 174.4 81.4 L 178.0 81.4 L 177.9 82.2 L 175.2 82.2 L 175.0 84.3 Q 175.6 84.1, 176.2 84.1 \" fill=\"#0000FF\"/>\n",
       "<path class=\"atom-7\" d=\"M 179.7 87.7 L 181.3 87.7 L 181.3 82.4 L 179.6 83.0 L 179.3 82.4 L 181.5 81.4 L 182.2 81.5 L 182.2 87.7 L 183.6 87.7 L 183.6 88.5 L 179.7 88.5 L 179.7 87.7 \" fill=\"#0000FF\"/>\n",
       "<path class=\"atom-7\" d=\"M 184.5 81.4 L 185.4 81.4 L 185.4 84.4 L 189.0 84.4 L 189.0 81.4 L 190.0 81.4 L 190.0 88.5 L 189.0 88.5 L 189.0 85.2 L 185.4 85.2 L 185.4 88.5 L 184.5 88.5 L 184.5 81.4 \" fill=\"#0000FF\"/>\n",
       "<path class=\"atom-8\" d=\"M 140.4 67.3 Q 140.4 65.6, 141.2 64.6 Q 142.0 63.7, 143.6 63.7 Q 145.0 63.7, 145.8 64.7 L 145.2 65.3 Q 144.6 64.5, 143.6 64.5 Q 142.5 64.5, 141.9 65.2 Q 141.4 66.0, 141.4 67.3 Q 141.4 68.7, 142.0 69.4 Q 142.6 70.2, 143.7 70.2 Q 144.5 70.2, 145.4 69.7 L 145.7 70.4 Q 145.3 70.7, 144.7 70.8 Q 144.2 71.0, 143.6 71.0 Q 142.0 71.0, 141.2 70.0 Q 140.4 69.1, 140.4 67.3 \" fill=\"#000000\"/>\n",
       "<path class=\"atom-8\" d=\"M 146.6 69.7 L 147.6 69.7 L 147.6 70.7 L 146.6 70.7 L 146.6 69.7 M 146.6 66.3 L 147.6 66.3 L 147.6 67.3 L 146.6 67.3 L 146.6 66.3 \" fill=\"#000000\"/>\n",
       "<path class=\"atom-8\" d=\"M 151.4 66.4 Q 152.0 66.4, 152.5 66.7 Q 153.0 67.0, 153.3 67.5 Q 153.6 68.0, 153.6 68.6 Q 153.6 69.4, 153.2 69.9 Q 152.9 70.4, 152.3 70.7 Q 151.7 70.9, 151.0 70.9 Q 150.4 70.9, 149.8 70.7 Q 149.2 70.5, 148.8 70.0 L 149.4 69.4 Q 149.7 69.7, 150.2 69.9 Q 150.6 70.1, 151.1 70.1 Q 151.7 70.1, 152.1 69.7 Q 152.6 69.4, 152.6 68.6 Q 152.6 67.9, 152.1 67.5 Q 151.7 67.2, 151.0 67.2 Q 150.4 67.2, 149.7 67.5 L 149.2 67.2 L 149.5 63.8 L 153.1 63.8 L 153.0 64.6 L 150.3 64.6 L 150.1 66.7 Q 150.7 66.4, 151.4 66.4 \" fill=\"#000000\"/>\n",
       "<path class=\"atom-8\" d=\"M 154.5 65.1 Q 154.7 64.4, 155.4 64.1 Q 156.0 63.7, 156.8 63.7 Q 157.9 63.7, 158.5 64.3 Q 159.1 64.9, 159.1 65.9 Q 159.1 66.9, 158.3 67.9 Q 157.6 68.9, 156.0 70.1 L 159.2 70.1 L 159.2 70.9 L 154.5 70.9 L 154.5 70.2 Q 155.8 69.3, 156.6 68.6 Q 157.4 67.9, 157.7 67.2 Q 158.1 66.6, 158.1 65.9 Q 158.1 65.3, 157.8 64.9 Q 157.4 64.5, 156.8 64.5 Q 156.3 64.5, 155.9 64.7 Q 155.5 65.0, 155.2 65.5 L 154.5 65.1 \" fill=\"#000000\"/>\n",
       "<path class=\"atom-9\" d=\"M 103.4 75.1 L 104.3 75.1 L 104.3 78.2 L 107.9 78.2 L 107.9 75.1 L 108.9 75.1 L 108.9 82.2 L 107.9 82.2 L 107.9 79.0 L 104.3 79.0 L 104.3 82.2 L 103.4 82.2 L 103.4 75.1 \" fill=\"#0000FF\"/>\n",
       "<path class=\"atom-9\" d=\"M 111.3 75.1 L 113.7 78.9 Q 113.9 79.3, 114.3 79.9 Q 114.6 80.6, 114.6 80.6 L 114.6 75.1 L 115.6 75.1 L 115.6 82.2 L 114.6 82.2 L 112.1 78.1 Q 111.8 77.6, 111.5 77.1 Q 111.2 76.5, 111.1 76.4 L 111.1 82.2 L 110.2 82.2 L 110.2 75.1 L 111.3 75.1 \" fill=\"#0000FF\"/>\n",
       "<path class=\"atom-9\" d=\"M 116.9 81.1 L 117.9 81.1 L 117.9 82.1 L 116.9 82.1 L 116.9 81.1 M 116.9 77.6 L 117.9 77.6 L 117.9 78.6 L 116.9 78.6 L 116.9 77.6 \" fill=\"#0000FF\"/>\n",
       "<path class=\"atom-9\" d=\"M 121.6 77.8 Q 122.3 77.8, 122.8 78.1 Q 123.3 78.3, 123.6 78.8 Q 123.9 79.3, 123.9 80.0 Q 123.9 80.7, 123.5 81.2 Q 123.1 81.8, 122.6 82.0 Q 122.0 82.3, 121.3 82.3 Q 120.7 82.3, 120.1 82.1 Q 119.5 81.8, 119.1 81.4 L 119.7 80.7 Q 120.0 81.1, 120.4 81.3 Q 120.9 81.5, 121.4 81.5 Q 122.0 81.5, 122.4 81.1 Q 122.9 80.7, 122.9 80.0 Q 122.9 79.3, 122.4 78.9 Q 122.0 78.5, 121.3 78.5 Q 120.7 78.5, 120.0 78.8 L 119.4 78.6 L 119.8 75.1 L 123.4 75.1 L 123.3 75.9 L 120.6 75.9 L 120.4 78.0 Q 121.0 77.8, 121.6 77.8 \" fill=\"#0000FF\"/>\n",
       "<path class=\"atom-9\" d=\"M 129.4 79.8 L 130.2 79.8 L 130.2 80.6 L 129.4 80.6 L 129.4 82.2 L 128.5 82.2 L 128.5 80.6 L 124.8 80.6 L 124.8 80.0 L 127.9 75.1 L 129.4 75.1 L 129.4 79.8 M 125.9 79.8 L 128.5 79.8 L 128.5 75.8 L 125.9 79.8 \" fill=\"#0000FF\"/>\n",
       "<path class=\"atom-9\" d=\"M 131.2 76.4 L 132.4 76.4 L 132.4 75.1 L 133.0 75.1 L 133.0 76.4 L 134.3 76.4 L 134.3 76.9 L 133.0 76.9 L 133.0 78.2 L 132.4 78.2 L 132.4 76.9 L 131.2 76.9 L 131.2 76.4 \" fill=\"#0000FF\"/>\n",
       "<path class=\"atom-10\" d=\"M 62.1 132.4 Q 62.1 130.7, 62.9 129.8 Q 63.7 128.8, 65.3 128.8 Q 66.8 128.8, 67.5 129.9 L 66.9 130.4 Q 66.3 129.7, 65.3 129.7 Q 64.2 129.7, 63.6 130.4 Q 63.1 131.1, 63.1 132.4 Q 63.1 133.9, 63.7 134.6 Q 64.3 135.3, 65.4 135.3 Q 66.2 135.3, 67.1 134.8 L 67.4 135.6 Q 67.0 135.8, 66.4 136.0 Q 65.9 136.1, 65.3 136.1 Q 63.7 136.1, 62.9 135.2 Q 62.1 134.2, 62.1 132.4 \" fill=\"#000000\"/>\n",
       "<path class=\"atom-10\" d=\"M 68.4 134.8 L 69.4 134.8 L 69.4 135.8 L 68.4 135.8 L 68.4 134.8 M 68.4 131.4 L 69.4 131.4 L 69.4 132.4 L 68.4 132.4 L 68.4 131.4 \" fill=\"#000000\"/>\n",
       "<path class=\"atom-10\" d=\"M 75.1 133.6 L 76.0 133.6 L 76.0 134.4 L 75.1 134.4 L 75.1 136.0 L 74.2 136.0 L 74.2 134.4 L 70.5 134.4 L 70.5 133.7 L 73.6 128.9 L 75.1 128.9 L 75.1 133.6 M 71.7 133.6 L 74.2 133.6 L 74.2 129.6 L 71.7 133.6 \" fill=\"#000000\"/>\n",
       "<path class=\"atom-10\" d=\"M 79.3 128.8 Q 80.5 128.8, 81.2 129.7 Q 81.8 130.5, 81.8 132.2 Q 81.8 134.1, 81.0 135.1 Q 80.2 136.1, 78.7 136.1 Q 78.3 136.1, 77.9 136.0 Q 77.5 135.9, 77.2 135.7 L 77.6 135.0 Q 78.1 135.3, 78.7 135.3 Q 79.7 135.3, 80.2 134.6 Q 80.7 134.0, 80.8 132.7 Q 80.4 133.0, 80.0 133.2 Q 79.5 133.3, 79.0 133.3 Q 78.4 133.3, 77.9 133.1 Q 77.4 132.8, 77.2 132.3 Q 76.9 131.8, 76.9 131.2 Q 76.9 130.5, 77.2 130.0 Q 77.5 129.4, 78.0 129.1 Q 78.6 128.8, 79.3 128.8 M 77.9 131.2 Q 77.9 131.8, 78.2 132.2 Q 78.6 132.5, 79.2 132.5 Q 79.7 132.5, 80.1 132.4 Q 80.5 132.2, 80.8 131.9 Q 80.8 130.7, 80.4 130.2 Q 80.0 129.7, 79.3 129.7 Q 78.9 129.7, 78.6 129.9 Q 78.3 130.1, 78.1 130.4 Q 77.9 130.8, 77.9 131.2 \" fill=\"#000000\"/>\n",
       "<path class=\"atom-11\" d=\"M 29.2 126.0 Q 29.2 124.3, 30.0 123.3 Q 30.9 122.4, 32.4 122.4 Q 34.0 122.4, 34.9 123.3 Q 35.7 124.3, 35.7 126.0 Q 35.7 127.7, 34.8 128.7 Q 34.0 129.7, 32.4 129.7 Q 30.9 129.7, 30.0 128.7 Q 29.2 127.7, 29.2 126.0 M 32.4 128.9 Q 33.5 128.9, 34.1 128.2 Q 34.7 127.4, 34.7 126.0 Q 34.7 124.6, 34.1 123.9 Q 33.5 123.2, 32.4 123.2 Q 31.4 123.2, 30.8 123.9 Q 30.2 124.6, 30.2 126.0 Q 30.2 127.4, 30.8 128.2 Q 31.4 128.9, 32.4 128.9 \" fill=\"#FF0000\"/>\n",
       "<path class=\"atom-11\" d=\"M 36.6 128.4 L 37.7 128.4 L 37.7 129.4 L 36.6 129.4 L 36.6 128.4 M 36.6 124.9 L 37.7 124.9 L 37.7 125.9 L 36.6 125.9 L 36.6 124.9 \" fill=\"#FF0000\"/>\n",
       "<path class=\"atom-11\" d=\"M 43.5 127.1 L 44.3 127.1 L 44.3 127.9 L 43.5 127.9 L 43.5 129.6 L 42.5 129.6 L 42.5 127.9 L 38.9 127.9 L 38.9 127.3 L 42.0 122.5 L 43.5 122.5 L 43.5 127.1 M 40.0 127.1 L 42.5 127.1 L 42.5 123.1 L 40.0 127.1 \" fill=\"#FF0000\"/>\n",
       "<path class=\"atom-11\" d=\"M 48.9 125.8 Q 49.5 126.1, 49.9 126.5 Q 50.3 126.9, 50.3 127.6 Q 50.3 128.2, 49.9 128.7 Q 49.6 129.2, 49.1 129.4 Q 48.5 129.7, 47.8 129.7 Q 46.6 129.7, 45.9 129.1 Q 45.2 128.6, 45.2 127.6 Q 45.2 127.0, 45.5 126.6 Q 45.8 126.2, 46.5 125.8 Q 46.0 125.6, 45.8 125.2 Q 45.5 124.8, 45.5 124.2 Q 45.5 123.4, 46.1 122.9 Q 46.7 122.4, 47.8 122.4 Q 48.8 122.4, 49.4 122.9 Q 50.0 123.4, 50.0 124.2 Q 50.0 124.7, 49.7 125.1 Q 49.4 125.5, 48.9 125.8 M 47.8 123.1 Q 47.2 123.1, 46.8 123.4 Q 46.5 123.7, 46.5 124.2 Q 46.5 124.6, 46.7 124.8 Q 47.0 125.1, 47.3 125.2 Q 47.6 125.3, 48.2 125.6 Q 48.6 125.3, 48.8 124.9 Q 49.0 124.6, 49.0 124.2 Q 49.0 123.7, 48.7 123.4 Q 48.3 123.1, 47.8 123.1 M 47.8 128.9 Q 48.5 128.9, 48.9 128.6 Q 49.3 128.2, 49.3 127.6 Q 49.3 127.2, 49.0 127.0 Q 48.8 126.8, 48.5 126.6 Q 48.2 126.5, 47.6 126.3 L 47.2 126.1 Q 46.7 126.4, 46.5 126.8 Q 46.2 127.2, 46.2 127.6 Q 46.2 128.2, 46.7 128.6 Q 47.1 128.9, 47.8 128.9 \" fill=\"#FF0000\"/>\n",
       "<path class=\"atom-12\" d=\"M 75.2 156.6 Q 75.2 154.9, 76.0 154.0 Q 76.9 153.0, 78.5 153.0 Q 80.0 153.0, 80.9 154.0 Q 81.7 154.9, 81.7 156.6 Q 81.7 158.3, 80.9 159.3 Q 80.0 160.3, 78.5 160.3 Q 76.9 160.3, 76.0 159.3 Q 75.2 158.3, 75.2 156.6 M 78.5 159.5 Q 79.5 159.5, 80.1 158.8 Q 80.7 158.0, 80.7 156.6 Q 80.7 155.2, 80.1 154.5 Q 79.5 153.8, 78.5 153.8 Q 77.4 153.8, 76.8 154.5 Q 76.2 155.2, 76.2 156.6 Q 76.2 158.0, 76.8 158.8 Q 77.4 159.5, 78.5 159.5 \" fill=\"#FF0000\"/>\n",
       "<path class=\"atom-12\" d=\"M 82.6 159.0 L 83.6 159.0 L 83.6 160.0 L 82.6 160.0 L 82.6 159.0 M 82.6 155.6 L 83.6 155.6 L 83.6 156.6 L 82.6 156.6 L 82.6 155.6 \" fill=\"#FF0000\"/>\n",
       "<path class=\"atom-12\" d=\"M 87.4 155.7 Q 88.0 155.7, 88.5 156.0 Q 89.0 156.3, 89.3 156.8 Q 89.6 157.3, 89.6 157.9 Q 89.6 158.7, 89.2 159.2 Q 88.9 159.7, 88.3 160.0 Q 87.7 160.3, 87.1 160.3 Q 86.4 160.3, 85.8 160.0 Q 85.2 159.8, 84.8 159.3 L 85.4 158.7 Q 85.7 159.0, 86.2 159.2 Q 86.6 159.4, 87.1 159.4 Q 87.7 159.4, 88.2 159.0 Q 88.6 158.7, 88.6 157.9 Q 88.6 157.2, 88.2 156.8 Q 87.7 156.5, 87.0 156.5 Q 86.4 156.5, 85.7 156.8 L 85.2 156.5 L 85.5 153.1 L 89.2 153.1 L 89.1 153.9 L 86.3 153.9 L 86.1 156.0 Q 86.8 155.7, 87.4 155.7 \" fill=\"#FF0000\"/>\n",
       "<path class=\"atom-12\" d=\"M 93.1 160.3 Q 91.8 160.3, 91.2 159.3 Q 90.5 158.3, 90.5 156.6 Q 90.5 154.9, 91.2 154.0 Q 91.8 153.0, 93.1 153.0 Q 94.4 153.0, 95.1 154.0 Q 95.7 154.9, 95.7 156.6 Q 95.7 158.3, 95.0 159.3 Q 94.4 160.3, 93.1 160.3 M 93.1 159.4 Q 93.9 159.4, 94.3 158.7 Q 94.7 158.0, 94.7 156.6 Q 94.7 155.2, 94.3 154.5 Q 93.9 153.8, 93.1 153.8 Q 92.3 153.8, 91.9 154.5 Q 91.5 155.2, 91.5 156.6 Q 91.5 158.0, 91.9 158.7 Q 92.3 159.4, 93.1 159.4 \" fill=\"#FF0000\"/>\n",
       "<path class=\"atom-12\" d=\"M 96.8 154.2 L 99.2 154.2 L 99.2 154.7 L 96.8 154.7 L 96.8 154.2 \" fill=\"#FF0000\"/>\n",
       "<path class=\"atom-13\" d=\"M 10.0 74.1 L 11.0 74.1 L 11.0 77.2 L 14.6 77.2 L 14.6 74.1 L 15.5 74.1 L 15.5 81.2 L 14.6 81.2 L 14.6 78.0 L 11.0 78.0 L 11.0 81.2 L 10.0 81.2 L 10.0 74.1 \" fill=\"#FF0000\"/>\n",
       "<path class=\"atom-13\" d=\"M 16.9 77.7 Q 16.9 76.0, 17.7 75.0 Q 18.5 74.1, 20.1 74.1 Q 21.7 74.1, 22.5 75.0 Q 23.4 76.0, 23.4 77.7 Q 23.4 79.4, 22.5 80.4 Q 21.7 81.3, 20.1 81.3 Q 18.5 81.3, 17.7 80.4 Q 16.9 79.4, 16.9 77.7 M 20.1 80.5 Q 21.2 80.5, 21.8 79.8 Q 22.4 79.1, 22.4 77.7 Q 22.4 76.3, 21.8 75.6 Q 21.2 74.9, 20.1 74.9 Q 19.0 74.9, 18.4 75.6 Q 17.9 76.3, 17.9 77.7 Q 17.9 79.1, 18.4 79.8 Q 19.0 80.5, 20.1 80.5 \" fill=\"#FF0000\"/>\n",
       "<path class=\"atom-13\" d=\"M 24.3 80.1 L 25.3 80.1 L 25.3 81.1 L 24.3 81.1 L 24.3 80.1 M 24.3 76.6 L 25.3 76.6 L 25.3 77.6 L 24.3 77.6 L 24.3 76.6 \" fill=\"#FF0000\"/>\n",
       "<path class=\"atom-13\" d=\"M 29.1 76.8 Q 29.7 76.8, 30.2 77.1 Q 30.7 77.3, 31.0 77.8 Q 31.3 78.3, 31.3 79.0 Q 31.3 79.7, 31.0 80.2 Q 30.6 80.8, 30.0 81.0 Q 29.4 81.3, 28.8 81.3 Q 28.1 81.3, 27.5 81.1 Q 26.9 80.8, 26.5 80.4 L 27.1 79.7 Q 27.5 80.1, 27.9 80.3 Q 28.4 80.5, 28.8 80.5 Q 29.4 80.5, 29.9 80.1 Q 30.3 79.7, 30.3 79.0 Q 30.3 78.3, 29.9 77.9 Q 29.4 77.5, 28.8 77.5 Q 28.1 77.5, 27.4 77.8 L 26.9 77.6 L 27.2 74.1 L 30.9 74.1 L 30.8 74.9 L 28.1 74.9 L 27.8 77.0 Q 28.5 76.8, 29.1 76.8 \" fill=\"#FF0000\"/>\n",
       "<path class=\"atom-13\" d=\"M 34.6 74.1 Q 35.9 74.1, 36.5 74.9 Q 37.2 75.8, 37.2 77.5 Q 37.2 79.4, 36.4 80.3 Q 35.6 81.3, 34.1 81.3 Q 33.6 81.3, 33.3 81.2 Q 32.9 81.1, 32.5 80.9 L 32.9 80.2 Q 33.4 80.5, 34.1 80.5 Q 35.1 80.5, 35.6 79.9 Q 36.1 79.2, 36.2 77.9 Q 35.8 78.2, 35.3 78.4 Q 34.9 78.6, 34.4 78.6 Q 33.8 78.6, 33.3 78.3 Q 32.8 78.0, 32.5 77.5 Q 32.3 77.0, 32.3 76.4 Q 32.3 75.7, 32.6 75.2 Q 32.9 74.7, 33.4 74.4 Q 33.9 74.1, 34.6 74.1 M 33.3 76.4 Q 33.3 77.0, 33.6 77.4 Q 34.0 77.8, 34.6 77.8 Q 35.0 77.8, 35.4 77.6 Q 35.9 77.4, 36.2 77.1 Q 36.1 75.9, 35.8 75.4 Q 35.4 74.9, 34.6 74.9 Q 34.2 74.9, 33.9 75.1 Q 33.6 75.3, 33.4 75.6 Q 33.3 76.0, 33.3 76.4 \" fill=\"#FF0000\"/>\n",
       "<path class=\"atom-14\" d=\"M 49.7 108.3 Q 49.7 106.5, 50.6 105.6 Q 51.4 104.7, 53.0 104.7 Q 54.4 104.7, 55.2 105.7 L 54.5 106.3 Q 54.0 105.5, 53.0 105.5 Q 51.9 105.5, 51.3 106.2 Q 50.8 106.9, 50.8 108.3 Q 50.8 109.7, 51.3 110.4 Q 51.9 111.1, 53.1 111.1 Q 53.8 111.1, 54.8 110.7 L 55.0 111.4 Q 54.7 111.7, 54.1 111.8 Q 53.5 111.9, 52.9 111.9 Q 51.4 111.9, 50.6 111.0 Q 49.7 110.1, 49.7 108.3 \" fill=\"#000000\"/>\n",
       "<path class=\"atom-14\" d=\"M 56.0 110.7 L 57.0 110.7 L 57.0 111.7 L 56.0 111.7 L 56.0 110.7 M 56.0 107.2 L 57.0 107.2 L 57.0 108.2 L 56.0 108.2 L 56.0 107.2 \" fill=\"#000000\"/>\n",
       "<path class=\"atom-14\" d=\"M 61.0 107.4 Q 61.6 107.4, 62.1 107.7 Q 62.6 108.0, 62.8 108.5 Q 63.1 109.0, 63.1 109.6 Q 63.1 110.3, 62.8 110.8 Q 62.5 111.3, 61.9 111.6 Q 61.4 111.9, 60.7 111.9 Q 59.5 111.9, 58.8 111.1 Q 58.2 110.2, 58.2 108.5 Q 58.2 106.6, 59.0 105.7 Q 59.8 104.7, 61.3 104.7 Q 61.7 104.7, 62.1 104.8 Q 62.5 104.9, 62.8 105.1 L 62.4 105.8 Q 61.9 105.5, 61.3 105.5 Q 60.3 105.5, 59.8 106.1 Q 59.3 106.8, 59.2 108.1 Q 59.6 107.8, 60.0 107.6 Q 60.5 107.4, 61.0 107.4 M 60.7 111.1 Q 61.1 111.1, 61.4 110.9 Q 61.7 110.7, 61.9 110.4 Q 62.1 110.0, 62.1 109.6 Q 62.1 109.0, 61.7 108.6 Q 61.4 108.2, 60.8 108.2 Q 60.3 108.2, 59.9 108.4 Q 59.5 108.6, 59.2 108.9 Q 59.2 110.1, 59.6 110.6 Q 60.0 111.1, 60.7 111.1 \" fill=\"#000000\"/>\n",
       "<path class=\"atom-14\" d=\"M 66.7 111.9 Q 65.4 111.9, 64.7 111.0 Q 64.1 110.0, 64.1 108.3 Q 64.1 106.6, 64.7 105.6 Q 65.3 104.7, 66.7 104.7 Q 68.0 104.7, 68.6 105.6 Q 69.2 106.6, 69.2 108.3 Q 69.2 110.0, 68.6 111.0 Q 68.0 111.9, 66.7 111.9 M 66.7 111.1 Q 67.4 111.1, 67.8 110.4 Q 68.2 109.7, 68.2 108.3 Q 68.2 106.9, 67.8 106.2 Q 67.4 105.5, 66.7 105.5 Q 65.9 105.5, 65.5 106.2 Q 65.1 106.9, 65.1 108.3 Q 65.1 109.7, 65.5 110.4 Q 65.9 111.1, 66.7 111.1 \" fill=\"#000000\"/>\n",
       "<path class=\"atom-15\" d=\"M 35.7 42.2 Q 35.7 40.5, 36.5 39.6 Q 37.3 38.6, 38.9 38.6 Q 40.5 38.6, 41.3 39.6 Q 42.2 40.5, 42.2 42.2 Q 42.2 44.0, 41.3 44.9 Q 40.5 45.9, 38.9 45.9 Q 37.3 45.9, 36.5 44.9 Q 35.7 44.0, 35.7 42.2 M 38.9 45.1 Q 40.0 45.1, 40.6 44.4 Q 41.2 43.7, 41.2 42.2 Q 41.2 40.9, 40.6 40.1 Q 40.0 39.4, 38.9 39.4 Q 37.8 39.4, 37.2 40.1 Q 36.7 40.8, 36.7 42.2 Q 36.7 43.7, 37.2 44.4 Q 37.8 45.1, 38.9 45.1 \" fill=\"#FF0000\"/>\n",
       "<path class=\"atom-15\" d=\"M 43.1 44.6 L 44.1 44.6 L 44.1 45.6 L 43.1 45.6 L 43.1 44.6 M 43.1 41.2 L 44.1 41.2 L 44.1 42.2 L 43.1 42.2 L 43.1 41.2 \" fill=\"#FF0000\"/>\n",
       "<path class=\"atom-15\" d=\"M 48.6 42.1 Q 49.3 42.3, 49.7 42.7 Q 50.0 43.2, 50.0 43.9 Q 50.0 44.5, 49.7 44.9 Q 49.4 45.4, 48.8 45.7 Q 48.3 45.9, 47.6 45.9 Q 46.8 45.9, 46.2 45.6 Q 45.7 45.4, 45.2 44.8 L 45.8 44.3 Q 46.2 44.7, 46.6 44.9 Q 47.0 45.1, 47.6 45.1 Q 48.2 45.1, 48.6 44.8 Q 49.0 44.4, 49.0 43.9 Q 49.0 43.1, 48.6 42.8 Q 48.2 42.5, 47.3 42.5 L 46.8 42.5 L 46.8 41.8 L 47.3 41.8 Q 48.0 41.8, 48.4 41.4 Q 48.8 41.1, 48.8 40.4 Q 48.8 40.0, 48.5 39.7 Q 48.2 39.4, 47.6 39.4 Q 47.0 39.4, 46.6 39.6 Q 46.3 39.9, 46.0 40.4 L 45.3 40.0 Q 45.5 39.4, 46.1 39.0 Q 46.7 38.6, 47.6 38.6 Q 48.6 38.6, 49.2 39.1 Q 49.8 39.6, 49.8 40.4 Q 49.8 41.0, 49.5 41.4 Q 49.2 41.8, 48.6 42.1 \" fill=\"#FF0000\"/>\n",
       "<path class=\"atom-16\" d=\"M 88.2 52.6 L 89.2 51.5 L 87.8 51.2 L 88.0 50.5 L 89.3 51.2 L 89.1 49.8 L 89.9 49.8 L 89.7 51.2 L 91.0 50.6 L 91.2 51.2 L 89.8 51.5 L 90.8 52.6 L 90.2 53.0 L 89.5 51.7 L 88.8 53.0 L 88.2 52.6 \" fill=\"#191919\"/>\n",
       "<path class=\"atom-16\" d=\"M 91.8 55.8 L 92.8 55.8 L 92.8 56.8 L 91.8 56.8 L 91.8 55.8 M 91.8 52.4 L 92.8 52.4 L 92.8 53.4 L 91.8 53.4 L 91.8 52.4 \" fill=\"#191919\"/>\n",
       "<path class=\"atom-16\" d=\"M 98.5 54.5 L 99.4 54.5 L 99.4 55.3 L 98.5 55.3 L 98.5 57.0 L 97.6 57.0 L 97.6 55.3 L 93.9 55.3 L 93.9 54.7 L 97.0 49.9 L 98.5 49.9 L 98.5 54.5 M 95.1 54.5 L 97.6 54.5 L 97.6 50.5 L 95.1 54.5 \" fill=\"#191919\"/>\n",
       "</svg>"
      ],
      "text/plain": [
       "<IPython.core.display.SVG object>"
      ]
     },
     "execution_count": 47,
     "metadata": {},
     "output_type": "execute_result"
    }
   ],
   "source": [
    "SVG(draw_molecule('[C:1]([C:2]([N+:46]([CH:47]([CH2:45][c:55]1[cH:53][nH:51][cH:52][nH+:54]1)[C:49](=[O:48])[O-:50])([H:61])[H:62])([O:59][H:57])[CH3:60])(=[O:3])[*:4]'))"
   ]
  },
  {
   "cell_type": "code",
   "execution_count": null,
   "metadata": {},
   "outputs": [],
   "source": [
    "from lxml import etree"
   ]
  },
  {
   "cell_type": "code",
   "execution_count": null,
   "metadata": {},
   "outputs": [],
   "source": [
    "file_path = '/home/stef/enz_rxn_data/data/raw/mcsa/mech_steps/219_2_1.mrv'\n",
    "tree = etree.parse(file_path)\n",
    "root = tree.getroot()"
   ]
  },
  {
   "cell_type": "code",
   "execution_count": null,
   "metadata": {},
   "outputs": [
    {
     "data": {
      "text/plain": [
       "<Element {http://www.chemaxon.com}cml at 0x7f6b7d3cda80>"
      ]
     },
     "execution_count": 13,
     "metadata": {},
     "output_type": "execute_result"
    }
   ],
   "source": [
    "root"
   ]
  },
  {
   "cell_type": "code",
   "execution_count": null,
   "metadata": {},
   "outputs": [
    {
     "data": {
      "text/plain": [
       "['__bool__',\n",
       " '__class__',\n",
       " '__contains__',\n",
       " '__copy__',\n",
       " '__deepcopy__',\n",
       " '__delattr__',\n",
       " '__delitem__',\n",
       " '__dir__',\n",
       " '__doc__',\n",
       " '__eq__',\n",
       " '__format__',\n",
       " '__ge__',\n",
       " '__getattribute__',\n",
       " '__getitem__',\n",
       " '__getstate__',\n",
       " '__gt__',\n",
       " '__hash__',\n",
       " '__init__',\n",
       " '__init_subclass__',\n",
       " '__iter__',\n",
       " '__le__',\n",
       " '__len__',\n",
       " '__lt__',\n",
       " '__ne__',\n",
       " '__new__',\n",
       " '__reduce__',\n",
       " '__reduce_ex__',\n",
       " '__repr__',\n",
       " '__reversed__',\n",
       " '__setattr__',\n",
       " '__setitem__',\n",
       " '__sizeof__',\n",
       " '__str__',\n",
       " '__subclasshook__',\n",
       " '_init',\n",
       " 'addnext',\n",
       " 'addprevious',\n",
       " 'append',\n",
       " 'attrib',\n",
       " 'base',\n",
       " 'clear',\n",
       " 'cssselect',\n",
       " 'extend',\n",
       " 'find',\n",
       " 'findall',\n",
       " 'findtext',\n",
       " 'get',\n",
       " 'getchildren',\n",
       " 'getiterator',\n",
       " 'getnext',\n",
       " 'getparent',\n",
       " 'getprevious',\n",
       " 'getroottree',\n",
       " 'index',\n",
       " 'insert',\n",
       " 'items',\n",
       " 'iter',\n",
       " 'iterancestors',\n",
       " 'iterchildren',\n",
       " 'iterdescendants',\n",
       " 'iterfind',\n",
       " 'itersiblings',\n",
       " 'itertext',\n",
       " 'keys',\n",
       " 'makeelement',\n",
       " 'nsmap',\n",
       " 'prefix',\n",
       " 'remove',\n",
       " 'replace',\n",
       " 'set',\n",
       " 'sourceline',\n",
       " 'tag',\n",
       " 'tail',\n",
       " 'text',\n",
       " 'values',\n",
       " 'xpath']"
      ]
     },
     "execution_count": 14,
     "metadata": {},
     "output_type": "execute_result"
    }
   ],
   "source": [
    "dir(root)"
   ]
  },
  {
   "cell_type": "code",
   "execution_count": null,
   "metadata": {},
   "outputs": [],
   "source": [
    "txt = etree.tostring(root, pretty_print=True).decode()"
   ]
  },
  {
   "cell_type": "code",
   "execution_count": null,
   "metadata": {},
   "outputs": [],
   "source": [
    "with open('test.mrv', 'w') as f:\n",
    "    f.write(txt)"
   ]
  },
  {
   "cell_type": "code",
   "execution_count": 61,
   "metadata": {},
   "outputs": [
    {
     "name": "stdout",
     "output_type": "stream",
     "text": [
      "{None: 'http://www.chemaxon.com', 'xsi': 'http://www.w3.org/2001/XMLSchema-instance'}\n",
      "{'a1': {'elementType': 'C', 'x2': '8.60486659782773', 'y2': '0.36091999711263867', 'mrvAlias': 'His258A', 'mrvExtraLabel': None, 'lonePair': None, 'formalCharge': None}, 'a2': {'elementType': 'C', 'x2': '8.284546600390293', 'y2': '-1.1452933241709893', 'mrvAlias': None, 'mrvExtraLabel': 'res:His258A', 'lonePair': None, 'formalCharge': None}, 'a3': {'elementType': 'C', 'x2': '6.819959945440321', 'y2': '-1.6212933203629873', 'mrvAlias': None, 'mrvExtraLabel': 'res:His258A', 'lonePair': None, 'formalCharge': None}, 'a4': {'elementType': 'C', 'x2': '6.344146615913491', 'y2': '-3.0858799753129595', 'mrvAlias': None, 'mrvExtraLabel': 'res:His258A', 'lonePair': None, 'formalCharge': None}, 'a5': {'elementType': 'N', 'x2': '4.804146628233493', 'y2': '-3.0858799753129595', 'mrvAlias': None, 'mrvExtraLabel': 'res:His258A', 'lonePair': '1', 'formalCharge': None}, 'a6': {'elementType': 'C', 'x2': '4.328146632041491', 'y2': '-1.6212933203629873', 'mrvAlias': None, 'mrvExtraLabel': 'res:His258A', 'lonePair': None, 'formalCharge': None}, 'a7': {'elementType': 'N', 'x2': '5.574146622073492', 'y2': '-0.7161466609374934', 'mrvAlias': None, 'mrvExtraLabel': 'res:His258A', 'lonePair': '1', 'formalCharge': None}, 'a8': {'elementType': 'N', 'x2': '1.9292933178989848', 'y2': '-6.601186613857173', 'mrvAlias': None, 'mrvExtraLabel': 'res:Lys244A', 'lonePair': '1', 'formalCharge': None}, 'a9': {'elementType': 'C', 'x2': '3.4692933055789865', 'y2': '-6.601186613857173', 'mrvAlias': None, 'mrvExtraLabel': 'res:Lys244A', 'lonePair': None, 'formalCharge': None}, 'a10': {'elementType': 'C', 'x2': '4.239293299418986', 'y2': '-7.9349199365206395', 'mrvAlias': None, 'mrvExtraLabel': 'res:Lys244A', 'lonePair': None, 'formalCharge': None}, 'a11': {'elementType': 'C', 'x2': '5.779293287098984', 'y2': '-7.9349199365206395', 'mrvAlias': None, 'mrvExtraLabel': 'res:Lys244A', 'lonePair': None, 'formalCharge': None}, 'a12': {'elementType': 'C', 'x2': '6.549293280938983', 'y2': '-9.268466592518934', 'mrvAlias': None, 'mrvExtraLabel': 'res:Lys244A', 'lonePair': None, 'formalCharge': None}, 'a13': {'elementType': 'C', 'x2': '8.089293268618984', 'y2': '-9.268466592518934', 'mrvAlias': 'Lys244A', 'mrvExtraLabel': None, 'lonePair': None, 'formalCharge': None}, 'a14': {'elementType': 'Mg', 'x2': '6.69475994844192', 'y2': '7.821573270427415', 'mrvAlias': None, 'mrvExtraLabel': 'chebi:18420', 'lonePair': None, 'formalCharge': '2'}, 'a15': {'elementType': 'C', 'x2': '-5.006866626611735', 'y2': '7.1357999429136', 'mrvAlias': None, 'mrvExtraLabel': 'chebi:58937', 'lonePair': None, 'formalCharge': None}, 'a16': {'elementType': 'C', 'x2': '-5.327186624049174', 'y2': '5.6293999549648', 'mrvAlias': None, 'mrvExtraLabel': 'chebi:58937', 'lonePair': None, 'formalCharge': None}, 'a17': {'elementType': 'C', 'x2': '-6.151319950789443', 'y2': '8.1661999346704', 'mrvAlias': None, 'mrvExtraLabel': 'chebi:58937', 'lonePair': None, 'formalCharge': None}, 'a18': {'elementType': 'N', 'x2': '-6.791773278999148', 'y2': '5.153773292103148', 'mrvAlias': None, 'mrvExtraLabel': 'chebi:58937', 'lonePair': '1', 'formalCharge': None}, 'a19': {'elementType': 'N', 'x2': '-4.601613296520428', 'y2': '4.808626628197652', 'mrvAlias': None, 'mrvExtraLabel': 'chebi:58937', 'lonePair': '1', 'formalCharge': None}, 'a20': {'elementType': 'N', 'x2': '-7.615906605739416', 'y2': '7.690386605143573', 'mrvAlias': None, 'mrvExtraLabel': 'chebi:58937', 'lonePair': None, 'formalCharge': '1'}, 'a21': {'elementType': 'C', 'x2': '-7.936226603176856', 'y2': '6.183986617194774', 'mrvAlias': None, 'mrvExtraLabel': 'chebi:58937', 'lonePair': None, 'formalCharge': None}, 'a22': {'elementType': 'C', 'x2': '-9.400813258126828', 'y2': '5.708173287667947', 'mrvAlias': None, 'mrvExtraLabel': 'chebi:58937', 'lonePair': None, 'formalCharge': None}, 'a23': {'elementType': 'C', 'x2': '-2.1786799825705607', 'y2': '5.604199955166401', 'mrvAlias': None, 'mrvExtraLabel': 'chebi:58937', 'lonePair': '1', 'formalCharge': '-1'}, 'a24': {'elementType': 'S', 'x2': '-0.6722799946217624', 'y2': '5.284253291059308', 'mrvAlias': None, 'mrvExtraLabel': None, 'lonePair': '2', 'formalCharge': None}, 'a25': {'elementType': 'C', 'x2': '-0.9326799925385618', 'y2': '7.762066604570133', 'mrvAlias': None, 'mrvExtraLabel': None, 'lonePair': None, 'formalCharge': None}, 'a26': {'elementType': 'C', 'x2': '-0.6125466617662951', 'y2': '9.268466592518934', 'mrvAlias': None, 'mrvExtraLabel': None, 'lonePair': None, 'formalCharge': None}, 'a27': {'elementType': 'C', 'x2': '0.09771999921823848', 'y2': '6.617613280392426', 'mrvAlias': None, 'mrvExtraLabel': None, 'lonePair': None, 'formalCharge': None}, 'a28': {'elementType': 'C', 'x2': '1.629319986965438', 'y2': '6.7787066124370146', 'mrvAlias': None, 'mrvExtraLabel': None, 'lonePair': None, 'formalCharge': None}, 'a29': {'elementType': 'N', 'x2': '-2.339586647949977', 'y2': '7.1357999429136', 'mrvAlias': None, 'mrvExtraLabel': None, 'lonePair': None, 'formalCharge': '1'}, 'a30': {'elementType': 'C', 'x2': '2.5344666463909284', 'y2': '5.532893289070188', 'mrvAlias': None, 'mrvExtraLabel': None, 'lonePair': None, 'formalCharge': None}, 'a31': {'elementType': 'O', 'x2': '4.0660666341381315', 'y2': '5.6937999544496005', 'mrvAlias': None, 'mrvExtraLabel': None, 'lonePair': '2', 'formalCharge': None}, 'a32': {'elementType': 'O', 'x2': '4.629799962961599', 'y2': '3.5902533046113074', 'mrvAlias': None, 'mrvExtraLabel': None, 'lonePair': '2', 'formalCharge': None}, 'a33': {'elementType': 'O', 'x2': '6.733346612799892', 'y2': '4.153986633434773', 'mrvAlias': None, 'mrvExtraLabel': None, 'lonePair': '2', 'formalCharge': None}, 'a34': {'elementType': 'O', 'x2': '9.400813258126828', 'y2': '5.6937999544496005', 'mrvAlias': None, 'mrvExtraLabel': None, 'lonePair': '3', 'formalCharge': '-1'}, 'a35': {'elementType': 'O', 'x2': '8.837079929303357', 'y2': '3.5902533046113074', 'mrvAlias': None, 'mrvExtraLabel': None, 'lonePair': '3', 'formalCharge': '-1'}, 'a36': {'elementType': 'P', 'x2': '8.067079935463358', 'y2': '4.923986627274774', 'mrvAlias': None, 'mrvExtraLabel': None, 'lonePair': None, 'formalCharge': None}, 'a37': {'elementType': 'O', 'x2': '7.297079941623359', 'y2': '6.257533283273068', 'mrvAlias': None, 'mrvExtraLabel': None, 'lonePair': '2', 'formalCharge': None}, 'a38': {'elementType': 'P', 'x2': '5.399799956801598', 'y2': '4.923986627274774', 'mrvAlias': None, 'mrvExtraLabel': None, 'lonePair': None, 'formalCharge': None}, 'a39': {'elementType': 'C', 'x2': '-3.6733199706134414', 'y2': '7.905799936753601', 'mrvAlias': None, 'mrvExtraLabel': None, 'lonePair': None, 'formalCharge': None}, 'a40': {'elementType': 'H', 'x2': '-8.760359929917122', 'y2': '8.720786596900375', 'mrvAlias': None, 'mrvExtraLabel': None, 'lonePair': None, 'formalCharge': None}, 'a41': {'elementType': 'C', 'x2': '-3.554786638228375', 'y2': '0.7880133270292262', 'mrvAlias': None, 'mrvExtraLabel': 'chebi:57483', 'lonePair': None, 'formalCharge': None}, 'a42': {'elementType': 'O', 'x2': '-4.888519960891843', 'y2': '1.5580133208692288', 'mrvAlias': None, 'mrvExtraLabel': 'chebi:57483', 'lonePair': '2', 'formalCharge': None}, 'a43': {'elementType': 'C', 'x2': '-3.554786638228375', 'y2': '-0.7519866606507719', 'mrvAlias': None, 'mrvExtraLabel': 'chebi:57483', 'lonePair': None, 'formalCharge': None}, 'a44': {'elementType': 'C', 'x2': '-2.221053315564909', 'y2': '1.5580133208692288', 'mrvAlias': None, 'mrvExtraLabel': 'chebi:57483', 'lonePair': None, 'formalCharge': None}, 'a45': {'elementType': 'O', 'x2': '-0.6851599945187221', 'y2': '0.7243599942051215', 'mrvAlias': None, 'mrvExtraLabel': 'chebi:57483', 'lonePair': '2', 'formalCharge': None}, 'a46': {'elementType': 'C', 'x2': '-4.888519960891843', 'y2': '-1.521986654490771', 'mrvAlias': None, 'mrvExtraLabel': 'chebi:57483', 'lonePair': None, 'formalCharge': None}, 'a47': {'elementType': 'O', 'x2': '-2.221053315564909', 'y2': '-1.521986654490771', 'mrvAlias': None, 'mrvExtraLabel': 'chebi:57483', 'lonePair': '2', 'formalCharge': None}, 'a48': {'elementType': 'O', 'x2': '-6.222066616890135', 'y2': '-0.7519866606507719', 'mrvAlias': None, 'mrvExtraLabel': 'chebi:57483', 'lonePair': '2', 'formalCharge': None}, 'a49': {'elementType': 'C', 'x2': '-4.888519960891843', 'y2': '-3.0619866421707727', 'mrvAlias': None, 'mrvExtraLabel': 'chebi:57483', 'lonePair': None, 'formalCharge': None}, 'a50': {'elementType': 'O', 'x2': '-6.480786614820376', 'y2': '-3.90235996878112', 'mrvAlias': None, 'mrvExtraLabel': None, 'lonePair': '2', 'formalCharge': None}, 'a51': {'elementType': 'P', 'x2': '-6.480786614820376', 'y2': '-5.442359956461122', 'mrvAlias': None, 'mrvExtraLabel': None, 'lonePair': None, 'formalCharge': None}, 'a52': {'elementType': 'O', 'x2': '-6.480786614820376', 'y2': '-6.98235994414112', 'mrvAlias': None, 'mrvExtraLabel': None, 'lonePair': '3', 'formalCharge': '-1'}, 'a53': {'elementType': 'O', 'x2': '-8.020786602500376', 'y2': '-5.442359956461122', 'mrvAlias': None, 'mrvExtraLabel': None, 'lonePair': '2', 'formalCharge': None}, 'a54': {'elementType': 'O', 'x2': '-4.940786627140374', 'y2': '-5.442359956461122', 'mrvAlias': None, 'mrvExtraLabel': None, 'lonePair': '3', 'formalCharge': '-1'}, 'a55': {'elementType': 'H', 'x2': '-0.6810533278849089', 'y2': '-1.521986654490771', 'mrvAlias': None, 'mrvExtraLabel': None, 'lonePair': None, 'formalCharge': None}, 'a56': {'elementType': 'H', 'x2': '-5.519639955842882', 'y2': '3.8385199692918412', 'mrvAlias': None, 'mrvExtraLabel': None, 'lonePair': None, 'formalCharge': None}, 'a57': {'elementType': 'H', 'x2': '-4.087906633963415', 'y2': '3.7636666365573355', 'mrvAlias': None, 'mrvExtraLabel': None, 'lonePair': None, 'formalCharge': None}, 'a58': {'elementType': 'H', 'x2': '3.8988133021428233', 'y2': '-4.3316932986797845', 'mrvAlias': None, 'mrvExtraLabel': None, 'lonePair': None, 'formalCharge': None}, 'a59': {'elementType': 'O', 'x2': '6.1697999506416', 'y2': '6.257533283273068', 'mrvAlias': None, 'mrvExtraLabel': None, 'lonePair': '3', 'formalCharge': '-1'}}\n"
     ]
    }
   ],
   "source": [
    "from lxml import etree\n",
    "\n",
    "# Parse the XML file\n",
    "tree = etree.parse('/home/stef/enz_rxn_data/test.mrv')\n",
    "root = tree.getroot()\n",
    "print(root.nsmap)\n",
    "\n",
    "# Define the namespace\n",
    "# Define the namespace\n",
    "tag_ns = root.tag.split('}')\n",
    "if len(tag_ns) == 1:\n",
    "    tag = ''\n",
    "    ns = None\n",
    "elif len(tag_ns) == 2:\n",
    "    tag = tag_ns[-1] + ':'\n",
    "    ns = {tag.strip(':') : tag_ns[0].strip('{')}\n",
    "\n",
    "# Find all atom elements\n",
    "# atoms = root.findall('.//cml:atom', namespaces=ns)\n",
    "atoms = root.xpath(f\".//{tag}atom\", namespaces=ns)\n",
    "\n",
    "# Create a dictionary to store atom elements\n",
    "atom_dict = {}\n",
    "\n",
    "# Iterate through each atom element and add it to the dictionary\n",
    "for atom in atoms:\n",
    "    atom_id = atom.get('id')\n",
    "    atom_dict[atom_id] = {\n",
    "        'elementType': atom.get('elementType'),\n",
    "        'x2': atom.get('x2'),\n",
    "        'y2': atom.get('y2'),\n",
    "        'mrvAlias': atom.get('mrvAlias'),\n",
    "        'mrvExtraLabel': atom.get('mrvExtraLabel'),\n",
    "        'lonePair': atom.get('lonePair'),\n",
    "        'formalCharge': atom.get('formalCharge')\n",
    "    }\n",
    "\n",
    "# Print the dictionary\n",
    "print(atom_dict)"
   ]
  },
  {
   "cell_type": "code",
   "execution_count": 60,
   "metadata": {},
   "outputs": [
    {
     "data": {
      "text/plain": [
       "{'': 'http://www.chemaxon.com'}"
      ]
     },
     "execution_count": 60,
     "metadata": {},
     "output_type": "execute_result"
    }
   ],
   "source": [
    "ns"
   ]
  },
  {
   "cell_type": "code",
   "execution_count": 58,
   "metadata": {},
   "outputs": [
    {
     "data": {
      "text/plain": [
       "('cml:', {':': 'http://www.chemaxon.com'})"
      ]
     },
     "execution_count": 58,
     "metadata": {},
     "output_type": "execute_result"
    }
   ],
   "source": [
    "tag_ns = root.tag.split('}')\n",
    "if len(tag_ns) == 1:\n",
    "    tag = ''\n",
    "    ns = None\n",
    "elif len(tag_ns) == 2:\n",
    "    tag = tag_ns[-1] + ':'\n",
    "    ns = {tag[-1]: tag_ns[0].strip('{')}\n",
    "\n",
    "tag, ns"
   ]
  },
  {
   "cell_type": "code",
   "execution_count": null,
   "metadata": {},
   "outputs": [],
   "source": [
    "# Extract atoms\n",
    "atoms = {}\n",
    "for atom in root.xpath('//atomArray/atom'):\n",
    "    atom_data = {\n",
    "        'id': atom.get('id'),\n",
    "        'element_type': atom.get('elementType'),\n",
    "        'x': atom.get('x2'),\n",
    "        'y': atom.get('y2'),\n",
    "        'lone_pair': atom.get('lonePair'),\n",
    "        'formal_charge': atom.get('formalCharge', 0),\n",
    "        'mrv_alias': atom.get('mrvAlias'),\n",
    "        'rgroup_ref': atom.get('rgroupRef'),\n",
    "        'mrv_extra_label': atom.get('mrvExtraLabel')\n",
    "    }\n",
    "    catom = CmlAtom(**atom_data)\n",
    "    atoms[catom.id] = catom\n",
    "\n",
    "# Extract bonds\n",
    "bonds = {}\n",
    "for bond in root.xpath('//bondArray/bond'):\n",
    "    bond_data = {\n",
    "        'id': bond.get('id'),\n",
    "        'atom_refs': tuple(bond.get('atomRefs2').split(' ')),\n",
    "        'order': bond.get('order'),\n",
    "        'convention': bond.get('convention')\n",
    "    }\n",
    "    cbond = CmlBond(**bond_data)\n",
    "    bonds[cbond.atom_refs] = cbond\n",
    "\n",
    "# Extract MEFlow elements\n",
    "meflows = {}\n",
    "for meflow in root.xpath('//MEFlow'):\n",
    "    from_to = [child.get('atomRef') or child.get('atomRefs') for child in meflow]\n",
    "    from_to = [elt.replace('m1.', '') for elt in from_to if elt is not None]\n",
    "    meflow_data = {\n",
    "        'id': meflow.get('id'),\n",
    "        'from_': tuple(from_to[0].split(' ')) if len(from_to) > 0 else None,\n",
    "        'to': tuple(from_to[1].split(' ')) if len(from_to) > 1 else None,\n",
    "    }\n",
    "    cmeflow = CmlMEFlow(**meflow_data)\n",
    "    meflows[cmeflow.id] = cmeflow"
   ]
  },
  {
   "cell_type": "code",
   "execution_count": 35,
   "metadata": {},
   "outputs": [
    {
     "data": {
      "text/plain": [
       "'{http://www.chemaxon.com}cml'"
      ]
     },
     "execution_count": 35,
     "metadata": {},
     "output_type": "execute_result"
    }
   ],
   "source": [
    "root.tag"
   ]
  },
  {
   "cell_type": "code",
   "execution_count": 62,
   "metadata": {},
   "outputs": [
    {
     "name": "stdout",
     "output_type": "stream",
     "text": [
      "{'a1': {'elementType': 'C', 'x2': '8.450624879719854', 'y2': '-7.9924424852075235', 'mrvAlias': None, 'mrvExtraLabel': None, 'lonePair': None, 'formalCharge': None}, 'a2': {'elementType': 'C', 'x2': '9.990624879719853', 'y2': '-7.9924424852075235', 'mrvAlias': None, 'mrvExtraLabel': None, 'lonePair': None, 'formalCharge': None}, 'a3': {'elementType': 'O', 'x2': '7.680624879719854', 'y2': '-9.32612160703556', 'mrvAlias': None, 'mrvExtraLabel': None, 'lonePair': '2', 'formalCharge': None}, 'a4': {'elementType': 'R', 'x2': '7.680624879719854', 'y2': '-6.658763363379484', 'mrvAlias': 'Pyr1F', 'mrvExtraLabel': None, 'lonePair': None, 'formalCharge': None}, 'a5': {'elementType': 'C', 'x2': '21.789125252380167', 'y2': '0.5038249316842172', 'mrvAlias': 'Tyr62A', 'mrvExtraLabel': None, 'lonePair': None, 'formalCharge': None}, 'a6': {'elementType': 'C', 'x2': '22.559010536686472', 'y2': '-0.8297879518942328', 'mrvAlias': None, 'mrvExtraLabel': None, 'lonePair': None, 'formalCharge': None}, 'a7': {'elementType': 'C', 'x2': '21.789010542846476', 'y2': '-2.163467063052834', 'mrvAlias': None, 'mrvExtraLabel': None, 'lonePair': None, 'formalCharge': None}, 'a8': {'elementType': 'C', 'x2': '22.559057485226866', 'y2': '-3.4971732799638677', 'mrvAlias': None, 'mrvExtraLabel': None, 'lonePair': None, 'formalCharge': None}, 'a9': {'elementType': 'C', 'x2': '21.789057491386867', 'y2': '-4.8308523911224714', 'mrvAlias': None, 'mrvExtraLabel': None, 'lonePair': None, 'formalCharge': None}, 'a10': {'elementType': 'C', 'x2': '20.24901055516648', 'y2': '-4.8308252853700395', 'mrvAlias': None, 'mrvExtraLabel': None, 'lonePair': None, 'formalCharge': None}, 'a11': {'elementType': 'O', 'x2': '19.479010561326476', 'y2': '-6.164504396528644', 'mrvAlias': None, 'mrvExtraLabel': None, 'lonePair': '2', 'formalCharge': None}, 'a12': {'elementType': 'C', 'x2': '19.479125270860166', 'y2': '-3.4972124017915953', 'mrvAlias': None, 'mrvExtraLabel': None, 'lonePair': None, 'formalCharge': None}, 'a13': {'elementType': 'C', 'x2': '20.24912526470017', 'y2': '-2.163533290632988', 'mrvAlias': None, 'mrvExtraLabel': None, 'lonePair': None, 'formalCharge': None}, 'a14': {'elementType': 'C', 'x2': '19.578880365557122', 'y2': '0.1126110253838255', 'mrvAlias': 'Asp63A', 'mrvExtraLabel': None, 'lonePair': None, 'formalCharge': None}, 'a15': {'elementType': 'C', 'x2': '19.57869160173061', 'y2': '-1.4273425775039796', 'mrvAlias': None, 'mrvExtraLabel': None, 'lonePair': None, 'formalCharge': None}, 'a16': {'elementType': 'C', 'x2': '18.245240376226242', 'y2': '-2.197321195142877', 'mrvAlias': None, 'mrvExtraLabel': None, 'lonePair': None, 'formalCharge': None}, 'a17': {'elementType': 'O', 'x2': '18.24505161239973', 'y2': '-3.737274798030679', 'mrvAlias': None, 'mrvExtraLabel': None, 'lonePair': '3', 'formalCharge': '-1'}, 'a18': {'elementType': 'O', 'x2': '16.911561265067636', 'y2': '-1.4273212013028753', 'mrvAlias': None, 'mrvExtraLabel': None, 'lonePair': '2', 'formalCharge': None}, 'a19': {'elementType': 'C', 'x2': '21.88857223106162', 'y2': '-7.274557334074744', 'mrvAlias': 'Glu66A', 'mrvExtraLabel': None, 'lonePair': None, 'formalCharge': None}, 'a20': {'elementType': 'C', 'x2': '20.348758910046794', 'y2': '-7.274557334074744', 'mrvAlias': None, 'mrvExtraLabel': None, 'lonePair': None, 'formalCharge': None}, 'a21': {'elementType': 'C', 'x2': '19.57875891620679', 'y2': '-8.608290656738209', 'mrvAlias': None, 'mrvExtraLabel': None, 'lonePair': None, 'formalCharge': None}, 'a22': {'elementType': 'C', 'x2': '18.038758928526793', 'y2': '-8.608290656738209', 'mrvAlias': None, 'mrvExtraLabel': None, 'lonePair': None, 'formalCharge': None}, 'a23': {'elementType': 'O', 'x2': '17.268758934686794', 'y2': '-9.94165064607133', 'mrvAlias': None, 'mrvExtraLabel': None, 'lonePair': '3', 'formalCharge': '-1'}, 'a24': {'elementType': 'O', 'x2': '17.268758934686794', 'y2': '-7.274557334074744', 'mrvAlias': None, 'mrvExtraLabel': None, 'lonePair': '2', 'formalCharge': None}, 'a25': {'elementType': 'C', 'x2': '14.330625624858527', 'y2': '-9.652317315052663', 'mrvAlias': None, 'mrvExtraLabel': None, 'lonePair': None, 'formalCharge': None}, 'a26': {'elementType': 'C', 'x2': '14.330625624858527', 'y2': '-8.112503994037837', 'mrvAlias': None, 'mrvExtraLabel': None, 'lonePair': None, 'formalCharge': None}, 'a27': {'elementType': 'N', 'x2': '15.664358947521993', 'y2': '-10.422317308892662', 'mrvAlias': None, 'mrvExtraLabel': None, 'lonePair': '1', 'formalCharge': None}, 'a28': {'elementType': 'O', 'x2': '12.996892302195059', 'y2': '-7.342504000197837', 'mrvAlias': None, 'mrvExtraLabel': None, 'lonePair': '3', 'formalCharge': '-1'}, 'a29': {'elementType': 'O', 'x2': '15.664358947521993', 'y2': '-7.342504000197837', 'mrvAlias': None, 'mrvExtraLabel': None, 'lonePair': '2', 'formalCharge': None}, 'a30': {'elementType': 'C', 'x2': '15.664358947521993', 'y2': '-11.962317296572664', 'mrvAlias': 'R', 'mrvExtraLabel': None, 'lonePair': None, 'formalCharge': None}, 'a31': {'elementType': 'R', 'x2': '12.996892302195059', 'y2': '-10.422317308892662', 'mrvAlias': 'Ser81E', 'mrvExtraLabel': None, 'lonePair': None, 'formalCharge': None}, 'a32': {'elementType': 'C', 'x2': '6.458144451567709', 'y2': '-12.041777876746504', 'mrvAlias': None, 'mrvExtraLabel': None, 'lonePair': None, 'formalCharge': None}, 'a33': {'elementType': 'C', 'x2': '7.922682845143498', 'y2': '-12.517565610909841', 'mrvAlias': None, 'mrvExtraLabel': None, 'lonePair': None, 'formalCharge': None}, 'a34': {'elementType': 'N', 'x2': '6.138049080071566', 'y2': '-10.535529017034214', 'mrvAlias': None, 'mrvExtraLabel': None, 'lonePair': '1', 'formalCharge': None}, 'a35': {'elementType': 'N', 'x2': '8.242903121018495', 'y2': '-14.023953190988447', 'mrvAlias': 'R', 'mrvExtraLabel': None, 'lonePair': '1', 'formalCharge': None}, 'a36': {'elementType': 'O', 'x2': '9.06712586722314', 'y2': '-11.487104485360891', 'mrvAlias': None, 'mrvExtraLabel': None, 'lonePair': '2', 'formalCharge': None}, 'a37': {'elementType': 'C', 'x2': '4.673385782116924', 'y2': '-10.059602562504562', 'mrvAlias': 'R', 'mrvExtraLabel': None, 'lonePair': None, 'formalCharge': None}, 'a38': {'elementType': 'C', 'x2': '5.3137014294880665', 'y2': '-13.072239002295454', 'mrvAlias': 'Phe195F', 'mrvExtraLabel': None, 'lonePair': None, 'formalCharge': None}, 'a39': {'elementType': 'C', 'x2': '7.085159016155593', 'y2': '3.67306924501091', 'mrvAlias': 'Glu197F', 'mrvExtraLabel': None, 'lonePair': None, 'formalCharge': None}, 'a40': {'elementType': 'C', 'x2': '6.3151590223155925', 'y2': '2.339335922347442', 'mrvAlias': None, 'mrvExtraLabel': None, 'lonePair': None, 'formalCharge': None}, 'a41': {'elementType': 'C', 'x2': '7.085159016155593', 'y2': '1.0056025996839777', 'mrvAlias': None, 'mrvExtraLabel': None, 'lonePair': None, 'formalCharge': None}, 'a42': {'elementType': 'C', 'x2': '6.3151590223155925', 'y2': '-0.32794405631431633', 'mrvAlias': None, 'mrvExtraLabel': None, 'lonePair': None, 'formalCharge': None}, 'a43': {'elementType': 'O', 'x2': '7.085159016155593', 'y2': '-1.6616773789777834', 'mrvAlias': None, 'mrvExtraLabel': None, 'lonePair': '2', 'formalCharge': None}, 'a44': {'elementType': 'O', 'x2': '4.7751590346355925', 'y2': '-0.32794405631431633', 'mrvAlias': None, 'mrvExtraLabel': None, 'lonePair': '2', 'formalCharge': None}, 'a45': {'elementType': 'C', 'x2': '12.90897230289842', 'y2': '-2.606397371420024', 'mrvAlias': None, 'mrvExtraLabel': None, 'lonePair': None, 'formalCharge': None}, 'a46': {'elementType': 'N', 'x2': '11.575238980234953', 'y2': '-4.916397352940023', 'mrvAlias': None, 'mrvExtraLabel': None, 'lonePair': None, 'formalCharge': '1'}, 'a47': {'elementType': 'C', 'x2': '11.575238980234953', 'y2': '-3.3763973652600248', 'mrvAlias': None, 'mrvExtraLabel': 'chebi:32526', 'lonePair': None, 'formalCharge': None}, 'a48': {'elementType': 'O', 'x2': '10.241505657571485', 'y2': '-1.066397383740024', 'mrvAlias': None, 'mrvExtraLabel': 'chebi:32526', 'lonePair': '2', 'formalCharge': None}, 'a49': {'elementType': 'C', 'x2': '10.241505657571485', 'y2': '-2.606397371420024', 'mrvAlias': None, 'mrvExtraLabel': 'chebi:32526', 'lonePair': None, 'formalCharge': None}, 'a50': {'elementType': 'O', 'x2': '8.90777233490802', 'y2': '-3.3763973652600248', 'mrvAlias': None, 'mrvExtraLabel': 'chebi:32526', 'lonePair': '3', 'formalCharge': '-1'}, 'a51': {'elementType': 'N', 'x2': '16.679825606064924', 'y2': '-3.8943973611160247', 'mrvAlias': None, 'mrvExtraLabel': 'chebi:32526', 'lonePair': '1', 'formalCharge': None}, 'a52': {'elementType': 'C', 'x2': '15.909825612224926', 'y2': '-5.228130683779491', 'mrvAlias': None, 'mrvExtraLabel': 'chebi:32526', 'lonePair': None, 'formalCharge': None}, 'a53': {'elementType': 'C', 'x2': '15.649425614308125', 'y2': '-2.7499440369383166', 'mrvAlias': None, 'mrvExtraLabel': 'chebi:32526', 'lonePair': None, 'formalCharge': None}, 'a54': {'elementType': 'N', 'x2': '14.4036122909413', 'y2': '-4.907997353007224', 'mrvAlias': None, 'mrvExtraLabel': 'chebi:32526', 'lonePair': None, 'formalCharge': '1'}, 'a55': {'elementType': 'C', 'x2': '14.242518958896714', 'y2': '-3.3763973652600248', 'mrvAlias': None, 'mrvExtraLabel': 'chebi:32526', 'lonePair': None, 'formalCharge': None}, 'a56': {'elementType': 'H', 'x2': '12.90897230289842', 'y2': '-5.686397346780024', 'mrvAlias': None, 'mrvExtraLabel': None, 'lonePair': None, 'formalCharge': None}, 'a57': {'elementType': 'H', 'x2': '17.939125283180168', 'y2': '-6.164570624108798', 'mrvAlias': None, 'mrvExtraLabel': None, 'lonePair': None, 'formalCharge': None}, 'a58': {'elementType': 'H', 'x2': '6.3151590223155925', 'y2': '-2.9954107016412497', 'mrvAlias': None, 'mrvExtraLabel': None, 'lonePair': None, 'formalCharge': None}, 'a59': {'elementType': 'O', 'x2': '10.760624879719852', 'y2': '-6.65876336337949', 'mrvAlias': None, 'mrvExtraLabel': None, 'lonePair': '2', 'formalCharge': None}, 'a60': {'elementType': 'C', 'x2': '10.76062487971986', 'y2': '-9.326121607035557', 'mrvAlias': None, 'mrvExtraLabel': None, 'lonePair': None, 'formalCharge': None}}\n"
     ]
    }
   ],
   "source": [
    "from lxml import etree\n",
    "\n",
    "# Parse the XML file\n",
    "tree = etree.parse('/home/stef/enz_rxn_data/data/raw/mcsa/mech_steps/49_1_1.mrv')\n",
    "root = tree.getroot()\n",
    "\n",
    "# Define the namespace\n",
    "tag_ns = root.tag.split('}')\n",
    "if len(tag_ns) == 1:\n",
    "    tag = ''\n",
    "    ns = None\n",
    "elif len(tag_ns) == 2:\n",
    "    tag = tag_ns[-1] + ':'\n",
    "    ns = {tag.strip(':') : tag_ns[0].strip('{')}\n",
    "\n",
    "# Find all atom elements\n",
    "atoms = root.findall(f\".//{tag}atom\", namespaces=ns)\n",
    "\n",
    "# Create a dictionary to store atom elements\n",
    "atom_dict = {}\n",
    "\n",
    "# Iterate through each atom element and add it to the dictionary\n",
    "for atom in atoms:\n",
    "    atom_id = atom.get('id')\n",
    "    atom_dict[atom_id] = {\n",
    "        'elementType': atom.get('elementType'),\n",
    "        'x2': atom.get('x2'),\n",
    "        'y2': atom.get('y2'),\n",
    "        'mrvAlias': atom.get('mrvAlias'),\n",
    "        'mrvExtraLabel': atom.get('mrvExtraLabel'),\n",
    "        'lonePair': atom.get('lonePair'),\n",
    "        'formalCharge': atom.get('formalCharge')\n",
    "    }\n",
    "\n",
    "# Print the dictionary\n",
    "print(atom_dict)"
   ]
  },
  {
   "cell_type": "code",
   "execution_count": 47,
   "metadata": {},
   "outputs": [
    {
     "data": {
      "text/plain": [
       "{}"
      ]
     },
     "execution_count": 47,
     "metadata": {},
     "output_type": "execute_result"
    }
   ],
   "source": [
    "root.nsmap"
   ]
  },
  {
   "cell_type": "code",
   "execution_count": 48,
   "metadata": {},
   "outputs": [
    {
     "data": {
      "text/plain": [
       "['cml']"
      ]
     },
     "execution_count": 48,
     "metadata": {},
     "output_type": "execute_result"
    }
   ],
   "source": [
    "root.tag.split('}')"
   ]
  },
  {
   "cell_type": "code",
   "execution_count": null,
   "metadata": {},
   "outputs": [
    {
     "name": "stdout",
     "output_type": "stream",
     "text": [
      "{} cml\n"
     ]
    }
   ],
   "source": [
    "tree = etree.parse('/home/stef/enz_rxn_data/data/raw/mcsa/mech_steps/219_1_1.mrv')\n",
    "root = tree.getroot()\n",
    "print(root.nsmap, root.tag)"
   ]
  },
  {
   "cell_type": "code",
   "execution_count": 40,
   "metadata": {},
   "outputs": [
    {
     "name": "stdout",
     "output_type": "stream",
     "text": [
      "{None: 'http://www.chemaxon.com', 'xsi': 'http://www.w3.org/2001/XMLSchema-instance'} {http://www.chemaxon.com}cml\n"
     ]
    }
   ],
   "source": [
    "tree = etree.parse('/home/stef/enz_rxn_data/data/raw/mcsa/mech_steps/219_2_1.mrv')\n",
    "root = tree.getroot()\n",
    "print(root.nsmap, root.tag)"
   ]
  }
 ],
 "metadata": {
  "kernelspec": {
   "display_name": ".venv",
   "language": "python",
   "name": "python3"
  },
  "language_info": {
   "codemirror_mode": {
    "name": "ipython",
    "version": 3
   },
   "file_extension": ".py",
   "mimetype": "text/x-python",
   "name": "python",
   "nbconvert_exporter": "python",
   "pygments_lexer": "ipython3",
   "version": "3.13.0"
  }
 },
 "nbformat": 4,
 "nbformat_minor": 2
}
