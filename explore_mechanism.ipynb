{
 "cells": [
  {
   "cell_type": "code",
   "execution_count": 2,
   "metadata": {},
   "outputs": [],
   "source": [
    "from hydra import initialize, compose\n",
    "import json\n",
    "from rdkit import Chem\n",
    "from rdkit.Chem.Draw import IPythonConsole\n",
    "from pathlib import Path"
   ]
  },
  {
   "cell_type": "code",
   "execution_count": 11,
   "metadata": {},
   "outputs": [],
   "source": [
    "with initialize(version_base=None, config_path=\"./conf/filepaths\"):\n",
    "    cfg = compose(config_name=\"filepaths\")"
   ]
  },
  {
   "cell_type": "code",
   "execution_count": 14,
   "metadata": {},
   "outputs": [],
   "source": [
    "with open(Path(cfg.raw_data) / \"mcsa\" / \"entries_0.json\", \"r\") as f:\n",
    "    entries = json.load(f)"
   ]
  },
  {
   "cell_type": "code",
   "execution_count": 18,
   "metadata": {},
   "outputs": [
    {
     "data": {
      "text/plain": [
       "[{'count': 1,\n",
       "  'type': 'product',\n",
       "  'chebi_id': '16526',\n",
       "  'name': 'carbon dioxide',\n",
       "  'mol_file': 'www.ebi.ac.uk/thornton-srv/m-csa/media/compound_mols/16526.mol'},\n",
       " {'count': 1,\n",
       "  'type': 'reactant',\n",
       "  'chebi_id': '15378',\n",
       "  'name': 'hydron',\n",
       "  'mol_file': 'www.ebi.ac.uk/thornton-srv/m-csa/media/compound_mols/15378_Fxpq4oZ.mol'},\n",
       " {'count': 1,\n",
       "  'type': 'product',\n",
       "  'chebi_id': '58432',\n",
       "  'name': 'histaminium',\n",
       "  'mol_file': 'www.ebi.ac.uk/thornton-srv/m-csa/media/compound_mols/58432.mol'},\n",
       " {'count': 1,\n",
       "  'type': 'reactant',\n",
       "  'chebi_id': '57595',\n",
       "  'name': 'L-histidine zwitterion',\n",
       "  'mol_file': 'www.ebi.ac.uk/thornton-srv/m-csa/media/compound_mols/57595.mol'}]"
      ]
     },
     "execution_count": 18,
     "metadata": {},
     "output_type": "execute_result"
    }
   ],
   "source": [
    "entries['49']['reaction']['compounds']"
   ]
  },
  {
   "cell_type": "code",
   "execution_count": 38,
   "metadata": {},
   "outputs": [
    {
     "name": "stdout",
     "output_type": "stream",
     "text": [
      "11\n"
     ]
    },
    {
     "data": {
      "image/png": "[encoded data removed]",
      "text/plain": [
       "<rdkit.Chem.rdchem.Mol at 0x7f6bf1f01a10>"
      ]
     },
     "execution_count": 38,
     "metadata": {},
     "output_type": "execute_result"
    }
   ],
   "source": [
    "mol = Chem.MolFromMolFile(Path(cfg.raw_data) / \"mcsa\" / \"mols\" / \"57595.mol\", removeHs=False)\n",
    "print(mol.GetNumAtoms())\n",
    "mol"
   ]
  },
  {
   "cell_type": "code",
   "execution_count": 27,
   "metadata": {},
   "outputs": [
    {
     "data": {
      "text/plain": [
       "'[NH3+][C@@H](Cc1c[nH]cn1)C(=O)[O-]'"
      ]
     },
     "execution_count": 27,
     "metadata": {},
     "output_type": "execute_result"
    }
   ],
   "source": [
    "Chem.MolToSmiles(mol)"
   ]
  },
  {
   "cell_type": "code",
   "execution_count": 31,
   "metadata": {},
   "outputs": [
    {
     "data": {
      "text/plain": [
       "[{'step_id': 1,\n",
       "  'description': 'The C-terminal serine deprotonates the amine of the substrate, which attacked the terminal carbonyl carbon of the PTM pyruvoyl residue in the first step of a Schiff base formation. The oxyanion deprotonates Tyr62.',\n",
       "  'figure': 'www.ebi.ac.uk/thornton-srv/m-csa/media/schemes_svg/Step_macie.49.1.1_kEdB5Xs',\n",
       "  'is_product': False,\n",
       "  'marvin_xml': 'www.ebi.ac.uk/thornton-srv/m-csa/media/schemes/Step_macie.49.1.1_kEdB5Xs.mrv'},\n",
       " {'step_id': 2,\n",
       "  'description': 'Tyr62 deprotonates the newly formed secondary amine, which causes the elimination of water with concomitant deprotonation of the C-terminal serine residue, forming the Schiff base.',\n",
       "  'figure': 'www.ebi.ac.uk/thornton-srv/m-csa/media/schemes_svg/Step_macie.49.1.2_cT1EYGR',\n",
       "  'is_product': False,\n",
       "  'marvin_xml': 'www.ebi.ac.uk/thornton-srv/m-csa/media/schemes/Step_macie.49.1.2_cT1EYGR.mrv'},\n",
       " {'step_id': 3,\n",
       "  'description': 'The intermediate undergoes decarboxylation, with double bond rearrangement in which the pyruvoyl moiety acts as an electron sink.',\n",
       "  'figure': 'www.ebi.ac.uk/thornton-srv/m-csa/media/schemes_svg/Step_macie.49.1.3_WMClLkU',\n",
       "  'is_product': False,\n",
       "  'marvin_xml': 'www.ebi.ac.uk/thornton-srv/m-csa/media/schemes/Step_macie.49.1.3_WMClLkU.mrv'},\n",
       " {'step_id': 4,\n",
       "  'description': 'The oxyanion formed initiates double bond rearrangement that results in the deprotonation of Glu197F at the CA position of the covalently attached histamine.',\n",
       "  'figure': 'www.ebi.ac.uk/thornton-srv/m-csa/media/schemes_svg/Step_macie.49.1.4_ejnfsug',\n",
       "  'is_product': False,\n",
       "  'marvin_xml': 'www.ebi.ac.uk/thornton-srv/m-csa/media/schemes/Step_macie.49.1.4_ejnfsug.mrv'},\n",
       " {'step_id': 5,\n",
       "  'description': 'The C-terminal serine residue deprotonates water, which in turn attacks the imine carbon in a nucleophilic addition, the nitrogen deprotonates Tyr62.',\n",
       "  'figure': 'www.ebi.ac.uk/thornton-srv/m-csa/media/schemes_svg/Step_macie.49.1.5_LYzjC8t',\n",
       "  'is_product': False,\n",
       "  'marvin_xml': 'www.ebi.ac.uk/thornton-srv/m-csa/media/schemes/Step_macie.49.1.5_LYzjC8t.mrv'},\n",
       " {'step_id': 6,\n",
       "  'description': 'Tyr62 deprotonates the hydroxyl group of the pyruvoyl residue, which eliminated the histamine substrate with concomitant deprotonation of the C-terminal residue.',\n",
       "  'figure': 'www.ebi.ac.uk/thornton-srv/m-csa/media/schemes_svg/Step_macie.49.1.6_K4ucBQE',\n",
       "  'is_product': False,\n",
       "  'marvin_xml': 'www.ebi.ac.uk/thornton-srv/m-csa/media/schemes/Step_macie.49.1.6_K4ucBQE.mrv'},\n",
       " {'step_id': 7,\n",
       "  'description': 'Glu197F deprotonates water in an inferred step.',\n",
       "  'figure': 'www.ebi.ac.uk/thornton-srv/m-csa/media/schemes_svg/Step_macie.49.1.7_mr5K96B',\n",
       "  'is_product': False,\n",
       "  'marvin_xml': 'www.ebi.ac.uk/thornton-srv/m-csa/media/schemes/Step_macie.49.1.7_mr5K96B.mrv'},\n",
       " {'step_id': 8,\n",
       "  'description': 'Products',\n",
       "  'figure': 'www.ebi.ac.uk/thornton-srv/m-csa/media/schemes_svg/Step_macie.49.1.8',\n",
       "  'is_product': True,\n",
       "  'marvin_xml': 'www.ebi.ac.uk/thornton-srv/m-csa/media/schemes/Step_macie.49.1.8.mrv'}]"
      ]
     },
     "execution_count": 31,
     "metadata": {},
     "output_type": "execute_result"
    }
   ],
   "source": [
    "entries['49']['reaction']['mechanisms'][0]['steps']"
   ]
  },
  {
   "cell_type": "code",
   "execution_count": 35,
   "metadata": {},
   "outputs": [],
   "source": [
    "with open(Path(cfg.raw_data) / \"mcsa\" / \"mech_steps\" / \"41_1_1.mrv\", \"r\") as f:\n",
    "    lines = []\n",
    "    for line in f.readlines():\n",
    "        lines.append(line.strip())"
   ]
  },
  {
   "cell_type": "code",
   "execution_count": 36,
   "metadata": {},
   "outputs": [
    {
     "name": "stdout",
     "output_type": "stream",
     "text": [
      "['<cml>', '<MDocument>', '<MChemicalStruct>', '<molecule molID=\"m1\">', '<atomArray>', '<atom id=\"a1\" elementType=\"Mg\" x2=\"21.39788522974944\" y2=\"-12.848504604123802\" formalCharge=\"2\" mrvExtraLabel=\"chebi:18420\"/>', '<atom id=\"a2\" elementType=\"Mg\" x2=\"17.788763330560833\" y2=\"-21.71931347477796\" formalCharge=\"2\" mrvExtraLabel=\"chebi:18420\"/>', '<atom id=\"a3\" elementType=\"N\" x2=\"14.490460405931936\" y2=\"-14.087280748309523\" mrvAlias=\"R\" lonePair=\"1\"/>', '<atom id=\"a4\" elementType=\"C\" x2=\"15.116834836268666\" y2=\"-15.494140753079126\"/>', '<atom id=\"a5\" elementType=\"O\" x2=\"16.62318214139873\" y2=\"-15.814324756938479\" lonePair=\"2\"/>', '<atom id=\"a6\" elementType=\"C\" x2=\"16.784155974830913\" y2=\"-17.34588847580562\"/>', '<atom id=\"a7\" elementType=\"C\" x2=\"15.377295970061311\" y2=\"-17.97226290614235\"/>', '<atom id=\"a8\" elementType=\"C\" x2=\"14.346834836268672\" y2=\"-16.827819874907167\"/>', '<atom id=\"a9\" elementType=\"O\" x2=\"19.451514218486984\" y2=\"-17.345888475805612\" lonePair=\"2\"/>', '<atom id=\"a10\" elementType=\"O\" x2=\"21.555193340315018\" y2=\"-16.78220935397758\" formalCharge=\"-1\" lonePair=\"3\"/>', '<atom id=\"a11\" elementType=\"P\" x2=\"20.785193340315022\" y2=\"-18.115888475805615\"/>', '<atom id=\"a12\" elementType=\"O\" x2=\"20.015193340315022\" y2=\"-19.44956759763365\" lonePair=\"2\"/>', '<atom id=\"a13\" elementType=\"C\" x2=\"18.11783509665895\" y2=\"-18.115888475805615\"/>', '<atom id=\"a14\" elementType=\"O\" x2=\"15.057111966201962\" y2=\"-19.478610211272414\" lonePair=\"2\"/>', '<atom id=\"a15\" elementType=\"O\" x2=\"22.118872462143056\" y2=\"-18.88588847580561\" lonePair=\"2\"/>', '<atom id=\"a16\" elementType=\"C\" x2=\"25.119872722533334\" y2=\"-16.264140753079122\"/>', '<atom id=\"a17\" elementType=\"O\" x2=\"25.889872722533337\" y2=\"-17.597819874907156\" lonePair=\"2\"/>', '<atom id=\"a18\" elementType=\"C\" x2=\"24.859411588740695\" y2=\"-18.74226290614234\"/>', '<atom id=\"a19\" elementType=\"C\" x2=\"23.45255158397109\" y2=\"-18.115888475805615\"/>', '<atom id=\"a20\" elementType=\"C\" x2=\"23.61352541740327\" y2=\"-16.584324756938468\"/>', '<atom id=\"a21\" elementType=\"O\" x2=\"26.937553065888494\" y2=\"-20.31160451022384\" lonePair=\"2\"/>', '<atom id=\"a22\" elementType=\"C\" x2=\"25.179595592600048\" y2=\"-20.248610211272403\"/>', '<atom id=\"a23\" elementType=\"N\" x2=\"5.56238845191379\" y2=\"-19.399921420154616\" mrvAlias=\"R\" lonePair=\"1\"/>', '<atom id=\"a24\" elementType=\"C\" x2=\"7.0270154870083275\" y2=\"-19.875807591492038\"/>', '<atom id=\"a25\" elementType=\"O\" x2=\"8.272901658345745\" y2=\"-18.970618302961622\" lonePair=\"2\"/>', '<atom id=\"a26\" elementType=\"C\" x2=\"9.518787829683166\" y2=\"-19.87580759149203\"/>', '<atom id=\"a27\" elementType=\"C\" x2=\"9.042901658345748\" y2=\"-21.340434626586568\"/>', '<atom id=\"a28\" elementType=\"C\" x2=\"7.5029016583457455\" y2=\"-21.340434626586568\"/>', '<atom id=\"a29\" elementType=\"O\" x2=\"12.127857896012891\" y2=\"-20.43038255394725\" lonePair=\"2\"/>', '<atom id=\"a30\" elementType=\"O\" x2=\"13.116598759770003\" y2=\"-18.4898693475153\" lonePair=\"2\"/>', '<atom id=\"a31\" elementType=\"P\" x2=\"13.592484931107425\" y2=\"-19.954496382609836\"/>', '<atom id=\"a32\" elementType=\"O\" x2=\"14.068371102444846\" y2=\"-21.419123417704366\" lonePair=\"2\"/>', '<atom id=\"a33\" elementType=\"C\" x2=\"10.983414864777703\" y2=\"-19.399921420154616\"/>', '<atom id=\"a34\" elementType=\"O\" x2=\"9.948090946876157\" y2=\"-22.586320797923992\" lonePair=\"2\"/>', '<atom id=\"a35\" elementType=\"O\" x2=\"28.308142951323454\" y2=\"-22.00414206252316\" lonePair=\"2\"/>', '<atom id=\"a36\" elementType=\"P\" x2=\"28.469116784755634\" y2=\"-20.47257834365602\"/>', '<atom id=\"a37\" elementType=\"O\" x2=\"28.630090618187825\" y2=\"-18.941014624788885\" lonePair=\"2\"/>', '<atom id=\"a38\" elementType=\"O\" x2=\"30.000680503622778\" y2=\"-20.63355217708821\" lonePair=\"2\"/>', '<atom id=\"a39\" elementType=\"H\" x2=\"22.591575873995232\" y2=\"-24.664907839173033\" mrvExtraLabel=\"chebi:15377\"/>', '<atom id=\"a40\" elementType=\"O\" x2=\"22.591575873995232\" y2=\"-23.124907839173034\" mrvExtraLabel=\"chebi:15377\" lonePair=\"2\"/>', '<atom id=\"a41\" elementType=\"H\" x2=\"23.925254995823266\" y2=\"-22.354907839173034\" mrvExtraLabel=\"chebi:15377\"/>', '<atom id=\"a42\" elementType=\"C\" x2=\"18.671187690056087\" y2=\"-5.191687589806099\" mrvAlias=\"Glu39C\"/>', '<atom id=\"a43\" elementType=\"C\" x2=\"20.00486681188412\" y2=\"-5.961687589806095\"/>', '<atom id=\"a44\" elementType=\"C\" x2=\"20.00486681188412\" y2=\"-7.501687589806091\"/>', '<atom id=\"a45\" elementType=\"C\" x2=\"21.338545933712155\" y2=\"-8.271687589806087\"/>', '<atom id=\"a46\" elementType=\"O\" x2=\"21.33854593371215\" y2=\"-9.811687589806093\" formalCharge=\"-1\" lonePair=\"3\"/>', '<atom id=\"a47\" elementType=\"O\" x2=\"22.67222505554019\" y2=\"-7.501687589806091\" lonePair=\"2\"/>', '<atom id=\"a48\" elementType=\"C\" x2=\"8.91155370226032\" y2=\"-5.585429338368629\" mrvAlias=\"Tyr76C\"/>', '<atom id=\"a49\" elementType=\"C\" x2=\"9.681553702260324\" y2=\"-4.251750216540591\"/>', '<atom id=\"a50\" elementType=\"C\" x2=\"11.221553702260323\" y2=\"-4.251750216540595\"/>', '<atom id=\"a51\" elementType=\"C\" x2=\"11.991553702260326\" y2=\"-2.918071094712557\"/>', '<atom id=\"a52\" elementType=\"C\" x2=\"13.531553702260329\" y2=\"-2.9180710947125608\"/>', '<atom id=\"a53\" elementType=\"C\" x2=\"14.301553702260325\" y2=\"-4.251750216540595\"/>', '<atom id=\"a54\" elementType=\"O\" x2=\"15.841553702260324\" y2=\"-4.251750216540598\" lonePair=\"2\"/>', '<atom id=\"a55\" elementType=\"C\" x2=\"13.531553702260322\" y2=\"-5.585429338368632\"/>', '<atom id=\"a56\" elementType=\"C\" x2=\"11.991553702260322\" y2=\"-5.585429338368629\"/>', '<atom id=\"a57\" elementType=\"C\" x2=\"11.015155187906792\" y2=\"-7.861853489697593\" mrvAlias=\"Glu78C\"/>', '<atom id=\"a58\" elementType=\"C\" x2=\"12.521502493036852\" y2=\"-7.541669485838243\"/>', '<atom id=\"a59\" elementType=\"C\" x2=\"13.551963626829496\" y2=\"-8.68611251707343\"/>', '<atom id=\"a60\" elementType=\"C\" x2=\"15.058310931959554\" y2=\"-8.365928513214081\"/>', '<atom id=\"a61\" elementType=\"O\" x2=\"16.088772065752195\" y2=\"-9.510371544449272\" formalCharge=\"-1\" lonePair=\"3\"/>', '<atom id=\"a62\" elementType=\"O\" x2=\"15.534197103296975\" y2=\"-6.901301478119548\" lonePair=\"2\"/>', '<atom id=\"a63\" elementType=\"C\" x2=\"14.36724219265135\" y2=\"-13.126461324387396\" mrvAlias=\"His134C\"/>', '<atom id=\"a64\" elementType=\"C\" x2=\"15.87941355995186\" y2=\"-14.4009780509028\"/>', '<atom id=\"a65\" elementType=\"C\" x2=\"16.64941355995186\" y2=\"-13.719347891160625\"/>', '<atom id=\"a66\" elementType=\"C\" x2=\"16.023039129615125\" y2=\"-12.312487886391018\"/>', '<atom id=\"a67\" elementType=\"N\" x2=\"17.167482160850312\" y2=\"-11.282026752598377\" lonePair=\"1\"/>', '<atom id=\"a68\" elementType=\"C\" x2=\"18.501161282678346\" y2=\"-12.052026752598373\"/>', '<atom id=\"a69\" elementType=\"N\" x2=\"18.180977278819\" y2=\"-13.558374057728436\" formalCharge=\"1\"/>', '<atom id=\"a70\" elementType=\"C\" x2=\"11.804218179249787\" y2=\"-23.884315112804227\" mrvAlias=\"Asp168C\"/>', '<atom id=\"a71\" elementType=\"C\" x2=\"13.137897301077821\" y2=\"-23.114315112804224\"/>', '<atom id=\"a72\" elementType=\"C\" x2=\"14.471576422905862\" y2=\"-23.884315112804227\"/>', '<atom id=\"a73\" elementType=\"O\" x2=\"15.805255544733896\" y2=\"-23.114315112804224\" formalCharge=\"-1\" lonePair=\"3\"/>', '<atom id=\"a74\" elementType=\"O\" x2=\"14.471576422905862\" y2=\"-25.424315112804226\" lonePair=\"2\"/>', '<atom id=\"a75\" elementType=\"C\" x2=\"31.98581308497382\" y2=\"-28.069614044336813\" mrvAlias=\"Asp212C\"/>', '<atom id=\"a76\" elementType=\"C\" x2=\"30.652133963145786\" y2=\"-27.299614044336817\"/>', '<atom id=\"a77\" elementType=\"C\" x2=\"30.652133963145783\" y2=\"-25.759614044336818\"/>', '<atom id=\"a78\" elementType=\"O\" x2=\"29.318454841317745\" y2=\"-24.989614044336815\" formalCharge=\"-1\" lonePair=\"3\"/>', '<atom id=\"a79\" elementType=\"O\" x2=\"31.985813084973813\" y2=\"-24.989614044336815\" lonePair=\"2\"/>', '<atom id=\"a80\" elementType=\"C\" x2=\"22.542224498641758\" y2=\"-27.43314111580889\" mrvAlias=\"His252C\"/>', '<atom id=\"a81\" elementType=\"C\" x2=\"24.073788217508902\" y2=\"-27.594114949241085\"/>', '<atom id=\"a82\" elementType=\"C\" x2=\"24.978977506039314\" y2=\"-26.34822877790366\"/>', '<atom id=\"a83\" elementType=\"C\" x2=\"26.518977506039306\" y2=\"-26.34822877790366\"/>', '<atom id=\"a84\" elementType=\"N\" x2=\"26.994863677376728\" y2=\"-24.883601742809123\" lonePair=\"1\"/>', '<atom id=\"a85\" elementType=\"C\" x2=\"25.748977506039314\" y2=\"-23.978412454278715\"/>', '<atom id=\"a86\" elementType=\"N\" x2=\"24.503091334701892\" y2=\"-24.88360174280912\" lonePair=\"1\"/>', '<atom id=\"a87\" elementType=\"N\" x2=\"25.694710127994497\" y2=\"-14.651132648807263\" mrvAlias=\"R\" lonePair=\"1\"/>', '<atom id=\"a88\" elementType=\"H\" x2=\"19.211438412611642\" y2=\"-14.70281708896362\"/>', '</atomArray>', '<bondArray>', '<bond atomRefs2=\"a4 a3\" order=\"1\" id=\"b1\">', '<bondStereo>H</bondStereo>', '</bond>', '<bond atomRefs2=\"a4 a5\" order=\"1\" id=\"b2\"/>', '<bond atomRefs2=\"a4 a8\" order=\"1\" id=\"b3\"/>', '<bond atomRefs2=\"a5 a6\" order=\"1\" id=\"b4\"/>', '<bond atomRefs2=\"a6 a13\" order=\"1\" id=\"b5\">', '<bondStereo>H</bondStereo>', '</bond>', '<bond atomRefs2=\"a6 a7\" order=\"1\" id=\"b6\"/>', '<bond atomRefs2=\"a7 a8\" order=\"1\" id=\"b7\"/>', '<bond atomRefs2=\"a7 a14\" order=\"1\" id=\"b8\">', '<bondStereo>W</bondStereo>', '</bond>', '<bond atomRefs2=\"a9 a11\" order=\"1\" id=\"b9\"/>', '<bond atomRefs2=\"a13 a9\" order=\"1\" id=\"b10\"/>', '<bond atomRefs2=\"a11 a10\" order=\"1\" id=\"b11\"/>', '<bond atomRefs2=\"a11 a12\" order=\"2\" id=\"b12\"/>', '<bond atomRefs2=\"a11 a15\" order=\"1\" id=\"b13\"/>', '<bond atomRefs2=\"a16 a17\" order=\"1\" id=\"b14\"/>', '<bond atomRefs2=\"a16 a20\" order=\"1\" id=\"b15\"/>', '<bond atomRefs2=\"a17 a18\" order=\"1\" id=\"b16\"/>', '<bond atomRefs2=\"a18 a22\" order=\"1\" id=\"b17\">', '<bondStereo>H</bondStereo>', '</bond>', '<bond atomRefs2=\"a18 a19\" order=\"1\" id=\"b18\"/>', '<bond atomRefs2=\"a19 a20\" order=\"1\" id=\"b19\"/>', '<bond atomRefs2=\"a22 a21\" order=\"1\" id=\"b20\"/>', '<bond atomRefs2=\"a19 a15\" order=\"1\" id=\"b21\">', '<bondStereo>W</bondStereo>', '</bond>', '<bond atomRefs2=\"a24 a23\" order=\"1\" id=\"b22\">', '<bondStereo>H</bondStereo>', '</bond>', '<bond atomRefs2=\"a24 a25\" order=\"1\" id=\"b23\"/>', '<bond atomRefs2=\"a24 a28\" order=\"1\" id=\"b24\"/>', '<bond atomRefs2=\"a25 a26\" order=\"1\" id=\"b25\"/>', '<bond atomRefs2=\"a26 a33\" order=\"1\" id=\"b26\">', '<bondStereo>H</bondStereo>', '</bond>', '<bond atomRefs2=\"a26 a27\" order=\"1\" id=\"b27\"/>', '<bond atomRefs2=\"a27 a28\" order=\"1\" id=\"b28\"/>', '<bond atomRefs2=\"a29 a31\" order=\"1\" id=\"b29\"/>', '<bond atomRefs2=\"a31 a30\" order=\"2\" id=\"b30\"/>', '<bond atomRefs2=\"a31 a32\" order=\"1\" id=\"b31\"/>', '<bond atomRefs2=\"a33 a29\" order=\"1\" id=\"b32\"/>', '<bond atomRefs2=\"a27 a34\" order=\"1\" id=\"b33\">', '<bondStereo>W</bondStereo>', '</bond>', '<bond atomRefs2=\"a31 a14\" order=\"1\" id=\"b34\"/>', '<bond atomRefs2=\"a21 a36\" order=\"1\" id=\"b35\"/>', '<bond atomRefs2=\"a36 a35\" order=\"2\" id=\"b36\"/>', '<bond atomRefs2=\"a36 a37\" order=\"1\" id=\"b37\"/>', '<bond atomRefs2=\"a36 a38\" order=\"1\" id=\"b38\"/>', '<bond atomRefs2=\"a40 a39\" order=\"1\" id=\"b39\"/>', '<bond atomRefs2=\"a40 a41\" order=\"1\" id=\"b40\"/>', '<bond atomRefs2=\"a42 a43\" order=\"1\" id=\"b41\"/>', '<bond atomRefs2=\"a43 a44\" order=\"1\" id=\"b42\"/>', '<bond atomRefs2=\"a44 a45\" order=\"1\" id=\"b43\"/>', '<bond atomRefs2=\"a45 a46\" order=\"1\" id=\"b44\"/>', '<bond atomRefs2=\"a45 a47\" order=\"2\" id=\"b45\"/>', '<bond atomRefs2=\"a48 a49\" order=\"1\" id=\"b46\"/>', '<bond atomRefs2=\"a49 a50\" order=\"1\" id=\"b47\"/>', '<bond atomRefs2=\"a50 a51\" order=\"2\" id=\"b48\"/>', '<bond atomRefs2=\"a50 a56\" order=\"1\" id=\"b49\"/>', '<bond atomRefs2=\"a51 a52\" order=\"1\" id=\"b50\"/>', '<bond atomRefs2=\"a52 a53\" order=\"2\" id=\"b51\"/>', '<bond atomRefs2=\"a53 a54\" order=\"1\" id=\"b52\"/>', '<bond atomRefs2=\"a53 a55\" order=\"1\" id=\"b53\"/>', '<bond atomRefs2=\"a55 a56\" order=\"2\" id=\"b54\"/>', '<bond atomRefs2=\"a57 a58\" order=\"1\" id=\"b55\"/>', '<bond atomRefs2=\"a58 a59\" order=\"1\" id=\"b56\"/>', '<bond atomRefs2=\"a59 a60\" order=\"1\" id=\"b57\"/>', '<bond atomRefs2=\"a60 a61\" order=\"1\" id=\"b58\"/>', '<bond atomRefs2=\"a60 a62\" order=\"2\" id=\"b59\"/>', '<bond atomRefs2=\"a63 a64\" order=\"1\" id=\"b60\"/>', '<bond atomRefs2=\"a64 a65\" order=\"1\" id=\"b61\"/>', '<bond atomRefs2=\"a65 a66\" order=\"2\" id=\"b62\"/>', '<bond atomRefs2=\"a65 a69\" order=\"1\" id=\"b63\"/>', '<bond atomRefs2=\"a66 a67\" order=\"1\" id=\"b64\"/>', '<bond atomRefs2=\"a67 a68\" order=\"1\" id=\"b65\"/>', '<bond atomRefs2=\"a68 a69\" order=\"2\" id=\"b66\"/>', '<bond atomRefs2=\"a70 a71\" order=\"1\" id=\"b67\"/>', '<bond atomRefs2=\"a71 a72\" order=\"1\" id=\"b68\"/>', '<bond atomRefs2=\"a72 a73\" order=\"1\" id=\"b69\"/>', '<bond atomRefs2=\"a72 a74\" order=\"2\" id=\"b70\"/>', '<bond atomRefs2=\"a75 a76\" order=\"1\" id=\"b71\"/>', '<bond atomRefs2=\"a76 a77\" order=\"1\" id=\"b72\"/>', '<bond atomRefs2=\"a77 a78\" order=\"1\" id=\"b73\"/>', '<bond atomRefs2=\"a77 a79\" order=\"2\" id=\"b74\"/>', '<bond atomRefs2=\"a80 a81\" order=\"1\" id=\"b75\"/>', '<bond atomRefs2=\"a81 a82\" order=\"1\" id=\"b76\"/>', '<bond atomRefs2=\"a82 a83\" order=\"2\" id=\"b77\"/>', '<bond atomRefs2=\"a82 a86\" order=\"1\" id=\"b78\"/>', '<bond atomRefs2=\"a83 a84\" order=\"1\" id=\"b79\"/>', '<bond atomRefs2=\"a84 a85\" order=\"1\" id=\"b80\"/>', '<bond atomRefs2=\"a85 a86\" order=\"2\" id=\"b81\"/>', '<bond atomRefs2=\"a46 a1\" convention=\"cxn:coord\" id=\"b82\"/>', '<bond atomRefs2=\"a73 a2\" convention=\"cxn:coord\" id=\"b83\"/>', '<bond atomRefs2=\"a16 a87\" order=\"1\" id=\"b84\">', '<bondStereo>H</bondStereo>', '</bond>', '<bond atomRefs2=\"a69 a88\" order=\"1\" id=\"b85\"/>', '</bondArray>', '</molecule>', '</MChemicalStruct>', '<MElectronContainer occupation=\"0 0\" radical=\"0\" id=\"o1\">', '<MElectron atomRefs=\"m1.a3\" difLoc=\"0.0 0.0 0.0\"/>', '<MElectron atomRefs=\"m1.a3\" difLoc=\"0.0 0.0 0.0\"/>', '</MElectronContainer>', '<MElectronContainer occupation=\"0 0\" radical=\"0\" id=\"o2\">', '<MElectron atomRefs=\"m1.a5\" difLoc=\"0.0 0.0 0.0\"/>', '<MElectron atomRefs=\"m1.a5\" difLoc=\"0.0 0.0 0.0\"/>', '</MElectronContainer>', '<MElectronContainer occupation=\"0 0\" radical=\"0\" id=\"o3\">', '<MElectron atomRefs=\"m1.a5\" difLoc=\"0.0 0.0 0.0\"/>', '<MElectron atomRefs=\"m1.a5\" difLoc=\"0.0 0.0 0.0\"/>', '</MElectronContainer>', '<MElectronContainer occupation=\"0 0\" radical=\"0\" id=\"o4\">', '<MElectron atomRefs=\"m1.a9\" difLoc=\"0.0 0.0 0.0\"/>', '<MElectron atomRefs=\"m1.a9\" difLoc=\"0.0 0.0 0.0\"/>', '</MElectronContainer>', '<MElectronContainer occupation=\"0 0\" radical=\"0\" id=\"o5\">', '<MElectron atomRefs=\"m1.a9\" difLoc=\"0.0 0.0 0.0\"/>', '<MElectron atomRefs=\"m1.a9\" difLoc=\"0.0 0.0 0.0\"/>', '</MElectronContainer>', '<MElectronContainer occupation=\"0 0\" radical=\"0\" id=\"o6\">', '<MElectron atomRefs=\"m1.a10\" difLoc=\"0.0 0.0 0.0\"/>', '<MElectron atomRefs=\"m1.a10\" difLoc=\"0.0 0.0 0.0\"/>', '</MElectronContainer>', '<MElectronContainer occupation=\"0 0\" radical=\"0\" id=\"o7\">', '<MElectron atomRefs=\"m1.a10\" difLoc=\"0.0 0.0 0.0\"/>', '<MElectron atomRefs=\"m1.a10\" difLoc=\"0.0 0.0 0.0\"/>', '</MElectronContainer>', '<MElectronContainer occupation=\"0 0\" radical=\"0\" id=\"o8\">', '<MElectron atomRefs=\"m1.a10\" difLoc=\"0.0 0.0 0.0\"/>', '<MElectron atomRefs=\"m1.a10\" difLoc=\"0.0 0.0 0.0\"/>', '</MElectronContainer>', '<MElectronContainer occupation=\"0 0\" radical=\"0\" id=\"o9\">', '<MElectron atomRefs=\"m1.a12\" difLoc=\"0.0 0.0 0.0\"/>', '<MElectron atomRefs=\"m1.a12\" difLoc=\"0.0 0.0 0.0\"/>', '</MElectronContainer>', '<MElectronContainer occupation=\"0 0\" radical=\"0\" id=\"o10\">', '<MElectron atomRefs=\"m1.a12\" difLoc=\"0.0 0.0 0.0\"/>', '<MElectron atomRefs=\"m1.a12\" difLoc=\"0.0 0.0 0.0\"/>', '</MElectronContainer>', '<MElectronContainer occupation=\"0 0\" radical=\"0\" id=\"o11\">', '<MElectron atomRefs=\"m1.a14\" difLoc=\"0.0 0.0 0.0\"/>', '<MElectron atomRefs=\"m1.a14\" difLoc=\"0.0 0.0 0.0\"/>', '</MElectronContainer>', '<MElectronContainer occupation=\"0 0\" radical=\"0\" id=\"o12\">', '<MElectron atomRefs=\"m1.a14\" difLoc=\"0.0 0.0 0.0\"/>', '<MElectron atomRefs=\"m1.a14\" difLoc=\"0.0 0.0 0.0\"/>', '</MElectronContainer>', '<MElectronContainer occupation=\"0 0\" radical=\"0\" id=\"o13\">', '<MElectron atomRefs=\"m1.a15\" difLoc=\"0.0 0.0 0.0\"/>', '<MElectron atomRefs=\"m1.a15\" difLoc=\"0.0 0.0 0.0\"/>', '</MElectronContainer>', '<MElectronContainer occupation=\"0 0\" radical=\"0\" id=\"o14\">', '<MElectron atomRefs=\"m1.a15\" difLoc=\"0.0 0.0 0.0\"/>', '<MElectron atomRefs=\"m1.a15\" difLoc=\"0.0 0.0 0.0\"/>', '</MElectronContainer>', '<MElectronContainer occupation=\"0 0\" radical=\"0\" id=\"o15\">', '<MElectron atomRefs=\"m1.a17\" difLoc=\"0.0 0.0 0.0\"/>', '<MElectron atomRefs=\"m1.a17\" difLoc=\"0.0 0.0 0.0\"/>', '</MElectronContainer>', '<MElectronContainer occupation=\"0 0\" radical=\"0\" id=\"o16\">', '<MElectron atomRefs=\"m1.a17\" difLoc=\"0.0 0.0 0.0\"/>', '<MElectron atomRefs=\"m1.a17\" difLoc=\"0.0 0.0 0.0\"/>', '</MElectronContainer>', '<MElectronContainer occupation=\"0 0\" radical=\"0\" id=\"o17\">', '<MElectron atomRefs=\"m1.a21\" difLoc=\"0.0 0.0 0.0\"/>', '<MElectron atomRefs=\"m1.a21\" difLoc=\"0.0 0.0 0.0\"/>', '</MElectronContainer>', '<MElectronContainer occupation=\"0 0\" radical=\"0\" id=\"o18\">', '<MElectron atomRefs=\"m1.a21\" difLoc=\"0.0 0.0 0.0\"/>', '<MElectron atomRefs=\"m1.a21\" difLoc=\"0.0 0.0 0.0\"/>', '</MElectronContainer>', '<MElectronContainer occupation=\"0 0\" radical=\"0\" id=\"o19\">', '<MElectron atomRefs=\"m1.a23\" difLoc=\"0.0 0.0 0.0\"/>', '<MElectron atomRefs=\"m1.a23\" difLoc=\"0.0 0.0 0.0\"/>', '</MElectronContainer>', '<MElectronContainer occupation=\"0 0\" radical=\"0\" id=\"o20\">', '<MElectron atomRefs=\"m1.a25\" difLoc=\"0.0 0.0 0.0\"/>', '<MElectron atomRefs=\"m1.a25\" difLoc=\"0.0 0.0 0.0\"/>', '</MElectronContainer>', '<MElectronContainer occupation=\"0 0\" radical=\"0\" id=\"o21\">', '<MElectron atomRefs=\"m1.a25\" difLoc=\"0.0 0.0 0.0\"/>', '<MElectron atomRefs=\"m1.a25\" difLoc=\"0.0 0.0 0.0\"/>', '</MElectronContainer>', '<MElectronContainer occupation=\"0 0\" radical=\"0\" id=\"o22\">', '<MElectron atomRefs=\"m1.a29\" difLoc=\"0.0 0.0 0.0\"/>', '<MElectron atomRefs=\"m1.a29\" difLoc=\"0.0 0.0 0.0\"/>', '</MElectronContainer>', '<MElectronContainer occupation=\"0 0\" radical=\"0\" id=\"o23\">', '<MElectron atomRefs=\"m1.a29\" difLoc=\"0.0 0.0 0.0\"/>', '<MElectron atomRefs=\"m1.a29\" difLoc=\"0.0 0.0 0.0\"/>', '</MElectronContainer>', '<MElectronContainer occupation=\"0 0\" radical=\"0\" id=\"o24\">', '<MElectron atomRefs=\"m1.a30\" difLoc=\"0.0 0.0 0.0\"/>', '<MElectron atomRefs=\"m1.a30\" difLoc=\"0.0 0.0 0.0\"/>', '</MElectronContainer>', '<MElectronContainer occupation=\"0 0\" radical=\"0\" id=\"o25\">', '<MElectron atomRefs=\"m1.a30\" difLoc=\"0.0 0.0 0.0\"/>', '<MElectron atomRefs=\"m1.a30\" difLoc=\"0.0 0.0 0.0\"/>', '</MElectronContainer>', '<MElectronContainer occupation=\"0 0\" radical=\"0\" id=\"o26\">', '<MElectron atomRefs=\"m1.a32\" difLoc=\"0.0 0.0 0.0\"/>', '<MElectron atomRefs=\"m1.a32\" difLoc=\"0.0 0.0 0.0\"/>', '</MElectronContainer>', '<MElectronContainer occupation=\"0 0\" radical=\"0\" id=\"o27\">', '<MElectron atomRefs=\"m1.a32\" difLoc=\"0.0 0.0 0.0\"/>', '<MElectron atomRefs=\"m1.a32\" difLoc=\"0.0 0.0 0.0\"/>', '</MElectronContainer>', '<MElectronContainer occupation=\"0 0\" radical=\"0\" id=\"o28\">', '<MElectron atomRefs=\"m1.a34\" difLoc=\"0.0 0.0 0.0\"/>', '<MElectron atomRefs=\"m1.a34\" difLoc=\"0.0 0.0 0.0\"/>', '</MElectronContainer>', '<MElectronContainer occupation=\"0 0\" radical=\"0\" id=\"o29\">', '<MElectron atomRefs=\"m1.a34\" difLoc=\"0.0 0.0 0.0\"/>', '<MElectron atomRefs=\"m1.a34\" difLoc=\"0.0 0.0 0.0\"/>', '</MElectronContainer>', '<MElectronContainer occupation=\"0 0\" radical=\"0\" id=\"o30\">', '<MElectron atomRefs=\"m1.a35\" difLoc=\"0.0 0.0 0.0\"/>', '<MElectron atomRefs=\"m1.a35\" difLoc=\"0.0 0.0 0.0\"/>', '</MElectronContainer>', '<MElectronContainer occupation=\"0 0\" radical=\"0\" id=\"o31\">', '<MElectron atomRefs=\"m1.a35\" difLoc=\"0.0 0.0 0.0\"/>', '<MElectron atomRefs=\"m1.a35\" difLoc=\"0.0 0.0 0.0\"/>', '</MElectronContainer>', '<MElectronContainer occupation=\"0 0\" radical=\"0\" id=\"o32\">', '<MElectron atomRefs=\"m1.a37\" difLoc=\"0.0 0.0 0.0\"/>', '<MElectron atomRefs=\"m1.a37\" difLoc=\"0.0 0.0 0.0\"/>', '</MElectronContainer>', '<MElectronContainer occupation=\"0 0\" radical=\"0\" id=\"o33\">', '<MElectron atomRefs=\"m1.a37\" difLoc=\"0.0 0.0 0.0\"/>', '<MElectron atomRefs=\"m1.a37\" difLoc=\"0.0 0.0 0.0\"/>', '</MElectronContainer>', '<MElectronContainer occupation=\"0 0\" radical=\"0\" id=\"o34\">', '<MElectron atomRefs=\"m1.a38\" difLoc=\"0.0 0.0 0.0\"/>', '<MElectron atomRefs=\"m1.a38\" difLoc=\"0.0 0.0 0.0\"/>', '</MElectronContainer>', '<MElectronContainer occupation=\"0 0\" radical=\"0\" id=\"o35\">', '<MElectron atomRefs=\"m1.a38\" difLoc=\"0.0 0.0 0.0\"/>', '<MElectron atomRefs=\"m1.a38\" difLoc=\"0.0 0.0 0.0\"/>', '</MElectronContainer>', '<MElectronContainer occupation=\"0 0\" radical=\"0\" id=\"o36\">', '<MElectron atomRefs=\"m1.a40\" difLoc=\"0.0 0.0 0.0\"/>', '<MElectron atomRefs=\"m1.a40\" difLoc=\"0.0 0.0 0.0\"/>', '</MElectronContainer>', '<MElectronContainer occupation=\"0 0\" radical=\"0\" id=\"o37\">', '<MElectron atomRefs=\"m1.a40\" difLoc=\"0.0 0.0 0.0\"/>', '<MElectron atomRefs=\"m1.a40\" difLoc=\"0.0 0.0 0.0\"/>', '</MElectronContainer>', '<MElectronContainer occupation=\"0 0\" radical=\"0\" id=\"o38\">', '<MElectron atomRefs=\"m1.a46\" difLoc=\"0.0 0.0 0.0\"/>', '<MElectron atomRefs=\"m1.a46\" difLoc=\"0.0 0.0 0.0\"/>', '</MElectronContainer>', '<MElectronContainer occupation=\"0 0\" radical=\"0\" id=\"o39\">', '<MElectron atomRefs=\"m1.a46\" difLoc=\"0.0 0.0 0.0\"/>', '<MElectron atomRefs=\"m1.a46\" difLoc=\"0.0 0.0 0.0\"/>', '</MElectronContainer>', '<MElectronContainer occupation=\"0 0\" radical=\"0\" id=\"o40\">', '<MElectron atomRefs=\"m1.a46\" difLoc=\"0.0 0.0 0.0\"/>', '<MElectron atomRefs=\"m1.a46\" difLoc=\"0.0 0.0 0.0\"/>', '</MElectronContainer>', '<MElectronContainer occupation=\"0 0\" radical=\"0\" id=\"o41\">', '<MElectron atomRefs=\"m1.a47\" difLoc=\"0.0 0.0 0.0\"/>', '<MElectron atomRefs=\"m1.a47\" difLoc=\"0.0 0.0 0.0\"/>', '</MElectronContainer>', '<MElectronContainer occupation=\"0 0\" radical=\"0\" id=\"o42\">', '<MElectron atomRefs=\"m1.a47\" difLoc=\"0.0 0.0 0.0\"/>', '<MElectron atomRefs=\"m1.a47\" difLoc=\"0.0 0.0 0.0\"/>', '</MElectronContainer>', '<MElectronContainer occupation=\"0 0\" radical=\"0\" id=\"o43\">', '<MElectron atomRefs=\"m1.a54\" difLoc=\"0.0 0.0 0.0\"/>', '<MElectron atomRefs=\"m1.a54\" difLoc=\"0.0 0.0 0.0\"/>', '</MElectronContainer>', '<MElectronContainer occupation=\"0 0\" radical=\"0\" id=\"o44\">', '<MElectron atomRefs=\"m1.a54\" difLoc=\"0.0 0.0 0.0\"/>', '<MElectron atomRefs=\"m1.a54\" difLoc=\"0.0 0.0 0.0\"/>', '</MElectronContainer>', '<MElectronContainer occupation=\"0 0\" radical=\"0\" id=\"o45\">', '<MElectron atomRefs=\"m1.a61\" difLoc=\"0.0 0.0 0.0\"/>', '<MElectron atomRefs=\"m1.a61\" difLoc=\"0.0 0.0 0.0\"/>', '</MElectronContainer>', '<MElectronContainer occupation=\"0 0\" radical=\"0\" id=\"o46\">', '<MElectron atomRefs=\"m1.a61\" difLoc=\"0.0 0.0 0.0\"/>', '<MElectron atomRefs=\"m1.a61\" difLoc=\"0.0 0.0 0.0\"/>', '</MElectronContainer>', '<MElectronContainer occupation=\"0 0\" radical=\"0\" id=\"o47\">', '<MElectron atomRefs=\"m1.a61\" difLoc=\"0.0 0.0 0.0\"/>', '<MElectron atomRefs=\"m1.a61\" difLoc=\"0.0 0.0 0.0\"/>', '</MElectronContainer>', '<MElectronContainer occupation=\"0 0\" radical=\"0\" id=\"o48\">', '<MElectron atomRefs=\"m1.a62\" difLoc=\"0.0 0.0 0.0\"/>', '<MElectron atomRefs=\"m1.a62\" difLoc=\"0.0 0.0 0.0\"/>', '</MElectronContainer>', '<MElectronContainer occupation=\"0 0\" radical=\"0\" id=\"o49\">', '<MElectron atomRefs=\"m1.a62\" difLoc=\"0.0 0.0 0.0\"/>', '<MElectron atomRefs=\"m1.a62\" difLoc=\"0.0 0.0 0.0\"/>', '</MElectronContainer>', '<MElectronContainer occupation=\"0 0\" radical=\"0\" id=\"o50\">', '<MElectron atomRefs=\"m1.a67\" difLoc=\"0.0 0.0 0.0\"/>', '<MElectron atomRefs=\"m1.a67\" difLoc=\"0.0 0.0 0.0\"/>', '</MElectronContainer>', '<MElectronContainer occupation=\"0 0\" radical=\"0\" id=\"o51\">', '<MElectron atomRefs=\"m1.a73\" difLoc=\"0.0 0.0 0.0\"/>', '<MElectron atomRefs=\"m1.a73\" difLoc=\"0.0 0.0 0.0\"/>', '</MElectronContainer>', '<MElectronContainer occupation=\"0 0\" radical=\"0\" id=\"o52\">', '<MElectron atomRefs=\"m1.a73\" difLoc=\"0.0 0.0 0.0\"/>', '<MElectron atomRefs=\"m1.a73\" difLoc=\"0.0 0.0 0.0\"/>', '</MElectronContainer>', '<MElectronContainer occupation=\"0 0\" radical=\"0\" id=\"o53\">', '<MElectron atomRefs=\"m1.a73\" difLoc=\"0.0 0.0 0.0\"/>', '<MElectron atomRefs=\"m1.a73\" difLoc=\"0.0 0.0 0.0\"/>', '</MElectronContainer>', '<MElectronContainer occupation=\"0 0\" radical=\"0\" id=\"o54\">', '<MElectron atomRefs=\"m1.a74\" difLoc=\"0.0 0.0 0.0\"/>', '<MElectron atomRefs=\"m1.a74\" difLoc=\"0.0 0.0 0.0\"/>', '</MElectronContainer>', '<MElectronContainer occupation=\"0 0\" radical=\"0\" id=\"o55\">', '<MElectron atomRefs=\"m1.a74\" difLoc=\"0.0 0.0 0.0\"/>', '<MElectron atomRefs=\"m1.a74\" difLoc=\"0.0 0.0 0.0\"/>', '</MElectronContainer>', '<MElectronContainer occupation=\"0 0\" radical=\"0\" id=\"o56\">', '<MElectron atomRefs=\"m1.a78\" difLoc=\"0.0 0.0 0.0\"/>', '<MElectron atomRefs=\"m1.a78\" difLoc=\"0.0 0.0 0.0\"/>', '</MElectronContainer>', '<MElectronContainer occupation=\"0 0\" radical=\"0\" id=\"o57\">', '<MElectron atomRefs=\"m1.a78\" difLoc=\"0.0 0.0 0.0\"/>', '<MElectron atomRefs=\"m1.a78\" difLoc=\"0.0 0.0 0.0\"/>', '</MElectronContainer>', '<MElectronContainer occupation=\"0 0\" radical=\"0\" id=\"o58\">', '<MElectron atomRefs=\"m1.a78\" difLoc=\"0.0 0.0 0.0\"/>', '<MElectron atomRefs=\"m1.a78\" difLoc=\"0.0 0.0 0.0\"/>', '</MElectronContainer>', '<MElectronContainer occupation=\"0 0\" radical=\"0\" id=\"o59\">', '<MElectron atomRefs=\"m1.a79\" difLoc=\"0.0 0.0 0.0\"/>', '<MElectron atomRefs=\"m1.a79\" difLoc=\"0.0 0.0 0.0\"/>', '</MElectronContainer>', '<MElectronContainer occupation=\"0 0\" radical=\"0\" id=\"o60\">', '<MElectron atomRefs=\"m1.a79\" difLoc=\"0.0 0.0 0.0\"/>', '<MElectron atomRefs=\"m1.a79\" difLoc=\"0.0 0.0 0.0\"/>', '</MElectronContainer>', '<MElectronContainer occupation=\"0 0\" radical=\"0\" id=\"o61\">', '<MElectron atomRefs=\"m1.a84\" difLoc=\"0.0 0.0 0.0\"/>', '<MElectron atomRefs=\"m1.a84\" difLoc=\"0.0 0.0 0.0\"/>', '</MElectronContainer>', '<MElectronContainer occupation=\"1 1\" radical=\"0\" id=\"o62\">', '<MElectron atomRefs=\"m1.a86\" difLoc=\"0.0 0.0 0.0\"/>', '<MElectron atomRefs=\"m1.a86\" difLoc=\"0.0 0.0 0.0\"/>', '</MElectronContainer>', '<MElectronContainer occupation=\"0 0\" radical=\"0\" id=\"o63\">', '<MElectron atomRefs=\"m1.a87\" difLoc=\"0.0 0.0 0.0\"/>', '<MElectron atomRefs=\"m1.a87\" difLoc=\"0.0 0.0 0.0\"/>', '</MElectronContainer>', '<MEFlow arcAngle=\"90\" id=\"o64\">', '<MAtomSetPoint atomRefs=\"m1.a40 m1.a39\"/>', '<MAtomSetPoint atomRefs=\"m1.a40 m1.a11\"/>', '</MEFlow>', '<MEFlow arcAngle=\"90\" id=\"o65\">', '<MAtomSetPoint atomRefs=\"m1.a9 m1.a11\"/>', '<MAtomSetPoint atomRefs=\"m1.a9 m1.a88\"/>', '</MEFlow>', '<MEFlow arcAngle=\"270\" id=\"o66\">', '<MAtomSetPoint atomRefs=\"m1.a69 m1.a88\"/>', '<MAtomSetPoint atomRefs=\"m1.a69\"/>', '</MEFlow>', '<MEFlow arcAngle=\"270\" baseElectronContainerIndex=\"0\" baseElectronIndexInContainer=\"-1\" id=\"o67\">', '<MEFlowBasePoint atomRef=\"m1.a86\"/>', '<MAtomSetPoint atomRefs=\"m1.a86 m1.a39\"/>', '</MEFlow>', '</MDocument>', '</cml>']\n"
     ]
    }
   ],
   "source": [
    "print(lines)"
   ]
  },
  {
   "cell_type": "code",
   "execution_count": 37,
   "metadata": {},
   "outputs": [
    {
     "ename": "OSError",
     "evalue": "Bad input file /home/stef/enz_rxn_data/data/raw/mcsa/mols/32526.mol",
     "output_type": "error",
     "traceback": [
      "\u001b[0;31m---------------------------------------------------------------------------\u001b[0m",
      "\u001b[0;31mOSError\u001b[0m                                   Traceback (most recent call last)",
      "Cell \u001b[0;32mIn[37], line 1\u001b[0m\n\u001b[0;32m----> 1\u001b[0m mol \u001b[38;5;241m=\u001b[39m \u001b[43mChem\u001b[49m\u001b[38;5;241;43m.\u001b[39;49m\u001b[43mMolFromMolFile\u001b[49m\u001b[43m(\u001b[49m\u001b[43mPath\u001b[49m\u001b[43m(\u001b[49m\u001b[43mcfg\u001b[49m\u001b[38;5;241;43m.\u001b[39;49m\u001b[43mraw_data\u001b[49m\u001b[43m)\u001b[49m\u001b[43m \u001b[49m\u001b[38;5;241;43m/\u001b[39;49m\u001b[43m \u001b[49m\u001b[38;5;124;43m\"\u001b[39;49m\u001b[38;5;124;43mmcsa\u001b[39;49m\u001b[38;5;124;43m\"\u001b[39;49m\u001b[43m \u001b[49m\u001b[38;5;241;43m/\u001b[39;49m\u001b[43m \u001b[49m\u001b[38;5;124;43m\"\u001b[39;49m\u001b[38;5;124;43mmols\u001b[39;49m\u001b[38;5;124;43m\"\u001b[39;49m\u001b[43m \u001b[49m\u001b[38;5;241;43m/\u001b[39;49m\u001b[43m \u001b[49m\u001b[38;5;124;43m\"\u001b[39;49m\u001b[38;5;124;43m32526.mol\u001b[39;49m\u001b[38;5;124;43m\"\u001b[39;49m\u001b[43m,\u001b[49m\u001b[43m \u001b[49m\u001b[43mremoveHs\u001b[49m\u001b[38;5;241;43m=\u001b[39;49m\u001b[38;5;28;43;01mFalse\u001b[39;49;00m\u001b[43m)\u001b[49m\n\u001b[1;32m      2\u001b[0m mol\n",
      "\u001b[0;31mOSError\u001b[0m: Bad input file /home/stef/enz_rxn_data/data/raw/mcsa/mols/32526.mol"
     ]
    }
   ],
   "source": [
    "mol = Chem.MolFromMolFile(Path(cfg.raw_data) / \"mcsa\" / \"mols\" / \"32526.mol\", removeHs=False)\n",
    "mol"
   ]
  },
  {
   "cell_type": "code",
   "execution_count": 5,
   "metadata": {},
   "outputs": [
    {
     "data": {
      "text/plain": [
       "6"
      ]
     },
     "execution_count": 5,
     "metadata": {},
     "output_type": "execute_result"
    }
   ],
   "source": [
    "Chem.Atom('C').GetAtomicNum()"
   ]
  },
  {
   "cell_type": "code",
   "execution_count": 10,
   "metadata": {},
   "outputs": [],
   "source": [
    "rw = Chem.RWMol()\n",
    "aidx = rw.AddAtom(Chem.Atom('C'))\n",
    "rw.GetAtomWithIdx(aidx).SetProp('mcsa_id', 'a56')\n",
    "rw.GetAtomWithIdx(aidx).GetProp('mcsa_id')\n",
    "rw.GetAtomWithIdx(aidx).SetFormalCharge(-1)"
   ]
  },
  {
   "cell_type": "code",
   "execution_count": null,
   "metadata": {},
   "outputs": [],
   "source": [
    "rw.GetAtomWithIdx(aidx).Set"
   ]
  }
 ],
 "metadata": {
  "kernelspec": {
   "display_name": ".venv",
   "language": "python",
   "name": "python3"
  },
  "language_info": {
   "codemirror_mode": {
    "name": "ipython",
    "version": 3
   },
   "file_extension": ".py",
   "mimetype": "text/x-python",
   "name": "python",
   "nbconvert_exporter": "python",
   "pygments_lexer": "ipython3",
   "version": "3.13.0"
  }
 },
 "nbformat": 4,
 "nbformat_minor": 2
}
