{
 "cells": [
  {
   "cell_type": "code",
   "execution_count": 10,
   "metadata": {},
   "outputs": [],
   "source": [
    "from hydra import initialize, compose\n",
    "import json\n",
    "from rdkit import Chem\n",
    "from rdkit.Chem import rdChemReactions\n",
    "from rdkit.Chem.Draw import IPythonConsole\n",
    "from pathlib import Path\n",
    "from itertools import product"
   ]
  },
  {
   "cell_type": "code",
   "execution_count": 4,
   "metadata": {},
   "outputs": [],
   "source": [
    "with initialize(version_base=None, config_path=\"./conf/filepaths\"):\n",
    "    cfg = compose(config_name=\"filepaths\")"
   ]
  },
  {
   "cell_type": "code",
   "execution_count": 5,
   "metadata": {},
   "outputs": [],
   "source": [
    "with open(Path(cfg.raw_data) / \"mcsa\" / \"entries_0.json\", \"r\") as f:\n",
    "    entries = json.load(f)"
   ]
  },
  {
   "cell_type": "code",
   "execution_count": 6,
   "metadata": {},
   "outputs": [
    {
     "data": {
      "text/plain": [
       "[{'count': 1,\n",
       "  'type': 'product',\n",
       "  'chebi_id': '16526',\n",
       "  'name': 'carbon dioxide',\n",
       "  'mol_file': 'www.ebi.ac.uk/thornton-srv/m-csa/media/compound_mols/16526.mol'},\n",
       " {'count': 1,\n",
       "  'type': 'reactant',\n",
       "  'chebi_id': '15378',\n",
       "  'name': 'hydron',\n",
       "  'mol_file': 'www.ebi.ac.uk/thornton-srv/m-csa/media/compound_mols/15378_Fxpq4oZ.mol'},\n",
       " {'count': 1,\n",
       "  'type': 'product',\n",
       "  'chebi_id': '58432',\n",
       "  'name': 'histaminium',\n",
       "  'mol_file': 'www.ebi.ac.uk/thornton-srv/m-csa/media/compound_mols/58432.mol'},\n",
       " {'count': 1,\n",
       "  'type': 'reactant',\n",
       "  'chebi_id': '57595',\n",
       "  'name': 'L-histidine zwitterion',\n",
       "  'mol_file': 'www.ebi.ac.uk/thornton-srv/m-csa/media/compound_mols/57595.mol'}]"
      ]
     },
     "execution_count": 6,
     "metadata": {},
     "output_type": "execute_result"
    }
   ],
   "source": [
    "entries['49']['reaction']['compounds']"
   ]
  },
  {
   "cell_type": "code",
   "execution_count": 7,
   "metadata": {},
   "outputs": [
    {
     "name": "stdout",
     "output_type": "stream",
     "text": [
      "11\n"
     ]
    },
    {
     "data": {
      "image/png": "[encoded data removed]",
      "text/plain": [
       "<rdkit.Chem.rdchem.Mol at 0x7fc76cd93ca0>"
      ]
     },
     "execution_count": 7,
     "metadata": {},
     "output_type": "execute_result"
    }
   ],
   "source": [
    "mol = Chem.MolFromMolFile(Path(cfg.raw_data) / \"mcsa\" / \"mols\" / \"57595.mol\", removeHs=False)\n",
    "print(mol.GetNumAtoms())\n",
    "mol"
   ]
  },
  {
   "cell_type": "code",
   "execution_count": 11,
   "metadata": {},
   "outputs": [
    {
     "ename": "ValueError",
     "evalue": "ChemicalParserException: Number of reactants provided does not match number of reactant templates.",
     "output_type": "error",
     "traceback": [
      "\u001b[0;31m---------------------------------------------------------------------------\u001b[0m",
      "\u001b[0;31mValueError\u001b[0m                                Traceback (most recent call last)",
      "Cell \u001b[0;32mIn[11], line 5\u001b[0m\n\u001b[1;32m      3\u001b[0m op \u001b[38;5;241m=\u001b[39m rdChemReactions\u001b[38;5;241m.\u001b[39mReactionFromSmarts(rule)\n\u001b[1;32m      4\u001b[0m rcts_mol \u001b[38;5;241m=\u001b[39m [Chem\u001b[38;5;241m.\u001b[39mMolFromSmiles(r) \u001b[38;5;28;01mfor\u001b[39;00m r \u001b[38;5;129;01min\u001b[39;00m rcts]\n\u001b[0;32m----> 5\u001b[0m \u001b[43mop\u001b[49m\u001b[38;5;241;43m.\u001b[39;49m\u001b[43mRunReactants\u001b[49m\u001b[43m(\u001b[49m\u001b[43mrcts_mol\u001b[49m\u001b[43m)\u001b[49m\n",
      "\u001b[0;31mValueError\u001b[0m: ChemicalParserException: Number of reactants provided does not match number of reactant templates."
     ]
    }
   ],
   "source": [
    "rcts = ['CC', 'O', 'CN']\n",
    "rule = \"[C:1]-[C:2].[O:3]>>[C:1]-[C:2]-[O:3]\"\n",
    "op = rdChemReactions.ReactionFromSmarts(rule)\n",
    "rcts_mol = [Chem.MolFromSmiles(r) for r in rcts]\n",
    "op.RunReactants(rcts_mol)"
   ]
  },
  {
   "cell_type": "code",
   "execution_count": null,
   "metadata": {},
   "outputs": [
    {
     "name": "stdout",
     "output_type": "stream",
     "text": [
      "Match: CC w/ [C:1]-[C:2]\n",
      "No match: CC w/ [O:3]\n",
      "No match: O w/ [C:1]-[C:2]\n",
      "Match: O w/ [O:3]\n",
      "No match: CN w/ [C:1]-[C:2]\n",
      "No match: CN w/ [O:3]\n"
     ]
    }
   ],
   "source": [
    "lhs_patts = rule.split(\">>\")[0].split(\".\")\n",
    "lhs_patts = [Chem.MolFromSmarts(p) for p in lhs_patts]\n",
    "for rct, patt in product(rcts_mol, lhs_patts):\n",
    "    if patt.HasSubstructMatch(rct):\n",
    "        print(f\"Match: {Chem.MolToSmiles(rct)} w/ {Chem.MolToSmarts(patt)}\")\n",
    "    else:\n",
    "        print(f\"No match: {Chem.MolToSmiles(rct)} w/ {Chem.MolToSmarts(patt)}\")\n",
    "\n",
    "'''\n",
    "Actually going to want something stricter probably lik\n",
    "if max[len(*mol.GetSubstructMatches(patt)] for patt in lhs_patts) == mol.GetNumAtoms() or smoething like that:\n",
    "\n",
    "'''"
   ]
  },
  {
   "cell_type": "code",
   "execution_count": 16,
   "metadata": {},
   "outputs": [
    {
     "data": {
      "text/plain": [
       "{'ec': '2.2.1.6',\n",
       " 'compounds': [{'count': 2,\n",
       "   'type': 'reactant',\n",
       "   'chebi_id': '15361',\n",
       "   'name': 'pyruvate',\n",
       "   'mol_file': 'www.ebi.ac.uk/thornton-srv/m-csa/media/compound_mols/15361.mol'},\n",
       "  {'count': 1,\n",
       "   'type': 'product',\n",
       "   'chebi_id': '16526',\n",
       "   'name': 'carbon dioxide',\n",
       "   'mol_file': 'www.ebi.ac.uk/thornton-srv/m-csa/media/compound_mols/16526.mol'},\n",
       "  {'count': 1,\n",
       "   'type': 'reactant',\n",
       "   'chebi_id': '15378',\n",
       "   'name': 'hydron',\n",
       "   'mol_file': 'www.ebi.ac.uk/thornton-srv/m-csa/media/compound_mols/15378_Fxpq4oZ.mol'},\n",
       "  {'count': 1,\n",
       "   'type': 'product',\n",
       "   'chebi_id': '58476',\n",
       "   'name': '(2S)-2-hydroxy-2-methyl-3-oxobutanoate',\n",
       "   'mol_file': 'www.ebi.ac.uk/thornton-srv/m-csa/media/compound_mols/58476.mol'}],\n",
       " 'mechanisms': [{'mechanism_id': 1,\n",
       "   'is_detailed': True,\n",
       "   'mechanism_text': 'The thiazolium ring of ThDP ionises at the C-2 position with the 4\\'-amino group acting as the base (activated by the interaction between a conserved glutamate residue and N-1\\'). The negative charge on C-2 is stabilised by forming a covalent bond to the 4\\'-amino group. There is nucleophilic attack on the C-2\\'\\' of the carbonyl of pyruvate by C-2 to form tricyclic lactyl-ThDP. Subsequent decarboxylation produces carbon dioxide and an enamine with no bond between C-2 and the 4\\'-amino group. This bond reforms and causes the C-2\\'\\' to act as the nucleophile in the attack on the carbonyl of a second pyruvate. The reformation of the carbonyl at C-2\\'\\' breaks the C-2\" bond, releasing acetolactate and returning ThDP to its ionised form.',\n",
       "   'rating': 3,\n",
       "   'components_summary': 'intermediate collapse, cofactor used, elimination (not covered by the Ingold mechanisms), cyclisation, overall product formed, decyclisation, proton transfer, intermediate formation, native state of cofactor regenerated, decarboxylation, inferred reaction step, overall reactant used, bimolecular nucleophilic addition',\n",
       "   'steps': [{'step_id': 1,\n",
       "     'description': 'ThDP is deprotonated by an unknown proton acceptor.',\n",
       "     'figure': 'www.ebi.ac.uk/thornton-srv/m-csa/media/schemes_svg/macie_entry_722_mechanism_1_step_1_LIUCwVT',\n",
       "     'is_product': False,\n",
       "     'marvin_xml': 'www.ebi.ac.uk/thornton-srv/m-csa/media/schemes/macie_entry_722_mechanism_1_step_1_LIUCwVT.mrv'},\n",
       "    {'step_id': 2,\n",
       "     'description': \"The negative charge on the C2 carbon of ThDP is stabilised by forming a covalent bond to the 4'-amino group.\",\n",
       "     'figure': 'www.ebi.ac.uk/thornton-srv/m-csa/media/schemes_svg/macie_entry_722_mechanism_1_step_2_IlhL18S',\n",
       "     'is_product': False,\n",
       "     'marvin_xml': 'www.ebi.ac.uk/thornton-srv/m-csa/media/schemes/macie_entry_722_mechanism_1_step_2_IlhL18S.mrv'},\n",
       "    {'step_id': 3,\n",
       "     'description': 'The ThDP C2 carbanion attacks the ketone group of pyruvate. The developing oxyanion is subsequently protonated.',\n",
       "     'figure': 'www.ebi.ac.uk/thornton-srv/m-csa/media/schemes_svg/macie_entry_722_mechanism_1_step_3_MtslEGg',\n",
       "     'is_product': False,\n",
       "     'marvin_xml': 'www.ebi.ac.uk/thornton-srv/m-csa/media/schemes/macie_entry_722_mechanism_1_step_3_MtslEGg.mrv'},\n",
       "    {'step_id': 4,\n",
       "     'description': \"Pyruvate undergoes decarboxylation with the formation of a carbon-carbon double bond and lysis of the ThDP C2 - 4'-amino group bond.\",\n",
       "     'figure': 'www.ebi.ac.uk/thornton-srv/m-csa/media/schemes_svg/macie_entry_722_mechanism_1_step_4_3KIXbdt',\n",
       "     'is_product': False,\n",
       "     'marvin_xml': 'www.ebi.ac.uk/thornton-srv/m-csa/media/schemes/macie_entry_722_mechanism_1_step_4_3KIXbdt.mrv'},\n",
       "    {'step_id': 5,\n",
       "     'description': \"The ThDP C-2 and the 4'-amino group bond reforms which causes nucleophilic attack of the double bond on a second equivalent of pyruvate. A proton is subsequently transferred between the developing oxyanion on the second pyruvate and the other hydroxyl group.\",\n",
       "     'figure': 'www.ebi.ac.uk/thornton-srv/m-csa/media/schemes_svg/macie_entry_722_mechanism_1_step_5_sZ9cWJ8',\n",
       "     'is_product': False,\n",
       "     'marvin_xml': 'www.ebi.ac.uk/thornton-srv/m-csa/media/schemes/macie_entry_722_mechanism_1_step_5_sZ9cWJ8.mrv'},\n",
       "    {'step_id': 6,\n",
       "     'description': 'The tetrahedral oxyanion intermediate collapses, releasing ThDP and the product.',\n",
       "     'figure': 'www.ebi.ac.uk/thornton-srv/m-csa/media/schemes_svg/macie_entry_722_mechanism_1_step_6_PUNH4pL',\n",
       "     'is_product': False,\n",
       "     'marvin_xml': 'www.ebi.ac.uk/thornton-srv/m-csa/media/schemes/macie_entry_722_mechanism_1_step_6_PUNH4pL.mrv'},\n",
       "    {'step_id': 7,\n",
       "     'description': 'In an inferred step the C2 carbanion of ThDP is reprotonated to regenerate the neutral state of the cofactor.',\n",
       "     'figure': 'www.ebi.ac.uk/thornton-srv/m-csa/media/schemes_svg/macie_entry_722_mechanism_1_step_7_VMyYroc',\n",
       "     'is_product': False,\n",
       "     'marvin_xml': 'www.ebi.ac.uk/thornton-srv/m-csa/media/schemes/macie_entry_722_mechanism_1_step_7_VMyYroc.mrv'},\n",
       "    {'step_id': 8,\n",
       "     'description': 'Products.',\n",
       "     'figure': 'www.ebi.ac.uk/thornton-srv/m-csa/media/schemes_svg/macie_entry_722_mechanism_1_step_8_wKmAVri',\n",
       "     'is_product': True,\n",
       "     'marvin_xml': 'www.ebi.ac.uk/thornton-srv/m-csa/media/schemes/macie_entry_722_mechanism_1_step_8_wKmAVri.mrv'}],\n",
       "   'references': [{'pubmed_id': '14557277',\n",
       "     'doi': '10.1074/jbc.m304038200',\n",
       "     'title': 'The Crystal Structures of Klebsiella pneumoniae Acetolactate Synthase with Enzyme-bound Cofactor and with an Unusual Intermediate',\n",
       "     'evidence_types': ['crystallography evidence',\n",
       "      'covalently attached',\n",
       "      'required']},\n",
       "    {'pubmed_id': '8974393',\n",
       "     'doi': '10.1126/science.275.5296.67',\n",
       "     'title': 'How Thiamin Diphosphate Is Activated in Enzymes',\n",
       "     'evidence_types': ['match to InterPro member signature (homology)']},\n",
       "    {'pubmed_id': '12496246',\n",
       "     'doi': '10.1074/jbc.m211648200',\n",
       "     'title': 'Molecular Basis of Sulfonylurea Herbicide Inhibition of Acetohydroxyacid Synthase',\n",
       "     'evidence_types': ['match to InterPro member signature (homology)']}]}],\n",
       " 'is_polymeric': False}"
      ]
     },
     "execution_count": 16,
     "metadata": {},
     "output_type": "execute_result"
    }
   ],
   "source": [
    "with open(Path(cfg.raw_data) / \"mcsa\" / \"entries_7.json\", \"r\") as f:\n",
    "    entries = json.load(f)\n",
    "\n",
    "entries['722']['reaction']"
   ]
  },
  {
   "cell_type": "code",
   "execution_count": 17,
   "metadata": {},
   "outputs": [
    {
     "name": "stdout",
     "output_type": "stream",
     "text": [
      "6\n"
     ]
    },
    {
     "data": {
      "image/png": "[encoded data removed]",
      "text/plain": [
       "<rdkit.Chem.rdchem.Mol at 0x7fc76c5d7140>"
      ]
     },
     "execution_count": 17,
     "metadata": {},
     "output_type": "execute_result"
    }
   ],
   "source": [
    "mol = Chem.MolFromMolFile(Path(cfg.raw_data) / \"mcsa\" / \"mols\" / \"15361.mol\", removeHs=False)\n",
    "print(mol.GetNumAtoms())\n",
    "mol"
   ]
  },
  {
   "cell_type": "code",
   "execution_count": 40,
   "metadata": {},
   "outputs": [],
   "source": [
    "rcts = ['OCC', 'O']\n",
    "rule = \"[C:1]-[C:2].[O:3]>>[C:1]-[C:2]-[O:3]\"\n",
    "rule2 = \"[C:1]-[O:2].[C:3]>>[C:1]-[O:2]-[C:3]\"\n",
    "op = rdChemReactions.ReactionFromSmarts(rule)\n",
    "op2 = rdChemReactions.ReactionFromSmarts(rule2)\n",
    "rcts_mol = [Chem.MolFromSmiles(r) for r in rcts]\n",
    "\n",
    "for i, rct in enumerate(rcts_mol):\n",
    "    for atom in rct.GetAtoms():\n",
    "        atom.SetIntProp(\"reactant_idx\", i)\n",
    "\n",
    "outputs = op.RunReactants(rcts_mol)\n",
    "next_rcts = [outputs[0][0], Chem.MolFromSmiles(\"C\")]\n",
    "\n",
    "outputs2 = op2.RunReactants(next_rcts)"
   ]
  },
  {
   "cell_type": "code",
   "execution_count": 41,
   "metadata": {},
   "outputs": [
    {
     "name": "stdout",
     "output_type": "stream",
     "text": [
      "0 6 0 {'old_mapno': 1, 'react_atom_idx': 1}\n",
      "1 6 0 {'_ReactionDegreeChanged': 1, 'old_mapno': 2, 'react_atom_idx': 2}\n",
      "2 8 0 {'_ReactionDegreeChanged': 1, 'old_mapno': 3, 'react_atom_idx': 0}\n",
      "3 8 0 {'__computedProps': <rdkit.rdBase._vectSs object at 0x7fc76cdb8940>, '_CIPRank': 2, 'reactant_idx': 0, 'react_atom_idx': 0}\n",
      "0 {'old_mapno': 1, 'react_atom_idx': 0}\n",
      "1 {'_ReactionDegreeChanged': 1, 'old_mapno': 2, 'react_atom_idx': 3}\n",
      "2 {'_ReactionDegreeChanged': 1, 'old_mapno': 3, 'react_atom_idx': 0}\n",
      "3 {'_ReactionDegreeChanged': 1, 'old_mapno': 2, 'react_atom_idx': 1}\n",
      "4 {'_ReactionDegreeChanged': 1, 'old_mapno': 3, 'react_atom_idx': 2}\n",
      "0 {'old_mapno': 1, 'react_atom_idx': 1}\n",
      "1 {'_ReactionDegreeChanged': 1, 'old_mapno': 2, 'react_atom_idx': 2}\n",
      "2 {'_ReactionDegreeChanged': 1, 'old_mapno': 3, 'react_atom_idx': 0}\n",
      "3 {'old_mapno': 1, 'react_atom_idx': 0}\n",
      "4 {'__computedProps': <rdkit.rdBase._vectSs object at 0x7fc76cdb8940>, '_CIPRank': 2, 'reactant_idx': 0, 'react_atom_idx': 3}\n"
     ]
    }
   ],
   "source": [
    "for mol in outputs[0]:\n",
    "        for atom in mol.GetAtoms():\n",
    "            print(atom.GetIdx(), atom.GetAtomicNum(), atom.GetAtomMapNum(), atom.GetPropsAsDict())\n",
    "\n",
    "for out in outputs2:\n",
    "    for mol in out:\n",
    "        for atom in mol.GetAtoms():\n",
    "            print(atom.GetIdx(), atom.GetPropsAsDict())"
   ]
  },
  {
   "cell_type": "code",
   "execution_count": 37,
   "metadata": {},
   "outputs": [
    {
     "name": "stdout",
     "output_type": "stream",
     "text": [
      "0 6 {'old_mapno': 1, 'react_atom_idx': 0}\n",
      "1 6 {'old_mapno': 2, 'react_atom_idx': 1}\n",
      "2 8 {'old_mapno': 3, 'react_atom_idx': 2}\n"
     ]
    }
   ],
   "source": [
    "rcts = ['CC=O']\n",
    "rule = \"[C:1]-[C:2]=[O:3]>>[C:1]-[C:2]-[O:3]\"\n",
    "op = rdChemReactions.ReactionFromSmarts(rule)\n",
    "rcts_mol = [Chem.MolFromSmiles(r) for r in rcts]\n",
    "\n",
    "for i, rct in enumerate(rcts_mol):\n",
    "    for atom in rct.GetAtoms():\n",
    "        atom.SetIntProp(\"reactant_idx\", i)\n",
    "\n",
    "outputs = op.RunReactants(rcts_mol)\n",
    "\n",
    "for mol in outputs[0]:\n",
    "        for atom in mol.GetAtoms():\n",
    "            print(atom.GetIdx(), atom.GetAtomicNum(), atom.GetPropsAsDict())"
   ]
  },
  {
   "cell_type": "code",
   "execution_count": 39,
   "metadata": {},
   "outputs": [
    {
     "data": {
      "image/png": "[encoded data removed]",
      "text/plain": [
       "<rdkit.Chem.rdchem.Mol at 0x7fc76c53fae0>"
      ]
     },
     "execution_count": 39,
     "metadata": {},
     "output_type": "execute_result"
    }
   ],
   "source": [
    "outputs[0][0]"
   ]
  }
 ],
 "metadata": {
  "kernelspec": {
   "display_name": ".venv",
   "language": "python",
   "name": "python3"
  },
  "language_info": {
   "codemirror_mode": {
    "name": "ipython",
    "version": 3
   },
   "file_extension": ".py",
   "mimetype": "text/x-python",
   "name": "python",
   "nbconvert_exporter": "python",
   "pygments_lexer": "ipython3",
   "version": "3.13.0"
  }
 },
 "nbformat": 4,
 "nbformat_minor": 2
}
