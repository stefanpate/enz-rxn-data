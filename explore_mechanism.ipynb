{
 "cells": [
  {
   "cell_type": "code",
   "execution_count": 45,
   "metadata": {},
   "outputs": [],
   "source": [
    "from hydra import initialize, compose\n",
    "import json\n",
    "from rdkit import Chem\n",
    "from rdkit.Chem import AllChem\n",
    "from rdkit.Chem.Draw import IPythonConsole\n",
    "from pathlib import Path\n",
    "from enz_rxn_data.mechanism import get_overall_reaction\n",
    "from ergochem.draw import draw_reaction, draw_molecule\n",
    "from ergochem.standardize import standardize_mol\n",
    "from IPython.display import SVG\n",
    "import pandas as pd\n",
    "import ast"
   ]
  },
  {
   "cell_type": "code",
   "execution_count": 46,
   "metadata": {},
   "outputs": [],
   "source": [
    "with initialize(version_base=None, config_path=\"./conf/filepaths\"):\n",
    "    filepaths = compose(config_name=\"filepaths\")"
   ]
  },
  {
   "cell_type": "code",
   "execution_count": 47,
   "metadata": {},
   "outputs": [],
   "source": [
    "entries = {}\n",
    "for i in range(0, 11):\n",
    "    with open(Path(filepaths.raw_mcsa) / f\"entries_{i}.json\", \"r\") as f:\n",
    "        entries = {**entries, **json.load(f)}"
   ]
  },
  {
   "cell_type": "code",
   "execution_count": 48,
   "metadata": {},
   "outputs": [
    {
     "data": {
      "text/html": [
       "<div>\n",
       "<style scoped>\n",
       "    .dataframe tbody tr th:only-of-type {\n",
       "        vertical-align: middle;\n",
       "    }\n",
       "\n",
       "    .dataframe tbody tr th {\n",
       "        vertical-align: top;\n",
       "    }\n",
       "\n",
       "    .dataframe thead th {\n",
       "        text-align: right;\n",
       "    }\n",
       "</style>\n",
       "<table border=\"1\" class=\"dataframe\">\n",
       "  <thead>\n",
       "    <tr style=\"text-align: right;\">\n",
       "      <th></th>\n",
       "      <th>entry_id</th>\n",
       "      <th>mechanism_id</th>\n",
       "      <th>smarts</th>\n",
       "      <th>mech_atoms</th>\n",
       "    </tr>\n",
       "  </thead>\n",
       "  <tbody>\n",
       "    <tr>\n",
       "      <th>0</th>\n",
       "      <td>49</td>\n",
       "      <td>1</td>\n",
       "      <td>[CH2:45]([CH:47]([NH3+:46])[C:49](=[O:48])[O-:...</td>\n",
       "      <td>[[47, 46, 49, 50]]</td>\n",
       "    </tr>\n",
       "    <tr>\n",
       "      <th>1</th>\n",
       "      <td>722</td>\n",
       "      <td>1</td>\n",
       "      <td>[C:59]([O-:60])(=[O:61])[C:62](=[O:63])[CH3:64...</td>\n",
       "      <td>[[62, 63], [28, 29, 30, 33]]</td>\n",
       "    </tr>\n",
       "  </tbody>\n",
       "</table>\n",
       "</div>"
      ],
      "text/plain": [
       "   entry_id  mechanism_id                                             smarts  \\\n",
       "0        49             1  [CH2:45]([CH:47]([NH3+:46])[C:49](=[O:48])[O-:...   \n",
       "1       722             1  [C:59]([O-:60])(=[O:61])[C:62](=[O:63])[CH3:64...   \n",
       "\n",
       "                     mech_atoms  \n",
       "0            [[47, 46, 49, 50]]  \n",
       "1  [[62, 63], [28, 29, 30, 33]]  "
      ]
     },
     "execution_count": 48,
     "metadata": {},
     "output_type": "execute_result"
    }
   ],
   "source": [
    "mech_df = pd.read_csv(Path(filepaths.processed_data) / 'mcsa' / 'mech_labeled_reactions.csv', sep=\",\")\n",
    "mech_df['mech_atoms'] = mech_df['mech_atoms'].apply(lambda x: ast.literal_eval(x))\n",
    "mech_df.head()"
   ]
  },
  {
   "cell_type": "code",
   "execution_count": 49,
   "metadata": {},
   "outputs": [
    {
     "data": {
      "text/plain": [
       "[[47, 46, 49, 50]]"
      ]
     },
     "execution_count": 49,
     "metadata": {},
     "output_type": "execute_result"
    }
   ],
   "source": [
    "mech_df.loc[mech_df['entry_id'] == 49, 'mech_atoms'][0]"
   ]
  },
  {
   "cell_type": "code",
   "execution_count": 50,
   "metadata": {},
   "outputs": [
    {
     "data": {
      "image/png": "[encoded data removed]",
      "text/plain": [
       "<rdkit.Chem.rdChemReactions.ChemicalReaction at 0x7ff9267377d0>"
      ]
     },
     "metadata": {},
     "output_type": "display_data"
    },
    {
     "data": {
      "image/svg+xml": [
       "<svg xmlns=\"http://www.w3.org/2000/svg\" xmlns:rdkit=\"http://www.rdkit.org/xml\" xmlns:xlink=\"http://www.w3.org/1999/xlink\" version=\"1.1\" baseProfile=\"full\" xml:space=\"preserve\" width=\"300px\" height=\"200px\" viewBox=\"0 0 300 200\">\n",
       "<!-- END OF HEADER -->\n",
       "<rect style=\"opacity:1.0;fill:#FFFFFF;stroke:none\" width=\"300.0\" height=\"200.0\" x=\"0.0\" y=\"0.0\"> </rect>\n",
       "<path class=\"bond-1 atom-1 atom-2\" d=\"M 123.8,51.8 L 132.5,54.0 L 121.6,97.8 L 114.1,90.5 Z\" style=\"fill:#FF7F7F;fill-rule:evenodd;fill-opacity:1;stroke:#FF7F7F;stroke-width:0.0px;stroke-linecap:butt;stroke-linejoin:miter;stroke-opacity:1;\"/>\n",
       "<path class=\"bond-2 atom-1 atom-3\" d=\"M 114.1,90.5 L 121.6,97.8 L 80.8,109.5 L 73.3,102.2 Z\" style=\"fill:#FF7F7F;fill-rule:evenodd;fill-opacity:1;stroke:#FF7F7F;stroke-width:0.0px;stroke-linecap:butt;stroke-linejoin:miter;stroke-opacity:1;\"/>\n",
       "<path class=\"bond-4 atom-3 atom-5\" d=\"M 73.3,102.2 L 80.8,109.5 L 71.1,148.1 L 62.3,145.9 Z\" style=\"fill:#FF7F7F;fill-rule:evenodd;fill-opacity:1;stroke:#FF7F7F;stroke-width:0.0px;stroke-linecap:butt;stroke-linejoin:miter;stroke-opacity:1;\"/>\n",
       "<ellipse cx=\"117.8\" cy=\"95.1\" rx=\"23.4\" ry=\"10.0\" class=\"atom-1\" style=\"fill:#FF7F7F;fill-rule:evenodd;stroke:#FF7F7F;stroke-width:1.0px;stroke-linecap:butt;stroke-linejoin:miter;stroke-opacity:1\"/>\n",
       "<ellipse cx=\"144.1\" cy=\"53.9\" rx=\"29.0\" ry=\"10.0\" class=\"atom-2\" style=\"fill:#FF7F7F;fill-rule:evenodd;stroke:#FF7F7F;stroke-width:1.0px;stroke-linecap:butt;stroke-linejoin:miter;stroke-opacity:1\"/>\n",
       "<ellipse cx=\"77.0\" cy=\"106.8\" rx=\"23.7\" ry=\"10.0\" class=\"atom-3\" style=\"fill:#FF7F7F;fill-rule:evenodd;stroke:#FF7F7F;stroke-width:1.0px;stroke-linecap:butt;stroke-linejoin:miter;stroke-opacity:1\"/>\n",
       "<ellipse cx=\"81.5\" cy=\"148.0\" rx=\"28.8\" ry=\"10.0\" class=\"atom-5\" style=\"fill:#FF7F7F;fill-rule:evenodd;stroke:#FF7F7F;stroke-width:1.0px;stroke-linecap:butt;stroke-linejoin:miter;stroke-opacity:1\"/>\n",
       "<path class=\"bond-0 atom-0 atom-1\" d=\"M 140.6,116.2 L 133.1,108.9\" style=\"fill:none;fill-rule:evenodd;stroke:#7F7F7F;stroke-width:2.0px;stroke-linecap:butt;stroke-linejoin:miter;stroke-opacity:1\"/>\n",
       "<path class=\"bond-0 atom-0 atom-1\" d=\"M 130.9,111.2 L 123.4,103.9\" style=\"fill:none;fill-rule:evenodd;stroke:#7F7F7F;stroke-width:2.0px;stroke-linecap:butt;stroke-linejoin:miter;stroke-opacity:1\"/>\n",
       "<path class=\"bond-0 atom-0 atom-1\" d=\"M 135.3,106.6 L 127.8,99.3\" style=\"fill:none;fill-rule:evenodd;stroke:#7F7F7F;stroke-width:2.0px;stroke-linecap:butt;stroke-linejoin:miter;stroke-opacity:1;stroke-dasharray:1,1.33333\"/>\n",
       "<path class=\"bond-1 atom-1 atom-2\" d=\"M 119.7,86.8 L 123.0,73.6\" style=\"fill:none;fill-rule:evenodd;stroke:#7F7F7F;stroke-width:2.0px;stroke-linecap:butt;stroke-linejoin:miter;stroke-opacity:1\"/>\n",
       "<path class=\"bond-1 atom-1 atom-2\" d=\"M 126.1,74.4 L 129.4,61.2\" style=\"fill:none;fill-rule:evenodd;stroke:#7F7F7F;stroke-width:2.0px;stroke-linecap:butt;stroke-linejoin:miter;stroke-opacity:1\"/>\n",
       "<path class=\"bond-1 atom-1 atom-2\" d=\"M 119.9,72.8 L 123.2,59.7\" style=\"fill:none;fill-rule:evenodd;stroke:#7F7F7F;stroke-width:2.0px;stroke-linecap:butt;stroke-linejoin:miter;stroke-opacity:1;stroke-dasharray:1,1.33333\"/>\n",
       "<path class=\"bond-2 atom-1 atom-3\" d=\"M 99.9,99.3 L 97.5,100.0\" style=\"fill:none;fill-rule:evenodd;stroke:#7F7F7F;stroke-width:2.0px;stroke-linecap:butt;stroke-linejoin:miter;stroke-opacity:1\"/>\n",
       "<path class=\"bond-2 atom-1 atom-3\" d=\"M 98.4,103.0 L 96.0,103.7\" style=\"fill:none;fill-rule:evenodd;stroke:#7F7F7F;stroke-width:2.0px;stroke-linecap:butt;stroke-linejoin:miter;stroke-opacity:1\"/>\n",
       "<path class=\"bond-2 atom-1 atom-3\" d=\"M 96.7,96.9 L 94.3,97.6\" style=\"fill:none;fill-rule:evenodd;stroke:#7F7F7F;stroke-width:2.0px;stroke-linecap:butt;stroke-linejoin:miter;stroke-opacity:1;stroke-dasharray:0.5,0.666667\"/>\n",
       "<path class=\"bond-3 atom-3 atom-4\" d=\"M 71.5,96.0 L 62.9,87.8\" style=\"fill:none;fill-rule:evenodd;stroke:#000000;stroke-width:2.0px;stroke-linecap:butt;stroke-linejoin:miter;stroke-opacity:1\"/>\n",
       "<path class=\"bond-3 atom-3 atom-4\" d=\"M 62.9,87.8 L 54.4,79.5\" style=\"fill:none;fill-rule:evenodd;stroke:#FF0000;stroke-width:2.0px;stroke-linecap:butt;stroke-linejoin:miter;stroke-opacity:1\"/>\n",
       "<path class=\"bond-3 atom-3 atom-4\" d=\"M 67.1,100.6 L 58.5,92.3\" style=\"fill:none;fill-rule:evenodd;stroke:#000000;stroke-width:2.0px;stroke-linecap:butt;stroke-linejoin:miter;stroke-opacity:1\"/>\n",
       "<path class=\"bond-3 atom-3 atom-4\" d=\"M 58.5,92.3 L 49.9,84.1\" style=\"fill:none;fill-rule:evenodd;stroke:#FF0000;stroke-width:2.0px;stroke-linecap:butt;stroke-linejoin:miter;stroke-opacity:1\"/>\n",
       "<path class=\"bond-4 atom-3 atom-5\" d=\"M 75.1,113.3 L 71.9,126.4\" style=\"fill:none;fill-rule:evenodd;stroke:#7F7F7F;stroke-width:2.0px;stroke-linecap:butt;stroke-linejoin:miter;stroke-opacity:1\"/>\n",
       "<path class=\"bond-4 atom-3 atom-5\" d=\"M 68.8,125.6 L 65.5,138.8\" style=\"fill:none;fill-rule:evenodd;stroke:#7F7F7F;stroke-width:2.0px;stroke-linecap:butt;stroke-linejoin:miter;stroke-opacity:1\"/>\n",
       "<path class=\"bond-4 atom-3 atom-5\" d=\"M 75.0,127.2 L 71.7,140.3\" style=\"fill:none;fill-rule:evenodd;stroke:#7F7F7F;stroke-width:2.0px;stroke-linecap:butt;stroke-linejoin:miter;stroke-opacity:1;stroke-dasharray:1,1.33333\"/>\n",
       "<path class=\"bond-5 atom-0 atom-6\" d=\"M 166.4,118.5 L 168.4,117.9\" style=\"fill:none;fill-rule:evenodd;stroke:#7F7F7F;stroke-width:2.0px;stroke-linecap:butt;stroke-linejoin:miter;stroke-opacity:1\"/>\n",
       "<path class=\"bond-5 atom-0 atom-6\" d=\"M 167.6,114.9 L 169.6,114.3\" style=\"fill:none;fill-rule:evenodd;stroke:#7F7F7F;stroke-width:2.0px;stroke-linecap:butt;stroke-linejoin:miter;stroke-opacity:1\"/>\n",
       "<path class=\"bond-5 atom-0 atom-6\" d=\"M 169.3,121.0 L 171.3,120.4\" style=\"fill:none;fill-rule:evenodd;stroke:#7F7F7F;stroke-width:2.0px;stroke-linecap:butt;stroke-linejoin:miter;stroke-opacity:1;stroke-dasharray:0.5,0.666667\"/>\n",
       "<path class=\"bond-6 atom-6 atom-7\" d=\"M 194.7,116.3 L 203.9,123.5\" style=\"fill:none;fill-rule:evenodd;stroke:#7F7F7F;stroke-width:2.0px;stroke-linecap:butt;stroke-linejoin:miter;stroke-opacity:1\"/>\n",
       "<path class=\"bond-6 atom-6 atom-7\" d=\"M 203.9,123.5 L 213.1,130.7\" style=\"fill:none;fill-rule:evenodd;stroke:#7F7F7F;stroke-width:2.0px;stroke-linecap:butt;stroke-linejoin:miter;stroke-opacity:1\"/>\n",
       "<path class=\"bond-6 atom-6 atom-7\" d=\"M 207.8,118.5 L 217.0,125.7\" style=\"fill:none;fill-rule:evenodd;stroke:#7F7F7F;stroke-width:2.0px;stroke-linecap:butt;stroke-linejoin:miter;stroke-opacity:1;stroke-dasharray:1,1.33333\"/>\n",
       "<path class=\"bond-7 atom-7 atom-8\" d=\"M 233.8,130.7 L 242.8,124.6\" style=\"fill:none;fill-rule:evenodd;stroke:#7F7F7F;stroke-width:2.0px;stroke-linecap:butt;stroke-linejoin:miter;stroke-opacity:1\"/>\n",
       "<path class=\"bond-7 atom-7 atom-8\" d=\"M 242.8,124.6 L 251.9,118.5\" style=\"fill:none;fill-rule:evenodd;stroke:#7F7F7F;stroke-width:2.0px;stroke-linecap:butt;stroke-linejoin:miter;stroke-opacity:1\"/>\n",
       "<path class=\"bond-7 atom-7 atom-8\" d=\"M 239.3,119.3 L 248.4,113.2\" style=\"fill:none;fill-rule:evenodd;stroke:#7F7F7F;stroke-width:2.0px;stroke-linecap:butt;stroke-linejoin:miter;stroke-opacity:1;stroke-dasharray:1,1.33333\"/>\n",
       "<path class=\"bond-8 atom-8 atom-9\" d=\"M 255.8,107.1 L 252.1,94.1\" style=\"fill:none;fill-rule:evenodd;stroke:#7F7F7F;stroke-width:2.0px;stroke-linecap:butt;stroke-linejoin:miter;stroke-opacity:1\"/>\n",
       "<path class=\"bond-8 atom-8 atom-9\" d=\"M 252.1,94.1 L 248.4,81.2\" style=\"fill:none;fill-rule:evenodd;stroke:#7F7F7F;stroke-width:2.0px;stroke-linecap:butt;stroke-linejoin:miter;stroke-opacity:1\"/>\n",
       "<path class=\"bond-8 atom-8 atom-9\" d=\"M 246.0,95.9 L 242.3,83.0\" style=\"fill:none;fill-rule:evenodd;stroke:#7F7F7F;stroke-width:2.0px;stroke-linecap:butt;stroke-linejoin:miter;stroke-opacity:1;stroke-dasharray:1,1.33333\"/>\n",
       "<path class=\"bond-9 atom-9 atom-10\" d=\"M 240.2,73.4 L 228.4,73.0\" style=\"fill:none;fill-rule:evenodd;stroke:#7F7F7F;stroke-width:2.0px;stroke-linecap:butt;stroke-linejoin:miter;stroke-opacity:1\"/>\n",
       "<path class=\"bond-9 atom-9 atom-10\" d=\"M 228.4,73.0 L 216.6,72.5\" style=\"fill:none;fill-rule:evenodd;stroke:#7F7F7F;stroke-width:2.0px;stroke-linecap:butt;stroke-linejoin:miter;stroke-opacity:1\"/>\n",
       "<path class=\"bond-9 atom-9 atom-10\" d=\"M 228.1,79.3 L 216.4,78.9\" style=\"fill:none;fill-rule:evenodd;stroke:#7F7F7F;stroke-width:2.0px;stroke-linecap:butt;stroke-linejoin:miter;stroke-opacity:1;stroke-dasharray:1,1.33333\"/>\n",
       "<path class=\"bond-10 atom-10 atom-6\" d=\"M 201.1,79.5 L 196.5,92.1\" style=\"fill:none;fill-rule:evenodd;stroke:#7F7F7F;stroke-width:2.0px;stroke-linecap:butt;stroke-linejoin:miter;stroke-opacity:1\"/>\n",
       "<path class=\"bond-10 atom-10 atom-6\" d=\"M 196.5,92.1 L 191.9,104.6\" style=\"fill:none;fill-rule:evenodd;stroke:#7F7F7F;stroke-width:2.0px;stroke-linecap:butt;stroke-linejoin:miter;stroke-opacity:1\"/>\n",
       "<path class=\"bond-10 atom-10 atom-6\" d=\"M 202.5,94.3 L 197.9,106.8\" style=\"fill:none;fill-rule:evenodd;stroke:#7F7F7F;stroke-width:2.0px;stroke-linecap:butt;stroke-linejoin:miter;stroke-opacity:1;stroke-dasharray:1,1.33333\"/>\n",
       "<path class=\"atom-0\" d=\"M 119.2 123.7 Q 119.2 120.7, 120.6 119.2 Q 122.0 117.6, 124.6 117.6 Q 127.1 117.6, 128.4 119.3 L 127.3 120.3 Q 126.4 119.0, 124.6 119.0 Q 122.8 119.0, 121.8 120.2 Q 120.9 121.4, 120.9 123.7 Q 120.9 126.1, 121.9 127.3 Q 122.9 128.5, 124.8 128.5 Q 126.1 128.5, 127.7 127.7 L 128.2 129.0 Q 127.5 129.4, 126.6 129.7 Q 125.6 129.9, 124.6 129.9 Q 122.0 129.9, 120.6 128.3 Q 119.2 126.7, 119.2 123.7 \" fill=\"#000000\"/>\n",
       "<path class=\"atom-0\" d=\"M 129.8 127.8 L 131.5 127.8 L 131.5 129.5 L 129.8 129.5 L 129.8 127.8 M 129.8 121.9 L 131.5 121.9 L 131.5 123.6 L 129.8 123.6 L 129.8 121.9 \" fill=\"#000000\"/>\n",
       "<path class=\"atom-0\" d=\"M 141.3 125.6 L 142.8 125.6 L 142.8 127.0 L 141.3 127.0 L 141.3 129.7 L 139.7 129.7 L 139.7 127.0 L 133.5 127.0 L 133.5 125.9 L 138.8 117.7 L 141.3 117.7 L 141.3 125.6 M 135.5 125.6 L 139.7 125.6 L 139.7 118.8 L 135.5 125.6 \" fill=\"#000000\"/>\n",
       "<path class=\"atom-0\" d=\"M 148.7 122.2 Q 149.7 122.2, 150.6 122.7 Q 151.5 123.1, 152.0 124.0 Q 152.4 124.8, 152.4 125.9 Q 152.4 127.2, 151.8 128.1 Q 151.2 129.0, 150.3 129.4 Q 149.3 129.9, 148.1 129.9 Q 147.0 129.9, 146.0 129.5 Q 145.0 129.1, 144.3 128.3 L 145.3 127.2 Q 145.9 127.8, 146.7 128.2 Q 147.4 128.5, 148.2 128.5 Q 149.3 128.5, 150.0 127.8 Q 150.7 127.2, 150.7 126.0 Q 150.7 124.7, 150.0 124.1 Q 149.3 123.5, 148.1 123.5 Q 147.0 123.5, 145.9 124.0 L 144.9 123.5 L 145.5 117.7 L 151.7 117.7 L 151.5 119.1 L 146.9 119.1 L 146.6 122.6 Q 147.6 122.2, 148.7 122.2 \" fill=\"#000000\"/>\n",
       "<path class=\"atom-1\" d=\"M 101.3 94.2 Q 101.3 91.2, 102.7 89.6 Q 104.1 88.1, 106.8 88.1 Q 109.2 88.1, 110.6 89.8 L 109.4 90.7 Q 108.5 89.5, 106.8 89.5 Q 104.9 89.5, 104.0 90.7 Q 103.0 91.9, 103.0 94.2 Q 103.0 96.6, 104.0 97.8 Q 105.0 99.0, 106.9 99.0 Q 108.3 99.0, 109.8 98.2 L 110.3 99.5 Q 109.7 99.9, 108.7 100.1 Q 107.8 100.4, 106.7 100.4 Q 104.1 100.4, 102.7 98.8 Q 101.3 97.2, 101.3 94.2 \" fill=\"#000000\"/>\n",
       "<path class=\"atom-1\" d=\"M 112.0 98.2 L 113.6 98.2 L 113.6 99.9 L 112.0 99.9 L 112.0 98.2 M 112.0 92.4 L 113.6 92.4 L 113.6 94.1 L 112.0 94.1 L 112.0 92.4 \" fill=\"#000000\"/>\n",
       "<path class=\"atom-1\" d=\"M 123.4 96.1 L 124.9 96.1 L 124.9 97.5 L 123.4 97.5 L 123.4 100.2 L 121.8 100.2 L 121.8 97.5 L 115.6 97.5 L 115.6 96.4 L 120.9 88.2 L 123.4 88.2 L 123.4 96.1 M 117.6 96.1 L 121.8 96.1 L 121.8 89.3 L 117.6 96.1 \" fill=\"#000000\"/>\n",
       "<path class=\"atom-1\" d=\"M 132.7 89.6 L 126.4 89.6 L 126.4 88.2 L 134.4 88.2 L 134.4 89.4 L 129.6 100.2 L 127.9 100.2 L 132.7 89.6 \" fill=\"#000000\"/>\n",
       "<path class=\"atom-2\" d=\"M 125.5 47.0 L 129.4 53.4 Q 129.8 54.0, 130.5 55.1 Q 131.1 56.3, 131.1 56.3 L 131.1 47.0 L 132.7 47.0 L 132.7 59.0 L 131.1 59.0 L 126.8 52.1 Q 126.3 51.2, 125.8 50.3 Q 125.3 49.4, 125.2 49.1 L 125.2 59.0 L 123.6 59.0 L 123.6 47.0 L 125.5 47.0 \" fill=\"#000000\"/>\n",
       "<path class=\"atom-2\" d=\"M 134.9 57.0 L 136.5 57.0 L 136.5 58.7 L 134.9 58.7 L 134.9 57.0 M 134.9 51.2 L 136.5 51.2 L 136.5 52.9 L 134.9 52.9 L 134.9 51.2 \" fill=\"#000000\"/>\n",
       "<path class=\"atom-2\" d=\"M 146.4 54.9 L 147.8 54.9 L 147.8 56.3 L 146.4 56.3 L 146.4 59.0 L 144.8 59.0 L 144.8 56.3 L 138.6 56.3 L 138.6 55.2 L 143.8 47.0 L 146.4 47.0 L 146.4 54.9 M 140.5 54.9 L 144.8 54.9 L 144.8 48.1 L 140.5 54.9 \" fill=\"#000000\"/>\n",
       "<path class=\"atom-2\" d=\"M 154.1 51.5 Q 155.1 51.5, 156.0 52.0 Q 156.8 52.4, 157.3 53.3 Q 157.7 54.1, 157.7 55.2 Q 157.7 56.3, 157.2 57.2 Q 156.7 58.1, 155.8 58.7 Q 154.8 59.2, 153.7 59.2 Q 151.5 59.2, 150.4 57.7 Q 149.4 56.3, 149.4 53.4 Q 149.4 50.2, 150.7 48.5 Q 152.0 46.9, 154.6 46.9 Q 155.3 46.9, 156.0 47.0 Q 156.6 47.2, 157.2 47.6 L 156.6 48.7 Q 155.7 48.2, 154.6 48.2 Q 152.9 48.2, 152.1 49.3 Q 151.2 50.4, 151.1 52.7 Q 151.7 52.1, 152.5 51.8 Q 153.2 51.5, 154.1 51.5 M 153.7 57.8 Q 154.3 57.8, 154.9 57.4 Q 155.4 57.1, 155.7 56.5 Q 156.0 55.9, 156.0 55.2 Q 156.0 54.1, 155.4 53.5 Q 154.8 52.9, 153.8 52.9 Q 153.0 52.9, 152.3 53.2 Q 151.6 53.5, 151.1 54.0 Q 151.2 56.0, 151.8 56.9 Q 152.4 57.8, 153.7 57.8 \" fill=\"#000000\"/>\n",
       "<path class=\"atom-2\" d=\"M 159.4 49.0 L 161.5 49.0 L 161.5 46.8 L 162.4 46.8 L 162.4 49.0 L 164.6 49.0 L 164.6 49.8 L 162.4 49.8 L 162.4 52.1 L 161.5 52.1 L 161.5 49.8 L 159.4 49.8 L 159.4 49.0 \" fill=\"#000000\"/>\n",
       "<path class=\"atom-3\" d=\"M 60.3 105.9 Q 60.3 102.9, 61.7 101.3 Q 63.1 99.7, 65.7 99.7 Q 68.2 99.7, 69.5 101.5 L 68.4 102.4 Q 67.5 101.1, 65.7 101.1 Q 63.9 101.1, 63.0 102.4 Q 62.0 103.6, 62.0 105.9 Q 62.0 108.3, 63.0 109.5 Q 64.0 110.7, 65.9 110.7 Q 67.2 110.7, 68.8 109.9 L 69.3 111.2 Q 68.6 111.6, 67.7 111.8 Q 66.7 112.1, 65.7 112.1 Q 63.1 112.1, 61.7 110.5 Q 60.3 108.9, 60.3 105.9 \" fill=\"#000000\"/>\n",
       "<path class=\"atom-3\" d=\"M 70.9 109.9 L 72.6 109.9 L 72.6 111.6 L 70.9 111.6 L 70.9 109.9 M 70.9 104.1 L 72.6 104.1 L 72.6 105.8 L 70.9 105.8 L 70.9 104.1 \" fill=\"#000000\"/>\n",
       "<path class=\"atom-3\" d=\"M 82.4 107.8 L 83.9 107.8 L 83.9 109.1 L 82.4 109.1 L 82.4 111.9 L 80.8 111.9 L 80.8 109.1 L 74.6 109.1 L 74.6 108.1 L 79.9 99.9 L 82.4 99.9 L 82.4 107.8 M 76.6 107.8 L 80.8 107.8 L 80.8 101.0 L 76.6 107.8 \" fill=\"#000000\"/>\n",
       "<path class=\"atom-3\" d=\"M 89.5 99.7 Q 91.6 99.7, 92.7 101.2 Q 93.8 102.6, 93.8 105.5 Q 93.8 108.7, 92.4 110.4 Q 91.1 112.0, 88.5 112.0 Q 87.8 112.0, 87.1 111.9 Q 86.5 111.7, 85.9 111.3 L 86.6 110.2 Q 87.4 110.7, 88.5 110.7 Q 90.2 110.7, 91.1 109.6 Q 92.0 108.5, 92.1 106.2 Q 91.4 106.8, 90.7 107.1 Q 89.9 107.4, 89.1 107.4 Q 88.0 107.4, 87.2 106.9 Q 86.3 106.5, 85.9 105.6 Q 85.4 104.8, 85.4 103.7 Q 85.4 102.6, 85.9 101.7 Q 86.5 100.8, 87.4 100.2 Q 88.3 99.7, 89.5 99.7 M 87.1 103.7 Q 87.1 104.8, 87.7 105.4 Q 88.3 106.0, 89.4 106.0 Q 90.1 106.0, 90.8 105.7 Q 91.5 105.4, 92.1 104.9 Q 92.0 102.9, 91.4 102.0 Q 90.7 101.1, 89.5 101.1 Q 88.8 101.1, 88.3 101.5 Q 87.7 101.8, 87.4 102.4 Q 87.1 103.0, 87.1 103.7 \" fill=\"#000000\"/>\n",
       "<path class=\"atom-4\" d=\"M 15.0 76.3 Q 15.0 73.4, 16.4 71.8 Q 17.9 70.2, 20.5 70.2 Q 23.2 70.2, 24.6 71.8 Q 26.0 73.4, 26.0 76.3 Q 26.0 79.3, 24.6 80.9 Q 23.2 82.6, 20.5 82.6 Q 17.9 82.6, 16.4 80.9 Q 15.0 79.3, 15.0 76.3 M 20.5 81.2 Q 22.4 81.2, 23.3 80.0 Q 24.3 78.7, 24.3 76.3 Q 24.3 74.0, 23.3 72.8 Q 22.4 71.6, 20.5 71.6 Q 18.7 71.6, 17.7 72.8 Q 16.7 74.0, 16.7 76.3 Q 16.7 78.8, 17.7 80.0 Q 18.7 81.2, 20.5 81.2 \" fill=\"#FF0000\"/>\n",
       "<path class=\"atom-4\" d=\"M 27.7 80.4 L 29.4 80.4 L 29.4 82.1 L 27.7 82.1 L 27.7 80.4 M 27.7 74.5 L 29.4 74.5 L 29.4 76.2 L 27.7 76.2 L 27.7 74.5 \" fill=\"#FF0000\"/>\n",
       "<path class=\"atom-4\" d=\"M 39.2 78.3 L 40.6 78.3 L 40.6 79.6 L 39.2 79.6 L 39.2 82.4 L 37.6 82.4 L 37.6 79.6 L 31.4 79.6 L 31.4 78.5 L 36.7 70.4 L 39.2 70.4 L 39.2 78.3 M 33.4 78.3 L 37.6 78.3 L 37.6 71.4 L 33.4 78.3 \" fill=\"#FF0000\"/>\n",
       "<path class=\"atom-4\" d=\"M 48.4 76.0 Q 49.5 76.5, 50.1 77.2 Q 50.7 77.9, 50.7 79.1 Q 50.7 80.1, 50.2 80.9 Q 49.7 81.7, 48.7 82.1 Q 47.8 82.6, 46.6 82.6 Q 44.6 82.6, 43.4 81.6 Q 42.2 80.7, 42.2 79.1 Q 42.2 78.1, 42.8 77.4 Q 43.3 76.6, 44.3 76.1 Q 43.5 75.6, 43.1 75.0 Q 42.7 74.3, 42.7 73.3 Q 42.7 71.9, 43.7 71.0 Q 44.7 70.2, 46.5 70.2 Q 48.2 70.2, 49.3 71.0 Q 50.3 71.9, 50.3 73.3 Q 50.3 74.2, 49.8 74.8 Q 49.3 75.5, 48.4 76.0 M 46.5 71.5 Q 45.5 71.5, 44.9 72.0 Q 44.4 72.4, 44.4 73.3 Q 44.4 73.9, 44.8 74.3 Q 45.1 74.8, 45.7 75.0 Q 46.2 75.2, 47.2 75.6 Q 48.0 75.1, 48.3 74.5 Q 48.6 74.0, 48.6 73.3 Q 48.6 72.4, 48.0 72.0 Q 47.5 71.5, 46.5 71.5 M 46.6 81.3 Q 47.7 81.3, 48.4 80.7 Q 49.0 80.1, 49.0 79.1 Q 49.0 78.4, 48.7 78.0 Q 48.3 77.6, 47.8 77.4 Q 47.3 77.1, 46.3 76.8 L 45.5 76.6 Q 44.7 77.1, 44.3 77.7 Q 43.9 78.3, 43.9 79.1 Q 43.9 80.1, 44.7 80.7 Q 45.4 81.3, 46.6 81.3 \" fill=\"#FF0000\"/>\n",
       "<path class=\"atom-5\" d=\"M 61.2 147.1 Q 61.2 144.2, 62.6 142.6 Q 64.0 140.9, 66.7 140.9 Q 69.4 140.9, 70.8 142.6 Q 72.2 144.2, 72.2 147.1 Q 72.2 150.0, 70.8 151.6 Q 69.3 153.3, 66.7 153.3 Q 64.1 153.3, 62.6 151.6 Q 61.2 150.0, 61.2 147.1 M 66.7 151.9 Q 68.5 151.9, 69.5 150.7 Q 70.5 149.5, 70.5 147.1 Q 70.5 144.7, 69.5 143.5 Q 68.5 142.3, 66.7 142.3 Q 64.9 142.3, 63.9 143.5 Q 62.9 144.7, 62.9 147.1 Q 62.9 149.5, 63.9 150.7 Q 64.9 151.9, 66.7 151.9 \" fill=\"#000000\"/>\n",
       "<path class=\"atom-5\" d=\"M 73.8 151.1 L 75.5 151.1 L 75.5 152.8 L 73.8 152.8 L 73.8 151.1 M 73.8 145.3 L 75.5 145.3 L 75.5 147.0 L 73.8 147.0 L 73.8 145.3 \" fill=\"#000000\"/>\n",
       "<path class=\"atom-5\" d=\"M 81.9 145.6 Q 82.9 145.6, 83.8 146.0 Q 84.6 146.5, 85.1 147.3 Q 85.6 148.2, 85.6 149.3 Q 85.6 150.5, 85.0 151.4 Q 84.4 152.3, 83.4 152.8 Q 82.5 153.2, 81.3 153.2 Q 80.2 153.2, 79.2 152.8 Q 78.2 152.4, 77.5 151.6 L 78.5 150.6 Q 79.1 151.2, 79.8 151.5 Q 80.6 151.9, 81.4 151.9 Q 82.5 151.9, 83.2 151.2 Q 83.9 150.5, 83.9 149.3 Q 83.9 148.1, 83.2 147.5 Q 82.5 146.9, 81.3 146.9 Q 80.2 146.9, 79.1 147.3 L 78.1 146.9 L 78.7 141.1 L 84.9 141.1 L 84.7 142.4 L 80.1 142.4 L 79.7 146.0 Q 80.8 145.6, 81.9 145.6 \" fill=\"#000000\"/>\n",
       "<path class=\"atom-5\" d=\"M 91.6 153.2 Q 89.4 153.2, 88.3 151.6 Q 87.2 150.0, 87.2 147.1 Q 87.2 144.2, 88.3 142.6 Q 89.3 140.9, 91.6 140.9 Q 93.8 140.9, 94.9 142.6 Q 96.0 144.2, 96.0 147.1 Q 96.0 150.0, 94.9 151.6 Q 93.8 153.2, 91.6 153.2 M 91.6 151.9 Q 92.9 151.9, 93.6 150.7 Q 94.3 149.5, 94.3 147.1 Q 94.3 144.7, 93.6 143.5 Q 92.9 142.3, 91.6 142.3 Q 90.3 142.3, 89.6 143.5 Q 88.9 144.7, 88.9 147.1 Q 88.9 149.5, 89.6 150.7 Q 90.3 151.9, 91.6 151.9 \" fill=\"#000000\"/>\n",
       "<path class=\"atom-5\" d=\"M 97.8 142.9 L 101.9 142.9 L 101.9 143.8 L 97.8 143.8 L 97.8 142.9 \" fill=\"#000000\"/>\n",
       "<path class=\"atom-6\" d=\"M 161.2 112.0 Q 161.2 109.1, 162.6 107.5 Q 164.0 105.9, 166.7 105.9 Q 169.2 105.9, 170.5 107.7 L 169.4 108.6 Q 168.4 107.3, 166.7 107.3 Q 164.9 107.3, 163.9 108.5 Q 163.0 109.7, 163.0 112.0 Q 163.0 114.4, 163.9 115.6 Q 164.9 116.9, 166.9 116.9 Q 168.2 116.9, 169.7 116.1 L 170.2 117.3 Q 169.6 117.7, 168.6 118.0 Q 167.7 118.2, 166.6 118.2 Q 164.0 118.2, 162.6 116.6 Q 161.2 115.0, 161.2 112.0 \" fill=\"#000000\"/>\n",
       "<path class=\"atom-6\" d=\"M 171.9 116.1 L 173.6 116.1 L 173.6 117.8 L 171.9 117.8 L 171.9 116.1 M 171.9 110.2 L 173.6 110.2 L 173.6 111.9 L 171.9 111.9 L 171.9 110.2 \" fill=\"#000000\"/>\n",
       "<path class=\"atom-6\" d=\"M 179.9 110.5 Q 180.9 110.5, 181.8 111.0 Q 182.7 111.4, 183.2 112.3 Q 183.6 113.1, 183.6 114.3 Q 183.6 115.5, 183.0 116.4 Q 182.4 117.3, 181.5 117.7 Q 180.5 118.2, 179.3 118.2 Q 178.2 118.2, 177.2 117.8 Q 176.2 117.4, 175.5 116.6 L 176.5 115.6 Q 177.1 116.2, 177.9 116.5 Q 178.6 116.8, 179.4 116.8 Q 180.5 116.8, 181.2 116.2 Q 181.9 115.5, 181.9 114.3 Q 181.9 113.0, 181.2 112.4 Q 180.5 111.8, 179.3 111.8 Q 178.2 111.8, 177.1 112.3 L 176.1 111.8 L 176.7 106.0 L 182.9 106.0 L 182.7 107.4 L 178.1 107.4 L 177.8 111.0 Q 178.8 110.5, 179.9 110.5 \" fill=\"#000000\"/>\n",
       "<path class=\"atom-6\" d=\"M 189.5 110.5 Q 190.6 110.5, 191.4 111.0 Q 192.3 111.4, 192.8 112.3 Q 193.3 113.1, 193.3 114.3 Q 193.3 115.5, 192.7 116.4 Q 192.1 117.3, 191.1 117.7 Q 190.1 118.2, 189.0 118.2 Q 187.9 118.2, 186.9 117.8 Q 185.8 117.4, 185.1 116.6 L 186.2 115.6 Q 186.7 116.2, 187.5 116.5 Q 188.3 116.8, 189.0 116.8 Q 190.1 116.8, 190.8 116.2 Q 191.6 115.5, 191.6 114.3 Q 191.6 113.0, 190.8 112.4 Q 190.1 111.8, 188.9 111.8 Q 187.9 111.8, 186.7 112.3 L 185.8 111.8 L 186.3 106.0 L 192.5 106.0 L 192.4 107.4 L 187.7 107.4 L 187.4 111.0 Q 188.5 110.5, 189.5 110.5 \" fill=\"#000000\"/>\n",
       "<path class=\"atom-7\" d=\"M 206.7 138.2 Q 206.7 135.2, 208.0 133.7 Q 209.5 132.1, 212.1 132.1 Q 214.6 132.1, 215.9 133.8 L 214.8 134.7 Q 213.8 133.5, 212.1 133.5 Q 210.3 133.5, 209.3 134.7 Q 208.4 135.9, 208.4 138.2 Q 208.4 140.6, 209.4 141.8 Q 210.4 143.0, 212.3 143.0 Q 213.6 143.0, 215.2 142.2 L 215.7 143.5 Q 215.0 143.9, 214.1 144.2 Q 213.1 144.4, 212.1 144.4 Q 209.5 144.4, 208.0 142.8 Q 206.7 141.2, 206.7 138.2 \" fill=\"#000000\"/>\n",
       "<path class=\"atom-7\" d=\"M 217.3 142.3 L 219.0 142.3 L 219.0 144.0 L 217.3 144.0 L 217.3 142.3 M 217.3 136.4 L 219.0 136.4 L 219.0 138.1 L 217.3 138.1 L 217.3 136.4 \" fill=\"#000000\"/>\n",
       "<path class=\"atom-7\" d=\"M 225.3 136.7 Q 226.4 136.7, 227.2 137.2 Q 228.1 137.6, 228.6 138.5 Q 229.1 139.3, 229.1 140.4 Q 229.1 141.7, 228.5 142.6 Q 227.9 143.5, 226.9 143.9 Q 225.9 144.4, 224.8 144.4 Q 223.7 144.4, 222.7 144.0 Q 221.6 143.6, 220.9 142.8 L 222.0 141.7 Q 222.5 142.3, 223.3 142.7 Q 224.1 143.0, 224.8 143.0 Q 225.9 143.0, 226.6 142.3 Q 227.4 141.7, 227.4 140.5 Q 227.4 139.2, 226.6 138.6 Q 225.9 138.0, 224.7 138.0 Q 223.7 138.0, 222.5 138.4 L 221.6 138.0 L 222.1 132.2 L 228.3 132.2 L 228.2 133.6 L 223.5 133.6 L 223.2 137.1 Q 224.3 136.7, 225.3 136.7 \" fill=\"#000000\"/>\n",
       "<path class=\"atom-7\" d=\"M 236.4 137.9 Q 237.5 138.2, 238.1 139.0 Q 238.7 139.8, 238.7 140.9 Q 238.7 142.0, 238.2 142.8 Q 237.6 143.5, 236.7 144.0 Q 235.8 144.4, 234.6 144.4 Q 233.3 144.4, 232.3 144.0 Q 231.3 143.5, 230.6 142.6 L 231.5 141.6 Q 232.3 142.4, 232.9 142.7 Q 233.5 143.1, 234.6 143.1 Q 235.6 143.1, 236.3 142.5 Q 237.0 141.9, 237.0 140.9 Q 237.0 139.7, 236.3 139.2 Q 235.6 138.6, 234.1 138.6 L 233.2 138.6 L 233.2 137.4 L 234.0 137.4 Q 235.3 137.4, 236.0 136.8 Q 236.7 136.2, 236.7 135.2 Q 236.7 134.4, 236.1 133.9 Q 235.6 133.4, 234.6 133.4 Q 233.6 133.4, 232.9 133.8 Q 232.3 134.2, 231.8 135.1 L 230.7 134.4 Q 231.1 133.4, 232.1 132.8 Q 233.1 132.1, 234.6 132.1 Q 236.3 132.1, 237.4 132.9 Q 238.4 133.7, 238.4 135.2 Q 238.4 136.1, 237.9 136.8 Q 237.4 137.5, 236.4 137.9 \" fill=\"#000000\"/>\n",
       "<path class=\"atom-8\" d=\"M 255.2 108.5 L 259.2 114.8 Q 259.6 115.5, 260.2 116.6 Q 260.8 117.7, 260.8 117.8 L 260.8 108.5 L 262.4 108.5 L 262.4 120.5 L 260.8 120.5 L 256.6 113.5 Q 256.1 112.7, 255.5 111.8 Q 255.0 110.8, 254.9 110.5 L 254.9 120.5 L 253.3 120.5 L 253.3 108.5 L 255.2 108.5 \" fill=\"#0000FF\"/>\n",
       "<path class=\"atom-8\" d=\"M 264.5 118.5 L 266.2 118.5 L 266.2 120.2 L 264.5 120.2 L 264.5 118.5 M 264.5 112.7 L 266.2 112.7 L 266.2 114.4 L 264.5 114.4 L 264.5 112.7 \" fill=\"#0000FF\"/>\n",
       "<path class=\"atom-8\" d=\"M 272.5 113.0 Q 273.6 113.0, 274.4 113.4 Q 275.3 113.9, 275.8 114.7 Q 276.3 115.5, 276.3 116.7 Q 276.3 117.9, 275.7 118.8 Q 275.1 119.7, 274.1 120.2 Q 273.1 120.6, 272.0 120.6 Q 270.9 120.6, 269.9 120.2 Q 268.8 119.8, 268.1 119.0 L 269.2 118.0 Q 269.7 118.6, 270.5 118.9 Q 271.2 119.2, 272.0 119.2 Q 273.1 119.2, 273.8 118.6 Q 274.6 117.9, 274.6 116.7 Q 274.6 115.4, 273.8 114.8 Q 273.1 114.2, 271.9 114.2 Q 270.9 114.2, 269.7 114.7 L 268.8 114.2 L 269.3 108.5 L 275.5 108.5 L 275.4 109.8 L 270.7 109.8 L 270.4 113.4 Q 271.5 113.0, 272.5 113.0 \" fill=\"#0000FF\"/>\n",
       "<path class=\"atom-8\" d=\"M 278.4 119.1 L 281.0 119.1 L 281.0 110.1 L 278.1 111.0 L 277.7 110.0 L 281.4 108.4 L 282.6 108.6 L 282.6 119.1 L 285.0 119.1 L 285.0 120.5 L 278.4 120.5 L 278.4 119.1 \" fill=\"#0000FF\"/>\n",
       "<path class=\"atom-9\" d=\"M 241.6 73.7 Q 241.6 70.7, 243.0 69.1 Q 244.4 67.5, 247.0 67.5 Q 249.5 67.5, 250.8 69.3 L 249.7 70.2 Q 248.8 68.9, 247.0 68.9 Q 245.2 68.9, 244.3 70.1 Q 243.3 71.3, 243.3 73.7 Q 243.3 76.0, 244.3 77.3 Q 245.3 78.5, 247.2 78.5 Q 248.6 78.5, 250.1 77.7 L 250.6 79.0 Q 249.9 79.4, 249.0 79.6 Q 248.0 79.8, 247.0 79.8 Q 244.4 79.8, 243.0 78.2 Q 241.6 76.6, 241.6 73.7 \" fill=\"#000000\"/>\n",
       "<path class=\"atom-9\" d=\"M 252.2 77.7 L 253.9 77.7 L 253.9 79.4 L 252.2 79.4 L 252.2 77.7 M 252.2 71.9 L 253.9 71.9 L 253.9 73.6 L 252.2 73.6 L 252.2 71.9 \" fill=\"#000000\"/>\n",
       "<path class=\"atom-9\" d=\"M 260.2 72.2 Q 261.3 72.2, 262.1 72.6 Q 263.0 73.1, 263.5 73.9 Q 264.0 74.7, 264.0 75.9 Q 264.0 77.1, 263.4 78.0 Q 262.8 78.9, 261.8 79.4 Q 260.8 79.8, 259.7 79.8 Q 258.6 79.8, 257.6 79.4 Q 256.6 79.0, 255.9 78.2 L 256.9 77.2 Q 257.4 77.8, 258.2 78.1 Q 259.0 78.4, 259.7 78.4 Q 260.8 78.4, 261.5 77.8 Q 262.3 77.1, 262.3 75.9 Q 262.3 74.6, 261.5 74.0 Q 260.8 73.4, 259.6 73.4 Q 258.6 73.4, 257.4 73.9 L 256.5 73.5 L 257.1 67.7 L 263.2 67.7 L 263.1 69.0 L 258.5 69.0 L 258.1 72.6 Q 259.2 72.2, 260.2 72.2 \" fill=\"#000000\"/>\n",
       "<path class=\"atom-9\" d=\"M 265.5 69.9 Q 266.0 68.8, 267.0 68.2 Q 268.1 67.5, 269.5 67.5 Q 271.4 67.5, 272.4 68.5 Q 273.4 69.5, 273.4 71.2 Q 273.4 73.0, 272.1 74.7 Q 270.8 76.4, 268.0 78.3 L 273.6 78.3 L 273.6 79.7 L 265.5 79.7 L 265.5 78.5 Q 267.7 77.0, 269.1 75.8 Q 270.4 74.6, 271.0 73.5 Q 271.7 72.4, 271.7 71.3 Q 271.7 70.2, 271.1 69.5 Q 270.5 68.9, 269.5 68.9 Q 268.6 68.9, 267.9 69.3 Q 267.3 69.7, 266.8 70.5 L 265.5 69.9 \" fill=\"#000000\"/>\n",
       "<path class=\"atom-10\" d=\"M 176.4 66.1 L 180.4 72.4 Q 180.7 73.1, 181.4 74.2 Q 182.0 75.4, 182.0 75.4 L 182.0 66.1 L 183.6 66.1 L 183.6 78.1 L 182.0 78.1 L 177.8 71.1 Q 177.3 70.3, 176.7 69.4 Q 176.2 68.5, 176.1 68.2 L 176.1 78.1 L 174.5 78.1 L 174.5 66.1 L 176.4 66.1 \" fill=\"#0000FF\"/>\n",
       "<path class=\"atom-10\" d=\"M 185.8 76.1 L 187.5 76.1 L 187.5 77.8 L 185.8 77.8 L 185.8 76.1 M 185.8 70.3 L 187.5 70.3 L 187.5 72.0 L 185.8 72.0 L 185.8 70.3 \" fill=\"#0000FF\"/>\n",
       "<path class=\"atom-10\" d=\"M 193.8 70.6 Q 194.9 70.6, 195.7 71.0 Q 196.6 71.5, 197.1 72.3 Q 197.6 73.2, 197.6 74.3 Q 197.6 75.5, 197.0 76.4 Q 196.4 77.3, 195.4 77.8 Q 194.4 78.2, 193.3 78.2 Q 192.2 78.2, 191.2 77.8 Q 190.2 77.4, 189.5 76.6 L 190.5 75.6 Q 191.0 76.2, 191.8 76.5 Q 192.6 76.9, 193.3 76.9 Q 194.4 76.9, 195.2 76.2 Q 195.9 75.5, 195.9 74.3 Q 195.9 73.1, 195.2 72.5 Q 194.4 71.9, 193.2 71.9 Q 192.2 71.9, 191.0 72.3 L 190.1 71.9 L 190.7 66.1 L 196.8 66.1 L 196.7 67.4 L 192.1 67.4 L 191.7 71.0 Q 192.8 70.6, 193.8 70.6 \" fill=\"#0000FF\"/>\n",
       "<path class=\"atom-10\" d=\"M 206.9 74.0 L 208.4 74.0 L 208.4 75.3 L 206.9 75.3 L 206.9 78.1 L 205.4 78.1 L 205.4 75.3 L 199.1 75.3 L 199.1 74.3 L 204.4 66.1 L 206.9 66.1 L 206.9 74.0 M 201.1 74.0 L 205.4 74.0 L 205.4 67.2 L 201.1 74.0 \" fill=\"#0000FF\"/>\n",
       "<path class=\"atom-10\" d=\"M 209.9 68.2 L 212.1 68.2 L 212.1 66.0 L 213.0 66.0 L 213.0 68.2 L 215.2 68.2 L 215.2 69.1 L 213.0 69.1 L 213.0 71.3 L 212.1 71.3 L 212.1 69.1 L 209.9 69.1 L 209.9 68.2 \" fill=\"#0000FF\"/>\n",
       "<path class=\"note\" d=\"M 144.9 140.5 Q 143.8 140.5, 143.3 139.7 Q 142.7 138.9, 142.7 137.4 Q 142.7 136.0, 143.3 135.2 Q 143.8 134.4, 144.9 134.4 Q 146.1 134.4, 146.6 135.2 Q 147.1 136.0, 147.1 137.4 Q 147.1 138.9, 146.6 139.7 Q 146.0 140.5, 144.9 140.5 M 144.9 139.8 Q 145.6 139.8, 145.9 139.2 Q 146.3 138.6, 146.3 137.4 Q 146.3 136.2, 145.9 135.6 Q 145.6 135.0, 144.9 135.0 Q 144.3 135.0, 143.9 135.6 Q 143.6 136.2, 143.6 137.4 Q 143.6 138.6, 143.9 139.2 Q 144.3 139.8, 144.9 139.8 \" fill=\"#000000\"/>\n",
       "<path class=\"note\" d=\"M 112.9 110.2 L 114.2 110.2 L 114.2 105.7 L 112.8 106.2 L 112.6 105.7 L 114.4 104.9 L 115.0 105.0 L 115.0 110.2 L 116.2 110.2 L 116.2 110.9 L 112.9 110.9 L 112.9 110.2 \" fill=\"#000000\"/>\n",
       "<path class=\"note\" d=\"M 129.6 37.4 Q 129.8 36.8, 130.3 36.5 Q 130.9 36.2, 131.6 36.2 Q 132.5 36.2, 133.0 36.7 Q 133.5 37.2, 133.5 38.0 Q 133.5 38.9, 132.8 39.8 Q 132.2 40.6, 130.8 41.6 L 133.6 41.6 L 133.6 42.3 L 129.6 42.3 L 129.6 41.7 Q 130.7 40.9, 131.3 40.3 Q 132.0 39.7, 132.3 39.2 Q 132.7 38.6, 132.7 38.1 Q 132.7 37.5, 132.4 37.2 Q 132.1 36.8, 131.6 36.8 Q 131.1 36.8, 130.8 37.0 Q 130.5 37.2, 130.2 37.7 L 129.6 37.4 \" fill=\"#000000\"/>\n",
       "<path class=\"note\" d=\"M 81.3 92.0 Q 81.9 92.1, 82.2 92.5 Q 82.5 92.9, 82.5 93.5 Q 82.5 94.0, 82.2 94.4 Q 82.0 94.8, 81.5 95.0 Q 81.0 95.2, 80.4 95.2 Q 79.8 95.2, 79.3 95.0 Q 78.8 94.8, 78.4 94.3 L 78.9 93.8 Q 79.3 94.2, 79.6 94.4 Q 79.9 94.5, 80.4 94.5 Q 81.0 94.5, 81.3 94.2 Q 81.6 93.9, 81.6 93.5 Q 81.6 92.9, 81.3 92.6 Q 80.9 92.3, 80.2 92.3 L 79.8 92.3 L 79.8 91.7 L 80.1 91.7 Q 80.8 91.7, 81.1 91.4 Q 81.5 91.1, 81.5 90.6 Q 81.5 90.2, 81.2 90.0 Q 80.9 89.7, 80.4 89.7 Q 79.9 89.7, 79.6 89.9 Q 79.3 90.1, 79.1 90.5 L 78.5 90.2 Q 78.7 89.7, 79.2 89.4 Q 79.7 89.0, 80.4 89.0 Q 81.3 89.0, 81.8 89.5 Q 82.3 89.9, 82.3 90.6 Q 82.3 91.1, 82.1 91.4 Q 81.8 91.8, 81.3 92.0 \" fill=\"#000000\"/>\n",
       "<path class=\"note\" d=\"M 44.2 63.6 L 44.9 63.6 L 44.9 64.3 L 44.2 64.3 L 44.2 65.7 L 43.4 65.7 L 43.4 64.3 L 40.3 64.3 L 40.3 63.8 L 42.9 59.7 L 44.2 59.7 L 44.2 63.6 M 41.3 63.6 L 43.4 63.6 L 43.4 60.2 L 41.3 63.6 \" fill=\"#000000\"/>\n",
       "<path class=\"note\" d=\"M 63.4 160.0 Q 64.0 160.0, 64.4 160.2 Q 64.8 160.4, 65.1 160.9 Q 65.3 161.3, 65.3 161.9 Q 65.3 162.5, 65.0 162.9 Q 64.7 163.4, 64.2 163.6 Q 63.7 163.8, 63.2 163.8 Q 62.6 163.8, 62.1 163.6 Q 61.6 163.4, 61.2 163.0 L 61.8 162.5 Q 62.0 162.8, 62.4 163.0 Q 62.8 163.1, 63.2 163.1 Q 63.7 163.1, 64.1 162.8 Q 64.5 162.5, 64.5 161.9 Q 64.5 161.2, 64.1 160.9 Q 63.7 160.6, 63.1 160.6 Q 62.6 160.6, 62.0 160.9 L 61.6 160.6 L 61.8 157.7 L 64.9 157.7 L 64.9 158.4 L 62.5 158.4 L 62.4 160.2 Q 62.9 160.0, 63.4 160.0 \" fill=\"#000000\"/>\n",
       "<path class=\"note\" d=\"M 186.8 125.2 Q 187.3 125.2, 187.7 125.4 Q 188.1 125.6, 188.4 126.0 Q 188.6 126.5, 188.6 127.0 Q 188.6 127.6, 188.3 128.0 Q 188.1 128.5, 187.6 128.7 Q 187.1 129.0, 186.6 129.0 Q 185.5 129.0, 185.0 128.3 Q 184.4 127.5, 184.4 126.1 Q 184.4 124.5, 185.1 123.7 Q 185.7 122.8, 187.0 122.8 Q 187.4 122.8, 187.7 122.9 Q 188.0 123.0, 188.3 123.2 L 188.0 123.8 Q 187.6 123.5, 187.0 123.5 Q 186.2 123.5, 185.8 124.1 Q 185.3 124.6, 185.3 125.7 Q 185.6 125.5, 186.0 125.3 Q 186.4 125.2, 186.8 125.2 M 186.6 128.3 Q 186.9 128.3, 187.2 128.1 Q 187.4 128.0, 187.6 127.7 Q 187.7 127.4, 187.7 127.0 Q 187.7 126.5, 187.4 126.2 Q 187.1 125.8, 186.6 125.8 Q 186.2 125.8, 185.9 126.0 Q 185.5 126.1, 185.3 126.4 Q 185.3 127.4, 185.6 127.8 Q 185.9 128.3, 186.6 128.3 \" fill=\"#000000\"/>\n",
       "<path class=\"note\" d=\"M 223.3 150.0 L 220.2 150.0 L 220.2 149.3 L 224.2 149.3 L 224.2 149.9 L 221.7 155.3 L 220.9 155.3 L 223.3 150.0 \" fill=\"#000000\"/>\n",
       "<path class=\"note\" d=\"M 261.3 128.2 Q 261.8 128.5, 262.1 128.8 Q 262.5 129.2, 262.5 129.8 Q 262.5 130.3, 262.2 130.7 Q 261.9 131.1, 261.5 131.3 Q 261.0 131.5, 260.4 131.5 Q 259.4 131.5, 258.8 131.0 Q 258.2 130.6, 258.2 129.8 Q 258.2 129.3, 258.5 128.9 Q 258.7 128.5, 259.2 128.3 Q 258.9 128.0, 258.6 127.7 Q 258.4 127.4, 258.4 126.9 Q 258.4 126.2, 258.9 125.8 Q 259.5 125.3, 260.3 125.3 Q 261.2 125.3, 261.7 125.8 Q 262.2 126.2, 262.2 126.9 Q 262.2 127.3, 262.0 127.6 Q 261.8 128.0, 261.3 128.2 M 260.3 126.0 Q 259.8 126.0, 259.6 126.2 Q 259.3 126.5, 259.3 126.9 Q 259.3 127.2, 259.5 127.4 Q 259.7 127.6, 259.9 127.7 Q 260.2 127.8, 260.7 128.0 Q 261.1 127.8, 261.2 127.5 Q 261.4 127.2, 261.4 126.9 Q 261.4 126.5, 261.1 126.2 Q 260.8 126.0, 260.3 126.0 M 260.4 130.9 Q 260.9 130.9, 261.3 130.6 Q 261.6 130.3, 261.6 129.8 Q 261.6 129.4, 261.4 129.2 Q 261.2 129.0, 261.0 128.9 Q 260.7 128.8, 260.2 128.6 L 259.9 128.5 Q 259.4 128.8, 259.2 129.1 Q 259.1 129.4, 259.1 129.8 Q 259.1 130.3, 259.4 130.6 Q 259.8 130.9, 260.4 130.9 \" fill=\"#000000\"/>\n",
       "<path class=\"note\" d=\"M 233.0 75.9 Q 234.1 75.9, 234.6 76.6 Q 235.2 77.3, 235.2 78.8 Q 235.2 80.3, 234.5 81.2 Q 233.8 82.0, 232.5 82.0 Q 232.2 82.0, 231.8 81.9 Q 231.5 81.8, 231.2 81.7 L 231.6 81.1 Q 232.0 81.3, 232.5 81.3 Q 233.4 81.3, 233.8 80.8 Q 234.3 80.2, 234.3 79.1 Q 234.0 79.4, 233.6 79.5 Q 233.2 79.7, 232.8 79.7 Q 232.3 79.7, 231.9 79.4 Q 231.5 79.2, 231.2 78.8 Q 231.0 78.4, 231.0 77.9 Q 231.0 77.3, 231.2 76.8 Q 231.5 76.4, 232.0 76.1 Q 232.4 75.9, 233.0 75.9 M 231.8 77.9 Q 231.8 78.4, 232.1 78.7 Q 232.4 79.0, 233.0 79.0 Q 233.3 79.0, 233.7 78.9 Q 234.0 78.7, 234.3 78.4 Q 234.3 77.5, 234.0 77.0 Q 233.6 76.6, 233.0 76.6 Q 232.7 76.6, 232.4 76.7 Q 232.1 76.9, 232.0 77.2 Q 231.8 77.5, 231.8 77.9 \" fill=\"#000000\"/>\n",
       "<path class=\"note\" d=\"M 191.8 62.7 L 193.1 62.7 L 193.1 58.2 L 191.7 58.7 L 191.5 58.2 L 193.3 57.3 L 193.9 57.4 L 193.9 62.7 L 195.1 62.7 L 195.1 63.4 L 191.8 63.4 L 191.8 62.7 \" fill=\"#000000\"/>\n",
       "<path class=\"note\" d=\"M 198.0 63.5 Q 196.9 63.5, 196.4 62.6 Q 195.8 61.8, 195.8 60.4 Q 195.8 58.9, 196.4 58.1 Q 196.9 57.3, 198.0 57.3 Q 199.2 57.3, 199.7 58.1 Q 200.2 58.9, 200.2 60.4 Q 200.2 61.8, 199.7 62.6 Q 199.2 63.5, 198.0 63.5 M 198.0 62.8 Q 198.7 62.8, 199.1 62.2 Q 199.4 61.6, 199.4 60.4 Q 199.4 59.2, 199.1 58.6 Q 198.7 58.0, 198.0 58.0 Q 197.4 58.0, 197.0 58.6 Q 196.7 59.2, 196.7 60.4 Q 196.7 61.6, 197.0 62.2 Q 197.4 62.8, 198.0 62.8 \" fill=\"#000000\"/>\n",
       "</svg>"
      ],
      "text/plain": [
       "<IPython.core.display.SVG object>"
      ]
     },
     "metadata": {},
     "output_type": "display_data"
    }
   ],
   "source": [
    "def display_mech_labeled_rxn(entry_id: int, mol_path):\n",
    "    mech_atom_map_nums = mech_df.loc[mech_df['entry_id'] == entry_id, 'mech_atoms'].iloc[0]\n",
    "\n",
    "\n",
    "    cpds = entries[str(entry_id)]['reaction']['compounds']\n",
    "    smarts = mech_df.loc[mech_df['entry_id'] == entry_id, 'smarts'].iloc[0]\n",
    "    rxn = AllChem.ReactionFromSmarts(smarts, useSmiles=True)\n",
    "    display(rxn)\n",
    "    lhs = [Chem.MolFromSmarts(elt) for elt in smarts.split('>>')[0].split('.')]\n",
    "    involved_atoms = []\n",
    "    for ams, mol in zip(mech_atom_map_nums, lhs):\n",
    "        involved_atoms.append([atom.GetIdx() for atom in mol.GetAtoms() if atom.GetAtomMapNum() in ams])\n",
    "    for i, rct in enumerate(lhs):\n",
    "        display(SVG(draw_molecule(rct, size=(300, 200), highlight_atoms=involved_atoms[i], draw_options={\"addAtomIndices\": True})))\n",
    "\n",
    "\n",
    "display_mech_labeled_rxn(49, Path(filepaths.mcsa_mols))"
   ]
  },
  {
   "cell_type": "code",
   "execution_count": 51,
   "metadata": {},
   "outputs": [
    {
     "data": {
      "image/png": "[encoded data removed]",
      "text/plain": [
       "<rdkit.Chem.rdChemReactions.ChemicalReaction at 0x7ff926730740>"
      ]
     },
     "metadata": {},
     "output_type": "display_data"
    },
    {
     "data": {
      "image/svg+xml": [
       "<svg xmlns=\"http://www.w3.org/2000/svg\" xmlns:rdkit=\"http://www.rdkit.org/xml\" xmlns:xlink=\"http://www.w3.org/1999/xlink\" version=\"1.1\" baseProfile=\"full\" xml:space=\"preserve\" width=\"300px\" height=\"200px\" viewBox=\"0 0 300 200\">\n",
       "<!-- END OF HEADER -->\n",
       "<rect style=\"opacity:1.0;fill:#FFFFFF;stroke:none\" width=\"300.0\" height=\"200.0\" x=\"0.0\" y=\"0.0\"> </rect>\n",
       "<path class=\"bond-3 atom-3 atom-4\" d=\"M 188.2,94.6 L 224.3,157.0 L 210.9,164.7 L 174.9,102.3 Z\" style=\"fill:#FF7F7F;fill-rule:evenodd;fill-opacity:1;stroke:#FF7F7F;stroke-width:0.0px;stroke-linecap:butt;stroke-linejoin:miter;stroke-opacity:1;\"/>\n",
       "<ellipse cx=\"181.5\" cy=\"100.2\" rx=\"38.9\" ry=\"17.1\" class=\"atom-3\" style=\"fill:#FF7F7F;fill-rule:evenodd;stroke:#FF7F7F;stroke-width:1.0px;stroke-linecap:butt;stroke-linejoin:miter;stroke-opacity:1\"/>\n",
       "<ellipse cx=\"237.4\" cy=\"162.6\" rx=\"41.3\" ry=\"17.1\" class=\"atom-4\" style=\"fill:#FF7F7F;fill-rule:evenodd;stroke:#FF7F7F;stroke-width:1.0px;stroke-linecap:butt;stroke-linejoin:miter;stroke-opacity:1\"/>\n",
       "<path class=\"bond-0 atom-0 atom-1\" d=\"M 100.1,114.6 L 90.4,131.4\" style=\"fill:none;fill-rule:evenodd;stroke:#7F7F7F;stroke-width:2.0px;stroke-linecap:butt;stroke-linejoin:miter;stroke-opacity:1\"/>\n",
       "<path class=\"bond-0 atom-0 atom-1\" d=\"M 85.7,128.7 L 76.0,145.5\" style=\"fill:none;fill-rule:evenodd;stroke:#7F7F7F;stroke-width:2.0px;stroke-linecap:butt;stroke-linejoin:miter;stroke-opacity:1\"/>\n",
       "<path class=\"bond-0 atom-0 atom-1\" d=\"M 95.1,134.1 L 85.4,150.9\" style=\"fill:none;fill-rule:evenodd;stroke:#7F7F7F;stroke-width:2.0px;stroke-linecap:butt;stroke-linejoin:miter;stroke-opacity:1;stroke-dasharray:1,1.33333\"/>\n",
       "<path class=\"bond-1 atom-0 atom-2\" d=\"M 108.6,86.2 L 97.0,66.1\" style=\"fill:none;fill-rule:evenodd;stroke:#000000;stroke-width:2.0px;stroke-linecap:butt;stroke-linejoin:miter;stroke-opacity:1\"/>\n",
       "<path class=\"bond-1 atom-0 atom-2\" d=\"M 97.0,66.1 L 85.4,46.0\" style=\"fill:none;fill-rule:evenodd;stroke:#FF0000;stroke-width:2.0px;stroke-linecap:butt;stroke-linejoin:miter;stroke-opacity:1\"/>\n",
       "<path class=\"bond-1 atom-0 atom-2\" d=\"M 99.3,91.6 L 87.6,71.5\" style=\"fill:none;fill-rule:evenodd;stroke:#000000;stroke-width:2.0px;stroke-linecap:butt;stroke-linejoin:miter;stroke-opacity:1\"/>\n",
       "<path class=\"bond-1 atom-0 atom-2\" d=\"M 87.6,71.5 L 76.0,51.4\" style=\"fill:none;fill-rule:evenodd;stroke:#FF0000;stroke-width:2.0px;stroke-linecap:butt;stroke-linejoin:miter;stroke-opacity:1\"/>\n",
       "<path class=\"bond-2 atom-0 atom-3\" d=\"M 139.2,98.4 L 145.5,98.4\" style=\"fill:none;fill-rule:evenodd;stroke:#7F7F7F;stroke-width:2.0px;stroke-linecap:butt;stroke-linejoin:miter;stroke-opacity:1\"/>\n",
       "<path class=\"bond-2 atom-0 atom-3\" d=\"M 145.5,93.0 L 151.7,93.0\" style=\"fill:none;fill-rule:evenodd;stroke:#7F7F7F;stroke-width:2.0px;stroke-linecap:butt;stroke-linejoin:miter;stroke-opacity:1\"/>\n",
       "<path class=\"bond-2 atom-0 atom-3\" d=\"M 145.5,103.8 L 151.7,103.8\" style=\"fill:none;fill-rule:evenodd;stroke:#7F7F7F;stroke-width:2.0px;stroke-linecap:butt;stroke-linejoin:miter;stroke-opacity:1;stroke-dasharray:0.5,0.666667\"/>\n",
       "<path class=\"bond-3 atom-3 atom-4\" d=\"M 184.3,114.1 L 205.6,150.9\" style=\"fill:none;fill-rule:evenodd;stroke:#000000;stroke-width:2.0px;stroke-linecap:butt;stroke-linejoin:miter;stroke-opacity:1\"/>\n",
       "<path class=\"bond-3 atom-3 atom-4\" d=\"M 193.7,108.7 L 214.9,145.5\" style=\"fill:none;fill-rule:evenodd;stroke:#000000;stroke-width:2.0px;stroke-linecap:butt;stroke-linejoin:miter;stroke-opacity:1\"/>\n",
       "<path class=\"bond-4 atom-3 atom-5\" d=\"M 188.9,85.7 L 199.5,67.3\" style=\"fill:none;fill-rule:evenodd;stroke:#7F7F7F;stroke-width:2.0px;stroke-linecap:butt;stroke-linejoin:miter;stroke-opacity:1\"/>\n",
       "<path class=\"bond-4 atom-3 atom-5\" d=\"M 204.2,70.0 L 214.8,51.6\" style=\"fill:none;fill-rule:evenodd;stroke:#7F7F7F;stroke-width:2.0px;stroke-linecap:butt;stroke-linejoin:miter;stroke-opacity:1\"/>\n",
       "<path class=\"bond-4 atom-3 atom-5\" d=\"M 194.8,64.6 L 205.4,46.2\" style=\"fill:none;fill-rule:evenodd;stroke:#7F7F7F;stroke-width:2.0px;stroke-linecap:butt;stroke-linejoin:miter;stroke-opacity:1;stroke-dasharray:1,1.33333\"/>\n",
       "<path class=\"atom-0\" d=\"M 82.0 98.5 Q 82.0 93.4, 84.4 90.8 Q 86.8 88.1, 91.3 88.1 Q 95.5 88.1, 97.8 91.1 L 95.9 92.6 Q 94.2 90.5, 91.3 90.5 Q 88.2 90.5, 86.6 92.5 Q 85.0 94.6, 85.0 98.5 Q 85.0 102.5, 86.7 104.6 Q 88.4 106.7, 91.6 106.7 Q 93.9 106.7, 96.5 105.3 L 97.3 107.5 Q 96.3 108.2, 94.6 108.6 Q 93.0 109.0, 91.2 109.0 Q 86.8 109.0, 84.4 106.3 Q 82.0 103.6, 82.0 98.5 \" fill=\"#000000\"/>\n",
       "<path class=\"atom-0\" d=\"M 100.1 105.4 L 103.0 105.4 L 103.0 108.3 L 100.1 108.3 L 100.1 105.4 M 100.1 95.4 L 103.0 95.4 L 103.0 98.3 L 100.1 98.3 L 100.1 95.4 \" fill=\"#000000\"/>\n",
       "<path class=\"atom-0\" d=\"M 113.7 96.0 Q 115.5 96.0, 117.0 96.7 Q 118.5 97.5, 119.3 98.9 Q 120.1 100.4, 120.1 102.3 Q 120.1 104.4, 119.1 105.9 Q 118.1 107.4, 116.4 108.2 Q 114.7 109.0, 112.8 109.0 Q 111.0 109.0, 109.2 108.3 Q 107.5 107.6, 106.3 106.3 L 108.0 104.5 Q 109.0 105.5, 110.3 106.1 Q 111.6 106.6, 112.9 106.6 Q 114.7 106.6, 116.0 105.5 Q 117.2 104.4, 117.2 102.3 Q 117.2 100.2, 116.0 99.2 Q 114.7 98.1, 112.7 98.1 Q 111.0 98.1, 109.0 98.9 L 107.4 98.2 L 108.4 88.3 L 118.9 88.3 L 118.6 90.6 L 110.7 90.6 L 110.1 96.7 Q 111.9 96.0, 113.7 96.0 \" fill=\"#000000\"/>\n",
       "<path class=\"atom-0\" d=\"M 129.5 88.1 Q 133.2 88.1, 135.0 90.6 Q 136.8 93.0, 136.8 97.9 Q 136.8 103.4, 134.6 106.2 Q 132.3 109.0, 128.0 109.0 Q 126.7 109.0, 125.6 108.7 Q 124.5 108.4, 123.5 107.8 L 124.6 105.9 Q 126.1 106.7, 127.9 106.7 Q 130.8 106.7, 132.3 104.8 Q 133.8 102.9, 133.9 99.1 Q 132.9 100.1, 131.6 100.6 Q 130.3 101.1, 128.9 101.1 Q 127.1 101.1, 125.7 100.3 Q 124.2 99.5, 123.5 98.1 Q 122.7 96.7, 122.7 94.9 Q 122.7 92.9, 123.5 91.4 Q 124.4 89.8, 126.0 89.0 Q 127.6 88.1, 129.5 88.1 M 125.6 94.9 Q 125.6 96.7, 126.6 97.7 Q 127.6 98.8, 129.4 98.8 Q 130.6 98.8, 131.8 98.3 Q 133.1 97.8, 133.9 96.9 Q 133.8 93.5, 132.7 92.0 Q 131.7 90.5, 129.5 90.5 Q 128.4 90.5, 127.5 91.0 Q 126.6 91.6, 126.1 92.6 Q 125.6 93.6, 125.6 94.9 \" fill=\"#000000\"/>\n",
       "<path class=\"atom-1\" d=\"M 21.3 160.9 Q 21.3 156.0, 23.7 153.3 Q 26.1 150.5, 30.6 150.5 Q 35.2 150.5, 37.6 153.3 Q 40.0 156.0, 40.0 160.9 Q 40.0 165.9, 37.6 168.7 Q 35.1 171.5, 30.6 171.5 Q 26.1 171.5, 23.7 168.7 Q 21.3 165.9, 21.3 160.9 M 30.6 169.2 Q 33.7 169.2, 35.4 167.1 Q 37.1 165.0, 37.1 160.9 Q 37.1 156.9, 35.4 154.9 Q 33.7 152.8, 30.6 152.8 Q 27.5 152.8, 25.8 154.9 Q 24.1 156.9, 24.1 160.9 Q 24.1 165.0, 25.8 167.1 Q 27.5 169.2, 30.6 169.2 \" fill=\"#FF0000\"/>\n",
       "<path class=\"atom-1\" d=\"M 42.7 167.8 L 45.6 167.8 L 45.6 170.7 L 42.7 170.7 L 42.7 167.8 M 42.7 157.9 L 45.6 157.9 L 45.6 160.8 L 42.7 160.8 L 42.7 157.9 \" fill=\"#FF0000\"/>\n",
       "<path class=\"atom-1\" d=\"M 56.9 158.4 Q 58.7 158.4, 60.1 159.2 Q 61.5 160.0, 62.3 161.4 Q 63.1 162.8, 63.1 164.6 Q 63.1 166.6, 62.2 168.2 Q 61.3 169.7, 59.8 170.6 Q 58.2 171.4, 56.2 171.4 Q 52.6 171.4, 50.8 169.0 Q 48.9 166.5, 48.9 161.6 Q 48.9 156.2, 51.2 153.4 Q 53.5 150.5, 57.8 150.5 Q 59.1 150.5, 60.2 150.8 Q 61.3 151.1, 62.3 151.7 L 61.2 153.7 Q 59.7 152.8, 57.9 152.8 Q 55.0 152.8, 53.5 154.7 Q 52.0 156.6, 51.9 160.4 Q 52.9 159.4, 54.2 159.0 Q 55.5 158.4, 56.9 158.4 M 56.3 169.1 Q 57.4 169.1, 58.3 168.5 Q 59.2 167.9, 59.7 166.9 Q 60.2 165.9, 60.2 164.6 Q 60.2 162.8, 59.2 161.8 Q 58.2 160.7, 56.4 160.7 Q 55.2 160.7, 53.9 161.3 Q 52.7 161.8, 51.9 162.6 Q 52.0 166.0, 53.0 167.5 Q 54.1 169.1, 56.3 169.1 \" fill=\"#FF0000\"/>\n",
       "<path class=\"atom-1\" d=\"M 73.4 171.4 Q 69.6 171.4, 67.8 168.6 Q 65.9 165.9, 65.9 160.9 Q 65.9 156.0, 67.8 153.3 Q 69.6 150.5, 73.4 150.5 Q 77.2 150.5, 79.0 153.3 Q 80.9 156.0, 80.9 160.9 Q 80.9 165.9, 79.0 168.6 Q 77.1 171.4, 73.4 171.4 M 73.4 169.1 Q 75.6 169.1, 76.8 167.1 Q 78.0 165.0, 78.0 160.9 Q 78.0 156.9, 76.8 154.9 Q 75.6 152.8, 73.4 152.8 Q 71.2 152.8, 70.0 154.9 Q 68.8 156.9, 68.8 160.9 Q 68.8 165.0, 70.0 167.1 Q 71.2 169.1, 73.4 169.1 \" fill=\"#FF0000\"/>\n",
       "<path class=\"atom-1\" d=\"M 84.0 153.9 L 90.9 153.9 L 90.9 155.4 L 84.0 155.4 L 84.0 153.9 \" fill=\"#FF0000\"/>\n",
       "<path class=\"atom-2\" d=\"M 22.6 36.0 Q 22.6 31.1, 25.1 28.4 Q 27.5 25.7, 32.0 25.7 Q 36.5 25.7, 39.0 28.4 Q 41.4 31.1, 41.4 36.0 Q 41.4 41.0, 38.9 43.8 Q 36.5 46.6, 32.0 46.6 Q 27.5 46.6, 25.1 43.8 Q 22.6 41.0, 22.6 36.0 M 32.0 44.3 Q 35.1 44.3, 36.8 42.2 Q 38.5 40.1, 38.5 36.0 Q 38.5 32.0, 36.8 30.0 Q 35.1 28.0, 32.0 28.0 Q 28.9 28.0, 27.2 30.0 Q 25.5 32.0, 25.5 36.0 Q 25.5 40.2, 27.2 42.2 Q 28.9 44.3, 32.0 44.3 \" fill=\"#FF0000\"/>\n",
       "<path class=\"atom-2\" d=\"M 44.0 42.9 L 46.9 42.9 L 46.9 45.8 L 44.0 45.8 L 44.0 42.9 M 44.0 33.0 L 46.9 33.0 L 46.9 35.9 L 44.0 35.9 L 44.0 33.0 \" fill=\"#FF0000\"/>\n",
       "<path class=\"atom-2\" d=\"M 58.3 33.6 Q 60.1 33.6, 61.5 34.3 Q 62.9 35.1, 63.7 36.5 Q 64.4 37.9, 64.4 39.7 Q 64.4 41.7, 63.5 43.3 Q 62.7 44.8, 61.1 45.7 Q 59.6 46.5, 57.6 46.5 Q 53.9 46.5, 52.1 44.1 Q 50.3 41.6, 50.3 36.7 Q 50.3 31.3, 52.5 28.5 Q 54.8 25.7, 59.2 25.7 Q 60.4 25.7, 61.5 25.9 Q 62.6 26.2, 63.6 26.8 L 62.5 28.8 Q 61.0 28.0, 59.2 28.0 Q 56.3 28.0, 54.8 29.8 Q 53.4 31.7, 53.2 35.5 Q 54.2 34.6, 55.5 34.1 Q 56.9 33.6, 58.3 33.6 M 57.6 44.2 Q 58.7 44.2, 59.6 43.6 Q 60.5 43.0, 61.0 42.0 Q 61.6 41.0, 61.6 39.8 Q 61.6 37.9, 60.5 36.9 Q 59.5 35.9, 57.8 35.9 Q 56.5 35.9, 55.3 36.4 Q 54.1 36.9, 53.2 37.7 Q 53.3 41.1, 54.4 42.6 Q 55.4 44.2, 57.6 44.2 \" fill=\"#FF0000\"/>\n",
       "<path class=\"atom-2\" d=\"M 68.4 44.0 L 72.8 44.0 L 72.8 28.7 L 67.9 30.3 L 67.2 28.6 L 73.5 25.8 L 75.5 26.1 L 75.5 44.0 L 79.5 44.0 L 79.5 46.3 L 68.4 46.3 L 68.4 44.0 \" fill=\"#FF0000\"/>\n",
       "<path class=\"atom-3\" d=\"M 154.1 98.5 Q 154.1 93.4, 156.4 90.8 Q 158.8 88.1, 163.4 88.1 Q 167.6 88.1, 169.8 91.1 L 167.9 92.6 Q 166.3 90.5, 163.4 90.5 Q 160.3 90.5, 158.6 92.5 Q 157.0 94.6, 157.0 98.5 Q 157.0 102.5, 158.7 104.6 Q 160.4 106.7, 163.7 106.7 Q 165.9 106.7, 168.5 105.3 L 169.4 107.5 Q 168.3 108.2, 166.7 108.6 Q 165.1 109.0, 163.3 109.0 Q 158.8 109.0, 156.4 106.3 Q 154.1 103.6, 154.1 98.5 \" fill=\"#000000\"/>\n",
       "<path class=\"atom-3\" d=\"M 172.1 105.4 L 175.0 105.4 L 175.0 108.3 L 172.1 108.3 L 172.1 105.4 M 172.1 95.4 L 175.0 95.4 L 175.0 98.3 L 172.1 98.3 L 172.1 95.4 \" fill=\"#000000\"/>\n",
       "<path class=\"atom-3\" d=\"M 186.3 96.0 Q 188.1 96.0, 189.5 96.8 Q 190.9 97.6, 191.7 99.0 Q 192.5 100.4, 192.5 102.2 Q 192.5 104.2, 191.6 105.7 Q 190.7 107.2, 189.2 108.1 Q 187.6 109.0, 185.6 109.0 Q 182.0 109.0, 180.2 106.5 Q 178.3 104.0, 178.3 99.1 Q 178.3 93.7, 180.6 90.9 Q 182.9 88.1, 187.2 88.1 Q 188.5 88.1, 189.6 88.4 Q 190.7 88.7, 191.7 89.3 L 190.6 91.2 Q 189.1 90.4, 187.3 90.4 Q 184.4 90.4, 182.9 92.3 Q 181.4 94.1, 181.3 98.0 Q 182.3 97.0, 183.6 96.5 Q 184.9 96.0, 186.3 96.0 M 185.7 106.6 Q 186.8 106.6, 187.7 106.0 Q 188.6 105.5, 189.1 104.4 Q 189.6 103.4, 189.6 102.2 Q 189.6 100.4, 188.6 99.3 Q 187.6 98.3, 185.8 98.3 Q 184.6 98.3, 183.3 98.8 Q 182.1 99.3, 181.3 100.2 Q 181.4 103.6, 182.4 105.1 Q 183.5 106.6, 185.7 106.6 \" fill=\"#000000\"/>\n",
       "<path class=\"atom-3\" d=\"M 195.3 92.2 Q 196.1 90.3, 197.9 89.2 Q 199.6 88.1, 202.1 88.1 Q 205.2 88.1, 206.9 89.8 Q 208.7 91.4, 208.7 94.4 Q 208.7 97.4, 206.4 100.3 Q 204.2 103.1, 199.6 106.4 L 209.0 106.4 L 209.0 108.7 L 195.3 108.7 L 195.3 106.8 Q 199.1 104.1, 201.3 102.1 Q 203.6 100.1, 204.7 98.2 Q 205.8 96.4, 205.8 94.6 Q 205.8 92.6, 204.8 91.5 Q 203.8 90.4, 202.1 90.4 Q 200.5 90.4, 199.4 91.1 Q 198.3 91.7, 197.5 93.2 L 195.3 92.2 \" fill=\"#000000\"/>\n",
       "<path class=\"atom-4\" d=\"M 208.2 160.9 Q 208.2 156.0, 210.6 153.3 Q 213.1 150.5, 217.6 150.5 Q 222.1 150.5, 224.5 153.3 Q 227.0 156.0, 227.0 160.9 Q 227.0 165.9, 224.5 168.7 Q 222.1 171.5, 217.6 171.5 Q 213.1 171.5, 210.6 168.7 Q 208.2 165.9, 208.2 160.9 M 217.6 169.2 Q 220.7 169.2, 222.4 167.1 Q 224.1 165.0, 224.1 160.9 Q 224.1 156.9, 222.4 154.9 Q 220.7 152.8, 217.6 152.8 Q 214.5 152.8, 212.8 154.9 Q 211.1 156.9, 211.1 160.9 Q 211.1 165.0, 212.8 167.1 Q 214.5 169.2, 217.6 169.2 \" fill=\"#000000\"/>\n",
       "<path class=\"atom-4\" d=\"M 229.6 167.8 L 232.5 167.8 L 232.5 170.7 L 229.6 170.7 L 229.6 167.8 M 229.6 157.9 L 232.5 157.9 L 232.5 160.8 L 229.6 160.8 L 229.6 157.9 \" fill=\"#000000\"/>\n",
       "<path class=\"atom-4\" d=\"M 243.9 158.4 Q 245.7 158.4, 247.1 159.2 Q 248.5 160.0, 249.3 161.4 Q 250.1 162.8, 250.1 164.6 Q 250.1 166.6, 249.2 168.2 Q 248.3 169.7, 246.8 170.6 Q 245.2 171.4, 243.2 171.4 Q 239.6 171.4, 237.7 169.0 Q 235.9 166.5, 235.9 161.6 Q 235.9 156.2, 238.2 153.4 Q 240.5 150.5, 244.8 150.5 Q 246.1 150.5, 247.1 150.8 Q 248.2 151.1, 249.3 151.7 L 248.2 153.7 Q 246.7 152.8, 244.8 152.8 Q 242.0 152.8, 240.5 154.7 Q 239.0 156.6, 238.8 160.4 Q 239.9 159.4, 241.2 159.0 Q 242.5 158.4, 243.9 158.4 M 243.3 169.1 Q 244.4 169.1, 245.2 168.5 Q 246.2 167.9, 246.7 166.9 Q 247.2 165.9, 247.2 164.6 Q 247.2 162.8, 246.2 161.8 Q 245.2 160.7, 243.4 160.7 Q 242.2 160.7, 240.9 161.3 Q 239.7 161.8, 238.8 162.6 Q 239.0 166.0, 240.0 167.5 Q 241.1 169.1, 243.3 169.1 \" fill=\"#000000\"/>\n",
       "<path class=\"atom-4\" d=\"M 262.7 160.4 Q 264.7 161.0, 265.7 162.3 Q 266.6 163.6, 266.6 165.6 Q 266.6 167.3, 265.8 168.7 Q 264.9 170.0, 263.3 170.8 Q 261.7 171.5, 259.7 171.5 Q 257.5 171.5, 255.8 170.7 Q 254.2 169.9, 252.9 168.4 L 254.6 166.7 Q 255.8 168.1, 256.9 168.6 Q 258.0 169.2, 259.7 169.2 Q 261.5 169.2, 262.6 168.2 Q 263.8 167.2, 263.8 165.6 Q 263.8 163.5, 262.6 162.6 Q 261.4 161.6, 258.9 161.6 L 257.4 161.6 L 257.4 159.5 L 258.7 159.5 Q 261.0 159.5, 262.1 158.6 Q 263.3 157.6, 263.3 155.8 Q 263.3 154.4, 262.3 153.7 Q 261.4 152.8, 259.7 152.8 Q 258.0 152.8, 256.9 153.4 Q 255.9 154.1, 255.1 155.6 L 253.1 154.5 Q 253.8 152.8, 255.5 151.7 Q 257.3 150.5, 259.7 150.5 Q 262.7 150.5, 264.5 151.9 Q 266.2 153.4, 266.2 155.8 Q 266.2 157.4, 265.3 158.6 Q 264.4 159.8, 262.7 160.4 \" fill=\"#000000\"/>\n",
       "<path class=\"atom-5\" d=\"M 209.7 36.1 Q 209.7 31.0, 212.1 28.3 Q 214.5 25.7, 219.0 25.7 Q 223.2 25.7, 225.5 28.6 L 223.6 30.2 Q 221.9 28.0, 219.0 28.0 Q 215.9 28.0, 214.3 30.1 Q 212.7 32.1, 212.7 36.1 Q 212.7 40.1, 214.3 42.2 Q 216.0 44.3, 219.3 44.3 Q 221.6 44.3, 224.2 42.9 L 225.0 45.1 Q 223.9 45.8, 222.3 46.2 Q 220.7 46.6, 218.9 46.6 Q 214.5 46.6, 212.1 43.9 Q 209.7 41.1, 209.7 36.1 \" fill=\"#000000\"/>\n",
       "<path class=\"atom-5\" d=\"M 227.8 42.9 L 230.7 42.9 L 230.7 45.8 L 227.8 45.8 L 227.8 42.9 M 227.8 33.0 L 230.7 33.0 L 230.7 35.9 L 227.8 35.9 L 227.8 33.0 \" fill=\"#000000\"/>\n",
       "<path class=\"atom-5\" d=\"M 242.1 33.6 Q 243.9 33.6, 245.3 34.3 Q 246.7 35.1, 247.5 36.5 Q 248.3 37.9, 248.3 39.7 Q 248.3 41.7, 247.4 43.3 Q 246.5 44.8, 244.9 45.7 Q 243.4 46.5, 241.4 46.5 Q 237.8 46.5, 235.9 44.1 Q 234.1 41.6, 234.1 36.7 Q 234.1 31.3, 236.3 28.5 Q 238.6 25.7, 243.0 25.7 Q 244.2 25.7, 245.3 25.9 Q 246.4 26.2, 247.4 26.8 L 246.3 28.8 Q 244.8 28.0, 243.0 28.0 Q 240.1 28.0, 238.6 29.8 Q 237.2 31.7, 237.0 35.5 Q 238.0 34.6, 239.3 34.1 Q 240.7 33.6, 242.1 33.6 M 241.4 44.2 Q 242.5 44.2, 243.4 43.6 Q 244.3 43.0, 244.8 42.0 Q 245.4 41.0, 245.4 39.8 Q 245.4 37.9, 244.4 36.9 Q 243.3 35.9, 241.6 35.9 Q 240.3 35.9, 239.1 36.4 Q 237.9 36.9, 237.0 37.7 Q 237.1 41.1, 238.2 42.6 Q 239.3 44.2, 241.4 44.2 \" fill=\"#000000\"/>\n",
       "<path class=\"atom-5\" d=\"M 264.3 39.3 L 266.8 39.3 L 266.8 41.6 L 264.3 41.6 L 264.3 46.3 L 261.6 46.3 L 261.6 41.6 L 251.1 41.6 L 251.1 39.8 L 260.0 25.9 L 264.3 25.9 L 264.3 39.3 M 254.4 39.3 L 261.6 39.3 L 261.6 27.7 L 254.4 39.3 \" fill=\"#000000\"/>\n",
       "<path class=\"note\" d=\"M 121.5 82.9 Q 119.6 82.9, 118.6 81.5 Q 117.7 80.1, 117.7 77.6 Q 117.7 75.2, 118.6 73.8 Q 119.6 72.4, 121.5 72.4 Q 123.3 72.4, 124.3 73.8 Q 125.2 75.2, 125.2 77.6 Q 125.2 80.1, 124.3 81.5 Q 123.3 82.9, 121.5 82.9 M 121.5 81.7 Q 122.6 81.7, 123.2 80.7 Q 123.7 79.7, 123.7 77.6 Q 123.7 75.6, 123.2 74.6 Q 122.6 73.6, 121.5 73.6 Q 120.4 73.6, 119.8 74.6 Q 119.2 75.6, 119.2 77.6 Q 119.2 79.7, 119.8 80.7 Q 120.4 81.7, 121.5 81.7 \" fill=\"#000000\"/>\n",
       "<path class=\"note\" d=\"M 58.9 185.7 L 61.1 185.7 L 61.1 178.0 L 58.6 178.8 L 58.3 177.9 L 61.4 176.5 L 62.4 176.7 L 62.4 185.7 L 64.4 185.7 L 64.4 186.8 L 58.9 186.8 L 58.9 185.7 \" fill=\"#000000\"/>\n",
       "<path class=\"note\" d=\"M 58.0 12.0 Q 58.3 11.1, 59.2 10.5 Q 60.1 10.0, 61.4 10.0 Q 62.9 10.0, 63.8 10.8 Q 64.6 11.7, 64.6 13.2 Q 64.6 14.7, 63.5 16.1 Q 62.4 17.5, 60.1 19.2 L 64.8 19.2 L 64.8 20.3 L 57.9 20.3 L 57.9 19.4 Q 59.8 18.0, 61.0 17.0 Q 62.1 16.0, 62.6 15.1 Q 63.2 14.2, 63.2 13.2 Q 63.2 12.2, 62.7 11.7 Q 62.2 11.2, 61.4 11.2 Q 60.5 11.2, 60.0 11.5 Q 59.4 11.8, 59.1 12.6 L 58.0 12.0 \" fill=\"#000000\"/>\n",
       "<path class=\"note\" d=\"M 171.0 77.4 Q 172.0 77.7, 172.5 78.3 Q 173.0 79.0, 173.0 80.0 Q 173.0 80.8, 172.5 81.5 Q 172.1 82.2, 171.3 82.6 Q 170.5 82.9, 169.5 82.9 Q 168.4 82.9, 167.5 82.5 Q 166.7 82.1, 166.1 81.4 L 166.9 80.5 Q 167.5 81.2, 168.1 81.5 Q 168.6 81.8, 169.5 81.8 Q 170.4 81.8, 171.0 81.3 Q 171.5 80.8, 171.5 80.0 Q 171.5 78.9, 170.9 78.5 Q 170.3 78.0, 169.1 78.0 L 168.4 78.0 L 168.4 76.9 L 169.0 76.9 Q 170.1 76.9, 170.7 76.5 Q 171.3 76.0, 171.3 75.1 Q 171.3 74.4, 170.8 74.0 Q 170.3 73.6, 169.5 73.6 Q 168.6 73.6, 168.1 73.9 Q 167.6 74.2, 167.2 75.0 L 166.2 74.4 Q 166.5 73.6, 167.4 73.0 Q 168.3 72.4, 169.5 72.4 Q 171.0 72.4, 171.9 73.1 Q 172.7 73.9, 172.7 75.1 Q 172.7 75.9, 172.3 76.5 Q 171.8 77.1, 171.0 77.4 \" fill=\"#000000\"/>\n",
       "<path class=\"note\" d=\"M 220.3 186.5 L 221.5 186.5 L 221.5 187.6 L 220.3 187.6 L 220.3 190.0 L 218.9 190.0 L 218.9 187.6 L 213.7 187.6 L 213.7 186.7 L 218.1 179.8 L 220.3 179.8 L 220.3 186.5 M 215.3 186.5 L 218.9 186.5 L 218.9 180.7 L 215.3 186.5 \" fill=\"#000000\"/>\n",
       "<path class=\"note\" d=\"M 229.9 13.9 Q 230.8 13.9, 231.5 14.3 Q 232.2 14.6, 232.6 15.4 Q 233.1 16.1, 233.1 17.0 Q 233.1 18.1, 232.5 18.9 Q 232.0 19.6, 231.2 20.0 Q 230.4 20.4, 229.4 20.4 Q 228.5 20.4, 227.6 20.0 Q 226.7 19.7, 226.2 19.0 L 227.0 18.1 Q 227.5 18.7, 228.1 18.9 Q 228.8 19.2, 229.5 19.2 Q 230.4 19.2, 231.0 18.7 Q 231.6 18.1, 231.6 17.1 Q 231.6 16.0, 231.0 15.5 Q 230.4 15.0, 229.4 15.0 Q 228.5 15.0, 227.5 15.3 L 226.7 15.0 L 227.2 10.1 L 232.4 10.1 L 232.3 11.2 L 228.4 11.2 L 228.1 14.2 Q 229.0 13.9, 229.9 13.9 \" fill=\"#000000\"/>\n",
       "</svg>"
      ],
      "text/plain": [
       "<IPython.core.display.SVG object>"
      ]
     },
     "metadata": {},
     "output_type": "display_data"
    },
    {
     "data": {
      "image/svg+xml": [
       "<svg xmlns=\"http://www.w3.org/2000/svg\" xmlns:rdkit=\"http://www.rdkit.org/xml\" xmlns:xlink=\"http://www.w3.org/1999/xlink\" version=\"1.1\" baseProfile=\"full\" xml:space=\"preserve\" width=\"300px\" height=\"200px\" viewBox=\"0 0 300 200\">\n",
       "<!-- END OF HEADER -->\n",
       "<rect style=\"opacity:1.0;fill:#FFFFFF;stroke:none\" width=\"300.0\" height=\"200.0\" x=\"0.0\" y=\"0.0\"> </rect>\n",
       "<path class=\"bond-0 atom-0 atom-1\" d=\"M 112.0,90.7 L 120.9,106.1 L 87.1,164.6 L 73.8,156.9 Z\" style=\"fill:#FF7F7F;fill-rule:evenodd;fill-opacity:1;stroke:#FF7F7F;stroke-width:0.0px;stroke-linecap:butt;stroke-linejoin:miter;stroke-opacity:1;\"/>\n",
       "<path class=\"bond-1 atom-0 atom-2\" d=\"M 192.9,90.7 L 184.0,106.1 L 120.9,106.1 L 112.0,90.7 Z\" style=\"fill:#FF7F7F;fill-rule:evenodd;fill-opacity:1;stroke:#FF7F7F;stroke-width:0.0px;stroke-linecap:butt;stroke-linejoin:miter;stroke-opacity:1;\"/>\n",
       "<path class=\"bond-3 atom-2 atom-4\" d=\"M 192.9,90.7 L 231.0,156.9 L 217.7,164.6 L 184.0,106.1 Z\" style=\"fill:#FF7F7F;fill-rule:evenodd;fill-opacity:1;stroke:#FF7F7F;stroke-width:0.0px;stroke-linecap:butt;stroke-linejoin:miter;stroke-opacity:1;\"/>\n",
       "<ellipse cx=\"116.5\" cy=\"100.1\" rx=\"39.1\" ry=\"17.0\" class=\"atom-0\" style=\"fill:#FF7F7F;fill-rule:evenodd;stroke:#FF7F7F;stroke-width:1.0px;stroke-linecap:butt;stroke-linejoin:miter;stroke-opacity:1\"/>\n",
       "<ellipse cx=\"63.4\" cy=\"162.4\" rx=\"48.4\" ry=\"17.0\" class=\"atom-1\" style=\"fill:#FF7F7F;fill-rule:evenodd;stroke:#FF7F7F;stroke-width:1.0px;stroke-linecap:butt;stroke-linejoin:miter;stroke-opacity:1\"/>\n",
       "<ellipse cx=\"188.4\" cy=\"100.2\" rx=\"39.4\" ry=\"17.1\" class=\"atom-2\" style=\"fill:#FF7F7F;fill-rule:evenodd;stroke:#FF7F7F;stroke-width:1.0px;stroke-linecap:butt;stroke-linejoin:miter;stroke-opacity:1\"/>\n",
       "<ellipse cx=\"244.0\" cy=\"162.5\" rx=\"41.0\" ry=\"17.1\" class=\"atom-4\" style=\"fill:#FF7F7F;fill-rule:evenodd;stroke:#FF7F7F;stroke-width:1.0px;stroke-linecap:butt;stroke-linejoin:miter;stroke-opacity:1\"/>\n",
       "<path class=\"bond-0 atom-0 atom-1\" d=\"M 107.2,114.5 L 97.5,131.3\" style=\"fill:none;fill-rule:evenodd;stroke:#7F7F7F;stroke-width:2.0px;stroke-linecap:butt;stroke-linejoin:miter;stroke-opacity:1\"/>\n",
       "<path class=\"bond-0 atom-0 atom-1\" d=\"M 92.8,128.6 L 83.1,145.4\" style=\"fill:none;fill-rule:evenodd;stroke:#7F7F7F;stroke-width:2.0px;stroke-linecap:butt;stroke-linejoin:miter;stroke-opacity:1\"/>\n",
       "<path class=\"bond-0 atom-0 atom-1\" d=\"M 102.2,134.0 L 92.5,150.8\" style=\"fill:none;fill-rule:evenodd;stroke:#7F7F7F;stroke-width:2.0px;stroke-linecap:butt;stroke-linejoin:miter;stroke-opacity:1;stroke-dasharray:1,1.33333\"/>\n",
       "<path class=\"bond-1 atom-0 atom-2\" d=\"M 146.5,98.4 L 152.3,98.4\" style=\"fill:none;fill-rule:evenodd;stroke:#7F7F7F;stroke-width:2.0px;stroke-linecap:butt;stroke-linejoin:miter;stroke-opacity:1\"/>\n",
       "<path class=\"bond-1 atom-0 atom-2\" d=\"M 152.3,93.0 L 158.2,93.0\" style=\"fill:none;fill-rule:evenodd;stroke:#7F7F7F;stroke-width:2.0px;stroke-linecap:butt;stroke-linejoin:miter;stroke-opacity:1\"/>\n",
       "<path class=\"bond-1 atom-0 atom-2\" d=\"M 152.3,103.8 L 158.2,103.8\" style=\"fill:none;fill-rule:evenodd;stroke:#7F7F7F;stroke-width:2.0px;stroke-linecap:butt;stroke-linejoin:miter;stroke-opacity:1;stroke-dasharray:0.5,0.666667\"/>\n",
       "<path class=\"bond-2 atom-2 atom-3\" d=\"M 195.7,85.7 L 206.3,67.4\" style=\"fill:none;fill-rule:evenodd;stroke:#7F7F7F;stroke-width:2.0px;stroke-linecap:butt;stroke-linejoin:miter;stroke-opacity:1\"/>\n",
       "<path class=\"bond-2 atom-2 atom-3\" d=\"M 211.0,70.1 L 221.6,51.7\" style=\"fill:none;fill-rule:evenodd;stroke:#7F7F7F;stroke-width:2.0px;stroke-linecap:butt;stroke-linejoin:miter;stroke-opacity:1\"/>\n",
       "<path class=\"bond-2 atom-2 atom-3\" d=\"M 201.7,64.7 L 212.3,46.3\" style=\"fill:none;fill-rule:evenodd;stroke:#7F7F7F;stroke-width:2.0px;stroke-linecap:butt;stroke-linejoin:miter;stroke-opacity:1;stroke-dasharray:1,1.33333\"/>\n",
       "<path class=\"bond-3 atom-2 atom-4\" d=\"M 191.2,114.1 L 212.4,150.8\" style=\"fill:none;fill-rule:evenodd;stroke:#000000;stroke-width:2.0px;stroke-linecap:butt;stroke-linejoin:miter;stroke-opacity:1\"/>\n",
       "<path class=\"bond-3 atom-2 atom-4\" d=\"M 200.6,108.7 L 221.8,145.4\" style=\"fill:none;fill-rule:evenodd;stroke:#000000;stroke-width:2.0px;stroke-linecap:butt;stroke-linejoin:miter;stroke-opacity:1\"/>\n",
       "<path class=\"bond-4 atom-0 atom-5\" d=\"M 115.4,85.7 L 103.9,65.9\" style=\"fill:none;fill-rule:evenodd;stroke:#000000;stroke-width:2.0px;stroke-linecap:butt;stroke-linejoin:miter;stroke-opacity:1\"/>\n",
       "<path class=\"bond-4 atom-0 atom-5\" d=\"M 103.9,65.9 L 92.5,46.1\" style=\"fill:none;fill-rule:evenodd;stroke:#FF0000;stroke-width:2.0px;stroke-linecap:butt;stroke-linejoin:miter;stroke-opacity:1\"/>\n",
       "<path class=\"bond-4 atom-0 atom-5\" d=\"M 106.0,91.1 L 94.6,71.3\" style=\"fill:none;fill-rule:evenodd;stroke:#000000;stroke-width:2.0px;stroke-linecap:butt;stroke-linejoin:miter;stroke-opacity:1\"/>\n",
       "<path class=\"bond-4 atom-0 atom-5\" d=\"M 94.6,71.3 L 83.1,51.5\" style=\"fill:none;fill-rule:evenodd;stroke:#FF0000;stroke-width:2.0px;stroke-linecap:butt;stroke-linejoin:miter;stroke-opacity:1\"/>\n",
       "<path class=\"atom-0\" d=\"M 88.8 98.5 Q 88.8 93.4, 91.2 90.8 Q 93.6 88.1, 98.1 88.1 Q 102.3 88.1, 104.6 91.1 L 102.7 92.6 Q 101.0 90.5, 98.1 90.5 Q 95.0 90.5, 93.4 92.6 Q 91.8 94.6, 91.8 98.5 Q 91.8 102.5, 93.4 104.6 Q 95.1 106.7, 98.4 106.7 Q 100.7 106.7, 103.3 105.3 L 104.1 107.5 Q 103.0 108.2, 101.4 108.6 Q 99.8 109.0, 98.0 109.0 Q 93.6 109.0, 91.2 106.3 Q 88.8 103.6, 88.8 98.5 \" fill=\"#000000\"/>\n",
       "<path class=\"atom-0\" d=\"M 106.9 105.4 L 109.8 105.4 L 109.8 108.2 L 106.9 108.2 L 106.9 105.4 M 106.9 95.5 L 109.8 95.5 L 109.8 98.3 L 106.9 98.3 L 106.9 95.5 \" fill=\"#000000\"/>\n",
       "<path class=\"atom-0\" d=\"M 113.1 92.2 Q 113.9 90.3, 115.7 89.2 Q 117.5 88.1, 119.9 88.1 Q 123.0 88.1, 124.7 89.8 Q 126.5 91.5, 126.5 94.4 Q 126.5 97.4, 124.2 100.3 Q 122.0 103.1, 117.4 106.4 L 126.8 106.4 L 126.8 108.7 L 113.1 108.7 L 113.1 106.8 Q 116.9 104.1, 119.1 102.1 Q 121.4 100.1, 122.5 98.2 Q 123.6 96.4, 123.6 94.6 Q 123.6 92.6, 122.6 91.5 Q 121.6 90.4, 119.9 90.4 Q 118.3 90.4, 117.2 91.1 Q 116.1 91.7, 115.3 93.2 L 113.1 92.2 \" fill=\"#000000\"/>\n",
       "<path class=\"atom-0\" d=\"M 140.1 97.9 Q 142.0 98.7, 143.0 99.9 Q 144.1 101.1, 144.1 103.1 Q 144.1 104.9, 143.2 106.2 Q 142.3 107.5, 140.7 108.3 Q 139.1 109.0, 137.0 109.0 Q 133.6 109.0, 131.7 107.5 Q 129.7 105.9, 129.7 103.1 Q 129.7 101.5, 130.6 100.2 Q 131.4 99.0, 133.2 98.0 Q 131.9 97.3, 131.2 96.2 Q 130.5 95.1, 130.5 93.3 Q 130.5 90.9, 132.2 89.5 Q 133.9 88.1, 136.9 88.1 Q 139.9 88.1, 141.6 89.5 Q 143.3 90.9, 143.3 93.3 Q 143.3 94.8, 142.5 95.9 Q 141.7 97.0, 140.1 97.9 M 136.9 90.3 Q 135.2 90.3, 134.3 91.1 Q 133.3 91.9, 133.3 93.3 Q 133.3 94.4, 134.0 95.1 Q 134.6 95.8, 135.5 96.2 Q 136.4 96.6, 138.2 97.2 Q 139.4 96.3, 139.9 95.4 Q 140.5 94.5, 140.5 93.3 Q 140.5 91.9, 139.5 91.1 Q 138.6 90.3, 136.9 90.3 M 137.0 106.9 Q 138.9 106.9, 140.1 105.8 Q 141.2 104.8, 141.2 103.1 Q 141.2 102.0, 140.6 101.3 Q 140.0 100.6, 139.1 100.2 Q 138.2 99.8, 136.6 99.3 L 135.3 98.9 Q 133.8 99.7, 133.2 100.8 Q 132.6 101.8, 132.6 103.1 Q 132.6 104.8, 133.8 105.8 Q 135.0 106.9, 137.0 106.9 \" fill=\"#000000\"/>\n",
       "<path class=\"atom-1\" d=\"M 29.2 160.8 Q 29.2 155.9, 31.6 153.2 Q 34.0 150.4, 38.5 150.4 Q 43.1 150.4, 45.5 153.2 Q 47.9 155.9, 47.9 160.8 Q 47.9 165.7, 45.4 168.6 Q 43.0 171.4, 38.5 171.4 Q 34.1 171.4, 31.6 168.6 Q 29.2 165.8, 29.2 160.8 M 38.5 169.1 Q 41.6 169.1, 43.3 167.0 Q 45.0 164.9, 45.0 160.8 Q 45.0 156.8, 43.3 154.8 Q 41.6 152.7, 38.5 152.7 Q 35.4 152.7, 33.7 154.7 Q 32.1 156.8, 32.1 160.8 Q 32.1 164.9, 33.7 167.0 Q 35.4 169.1, 38.5 169.1 \" fill=\"#000000\"/>\n",
       "<path class=\"atom-1\" d=\"M 50.5 167.7 L 53.4 167.7 L 53.4 170.5 L 50.5 170.5 L 50.5 167.7 M 50.5 157.8 L 53.4 157.8 L 53.4 160.6 L 50.5 160.6 L 50.5 157.8 \" fill=\"#000000\"/>\n",
       "<path class=\"atom-1\" d=\"M 56.8 154.5 Q 57.6 152.6, 59.4 151.5 Q 61.1 150.4, 63.6 150.4 Q 66.7 150.4, 68.4 152.1 Q 70.2 153.8, 70.2 156.7 Q 70.2 159.8, 67.9 162.6 Q 65.7 165.4, 61.1 168.7 L 70.5 168.7 L 70.5 171.0 L 56.8 171.0 L 56.8 169.1 Q 60.6 166.4, 62.8 164.4 Q 65.1 162.4, 66.2 160.6 Q 67.3 158.7, 67.3 156.9 Q 67.3 154.9, 66.3 153.8 Q 65.3 152.7, 63.6 152.7 Q 62.0 152.7, 60.9 153.4 Q 59.8 154.1, 59.0 155.5 L 56.8 154.5 \" fill=\"#000000\"/>\n",
       "<path class=\"atom-1\" d=\"M 80.3 150.4 Q 83.9 150.4, 85.7 152.9 Q 87.6 155.4, 87.6 160.2 Q 87.6 165.7, 85.3 168.5 Q 83.0 171.3, 78.7 171.3 Q 77.4 171.3, 76.3 171.0 Q 75.3 170.7, 74.2 170.1 L 75.4 168.2 Q 76.9 169.0, 78.7 169.0 Q 81.5 169.0, 83.0 167.1 Q 84.5 165.3, 84.7 161.4 Q 83.6 162.4, 82.3 162.9 Q 81.0 163.4, 79.6 163.4 Q 77.8 163.4, 76.4 162.6 Q 75.0 161.8, 74.2 160.4 Q 73.4 159.0, 73.4 157.2 Q 73.4 155.2, 74.3 153.7 Q 75.2 152.2, 76.7 151.3 Q 78.3 150.4, 80.3 150.4 M 76.3 157.2 Q 76.3 159.0, 77.3 160.0 Q 78.3 161.1, 80.1 161.1 Q 81.3 161.1, 82.5 160.6 Q 83.8 160.1, 84.7 159.2 Q 84.5 155.8, 83.5 154.3 Q 82.4 152.8, 80.2 152.8 Q 79.2 152.8, 78.2 153.4 Q 77.3 153.9, 76.8 154.9 Q 76.3 156.0, 76.3 157.2 \" fill=\"#000000\"/>\n",
       "<path class=\"atom-1\" d=\"M 90.7 153.8 L 97.7 153.8 L 97.7 155.3 L 90.7 155.3 L 90.7 153.8 \" fill=\"#000000\"/>\n",
       "<path class=\"atom-2\" d=\"M 160.5 98.5 Q 160.5 93.4, 162.9 90.8 Q 165.3 88.1, 169.8 88.1 Q 174.0 88.1, 176.3 91.1 L 174.4 92.6 Q 172.7 90.5, 169.8 90.5 Q 166.7 90.5, 165.1 92.6 Q 163.5 94.6, 163.5 98.5 Q 163.5 102.5, 165.2 104.6 Q 166.8 106.7, 170.1 106.7 Q 172.4 106.7, 175.0 105.3 L 175.8 107.5 Q 174.7 108.2, 173.1 108.6 Q 171.5 109.0, 169.7 109.0 Q 165.3 109.0, 162.9 106.3 Q 160.5 103.6, 160.5 98.5 \" fill=\"#000000\"/>\n",
       "<path class=\"atom-2\" d=\"M 178.6 105.4 L 181.5 105.4 L 181.5 108.2 L 178.6 108.2 L 178.6 105.4 M 178.6 95.5 L 181.5 95.5 L 181.5 98.3 L 178.6 98.3 L 178.6 95.5 \" fill=\"#000000\"/>\n",
       "<path class=\"atom-2\" d=\"M 194.6 98.0 Q 196.6 98.6, 197.5 99.9 Q 198.5 101.1, 198.5 103.1 Q 198.5 104.9, 197.6 106.2 Q 196.8 107.5, 195.2 108.3 Q 193.6 109.0, 191.5 109.0 Q 189.4 109.0, 187.7 108.3 Q 186.1 107.5, 184.8 105.9 L 186.4 104.3 Q 187.7 105.6, 188.8 106.2 Q 189.8 106.7, 191.5 106.7 Q 193.4 106.7, 194.5 105.7 Q 195.6 104.7, 195.6 103.1 Q 195.6 101.0, 194.4 100.1 Q 193.3 99.2, 190.8 99.2 L 189.3 99.2 L 189.3 97.1 L 190.6 97.1 Q 192.8 97.1, 194.0 96.1 Q 195.2 95.1, 195.2 93.3 Q 195.2 92.0, 194.2 91.2 Q 193.2 90.4, 191.6 90.4 Q 189.9 90.4, 188.8 91.0 Q 187.8 91.6, 187.0 93.2 L 185.0 92.1 Q 185.7 90.4, 187.4 89.3 Q 189.2 88.1, 191.6 88.1 Q 194.6 88.1, 196.3 89.5 Q 198.1 90.9, 198.1 93.3 Q 198.1 95.0, 197.2 96.1 Q 196.3 97.3, 194.6 98.0 \" fill=\"#000000\"/>\n",
       "<path class=\"atom-2\" d=\"M 208.8 109.0 Q 205.1 109.0, 203.2 106.2 Q 201.4 103.4, 201.4 98.5 Q 201.4 93.6, 203.2 90.9 Q 205.1 88.1, 208.8 88.1 Q 212.6 88.1, 214.5 90.9 Q 216.3 93.6, 216.3 98.5 Q 216.3 103.4, 214.4 106.2 Q 212.6 109.0, 208.8 109.0 M 208.8 106.7 Q 211.1 106.7, 212.2 104.6 Q 213.4 102.5, 213.4 98.5 Q 213.4 94.5, 212.2 92.5 Q 211.1 90.4, 208.8 90.4 Q 206.7 90.4, 205.4 92.5 Q 204.3 94.5, 204.3 98.5 Q 204.3 102.5, 205.4 104.6 Q 206.7 106.7, 208.8 106.7 \" fill=\"#000000\"/>\n",
       "<path class=\"atom-3\" d=\"M 216.5 36.2 Q 216.5 31.1, 218.9 28.5 Q 221.3 25.8, 225.8 25.8 Q 230.0 25.8, 232.3 28.8 L 230.4 30.3 Q 228.7 28.2, 225.8 28.2 Q 222.7 28.2, 221.1 30.2 Q 219.5 32.3, 219.5 36.2 Q 219.5 40.2, 221.1 42.3 Q 222.8 44.4, 226.1 44.4 Q 228.4 44.4, 231.0 43.0 L 231.8 45.2 Q 230.7 45.9, 229.1 46.3 Q 227.5 46.7, 225.7 46.7 Q 221.3 46.7, 218.9 44.0 Q 216.5 41.3, 216.5 36.2 \" fill=\"#000000\"/>\n",
       "<path class=\"atom-3\" d=\"M 234.6 43.0 L 237.4 43.0 L 237.4 45.9 L 234.6 45.9 L 234.6 43.0 M 234.6 33.1 L 237.4 33.1 L 237.4 36.0 L 234.6 36.0 L 234.6 33.1 \" fill=\"#000000\"/>\n",
       "<path class=\"atom-3\" d=\"M 250.5 35.7 Q 252.5 36.3, 253.5 37.5 Q 254.4 38.8, 254.4 40.8 Q 254.4 42.6, 253.6 43.9 Q 252.7 45.2, 251.1 46.0 Q 249.5 46.7, 247.5 46.7 Q 245.3 46.7, 243.6 46.0 Q 242.0 45.2, 240.7 43.6 L 242.4 42.0 Q 243.6 43.3, 244.7 43.9 Q 245.8 44.4, 247.5 44.4 Q 249.3 44.4, 250.4 43.4 Q 251.6 42.4, 251.6 40.8 Q 251.6 38.7, 250.4 37.8 Q 249.2 36.9, 246.7 36.9 L 245.3 36.9 L 245.3 34.8 L 246.6 34.8 Q 248.8 34.8, 250.0 33.8 Q 251.1 32.8, 251.1 31.0 Q 251.1 29.7, 250.2 28.9 Q 249.2 28.1, 247.5 28.1 Q 245.8 28.1, 244.7 28.7 Q 243.7 29.3, 242.9 30.8 L 240.9 29.8 Q 241.6 28.1, 243.4 27.0 Q 245.1 25.8, 247.5 25.8 Q 250.5 25.8, 252.3 27.2 Q 254.0 28.6, 254.0 31.0 Q 254.0 32.7, 253.1 33.8 Q 252.2 35.0, 250.5 35.7 \" fill=\"#000000\"/>\n",
       "<path class=\"atom-3\" d=\"M 257.3 29.9 Q 258.1 28.0, 259.9 26.9 Q 261.7 25.8, 264.1 25.8 Q 267.2 25.8, 268.9 27.5 Q 270.7 29.1, 270.7 32.1 Q 270.7 35.1, 268.4 38.0 Q 266.2 40.8, 261.6 44.1 L 271.0 44.1 L 271.0 46.4 L 257.3 46.4 L 257.3 44.5 Q 261.1 41.8, 263.3 39.8 Q 265.6 37.8, 266.7 35.9 Q 267.8 34.1, 267.8 32.3 Q 267.8 30.3, 266.8 29.2 Q 265.8 28.1, 264.1 28.1 Q 262.5 28.1, 261.4 28.8 Q 260.3 29.4, 259.5 30.9 L 257.3 29.9 \" fill=\"#000000\"/>\n",
       "<path class=\"atom-4\" d=\"M 215.0 160.8 Q 215.0 155.9, 217.5 153.2 Q 219.9 150.4, 224.4 150.4 Q 228.9 150.4, 231.3 153.2 Q 233.8 155.9, 233.8 160.8 Q 233.8 165.7, 231.3 168.6 Q 228.9 171.4, 224.4 171.4 Q 219.9 171.4, 217.5 168.6 Q 215.0 165.8, 215.0 160.8 M 224.4 169.1 Q 227.5 169.1, 229.2 167.0 Q 230.9 164.9, 230.9 160.8 Q 230.9 156.8, 229.2 154.8 Q 227.5 152.7, 224.4 152.7 Q 221.3 152.7, 219.6 154.7 Q 217.9 156.8, 217.9 160.8 Q 217.9 164.9, 219.6 167.0 Q 221.3 169.1, 224.4 169.1 \" fill=\"#000000\"/>\n",
       "<path class=\"atom-4\" d=\"M 236.4 167.7 L 239.3 167.7 L 239.3 170.5 L 236.4 170.5 L 236.4 167.7 M 236.4 157.8 L 239.3 157.8 L 239.3 160.6 L 236.4 160.6 L 236.4 157.8 \" fill=\"#000000\"/>\n",
       "<path class=\"atom-4\" d=\"M 252.5 160.3 Q 254.4 160.9, 255.4 162.2 Q 256.4 163.4, 256.4 165.5 Q 256.4 167.2, 255.5 168.5 Q 254.6 169.9, 253.1 170.6 Q 251.5 171.3, 249.4 171.3 Q 247.2 171.3, 245.6 170.6 Q 244.0 169.8, 242.7 168.2 L 244.3 166.6 Q 245.6 168.0, 246.6 168.5 Q 247.7 169.0, 249.4 169.0 Q 251.3 169.0, 252.4 168.0 Q 253.5 167.0, 253.5 165.4 Q 253.5 163.4, 252.3 162.4 Q 251.2 161.5, 248.7 161.5 L 247.2 161.5 L 247.2 159.4 L 248.5 159.4 Q 250.7 159.4, 251.9 158.4 Q 253.1 157.5, 253.1 155.6 Q 253.1 154.3, 252.1 153.5 Q 251.1 152.7, 249.4 152.7 Q 247.7 152.7, 246.7 153.3 Q 245.6 153.9, 244.8 155.5 L 242.8 154.4 Q 243.6 152.7, 245.3 151.6 Q 247.0 150.4, 249.4 150.4 Q 252.4 150.4, 254.2 151.8 Q 255.9 153.3, 255.9 155.6 Q 255.9 157.3, 255.1 158.5 Q 254.2 159.6, 252.5 160.3 \" fill=\"#000000\"/>\n",
       "<path class=\"atom-4\" d=\"M 269.1 160.3 Q 271.1 160.9, 272.0 162.2 Q 273.0 163.4, 273.0 165.5 Q 273.0 167.2, 272.1 168.5 Q 271.3 169.9, 269.7 170.6 Q 268.1 171.3, 266.0 171.3 Q 263.8 171.3, 262.2 170.6 Q 260.6 169.8, 259.3 168.2 L 260.9 166.6 Q 262.2 168.0, 263.3 168.5 Q 264.3 169.0, 266.0 169.0 Q 267.9 169.0, 269.0 168.0 Q 270.1 167.0, 270.1 165.4 Q 270.1 163.4, 268.9 162.4 Q 267.8 161.5, 265.3 161.5 L 263.8 161.5 L 263.8 159.4 L 265.1 159.4 Q 267.3 159.4, 268.5 158.4 Q 269.7 157.5, 269.7 155.6 Q 269.7 154.3, 268.7 153.5 Q 267.7 152.7, 266.1 152.7 Q 264.4 152.7, 263.3 153.3 Q 262.3 153.9, 261.5 155.5 L 259.5 154.4 Q 260.2 152.7, 261.9 151.6 Q 263.6 150.4, 266.1 150.4 Q 269.1 150.4, 270.8 151.8 Q 272.6 153.3, 272.6 155.6 Q 272.6 157.3, 271.7 158.5 Q 270.8 159.6, 269.1 160.3 \" fill=\"#000000\"/>\n",
       "<path class=\"atom-5\" d=\"M 30.2 36.2 Q 30.2 31.3, 32.6 28.5 Q 35.0 25.8, 39.6 25.8 Q 44.1 25.8, 46.5 28.5 Q 48.9 31.3, 48.9 36.2 Q 48.9 41.1, 46.5 43.9 Q 44.0 46.7, 39.6 46.7 Q 35.1 46.7, 32.6 43.9 Q 30.2 41.1, 30.2 36.2 M 39.6 44.4 Q 42.7 44.4, 44.3 42.4 Q 46.0 40.3, 46.0 36.2 Q 46.0 32.2, 44.3 30.2 Q 42.7 28.1, 39.6 28.1 Q 36.4 28.1, 34.7 30.1 Q 33.1 32.1, 33.1 36.2 Q 33.1 40.3, 34.7 42.4 Q 36.4 44.4, 39.6 44.4 \" fill=\"#FF0000\"/>\n",
       "<path class=\"atom-5\" d=\"M 51.5 43.0 L 54.4 43.0 L 54.4 45.9 L 51.5 45.9 L 51.5 43.0 M 51.5 33.1 L 54.4 33.1 L 54.4 36.0 L 51.5 36.0 L 51.5 33.1 \" fill=\"#FF0000\"/>\n",
       "<path class=\"atom-5\" d=\"M 67.5 35.7 Q 69.5 36.3, 70.5 37.5 Q 71.5 38.8, 71.5 40.8 Q 71.5 42.6, 70.6 43.9 Q 69.7 45.2, 68.1 46.0 Q 66.6 46.7, 64.5 46.7 Q 62.3 46.7, 60.7 46.0 Q 59.1 45.2, 57.8 43.6 L 59.4 42.0 Q 60.7 43.3, 61.7 43.9 Q 62.8 44.4, 64.5 44.4 Q 66.3 44.4, 67.5 43.4 Q 68.6 42.4, 68.6 40.8 Q 68.6 38.7, 67.4 37.8 Q 66.3 36.9, 63.7 36.9 L 62.3 36.9 L 62.3 34.8 L 63.6 34.8 Q 65.8 34.8, 67.0 33.8 Q 68.1 32.8, 68.1 31.0 Q 68.1 29.7, 67.2 28.9 Q 66.2 28.1, 64.5 28.1 Q 62.8 28.1, 61.8 28.7 Q 60.7 29.3, 59.9 30.8 L 57.9 29.8 Q 58.7 28.1, 60.4 27.0 Q 62.1 25.8, 64.5 25.8 Q 67.5 25.8, 69.3 27.2 Q 71.0 28.6, 71.0 31.0 Q 71.0 32.7, 70.1 33.8 Q 69.2 35.0, 67.5 35.7 \" fill=\"#FF0000\"/>\n",
       "<path class=\"atom-5\" d=\"M 75.5 44.1 L 79.9 44.1 L 79.9 28.9 L 75.0 30.4 L 74.3 28.7 L 80.6 25.9 L 82.6 26.3 L 82.6 44.1 L 86.6 44.1 L 86.6 46.4 L 75.5 46.4 L 75.5 44.1 \" fill=\"#FF0000\"/>\n",
       "<path class=\"note\" d=\"M 128.5 124.5 Q 126.6 124.5, 125.7 123.1 Q 124.7 121.7, 124.7 119.2 Q 124.7 116.8, 125.7 115.4 Q 126.6 114.0, 128.5 114.0 Q 130.3 114.0, 131.3 115.4 Q 132.2 116.8, 132.2 119.2 Q 132.2 121.7, 131.3 123.1 Q 130.3 124.5, 128.5 124.5 M 128.5 123.3 Q 129.6 123.3, 130.2 122.3 Q 130.7 121.3, 130.7 119.2 Q 130.7 117.2, 130.2 116.2 Q 129.6 115.2, 128.5 115.2 Q 127.4 115.2, 126.8 116.2 Q 126.2 117.2, 126.2 119.2 Q 126.2 121.3, 126.8 122.3 Q 127.4 123.3, 128.5 123.3 \" fill=\"#000000\"/>\n",
       "<path class=\"note\" d=\"M 66.0 185.5 L 68.2 185.5 L 68.2 177.9 L 65.8 178.6 L 65.4 177.8 L 68.5 176.4 L 69.6 176.6 L 69.6 185.5 L 71.6 185.5 L 71.6 186.6 L 66.0 186.6 L 66.0 185.5 \" fill=\"#000000\"/>\n",
       "<path class=\"note\" d=\"M 173.0 74.5 Q 173.4 73.6, 174.3 73.0 Q 175.2 72.5, 176.4 72.5 Q 178.0 72.5, 178.8 73.3 Q 179.7 74.2, 179.7 75.7 Q 179.7 77.2, 178.6 78.6 Q 177.5 80.0, 175.2 81.7 L 179.9 81.7 L 179.9 82.8 L 173.0 82.8 L 173.0 81.8 Q 174.9 80.5, 176.0 79.5 Q 177.2 78.5, 177.7 77.6 Q 178.2 76.7, 178.2 75.7 Q 178.2 74.7, 177.8 74.2 Q 177.3 73.7, 176.4 73.7 Q 175.6 73.7, 175.1 74.0 Q 174.5 74.3, 174.1 75.0 L 173.0 74.5 \" fill=\"#000000\"/>\n",
       "<path class=\"note\" d=\"M 237.9 15.1 Q 238.8 15.4, 239.3 16.1 Q 239.8 16.7, 239.8 17.7 Q 239.8 18.6, 239.4 19.2 Q 238.9 19.9, 238.2 20.3 Q 237.4 20.6, 236.3 20.6 Q 235.2 20.6, 234.4 20.3 Q 233.6 19.9, 233.0 19.1 L 233.8 18.3 Q 234.4 19.0, 234.9 19.2 Q 235.5 19.5, 236.3 19.5 Q 237.3 19.5, 237.8 19.0 Q 238.4 18.5, 238.4 17.7 Q 238.4 16.6, 237.8 16.2 Q 237.2 15.7, 236.0 15.7 L 235.2 15.7 L 235.2 14.7 L 235.9 14.7 Q 237.0 14.7, 237.6 14.2 Q 238.2 13.7, 238.2 12.8 Q 238.2 12.1, 237.7 11.7 Q 237.2 11.3, 236.3 11.3 Q 235.5 11.3, 235.0 11.6 Q 234.4 11.9, 234.0 12.7 L 233.0 12.2 Q 233.4 11.3, 234.3 10.8 Q 235.1 10.2, 236.3 10.2 Q 237.8 10.2, 238.7 10.9 Q 239.6 11.6, 239.6 12.8 Q 239.6 13.6, 239.2 14.2 Q 238.7 14.8, 237.9 15.1 \" fill=\"#000000\"/>\n",
       "<path class=\"note\" d=\"M 227.1 186.3 L 228.3 186.3 L 228.3 187.5 L 227.1 187.5 L 227.1 189.8 L 225.7 189.8 L 225.7 187.5 L 220.5 187.5 L 220.5 186.6 L 224.9 179.6 L 227.1 179.6 L 227.1 186.3 M 222.1 186.3 L 225.7 186.3 L 225.7 180.5 L 222.1 186.3 \" fill=\"#000000\"/>\n",
       "<path class=\"note\" d=\"M 68.8 14.1 Q 69.6 14.1, 70.4 14.4 Q 71.1 14.8, 71.5 15.5 Q 71.9 16.2, 71.9 17.2 Q 71.9 18.3, 71.4 19.0 Q 70.9 19.8, 70.1 20.2 Q 69.3 20.5, 68.3 20.5 Q 67.4 20.5, 66.5 20.2 Q 65.6 19.9, 65.1 19.2 L 65.9 18.3 Q 66.4 18.8, 67.0 19.1 Q 67.7 19.4, 68.3 19.4 Q 69.3 19.4, 69.9 18.8 Q 70.5 18.3, 70.5 17.2 Q 70.5 16.2, 69.9 15.7 Q 69.3 15.1, 68.3 15.1 Q 67.4 15.1, 66.4 15.5 L 65.6 15.2 L 66.1 10.2 L 71.3 10.2 L 71.2 11.4 L 67.3 11.4 L 67.0 14.4 Q 67.9 14.1, 68.8 14.1 \" fill=\"#000000\"/>\n",
       "</svg>"
      ],
      "text/plain": [
       "<IPython.core.display.SVG object>"
      ]
     },
     "metadata": {},
     "output_type": "display_data"
    }
   ],
   "source": [
    "display_mech_labeled_rxn(722, Path(filepaths.mcsa_mols))"
   ]
  },
  {
   "cell_type": "code",
   "execution_count": 52,
   "metadata": {},
   "outputs": [
    {
     "ename": "IndexError",
     "evalue": "single positional indexer is out-of-bounds",
     "output_type": "error",
     "traceback": [
      "\u001b[0;31m---------------------------------------------------------------------------\u001b[0m",
      "\u001b[0;31mIndexError\u001b[0m                                Traceback (most recent call last)",
      "Cell \u001b[0;32mIn[52], line 1\u001b[0m\n\u001b[0;32m----> 1\u001b[0m \u001b[43mdisplay_mech_labeled_rxn\u001b[49m\u001b[43m(\u001b[49m\u001b[38;5;241;43m219\u001b[39;49m\u001b[43m,\u001b[49m\u001b[43m \u001b[49m\u001b[43mPath\u001b[49m\u001b[43m(\u001b[49m\u001b[43mfilepaths\u001b[49m\u001b[38;5;241;43m.\u001b[39;49m\u001b[43mmcsa_mols\u001b[49m\u001b[43m)\u001b[49m\u001b[43m)\u001b[49m\n",
      "Cell \u001b[0;32mIn[50], line 2\u001b[0m, in \u001b[0;36mdisplay_mech_labeled_rxn\u001b[0;34m(entry_id, mol_path)\u001b[0m\n\u001b[1;32m      1\u001b[0m \u001b[38;5;28;01mdef\u001b[39;00m\u001b[38;5;250m \u001b[39m\u001b[38;5;21mdisplay_mech_labeled_rxn\u001b[39m(entry_id: \u001b[38;5;28mint\u001b[39m, mol_path):\n\u001b[0;32m----> 2\u001b[0m     mech_atom_map_nums \u001b[38;5;241m=\u001b[39m \u001b[43mmech_df\u001b[49m\u001b[38;5;241;43m.\u001b[39;49m\u001b[43mloc\u001b[49m\u001b[43m[\u001b[49m\u001b[43mmech_df\u001b[49m\u001b[43m[\u001b[49m\u001b[38;5;124;43m'\u001b[39;49m\u001b[38;5;124;43mentry_id\u001b[39;49m\u001b[38;5;124;43m'\u001b[39;49m\u001b[43m]\u001b[49m\u001b[43m \u001b[49m\u001b[38;5;241;43m==\u001b[39;49m\u001b[43m \u001b[49m\u001b[43mentry_id\u001b[49m\u001b[43m,\u001b[49m\u001b[43m \u001b[49m\u001b[38;5;124;43m'\u001b[39;49m\u001b[38;5;124;43mmech_atoms\u001b[39;49m\u001b[38;5;124;43m'\u001b[39;49m\u001b[43m]\u001b[49m\u001b[38;5;241;43m.\u001b[39;49m\u001b[43miloc\u001b[49m\u001b[43m[\u001b[49m\u001b[38;5;241;43m0\u001b[39;49m\u001b[43m]\u001b[49m\n\u001b[1;32m      5\u001b[0m     cpds \u001b[38;5;241m=\u001b[39m entries[\u001b[38;5;28mstr\u001b[39m(entry_id)][\u001b[38;5;124m'\u001b[39m\u001b[38;5;124mreaction\u001b[39m\u001b[38;5;124m'\u001b[39m][\u001b[38;5;124m'\u001b[39m\u001b[38;5;124mcompounds\u001b[39m\u001b[38;5;124m'\u001b[39m]\n\u001b[1;32m      6\u001b[0m     smarts \u001b[38;5;241m=\u001b[39m mech_df\u001b[38;5;241m.\u001b[39mloc[mech_df[\u001b[38;5;124m'\u001b[39m\u001b[38;5;124mentry_id\u001b[39m\u001b[38;5;124m'\u001b[39m] \u001b[38;5;241m==\u001b[39m entry_id, \u001b[38;5;124m'\u001b[39m\u001b[38;5;124msmarts\u001b[39m\u001b[38;5;124m'\u001b[39m]\u001b[38;5;241m.\u001b[39miloc[\u001b[38;5;241m0\u001b[39m]\n",
      "File \u001b[0;32m~/enz_rxn_data/.venv/lib/python3.13/site-packages/pandas/core/indexing.py:1191\u001b[0m, in \u001b[0;36m_LocationIndexer.__getitem__\u001b[0;34m(self, key)\u001b[0m\n\u001b[1;32m   1189\u001b[0m maybe_callable \u001b[38;5;241m=\u001b[39m com\u001b[38;5;241m.\u001b[39mapply_if_callable(key, \u001b[38;5;28mself\u001b[39m\u001b[38;5;241m.\u001b[39mobj)\n\u001b[1;32m   1190\u001b[0m maybe_callable \u001b[38;5;241m=\u001b[39m \u001b[38;5;28mself\u001b[39m\u001b[38;5;241m.\u001b[39m_check_deprecated_callable_usage(key, maybe_callable)\n\u001b[0;32m-> 1191\u001b[0m \u001b[38;5;28;01mreturn\u001b[39;00m \u001b[38;5;28;43mself\u001b[39;49m\u001b[38;5;241;43m.\u001b[39;49m\u001b[43m_getitem_axis\u001b[49m\u001b[43m(\u001b[49m\u001b[43mmaybe_callable\u001b[49m\u001b[43m,\u001b[49m\u001b[43m \u001b[49m\u001b[43maxis\u001b[49m\u001b[38;5;241;43m=\u001b[39;49m\u001b[43maxis\u001b[49m\u001b[43m)\u001b[49m\n",
      "File \u001b[0;32m~/enz_rxn_data/.venv/lib/python3.13/site-packages/pandas/core/indexing.py:1752\u001b[0m, in \u001b[0;36m_iLocIndexer._getitem_axis\u001b[0;34m(self, key, axis)\u001b[0m\n\u001b[1;32m   1749\u001b[0m     \u001b[38;5;28;01mraise\u001b[39;00m \u001b[38;5;167;01mTypeError\u001b[39;00m(\u001b[38;5;124m\"\u001b[39m\u001b[38;5;124mCannot index by location index with a non-integer key\u001b[39m\u001b[38;5;124m\"\u001b[39m)\n\u001b[1;32m   1751\u001b[0m \u001b[38;5;66;03m# validate the location\u001b[39;00m\n\u001b[0;32m-> 1752\u001b[0m \u001b[38;5;28;43mself\u001b[39;49m\u001b[38;5;241;43m.\u001b[39;49m\u001b[43m_validate_integer\u001b[49m\u001b[43m(\u001b[49m\u001b[43mkey\u001b[49m\u001b[43m,\u001b[49m\u001b[43m \u001b[49m\u001b[43maxis\u001b[49m\u001b[43m)\u001b[49m\n\u001b[1;32m   1754\u001b[0m \u001b[38;5;28;01mreturn\u001b[39;00m \u001b[38;5;28mself\u001b[39m\u001b[38;5;241m.\u001b[39mobj\u001b[38;5;241m.\u001b[39m_ixs(key, axis\u001b[38;5;241m=\u001b[39maxis)\n",
      "File \u001b[0;32m~/enz_rxn_data/.venv/lib/python3.13/site-packages/pandas/core/indexing.py:1685\u001b[0m, in \u001b[0;36m_iLocIndexer._validate_integer\u001b[0;34m(self, key, axis)\u001b[0m\n\u001b[1;32m   1683\u001b[0m len_axis \u001b[38;5;241m=\u001b[39m \u001b[38;5;28mlen\u001b[39m(\u001b[38;5;28mself\u001b[39m\u001b[38;5;241m.\u001b[39mobj\u001b[38;5;241m.\u001b[39m_get_axis(axis))\n\u001b[1;32m   1684\u001b[0m \u001b[38;5;28;01mif\u001b[39;00m key \u001b[38;5;241m>\u001b[39m\u001b[38;5;241m=\u001b[39m len_axis \u001b[38;5;129;01mor\u001b[39;00m key \u001b[38;5;241m<\u001b[39m \u001b[38;5;241m-\u001b[39mlen_axis:\n\u001b[0;32m-> 1685\u001b[0m     \u001b[38;5;28;01mraise\u001b[39;00m \u001b[38;5;167;01mIndexError\u001b[39;00m(\u001b[38;5;124m\"\u001b[39m\u001b[38;5;124msingle positional indexer is out-of-bounds\u001b[39m\u001b[38;5;124m\"\u001b[39m)\n",
      "\u001b[0;31mIndexError\u001b[0m: single positional indexer is out-of-bounds"
     ]
    }
   ],
   "source": [
    "display_mech_labeled_rxn(219, Path(filepaths.mcsa_mols))"
   ]
  },
  {
   "cell_type": "code",
   "execution_count": null,
   "metadata": {},
   "outputs": [
    {
     "data": {
      "image/png": "[encoded data removed]",
      "text/plain": [
       "<rdkit.Chem.rdchem.Mol at 0x7ff925600270>"
      ]
     },
     "metadata": {},
     "output_type": "display_data"
    },
    {
     "data": {
      "image/png": "[encoded data removed]",
      "text/plain": [
       "<rdkit.Chem.rdchem.Mol at 0x7ff927620c10>"
      ]
     },
     "metadata": {},
     "output_type": "display_data"
    },
    {
     "name": "stdout",
     "output_type": "stream",
     "text": [
      "17 17\n"
     ]
    }
   ],
   "source": [
    "query = Chem.MolFromSmiles('[C:1]([C:2]([N+:46]([CH:47]([CH2:45][c:55]1[cH:53][nH:51][cH:52][nH+:54]1)[C:49](=[O:48])[O-:50])([H:61])[H:62])([O:59][H:57])[CH3:60])(=[O:3])[*:4]')\n",
    "mol = Chem.MolFromSmiles('*C(=O)C(C)([NH2+]C(Cc1c[nH]c[nH+]1)C(=O)[O-])O[H]')\n",
    "display(query), display(mol)\n",
    "print(query.GetNumAtoms(), mol.GetNumAtoms())"
   ]
  },
  {
   "cell_type": "code",
   "execution_count": null,
   "metadata": {},
   "outputs": [
    {
     "data": {
      "text/plain": [
       "(1, 3, 5, 6, 7, 8, 9, 10, 11, 12, 13, 14, 15, 16, 4, 2, 0)"
      ]
     },
     "execution_count": 27,
     "metadata": {},
     "output_type": "execute_result"
    }
   ],
   "source": [
    "mol.GetSubstructMatch(query)"
   ]
  },
  {
   "cell_type": "code",
   "execution_count": null,
   "metadata": {},
   "outputs": [
    {
     "data": {
      "text/plain": [
       "(1, 3, 5, 6, 7, 8, 9, 10, 11, 12, 13, 14, 15, 16, 4, 2, 0)"
      ]
     },
     "execution_count": 25,
     "metadata": {},
     "output_type": "execute_result"
    }
   ],
   "source": [
    "mol.GetSubstructMatch(query)"
   ]
  },
  {
   "cell_type": "code",
   "execution_count": null,
   "metadata": {},
   "outputs": [
    {
     "name": "stderr",
     "output_type": "stream",
     "text": [
      "[15:53:19] Initializing MetalDisconnector\n",
      "[15:53:19] Running MetalDisconnector\n",
      "[15:53:19] Initializing Normalizer\n",
      "[15:53:19] Running Normalizer\n",
      "[15:53:19] Initializing MetalDisconnector\n",
      "[15:53:19] Running MetalDisconnector\n",
      "[15:53:19] Initializing Normalizer\n",
      "[15:53:19] Running Normalizer\n",
      "[15:53:19] Running LargestFragmentChooser\n"
     ]
    },
    {
     "data": {
      "image/png": "[encoded data removed]",
      "text/plain": [
       "<rdkit.Chem.rdchem.Mol at 0x7ff925603220>"
      ]
     },
     "execution_count": 23,
     "metadata": {},
     "output_type": "execute_result"
    }
   ],
   "source": [
    "sq = standardize_mol(query, do_neutralize=True)\n",
    "sq"
   ]
  },
  {
   "cell_type": "code",
   "execution_count": null,
   "metadata": {},
   "outputs": [
    {
     "data": {
      "text/plain": [
       "()"
      ]
     },
     "execution_count": 12,
     "metadata": {},
     "output_type": "execute_result"
    }
   ],
   "source": [
    "mol.GetSubstructMatch(query)"
   ]
  },
  {
   "cell_type": "code",
   "execution_count": null,
   "metadata": {},
   "outputs": [
    {
     "name": "stderr",
     "output_type": "stream",
     "text": [
      "[14:49:52] Initializing MetalDisconnector\n",
      "[14:49:52] Running MetalDisconnector\n",
      "[14:49:52] Initializing Normalizer\n",
      "[14:49:52] Running Normalizer\n",
      "[14:49:52] Initializing MetalDisconnector\n",
      "[14:49:52] Running MetalDisconnector\n",
      "[14:49:52] Initializing Normalizer\n",
      "[14:49:52] Running Normalizer\n",
      "[14:49:52] Running LargestFragmentChooser\n"
     ]
    }
   ],
   "source": [
    "ss_match = mol.GetSubstructMatch(standardize_mol(query))"
   ]
  },
  {
   "cell_type": "code",
   "execution_count": null,
   "metadata": {},
   "outputs": [
    {
     "name": "stdout",
     "output_type": "stream",
     "text": [
      "True query: C C\n",
      "True query: C C\n",
      "True query: N C\n",
      "True query: C O\n",
      "True query: O C\n",
      "True query: O C\n",
      "True query: C N\n",
      "True query: C C\n",
      "True query: N N\n",
      "True query: C N\n",
      "True query: N O\n"
     ]
    }
   ],
   "source": [
    "for qidx, molidx in enumerate(ss_match):\n",
    "    print(f\"True query: {query.GetAtomWithIdx(qidx).GetSymbol()} {mol.GetAtomWithIdx(molidx).GetSymbol()}\")"
   ]
  },
  {
   "cell_type": "code",
   "execution_count": null,
   "metadata": {},
   "outputs": [
    {
     "name": "stdout",
     "output_type": "stream",
     "text": [
      "Std query: C C\n",
      "Std query: C C\n",
      "Std query: C C\n",
      "Std query: O O\n",
      "Std query: C C\n",
      "Std query: C C\n",
      "Std query: N N\n",
      "Std query: C C\n",
      "Std query: N N\n",
      "Std query: N N\n",
      "Std query: O O\n"
     ]
    },
    {
     "name": "stderr",
     "output_type": "stream",
     "text": [
      "[14:49:52] Initializing MetalDisconnector\n",
      "[14:49:52] Running MetalDisconnector\n",
      "[14:49:52] Initializing Normalizer\n",
      "[14:49:52] Running Normalizer\n",
      "[14:49:52] Initializing MetalDisconnector\n",
      "[14:49:52] Running MetalDisconnector\n",
      "[14:49:52] Initializing Normalizer\n",
      "[14:49:52] Running Normalizer\n",
      "[14:49:52] Running LargestFragmentChooser\n"
     ]
    }
   ],
   "source": [
    "std_q = standardize_mol(query)\n",
    "for qidx, molidx in enumerate(ss_match):\n",
    "    print(f\"Std query: {std_q.GetAtomWithIdx(qidx).GetSymbol()} {mol.GetAtomWithIdx(molidx).GetSymbol()}\")"
   ]
  },
  {
   "cell_type": "code",
   "execution_count": null,
   "metadata": {},
   "outputs": [
    {
     "data": {
      "text/plain": [
       "(2, 1, 0, 6, 7, 8, 9, 10, 3, 4, 5)"
      ]
     },
     "execution_count": 16,
     "metadata": {},
     "output_type": "execute_result"
    }
   ],
   "source": [
    "query.GetSubstructMatch(mol)"
   ]
  },
  {
   "cell_type": "code",
   "execution_count": null,
   "metadata": {},
   "outputs": [
    {
     "name": "stderr",
     "output_type": "stream",
     "text": [
      "[14:49:52] Initializing MetalDisconnector\n",
      "[14:49:52] Running MetalDisconnector\n",
      "[14:49:52] Initializing Normalizer\n",
      "[14:49:52] Running Normalizer\n",
      "[14:49:52] Initializing MetalDisconnector\n",
      "[14:49:52] Running MetalDisconnector\n",
      "[14:49:52] Initializing Normalizer\n",
      "[14:49:52] Running Normalizer\n",
      "[14:49:52] Running LargestFragmentChooser\n"
     ]
    },
    {
     "data": {
      "text/plain": [
       "'N[CH:47]([CH2:45][c:55]1n[cH:52][nH:51][cH:53]1)[C:49](O)=[O:48]'"
      ]
     },
     "execution_count": 17,
     "metadata": {},
     "output_type": "execute_result"
    }
   ],
   "source": [
    "Chem.MolToSmiles(standardize_mol(query))"
   ]
  },
  {
   "cell_type": "code",
   "execution_count": null,
   "metadata": {},
   "outputs": [
    {
     "ename": "AttributeError",
     "evalue": "module 'rdkit.Chem' has no attribute 'CalcNumHeavyAtoms'",
     "output_type": "error",
     "traceback": [
      "\u001b[0;31m---------------------------------------------------------------------------\u001b[0m",
      "\u001b[0;31mAttributeError\u001b[0m                            Traceback (most recent call last)",
      "Cell \u001b[0;32mIn[18], line 1\u001b[0m\n\u001b[0;32m----> 1\u001b[0m \u001b[43mChem\u001b[49m\u001b[38;5;241;43m.\u001b[39;49m\u001b[43mCalcNumHeavyAtoms\u001b[49m(query)\n",
      "\u001b[0;31mAttributeError\u001b[0m: module 'rdkit.Chem' has no attribute 'CalcNumHeavyAtoms'"
     ]
    }
   ],
   "source": [
    "Chem.CalcNumHeavyAtoms(query)"
   ]
  },
  {
   "cell_type": "code",
   "execution_count": null,
   "metadata": {},
   "outputs": [
    {
     "data": {
      "text/plain": [
       "()"
      ]
     },
     "execution_count": 30,
     "metadata": {},
     "output_type": "execute_result"
    }
   ],
   "source": [
    "mol.GetSubstructMatch(query)"
   ]
  },
  {
   "cell_type": "code",
   "execution_count": null,
   "metadata": {},
   "outputs": [],
   "source": [
    "from ergochem.standardize import standardize_mol"
   ]
  },
  {
   "cell_type": "code",
   "execution_count": null,
   "metadata": {},
   "outputs": [
    {
     "data": {
      "text/plain": [
       "(1, 0, 7, 8, 2, 3, 4, 5, 6, 9, 10)"
      ]
     },
     "execution_count": 35,
     "metadata": {},
     "output_type": "execute_result"
    }
   ],
   "source": [
    "standardize_mol(mol).GetSubstructMatch(standardize_mol(query))"
   ]
  },
  {
   "cell_type": "code",
   "execution_count": null,
   "metadata": {},
   "outputs": [
    {
     "data": {
      "image/png": "[encoded data removed]",
      "text/plain": [
       "<rdkit.Chem.rdchem.Mol at 0x7f7dcc7fc350>"
      ]
     },
     "execution_count": 34,
     "metadata": {},
     "output_type": "execute_result"
    }
   ],
   "source": [
    "standardize_mol(query)"
   ]
  },
  {
   "cell_type": "code",
   "execution_count": null,
   "metadata": {},
   "outputs": [
    {
     "name": "stdout",
     "output_type": "stream",
     "text": [
      "11 11\n"
     ]
    }
   ],
   "source": [
    "print(standardize_mol(mol).GetNumAtoms(), standardize_mol(query).GetNumAtoms())"
   ]
  },
  {
   "cell_type": "code",
   "execution_count": null,
   "metadata": {},
   "outputs": [
    {
     "data": {
      "image/png": "[encoded data removed]",
      "text/plain": [
       "<rdkit.Chem.rdchem.Mol at 0x7f7dcd03b060>"
      ]
     },
     "metadata": {},
     "output_type": "display_data"
    },
    {
     "data": {
      "image/png": "[encoded data removed]",
      "text/plain": [
       "<rdkit.Chem.rdchem.Mol at 0x7f7dcc7f5e00>"
      ]
     },
     "metadata": {},
     "output_type": "display_data"
    },
    {
     "name": "stdout",
     "output_type": "stream",
     "text": [
      "17 17\n"
     ]
    }
   ],
   "source": [
    "mol = Chem.MolFromSmiles('*C(=O)C(C)([NH2+]C(Cc1c[nH]c[nH+]1)C(=O)[O-])O[H]')\n",
    "query = Chem.MolFromSmiles('[C:1]([C:2]([N+:46]([CH:47]([CH2:45][c:55]1[cH:53][nH:51][cH:52][nH+:54]1)[C:49](=[O:48])[O-:50])([H:61])[H:62])([O:59][H:57])[CH3:60])(=[O:3])[*:4]')\n",
    "display(mol), display(query)\n",
    "print(mol.GetNumAtoms(), query.GetNumAtoms())"
   ]
  },
  {
   "cell_type": "code",
   "execution_count": null,
   "metadata": {},
   "outputs": [
    {
     "data": {
      "text/plain": [
       "17"
      ]
     },
     "execution_count": 50,
     "metadata": {},
     "output_type": "execute_result"
    }
   ],
   "source": [
    "len(mol.GetSubstructMatch(query))"
   ]
  },
  {
   "cell_type": "code",
   "execution_count": null,
   "metadata": {},
   "outputs": [
    {
     "data": {
      "image/svg+xml": [
       "<svg xmlns=\"http://www.w3.org/2000/svg\" xmlns:rdkit=\"http://www.rdkit.org/xml\" xmlns:xlink=\"http://www.w3.org/1999/xlink\" version=\"1.1\" baseProfile=\"full\" xml:space=\"preserve\" width=\"200px\" height=\"200px\" viewBox=\"0 0 200 200\">\n",
       "<!-- END OF HEADER -->\n",
       "<rect style=\"opacity:1.0;fill:#FFFFFF;stroke:none\" width=\"200.0\" height=\"200.0\" x=\"0.0\" y=\"0.0\"> </rect>\n",
       "<path class=\"bond-0 atom-0 atom-1\" d=\"M 37.8,33.1 L 48.0,43.2\" style=\"fill:none;fill-rule:evenodd;stroke:#191919;stroke-width:2.0px;stroke-linecap:butt;stroke-linejoin:miter;stroke-opacity:1\"/>\n",
       "<path class=\"bond-0 atom-0 atom-1\" d=\"M 48.0,43.2 L 58.2,53.4\" style=\"fill:none;fill-rule:evenodd;stroke:#000000;stroke-width:2.0px;stroke-linecap:butt;stroke-linejoin:miter;stroke-opacity:1\"/>\n",
       "<path class=\"bond-1 atom-1 atom-2\" d=\"M 57.5,55.8 L 70.0,52.5\" style=\"fill:none;fill-rule:evenodd;stroke:#000000;stroke-width:2.0px;stroke-linecap:butt;stroke-linejoin:miter;stroke-opacity:1\"/>\n",
       "<path class=\"bond-1 atom-1 atom-2\" d=\"M 70.0,52.5 L 82.5,49.1\" style=\"fill:none;fill-rule:evenodd;stroke:#FF0000;stroke-width:2.0px;stroke-linecap:butt;stroke-linejoin:miter;stroke-opacity:1\"/>\n",
       "<path class=\"bond-1 atom-1 atom-2\" d=\"M 56.4,51.6 L 68.8,48.2\" style=\"fill:none;fill-rule:evenodd;stroke:#000000;stroke-width:2.0px;stroke-linecap:butt;stroke-linejoin:miter;stroke-opacity:1\"/>\n",
       "<path class=\"bond-1 atom-1 atom-2\" d=\"M 68.8,48.2 L 81.3,44.8\" style=\"fill:none;fill-rule:evenodd;stroke:#FF0000;stroke-width:2.0px;stroke-linecap:butt;stroke-linejoin:miter;stroke-opacity:1\"/>\n",
       "<path class=\"bond-2 atom-1 atom-3\" d=\"M 58.2,53.4 L 50.6,81.9\" style=\"fill:none;fill-rule:evenodd;stroke:#000000;stroke-width:2.0px;stroke-linecap:butt;stroke-linejoin:miter;stroke-opacity:1\"/>\n",
       "<path class=\"bond-3 atom-3 atom-4\" d=\"M 50.6,81.9 L 43.0,110.4\" style=\"fill:none;fill-rule:evenodd;stroke:#000000;stroke-width:2.0px;stroke-linecap:butt;stroke-linejoin:miter;stroke-opacity:1\"/>\n",
       "<path class=\"bond-4 atom-3 atom-5\" d=\"M 50.6,81.9 L 62.8,85.1\" style=\"fill:none;fill-rule:evenodd;stroke:#000000;stroke-width:2.0px;stroke-linecap:butt;stroke-linejoin:miter;stroke-opacity:1\"/>\n",
       "<path class=\"bond-4 atom-3 atom-5\" d=\"M 62.8,85.1 L 75.0,88.4\" style=\"fill:none;fill-rule:evenodd;stroke:#0000FF;stroke-width:2.0px;stroke-linecap:butt;stroke-linejoin:miter;stroke-opacity:1\"/>\n",
       "<path class=\"bond-5 atom-5 atom-6\" d=\"M 80.5,94.6 L 83.7,106.3\" style=\"fill:none;fill-rule:evenodd;stroke:#0000FF;stroke-width:2.0px;stroke-linecap:butt;stroke-linejoin:miter;stroke-opacity:1\"/>\n",
       "<path class=\"bond-5 atom-5 atom-6\" d=\"M 83.7,106.3 L 86.8,118.0\" style=\"fill:none;fill-rule:evenodd;stroke:#000000;stroke-width:2.0px;stroke-linecap:butt;stroke-linejoin:miter;stroke-opacity:1\"/>\n",
       "<path class=\"bond-6 atom-6 atom-7\" d=\"M 86.8,118.0 L 115.3,125.6\" style=\"fill:none;fill-rule:evenodd;stroke:#000000;stroke-width:2.0px;stroke-linecap:butt;stroke-linejoin:miter;stroke-opacity:1\"/>\n",
       "<path class=\"bond-7 atom-7 atom-8\" d=\"M 115.3,125.6 L 136.2,104.7\" style=\"fill:none;fill-rule:evenodd;stroke:#000000;stroke-width:2.0px;stroke-linecap:butt;stroke-linejoin:miter;stroke-opacity:1\"/>\n",
       "<path class=\"bond-8 atom-8 atom-9\" d=\"M 136.2,104.7 L 165.3,109.2\" style=\"fill:none;fill-rule:evenodd;stroke:#000000;stroke-width:2.0px;stroke-linecap:butt;stroke-linejoin:miter;stroke-opacity:1\"/>\n",
       "<path class=\"bond-8 atom-8 atom-9\" d=\"M 140.0,100.8 L 162.8,104.4\" style=\"fill:none;fill-rule:evenodd;stroke:#000000;stroke-width:2.0px;stroke-linecap:butt;stroke-linejoin:miter;stroke-opacity:1\"/>\n",
       "<path class=\"bond-9 atom-9 atom-10\" d=\"M 165.3,109.2 L 170.7,98.6\" style=\"fill:none;fill-rule:evenodd;stroke:#000000;stroke-width:2.0px;stroke-linecap:butt;stroke-linejoin:miter;stroke-opacity:1\"/>\n",
       "<path class=\"bond-9 atom-9 atom-10\" d=\"M 170.7,98.6 L 176.1,88.1\" style=\"fill:none;fill-rule:evenodd;stroke:#0000FF;stroke-width:2.0px;stroke-linecap:butt;stroke-linejoin:miter;stroke-opacity:1\"/>\n",
       "<path class=\"bond-10 atom-10 atom-11\" d=\"M 174.5,78.8 L 166.1,70.4\" style=\"fill:none;fill-rule:evenodd;stroke:#0000FF;stroke-width:2.0px;stroke-linecap:butt;stroke-linejoin:miter;stroke-opacity:1\"/>\n",
       "<path class=\"bond-10 atom-10 atom-11\" d=\"M 166.1,70.4 L 157.8,62.1\" style=\"fill:none;fill-rule:evenodd;stroke:#000000;stroke-width:2.0px;stroke-linecap:butt;stroke-linejoin:miter;stroke-opacity:1\"/>\n",
       "<path class=\"bond-11 atom-11 atom-12\" d=\"M 157.8,62.1 L 149.3,66.4\" style=\"fill:none;fill-rule:evenodd;stroke:#000000;stroke-width:2.0px;stroke-linecap:butt;stroke-linejoin:miter;stroke-opacity:1\"/>\n",
       "<path class=\"bond-11 atom-11 atom-12\" d=\"M 149.3,66.4 L 140.9,70.7\" style=\"fill:none;fill-rule:evenodd;stroke:#0000FF;stroke-width:2.0px;stroke-linecap:butt;stroke-linejoin:miter;stroke-opacity:1\"/>\n",
       "<path class=\"bond-11 atom-11 atom-12\" d=\"M 156.9,67.5 L 149.9,71.1\" style=\"fill:none;fill-rule:evenodd;stroke:#000000;stroke-width:2.0px;stroke-linecap:butt;stroke-linejoin:miter;stroke-opacity:1\"/>\n",
       "<path class=\"bond-11 atom-11 atom-12\" d=\"M 149.9,71.1 L 142.9,74.7\" style=\"fill:none;fill-rule:evenodd;stroke:#0000FF;stroke-width:2.0px;stroke-linecap:butt;stroke-linejoin:miter;stroke-opacity:1\"/>\n",
       "<path class=\"bond-12 atom-6 atom-13\" d=\"M 86.8,118.0 L 66.0,138.9\" style=\"fill:none;fill-rule:evenodd;stroke:#000000;stroke-width:2.0px;stroke-linecap:butt;stroke-linejoin:miter;stroke-opacity:1\"/>\n",
       "<path class=\"bond-13 atom-13 atom-14\" d=\"M 63.5,138.2 L 66.8,150.5\" style=\"fill:none;fill-rule:evenodd;stroke:#000000;stroke-width:2.0px;stroke-linecap:butt;stroke-linejoin:miter;stroke-opacity:1\"/>\n",
       "<path class=\"bond-13 atom-13 atom-14\" d=\"M 66.8,150.5 L 70.1,162.7\" style=\"fill:none;fill-rule:evenodd;stroke:#FF0000;stroke-width:2.0px;stroke-linecap:butt;stroke-linejoin:miter;stroke-opacity:1\"/>\n",
       "<path class=\"bond-13 atom-13 atom-14\" d=\"M 67.8,137.1 L 71.1,149.3\" style=\"fill:none;fill-rule:evenodd;stroke:#000000;stroke-width:2.0px;stroke-linecap:butt;stroke-linejoin:miter;stroke-opacity:1\"/>\n",
       "<path class=\"bond-13 atom-13 atom-14\" d=\"M 71.1,149.3 L 74.4,161.6\" style=\"fill:none;fill-rule:evenodd;stroke:#FF0000;stroke-width:2.0px;stroke-linecap:butt;stroke-linejoin:miter;stroke-opacity:1\"/>\n",
       "<path class=\"bond-14 atom-13 atom-15\" d=\"M 66.0,138.9 L 54.1,135.7\" style=\"fill:none;fill-rule:evenodd;stroke:#000000;stroke-width:2.0px;stroke-linecap:butt;stroke-linejoin:miter;stroke-opacity:1\"/>\n",
       "<path class=\"bond-14 atom-13 atom-15\" d=\"M 54.1,135.7 L 42.3,132.6\" style=\"fill:none;fill-rule:evenodd;stroke:#FF0000;stroke-width:2.0px;stroke-linecap:butt;stroke-linejoin:miter;stroke-opacity:1\"/>\n",
       "<path class=\"bond-15 atom-3 atom-16\" d=\"M 50.6,81.9 L 38.8,78.7\" style=\"fill:none;fill-rule:evenodd;stroke:#000000;stroke-width:2.0px;stroke-linecap:butt;stroke-linejoin:miter;stroke-opacity:1\"/>\n",
       "<path class=\"bond-15 atom-3 atom-16\" d=\"M 38.8,78.7 L 26.9,75.6\" style=\"fill:none;fill-rule:evenodd;stroke:#FF0000;stroke-width:2.0px;stroke-linecap:butt;stroke-linejoin:miter;stroke-opacity:1\"/>\n",
       "<path class=\"bond-16 atom-12 atom-8\" d=\"M 132.3,80.7 L 134.2,92.7\" style=\"fill:none;fill-rule:evenodd;stroke:#0000FF;stroke-width:2.0px;stroke-linecap:butt;stroke-linejoin:miter;stroke-opacity:1\"/>\n",
       "<path class=\"bond-16 atom-12 atom-8\" d=\"M 134.2,92.7 L 136.2,104.7\" style=\"fill:none;fill-rule:evenodd;stroke:#000000;stroke-width:2.0px;stroke-linecap:butt;stroke-linejoin:miter;stroke-opacity:1\"/>\n",
       "<path d=\"M 57.7,52.9 L 58.2,53.4 L 57.8,54.8\" style=\"fill:none;stroke:#000000;stroke-width:2.0px;stroke-linecap:butt;stroke-linejoin:miter;stroke-opacity:1;\"/>\n",
       "<path d=\"M 113.9,125.2 L 115.3,125.6 L 116.4,124.5\" style=\"fill:none;stroke:#000000;stroke-width:2.0px;stroke-linecap:butt;stroke-linejoin:miter;stroke-opacity:1;\"/>\n",
       "<path d=\"M 163.9,109.0 L 165.3,109.2 L 165.6,108.7\" style=\"fill:none;stroke:#000000;stroke-width:2.0px;stroke-linecap:butt;stroke-linejoin:miter;stroke-opacity:1;\"/>\n",
       "<path d=\"M 158.2,62.5 L 157.8,62.1 L 157.3,62.3\" style=\"fill:none;stroke:#000000;stroke-width:2.0px;stroke-linecap:butt;stroke-linejoin:miter;stroke-opacity:1;\"/>\n",
       "<path d=\"M 67.0,137.8 L 66.0,138.9 L 65.4,138.7\" style=\"fill:none;stroke:#000000;stroke-width:2.0px;stroke-linecap:butt;stroke-linejoin:miter;stroke-opacity:1;\"/>\n",
       "<path class=\"atom-0\" d=\"M 35.7 31.6 L 36.9 30.3 L 35.3 30.0 L 35.6 29.2 L 37.1 29.9 L 36.9 28.3 L 37.7 28.3 L 37.5 29.9 L 39.0 29.2 L 39.3 30.0 L 37.6 30.3 L 38.8 31.6 L 38.1 32.1 L 37.3 30.6 L 36.4 32.1 L 35.7 31.6 \" fill=\"#191919\"/>\n",
       "<path class=\"atom-2\" d=\"M 82.9 45.7 Q 82.9 43.7, 83.8 42.6 Q 84.8 41.5, 86.7 41.5 Q 88.5 41.5, 89.5 42.6 Q 90.5 43.7, 90.5 45.7 Q 90.5 47.7, 89.5 48.9 Q 88.5 50.0, 86.7 50.0 Q 84.8 50.0, 83.8 48.9 Q 82.9 47.7, 82.9 45.7 M 86.7 49.1 Q 88.0 49.1, 88.7 48.2 Q 89.3 47.4, 89.3 45.7 Q 89.3 44.1, 88.7 43.2 Q 88.0 42.4, 86.7 42.4 Q 85.4 42.4, 84.7 43.2 Q 84.0 44.1, 84.0 45.7 Q 84.0 47.4, 84.7 48.2 Q 85.4 49.1, 86.7 49.1 \" fill=\"#FF0000\"/>\n",
       "<path class=\"atom-5\" d=\"M 77.3 85.3 L 80.0 89.7 Q 80.3 90.2, 80.7 91.0 Q 81.2 91.7, 81.2 91.8 L 81.2 85.3 L 82.3 85.3 L 82.3 93.7 L 81.1 93.7 L 78.2 88.8 Q 77.9 88.2, 77.5 87.6 Q 77.1 86.9, 77.0 86.7 L 77.0 93.7 L 76.0 93.7 L 76.0 85.3 L 77.3 85.3 \" fill=\"#0000FF\"/>\n",
       "<path class=\"atom-5\" d=\"M 83.9 85.3 L 85.0 85.3 L 85.0 88.8 L 89.3 88.8 L 89.3 85.3 L 90.4 85.3 L 90.4 93.7 L 89.3 93.7 L 89.3 89.8 L 85.0 89.8 L 85.0 93.7 L 83.9 93.7 L 83.9 85.3 \" fill=\"#0000FF\"/>\n",
       "<path class=\"atom-5\" d=\"M 92.0 93.4 Q 92.2 92.8, 92.7 92.6 Q 93.2 92.3, 93.9 92.3 Q 94.7 92.3, 95.2 92.7 Q 95.6 93.2, 95.6 94.0 Q 95.6 94.8, 95.0 95.5 Q 94.4 96.3, 93.2 97.2 L 95.7 97.2 L 95.7 97.8 L 92.0 97.8 L 92.0 97.3 Q 93.0 96.6, 93.7 96.0 Q 94.3 95.5, 94.6 95.0 Q 94.9 94.5, 94.9 94.0 Q 94.9 93.5, 94.6 93.2 Q 94.3 92.9, 93.9 92.9 Q 93.4 92.9, 93.1 93.1 Q 92.8 93.2, 92.6 93.6 L 92.0 93.4 \" fill=\"#0000FF\"/>\n",
       "<path class=\"atom-5\" d=\"M 92.1 86.8 L 93.5 86.8 L 93.5 85.3 L 94.2 85.3 L 94.2 86.8 L 95.7 86.8 L 95.7 87.4 L 94.2 87.4 L 94.2 88.9 L 93.5 88.9 L 93.5 87.4 L 92.1 87.4 L 92.1 86.8 \" fill=\"#0000FF\"/>\n",
       "<path class=\"atom-10\" d=\"M 176.8 78.7 L 179.6 83.2 Q 179.8 83.6, 180.3 84.4 Q 180.7 85.2, 180.7 85.2 L 180.7 78.7 L 181.8 78.7 L 181.8 87.1 L 180.7 87.1 L 177.8 82.2 Q 177.4 81.7, 177.0 81.0 Q 176.7 80.4, 176.6 80.2 L 176.6 87.1 L 175.5 87.1 L 175.5 78.7 L 176.8 78.7 \" fill=\"#0000FF\"/>\n",
       "<path class=\"atom-10\" d=\"M 183.5 78.7 L 184.6 78.7 L 184.6 82.3 L 188.9 82.3 L 188.9 78.7 L 190.0 78.7 L 190.0 87.1 L 188.9 87.1 L 188.9 83.2 L 184.6 83.2 L 184.6 87.1 L 183.5 87.1 L 183.5 78.7 \" fill=\"#0000FF\"/>\n",
       "<path class=\"atom-12\" d=\"M 120.2 71.3 L 121.3 71.3 L 121.3 74.9 L 125.6 74.9 L 125.6 71.3 L 126.7 71.3 L 126.7 79.7 L 125.6 79.7 L 125.6 75.8 L 121.3 75.8 L 121.3 79.7 L 120.2 79.7 L 120.2 71.3 \" fill=\"#0000FF\"/>\n",
       "<path class=\"atom-12\" d=\"M 129.6 71.3 L 132.4 75.8 Q 132.7 76.2, 133.1 77.0 Q 133.5 77.8, 133.6 77.8 L 133.6 71.3 L 134.7 71.3 L 134.7 79.7 L 133.5 79.7 L 130.6 74.9 Q 130.2 74.3, 129.9 73.6 Q 129.5 73.0, 129.4 72.8 L 129.4 79.7 L 128.3 79.7 L 128.3 71.3 L 129.6 71.3 \" fill=\"#0000FF\"/>\n",
       "<path class=\"atom-12\" d=\"M 136.3 72.8 L 137.7 72.8 L 137.7 71.3 L 138.4 71.3 L 138.4 72.8 L 139.9 72.8 L 139.9 73.4 L 138.4 73.4 L 138.4 75.0 L 137.7 75.0 L 137.7 73.4 L 136.3 73.4 L 136.3 72.8 \" fill=\"#0000FF\"/>\n",
       "<path class=\"atom-14\" d=\"M 69.8 167.4 Q 69.8 165.4, 70.8 164.3 Q 71.8 163.1, 73.7 163.1 Q 75.5 163.1, 76.5 164.3 Q 77.5 165.4, 77.5 167.4 Q 77.5 169.4, 76.5 170.6 Q 75.5 171.7, 73.7 171.7 Q 71.8 171.7, 70.8 170.6 Q 69.8 169.4, 69.8 167.4 M 73.7 170.8 Q 74.9 170.8, 75.6 169.9 Q 76.3 169.1, 76.3 167.4 Q 76.3 165.7, 75.6 164.9 Q 74.9 164.1, 73.7 164.1 Q 72.4 164.1, 71.7 164.9 Q 71.0 165.7, 71.0 167.4 Q 71.0 169.1, 71.7 169.9 Q 72.4 170.8, 73.7 170.8 \" fill=\"#FF0000\"/>\n",
       "<path class=\"atom-15\" d=\"M 33.6 131.3 Q 33.6 129.3, 34.6 128.2 Q 35.6 127.1, 37.5 127.1 Q 39.3 127.1, 40.3 128.2 Q 41.3 129.3, 41.3 131.3 Q 41.3 133.3, 40.3 134.5 Q 39.3 135.6, 37.5 135.6 Q 35.6 135.6, 34.6 134.5 Q 33.6 133.3, 33.6 131.3 M 37.5 134.7 Q 38.7 134.7, 39.4 133.8 Q 40.1 133.0, 40.1 131.3 Q 40.1 129.7, 39.4 128.8 Q 38.7 128.0, 37.5 128.0 Q 36.2 128.0, 35.5 128.8 Q 34.8 129.6, 34.8 131.3 Q 34.8 133.0, 35.5 133.8 Q 36.2 134.7, 37.5 134.7 \" fill=\"#FF0000\"/>\n",
       "<path class=\"atom-15\" d=\"M 42.5 128.4 L 45.3 128.4 L 45.3 129.0 L 42.5 129.0 L 42.5 128.4 \" fill=\"#FF0000\"/>\n",
       "<path class=\"atom-16\" d=\"M 10.0 70.2 L 11.1 70.2 L 11.1 73.7 L 15.4 73.7 L 15.4 70.2 L 16.5 70.2 L 16.5 78.5 L 15.4 78.5 L 15.4 74.7 L 11.1 74.7 L 11.1 78.5 L 10.0 78.5 L 10.0 70.2 \" fill=\"#FF0000\"/>\n",
       "<path class=\"atom-16\" d=\"M 18.3 74.3 Q 18.3 72.3, 19.2 71.2 Q 20.2 70.1, 22.1 70.1 Q 23.9 70.1, 24.9 71.2 Q 25.9 72.3, 25.9 74.3 Q 25.9 76.3, 24.9 77.5 Q 23.9 78.6, 22.1 78.6 Q 20.2 78.6, 19.2 77.5 Q 18.3 76.4, 18.3 74.3 M 22.1 77.7 Q 23.4 77.7, 24.0 76.9 Q 24.7 76.0, 24.7 74.3 Q 24.7 72.7, 24.0 71.8 Q 23.4 71.0, 22.1 71.0 Q 20.8 71.0, 20.1 71.8 Q 19.4 72.7, 19.4 74.3 Q 19.4 76.0, 20.1 76.9 Q 20.8 77.7, 22.1 77.7 \" fill=\"#FF0000\"/>\n",
       "</svg>"
      ],
      "text/plain": [
       "<IPython.core.display.SVG object>"
      ]
     },
     "execution_count": 46,
     "metadata": {},
     "output_type": "execute_result"
    }
   ],
   "source": [
    "SVG(draw_molecule('*C(=O)C(C)([NH2+]C(Cc1c[nH]c[nH+]1)C(=O)[O-])O[H]'))"
   ]
  },
  {
   "cell_type": "code",
   "execution_count": null,
   "metadata": {},
   "outputs": [
    {
     "data": {
      "image/svg+xml": [
       "<svg xmlns=\"http://www.w3.org/2000/svg\" xmlns:rdkit=\"http://www.rdkit.org/xml\" xmlns:xlink=\"http://www.w3.org/1999/xlink\" version=\"1.1\" baseProfile=\"full\" xml:space=\"preserve\" width=\"200px\" height=\"200px\" viewBox=\"0 0 200 200\">\n",
       "<!-- END OF HEADER -->\n",
       "<rect style=\"opacity:1.0;fill:#FFFFFF;stroke:none\" width=\"200.0\" height=\"200.0\" x=\"0.0\" y=\"0.0\"> </rect>\n",
       "<path class=\"bond-0 atom-0 atom-1\" d=\"M 64.1,64.4 L 60.1,79.7\" style=\"fill:none;fill-rule:evenodd;stroke:#000000;stroke-width:2.0px;stroke-linecap:butt;stroke-linejoin:miter;stroke-opacity:1\"/>\n",
       "<path class=\"bond-1 atom-1 atom-2\" d=\"M 66.3,86.1 L 72.9,87.8\" style=\"fill:none;fill-rule:evenodd;stroke:#000000;stroke-width:2.0px;stroke-linecap:butt;stroke-linejoin:miter;stroke-opacity:1\"/>\n",
       "<path class=\"bond-1 atom-1 atom-2\" d=\"M 72.9,87.8 L 79.6,89.6\" style=\"fill:none;fill-rule:evenodd;stroke:#0000FF;stroke-width:2.0px;stroke-linecap:butt;stroke-linejoin:miter;stroke-opacity:1\"/>\n",
       "<path class=\"bond-2 atom-2 atom-3\" d=\"M 84.3,94.9 L 86.4,102.6\" style=\"fill:none;fill-rule:evenodd;stroke:#0000FF;stroke-width:2.0px;stroke-linecap:butt;stroke-linejoin:miter;stroke-opacity:1\"/>\n",
       "<path class=\"bond-2 atom-2 atom-3\" d=\"M 86.4,102.6 L 88.4,110.4\" style=\"fill:none;fill-rule:evenodd;stroke:#000000;stroke-width:2.0px;stroke-linecap:butt;stroke-linejoin:miter;stroke-opacity:1\"/>\n",
       "<path class=\"bond-3 atom-3 atom-4\" d=\"M 100.2,117.5 L 103.2,118.3\" style=\"fill:none;fill-rule:evenodd;stroke:#000000;stroke-width:2.0px;stroke-linecap:butt;stroke-linejoin:miter;stroke-opacity:1\"/>\n",
       "<path class=\"bond-4 atom-4 atom-5\" d=\"M 118.1,116.8 L 127.0,107.9\" style=\"fill:none;fill-rule:evenodd;stroke:#000000;stroke-width:2.0px;stroke-linecap:butt;stroke-linejoin:miter;stroke-opacity:1\"/>\n",
       "<path class=\"bond-5 atom-5 atom-6\" d=\"M 134.7,103.9 L 152.6,106.7\" style=\"fill:none;fill-rule:evenodd;stroke:#000000;stroke-width:2.0px;stroke-linecap:butt;stroke-linejoin:miter;stroke-opacity:1\"/>\n",
       "<path class=\"bond-5 atom-5 atom-6\" d=\"M 135.3,100.2 L 153.2,103.0\" style=\"fill:none;fill-rule:evenodd;stroke:#000000;stroke-width:2.0px;stroke-linecap:butt;stroke-linejoin:miter;stroke-opacity:1\"/>\n",
       "<path class=\"bond-6 atom-6 atom-7\" d=\"M 158.4,102.9 L 161.9,96.1\" style=\"fill:none;fill-rule:evenodd;stroke:#000000;stroke-width:2.0px;stroke-linecap:butt;stroke-linejoin:miter;stroke-opacity:1\"/>\n",
       "<path class=\"bond-6 atom-6 atom-7\" d=\"M 161.9,96.1 L 165.3,89.3\" style=\"fill:none;fill-rule:evenodd;stroke:#0000FF;stroke-width:2.0px;stroke-linecap:butt;stroke-linejoin:miter;stroke-opacity:1\"/>\n",
       "<path class=\"bond-7 atom-7 atom-8\" d=\"M 164.0,81.5 L 159.2,76.6\" style=\"fill:none;fill-rule:evenodd;stroke:#0000FF;stroke-width:2.0px;stroke-linecap:butt;stroke-linejoin:miter;stroke-opacity:1\"/>\n",
       "<path class=\"bond-7 atom-7 atom-8\" d=\"M 159.2,76.6 L 154.3,71.8\" style=\"fill:none;fill-rule:evenodd;stroke:#000000;stroke-width:2.0px;stroke-linecap:butt;stroke-linejoin:miter;stroke-opacity:1\"/>\n",
       "<path class=\"bond-8 atom-8 atom-9\" d=\"M 141.0,71.8 L 138.0,73.3\" style=\"fill:none;fill-rule:evenodd;stroke:#000000;stroke-width:2.0px;stroke-linecap:butt;stroke-linejoin:miter;stroke-opacity:1\"/>\n",
       "<path class=\"bond-8 atom-8 atom-9\" d=\"M 138.0,73.3 L 135.1,74.8\" style=\"fill:none;fill-rule:evenodd;stroke:#0000FF;stroke-width:2.0px;stroke-linecap:butt;stroke-linejoin:miter;stroke-opacity:1\"/>\n",
       "<path class=\"bond-8 atom-8 atom-9\" d=\"M 142.7,75.1 L 139.8,76.6\" style=\"fill:none;fill-rule:evenodd;stroke:#000000;stroke-width:2.0px;stroke-linecap:butt;stroke-linejoin:miter;stroke-opacity:1\"/>\n",
       "<path class=\"bond-8 atom-8 atom-9\" d=\"M 139.8,76.6 L 136.8,78.1\" style=\"fill:none;fill-rule:evenodd;stroke:#0000FF;stroke-width:2.0px;stroke-linecap:butt;stroke-linejoin:miter;stroke-opacity:1\"/>\n",
       "<path class=\"bond-9 atom-3 atom-10\" d=\"M 85.1,119.2 L 76.3,128.0\" style=\"fill:none;fill-rule:evenodd;stroke:#000000;stroke-width:2.0px;stroke-linecap:butt;stroke-linejoin:miter;stroke-opacity:1\"/>\n",
       "<path class=\"bond-10 atom-10 atom-11\" d=\"M 61.7,127.8 L 56.6,126.4\" style=\"fill:none;fill-rule:evenodd;stroke:#000000;stroke-width:2.0px;stroke-linecap:butt;stroke-linejoin:miter;stroke-opacity:1\"/>\n",
       "<path class=\"bond-10 atom-10 atom-11\" d=\"M 56.6,126.4 L 51.6,125.1\" style=\"fill:none;fill-rule:evenodd;stroke:#FF0000;stroke-width:2.0px;stroke-linecap:butt;stroke-linejoin:miter;stroke-opacity:1\"/>\n",
       "<path class=\"bond-10 atom-10 atom-11\" d=\"M 60.8,131.4 L 55.7,130.0\" style=\"fill:none;fill-rule:evenodd;stroke:#000000;stroke-width:2.0px;stroke-linecap:butt;stroke-linejoin:miter;stroke-opacity:1\"/>\n",
       "<path class=\"bond-10 atom-10 atom-11\" d=\"M 55.7,130.0 L 50.6,128.7\" style=\"fill:none;fill-rule:evenodd;stroke:#FF0000;stroke-width:2.0px;stroke-linecap:butt;stroke-linejoin:miter;stroke-opacity:1\"/>\n",
       "<path class=\"bond-11 atom-10 atom-12\" d=\"M 73.1,136.8 L 75.2,144.5\" style=\"fill:none;fill-rule:evenodd;stroke:#000000;stroke-width:2.0px;stroke-linecap:butt;stroke-linejoin:miter;stroke-opacity:1\"/>\n",
       "<path class=\"bond-11 atom-10 atom-12\" d=\"M 75.2,144.5 L 77.3,152.2\" style=\"fill:none;fill-rule:evenodd;stroke:#FF0000;stroke-width:2.0px;stroke-linecap:butt;stroke-linejoin:miter;stroke-opacity:1\"/>\n",
       "<path class=\"bond-12 atom-1 atom-13\" d=\"M 51.5,82.1 L 44.8,80.3\" style=\"fill:none;fill-rule:evenodd;stroke:#000000;stroke-width:2.0px;stroke-linecap:butt;stroke-linejoin:miter;stroke-opacity:1\"/>\n",
       "<path class=\"bond-12 atom-1 atom-13\" d=\"M 44.8,80.3 L 38.0,78.5\" style=\"fill:none;fill-rule:evenodd;stroke:#FF0000;stroke-width:2.0px;stroke-linecap:butt;stroke-linejoin:miter;stroke-opacity:1\"/>\n",
       "<path class=\"bond-13 atom-1 atom-14\" d=\"M 57.7,88.6 L 53.6,103.9\" style=\"fill:none;fill-rule:evenodd;stroke:#000000;stroke-width:2.0px;stroke-linecap:butt;stroke-linejoin:miter;stroke-opacity:1\"/>\n",
       "<path class=\"bond-14 atom-0 atom-15\" d=\"M 62.2,54.2 L 57.2,49.1\" style=\"fill:none;fill-rule:evenodd;stroke:#000000;stroke-width:2.0px;stroke-linecap:butt;stroke-linejoin:miter;stroke-opacity:1\"/>\n",
       "<path class=\"bond-14 atom-0 atom-15\" d=\"M 57.2,49.1 L 52.1,44.1\" style=\"fill:none;fill-rule:evenodd;stroke:#FF0000;stroke-width:2.0px;stroke-linecap:butt;stroke-linejoin:miter;stroke-opacity:1\"/>\n",
       "<path class=\"bond-14 atom-0 atom-15\" d=\"M 59.6,56.8 L 54.5,51.8\" style=\"fill:none;fill-rule:evenodd;stroke:#000000;stroke-width:2.0px;stroke-linecap:butt;stroke-linejoin:miter;stroke-opacity:1\"/>\n",
       "<path class=\"bond-14 atom-0 atom-15\" d=\"M 54.5,51.8 L 49.5,46.8\" style=\"fill:none;fill-rule:evenodd;stroke:#FF0000;stroke-width:2.0px;stroke-linecap:butt;stroke-linejoin:miter;stroke-opacity:1\"/>\n",
       "<path class=\"bond-15 atom-0 atom-16\" d=\"M 72.5,58.0 L 80.1,55.9\" style=\"fill:none;fill-rule:evenodd;stroke:#000000;stroke-width:2.0px;stroke-linecap:butt;stroke-linejoin:miter;stroke-opacity:1\"/>\n",
       "<path class=\"bond-15 atom-0 atom-16\" d=\"M 80.1,55.9 L 87.8,53.8\" style=\"fill:none;fill-rule:evenodd;stroke:#191919;stroke-width:2.0px;stroke-linecap:butt;stroke-linejoin:miter;stroke-opacity:1\"/>\n",
       "<path class=\"bond-16 atom-9 atom-5\" d=\"M 128.2,83.1 L 129.5,91.1\" style=\"fill:none;fill-rule:evenodd;stroke:#0000FF;stroke-width:2.0px;stroke-linecap:butt;stroke-linejoin:miter;stroke-opacity:1\"/>\n",
       "<path class=\"bond-16 atom-9 atom-5\" d=\"M 129.5,91.1 L 130.8,99.1\" style=\"fill:none;fill-rule:evenodd;stroke:#000000;stroke-width:2.0px;stroke-linecap:butt;stroke-linejoin:miter;stroke-opacity:1\"/>\n",
       "<path class=\"atom-0\" d=\"M 59.0 59.9 Q 59.0 58.2, 59.9 57.2 Q 60.7 56.3, 62.3 56.3 Q 63.7 56.3, 64.5 57.3 L 63.8 57.9 Q 63.3 57.1, 62.3 57.1 Q 61.2 57.1, 60.6 57.9 Q 60.1 58.6, 60.1 59.9 Q 60.1 61.3, 60.6 62.0 Q 61.2 62.8, 62.4 62.8 Q 63.2 62.8, 64.1 62.3 L 64.3 63.0 Q 64.0 63.3, 63.4 63.4 Q 62.9 63.6, 62.2 63.6 Q 60.7 63.6, 59.9 62.6 Q 59.0 61.7, 59.0 59.9 \" fill=\"#000000\"/>\n",
       "<path class=\"atom-0\" d=\"M 65.3 62.3 L 66.3 62.3 L 66.3 63.3 L 65.3 63.3 L 65.3 62.3 M 65.3 58.9 L 66.3 58.9 L 66.3 59.9 L 65.3 59.9 L 65.3 58.9 \" fill=\"#000000\"/>\n",
       "<path class=\"atom-0\" d=\"M 67.8 62.7 L 69.3 62.7 L 69.3 57.4 L 67.6 57.9 L 67.4 57.3 L 69.5 56.3 L 70.3 56.5 L 70.3 62.7 L 71.6 62.7 L 71.6 63.5 L 67.8 63.5 L 67.8 62.7 \" fill=\"#000000\"/>\n",
       "<path class=\"atom-1\" d=\"M 52.3 84.1 Q 52.3 82.4, 53.2 81.4 Q 54.0 80.5, 55.6 80.5 Q 57.0 80.5, 57.8 81.5 L 57.1 82.1 Q 56.6 81.3, 55.6 81.3 Q 54.5 81.3, 53.9 82.0 Q 53.4 82.8, 53.4 84.1 Q 53.4 85.5, 53.9 86.2 Q 54.5 87.0, 55.7 87.0 Q 56.4 87.0, 57.4 86.5 L 57.6 87.2 Q 57.3 87.5, 56.7 87.6 Q 56.1 87.8, 55.5 87.8 Q 54.0 87.8, 53.2 86.8 Q 52.3 85.9, 52.3 84.1 \" fill=\"#000000\"/>\n",
       "<path class=\"atom-1\" d=\"M 58.6 86.5 L 59.6 86.5 L 59.6 87.5 L 58.6 87.5 L 58.6 86.5 M 58.6 83.1 L 59.6 83.1 L 59.6 84.1 L 58.6 84.1 L 58.6 83.1 \" fill=\"#000000\"/>\n",
       "<path class=\"atom-1\" d=\"M 60.7 81.9 Q 61.0 81.2, 61.6 80.9 Q 62.2 80.5, 63.1 80.5 Q 64.2 80.5, 64.8 81.1 Q 65.4 81.7, 65.4 82.7 Q 65.4 83.7, 64.6 84.7 Q 63.8 85.7, 62.2 86.9 L 65.5 86.9 L 65.5 87.7 L 60.7 87.7 L 60.7 87.0 Q 62.0 86.1, 62.8 85.4 Q 63.6 84.7, 64.0 84.0 Q 64.4 83.4, 64.4 82.7 Q 64.4 82.1, 64.0 81.7 Q 63.7 81.3, 63.1 81.3 Q 62.5 81.3, 62.1 81.5 Q 61.8 81.8, 61.5 82.3 L 60.7 81.9 \" fill=\"#000000\"/>\n",
       "<path class=\"atom-2\" d=\"M 81.5 87.0 L 83.8 90.8 Q 84.1 91.1, 84.5 91.8 Q 84.8 92.5, 84.8 92.5 L 84.8 87.0 L 85.8 87.0 L 85.8 94.1 L 84.8 94.1 L 82.3 90.0 Q 82.0 89.5, 81.7 89.0 Q 81.4 88.4, 81.3 88.2 L 81.3 94.1 L 80.4 94.1 L 80.4 87.0 L 81.5 87.0 \" fill=\"#0000FF\"/>\n",
       "<path class=\"atom-2\" d=\"M 87.1 92.9 L 88.1 92.9 L 88.1 93.9 L 87.1 93.9 L 87.1 92.9 M 87.1 89.5 L 88.1 89.5 L 88.1 90.5 L 87.1 90.5 L 87.1 89.5 \" fill=\"#0000FF\"/>\n",
       "<path class=\"atom-2\" d=\"M 93.9 91.7 L 94.7 91.7 L 94.7 92.5 L 93.9 92.5 L 93.9 94.1 L 92.9 94.1 L 92.9 92.5 L 89.3 92.5 L 89.3 91.8 L 92.4 87.0 L 93.9 87.0 L 93.9 91.7 M 90.4 91.7 L 92.9 91.7 L 92.9 87.7 L 90.4 91.7 \" fill=\"#0000FF\"/>\n",
       "<path class=\"atom-2\" d=\"M 98.4 89.7 Q 99.1 89.7, 99.6 90.0 Q 100.0 90.2, 100.3 90.7 Q 100.6 91.2, 100.6 91.8 Q 100.6 92.5, 100.3 93.1 Q 100.0 93.6, 99.4 93.9 Q 98.9 94.2, 98.2 94.2 Q 96.9 94.2, 96.3 93.3 Q 95.7 92.5, 95.7 90.8 Q 95.7 88.9, 96.5 87.9 Q 97.2 86.9, 98.8 86.9 Q 99.2 86.9, 99.6 87.0 Q 99.9 87.1, 100.3 87.3 L 99.9 88.0 Q 99.4 87.7, 98.8 87.7 Q 97.8 87.7, 97.3 88.4 Q 96.7 89.0, 96.7 90.4 Q 97.0 90.0, 97.5 89.9 Q 98.0 89.7, 98.4 89.7 M 98.2 93.4 Q 98.6 93.4, 98.9 93.2 Q 99.2 93.0, 99.4 92.6 Q 99.6 92.3, 99.6 91.8 Q 99.6 91.2, 99.2 90.8 Q 98.9 90.5, 98.3 90.5 Q 97.8 90.5, 97.4 90.7 Q 97.0 90.8, 96.7 91.1 Q 96.7 92.3, 97.1 92.8 Q 97.5 93.4, 98.2 93.4 \" fill=\"#0000FF\"/>\n",
       "<path class=\"atom-2\" d=\"M 101.6 87.0 L 102.6 87.0 L 102.6 90.0 L 106.2 90.0 L 106.2 87.0 L 107.1 87.0 L 107.1 94.1 L 106.2 94.1 L 106.2 90.8 L 102.6 90.8 L 102.6 94.1 L 101.6 94.1 L 101.6 87.0 \" fill=\"#0000FF\"/>\n",
       "<path class=\"atom-2\" d=\"M 108.5 93.9 Q 108.6 93.4, 109.0 93.2 Q 109.4 92.9, 110.0 92.9 Q 110.7 92.9, 111.1 93.3 Q 111.5 93.7, 111.5 94.4 Q 111.5 95.1, 111.0 95.7 Q 110.5 96.4, 109.4 97.1 L 111.6 97.1 L 111.6 97.7 L 108.4 97.7 L 108.4 97.2 Q 109.3 96.6, 109.8 96.1 Q 110.4 95.7, 110.6 95.2 Q 110.9 94.8, 110.9 94.4 Q 110.9 93.9, 110.6 93.7 Q 110.4 93.4, 110.0 93.4 Q 109.6 93.4, 109.4 93.6 Q 109.1 93.8, 109.0 94.1 L 108.5 93.9 \" fill=\"#0000FF\"/>\n",
       "<path class=\"atom-2\" d=\"M 108.5 88.3 L 109.7 88.3 L 109.7 87.0 L 110.3 87.0 L 110.3 88.3 L 111.6 88.3 L 111.6 88.8 L 110.3 88.8 L 110.3 90.1 L 109.7 90.1 L 109.7 88.8 L 108.5 88.8 L 108.5 88.3 \" fill=\"#0000FF\"/>\n",
       "<path class=\"atom-3\" d=\"M 79.9 114.7 Q 79.9 113.0, 80.7 112.0 Q 81.5 111.1, 83.1 111.1 Q 84.5 111.1, 85.3 112.1 L 84.7 112.7 Q 84.1 111.9, 83.1 111.9 Q 82.0 111.9, 81.4 112.6 Q 80.9 113.4, 80.9 114.7 Q 80.9 116.1, 81.5 116.8 Q 82.0 117.6, 83.2 117.6 Q 84.0 117.6, 84.9 117.1 L 85.2 117.8 Q 84.8 118.1, 84.2 118.2 Q 83.7 118.4, 83.0 118.4 Q 81.5 118.4, 80.7 117.4 Q 79.9 116.5, 79.9 114.7 \" fill=\"#000000\"/>\n",
       "<path class=\"atom-3\" d=\"M 86.1 117.1 L 87.1 117.1 L 87.1 118.1 L 86.1 118.1 L 86.1 117.1 M 86.1 113.7 L 87.1 113.7 L 87.1 114.7 L 86.1 114.7 L 86.1 113.7 \" fill=\"#000000\"/>\n",
       "<path class=\"atom-3\" d=\"M 92.9 115.8 L 93.8 115.8 L 93.8 116.6 L 92.9 116.6 L 92.9 118.3 L 92.0 118.3 L 92.0 116.6 L 88.3 116.6 L 88.3 116.0 L 91.4 111.2 L 92.9 111.2 L 92.9 115.8 M 89.5 115.8 L 92.0 115.8 L 92.0 111.8 L 89.5 115.8 \" fill=\"#000000\"/>\n",
       "<path class=\"atom-3\" d=\"M 98.4 112.0 L 94.7 112.0 L 94.7 111.2 L 99.4 111.2 L 99.4 111.9 L 96.5 118.3 L 95.5 118.3 L 98.4 112.0 \" fill=\"#000000\"/>\n",
       "<path class=\"atom-4\" d=\"M 104.0 121.2 Q 104.0 119.4, 104.8 118.5 Q 105.6 117.5, 107.2 117.5 Q 108.7 117.5, 109.5 118.6 L 108.8 119.1 Q 108.2 118.4, 107.2 118.4 Q 106.1 118.4, 105.6 119.1 Q 105.0 119.8, 105.0 121.2 Q 105.0 122.6, 105.6 123.3 Q 106.2 124.0, 107.3 124.0 Q 108.1 124.0, 109.0 123.5 L 109.3 124.3 Q 108.9 124.5, 108.4 124.7 Q 107.8 124.8, 107.2 124.8 Q 105.6 124.8, 104.8 123.9 Q 104.0 122.9, 104.0 121.2 \" fill=\"#000000\"/>\n",
       "<path class=\"atom-4\" d=\"M 110.3 123.5 L 111.3 123.5 L 111.3 124.5 L 110.3 124.5 L 110.3 123.5 M 110.3 120.1 L 111.3 120.1 L 111.3 121.1 L 110.3 121.1 L 110.3 120.1 \" fill=\"#000000\"/>\n",
       "<path class=\"atom-4\" d=\"M 117.1 122.3 L 117.9 122.3 L 117.9 123.1 L 117.1 123.1 L 117.1 124.7 L 116.1 124.7 L 116.1 123.1 L 112.4 123.1 L 112.4 122.5 L 115.6 117.6 L 117.1 117.6 L 117.1 122.3 M 113.6 122.3 L 116.1 122.3 L 116.1 118.3 L 113.6 122.3 \" fill=\"#000000\"/>\n",
       "<path class=\"atom-4\" d=\"M 121.4 120.3 Q 122.0 120.3, 122.5 120.5 Q 123.0 120.8, 123.3 121.3 Q 123.6 121.8, 123.6 122.5 Q 123.6 123.2, 123.2 123.7 Q 122.9 124.3, 122.3 124.5 Q 121.7 124.8, 121.1 124.8 Q 120.4 124.8, 119.8 124.6 Q 119.2 124.3, 118.8 123.9 L 119.4 123.2 Q 119.7 123.6, 120.2 123.8 Q 120.6 124.0, 121.1 124.0 Q 121.7 124.0, 122.2 123.6 Q 122.6 123.2, 122.6 122.5 Q 122.6 121.7, 122.2 121.4 Q 121.7 121.0, 121.0 121.0 Q 120.4 121.0, 119.7 121.3 L 119.2 121.0 L 119.5 117.6 L 123.2 117.6 L 123.1 118.4 L 120.3 118.4 L 120.1 120.5 Q 120.8 120.3, 121.4 120.3 \" fill=\"#000000\"/>\n",
       "<path class=\"atom-5\" d=\"M 115.0 103.4 Q 115.0 101.7, 115.8 100.7 Q 116.6 99.8, 118.2 99.8 Q 119.7 99.8, 120.4 100.8 L 119.8 101.4 Q 119.2 100.6, 118.2 100.6 Q 117.1 100.6, 116.6 101.4 Q 116.0 102.1, 116.0 103.4 Q 116.0 104.8, 116.6 105.6 Q 117.2 106.3, 118.3 106.3 Q 119.1 106.3, 120.0 105.8 L 120.3 106.6 Q 119.9 106.8, 119.3 106.9 Q 118.8 107.1, 118.2 107.1 Q 116.6 107.1, 115.8 106.1 Q 115.0 105.2, 115.0 103.4 \" fill=\"#000000\"/>\n",
       "<path class=\"atom-5\" d=\"M 121.2 105.8 L 122.2 105.8 L 122.2 106.8 L 121.2 106.8 L 121.2 105.8 M 121.2 102.4 L 122.2 102.4 L 122.2 103.4 L 121.2 103.4 L 121.2 102.4 \" fill=\"#000000\"/>\n",
       "<path class=\"atom-5\" d=\"M 126.0 102.5 Q 126.6 102.5, 127.1 102.8 Q 127.6 103.1, 127.9 103.6 Q 128.2 104.1, 128.2 104.7 Q 128.2 105.5, 127.8 106.0 Q 127.5 106.5, 126.9 106.8 Q 126.3 107.1, 125.7 107.1 Q 125.0 107.1, 124.4 106.8 Q 123.8 106.6, 123.4 106.1 L 124.0 105.5 Q 124.3 105.9, 124.8 106.1 Q 125.2 106.3, 125.7 106.3 Q 126.3 106.3, 126.7 105.9 Q 127.2 105.5, 127.2 104.8 Q 127.2 104.0, 126.7 103.7 Q 126.3 103.3, 125.6 103.3 Q 125.0 103.3, 124.3 103.6 L 123.8 103.3 L 124.1 99.9 L 127.8 99.9 L 127.7 100.7 L 124.9 100.7 L 124.7 102.8 Q 125.3 102.5, 126.0 102.5 \" fill=\"#000000\"/>\n",
       "<path class=\"atom-5\" d=\"M 131.6 102.5 Q 132.3 102.5, 132.8 102.8 Q 133.3 103.1, 133.6 103.6 Q 133.9 104.1, 133.9 104.7 Q 133.9 105.5, 133.5 106.0 Q 133.2 106.5, 132.6 106.8 Q 132.0 107.1, 131.3 107.1 Q 130.7 107.1, 130.1 106.8 Q 129.5 106.6, 129.1 106.1 L 129.7 105.5 Q 130.0 105.9, 130.5 106.1 Q 130.9 106.3, 131.4 106.3 Q 132.0 106.3, 132.4 105.9 Q 132.9 105.5, 132.9 104.8 Q 132.9 104.0, 132.4 103.7 Q 132.0 103.3, 131.3 103.3 Q 130.7 103.3, 130.0 103.6 L 129.4 103.3 L 129.8 99.9 L 133.4 99.9 L 133.3 100.7 L 130.6 100.7 L 130.4 102.8 Q 131.0 102.5, 131.6 102.5 \" fill=\"#000000\"/>\n",
       "<path class=\"atom-6\" d=\"M 153.5 107.3 Q 153.5 105.5, 154.3 104.6 Q 155.1 103.7, 156.7 103.7 Q 158.2 103.7, 158.9 104.7 L 158.3 105.3 Q 157.7 104.5, 156.7 104.5 Q 155.6 104.5, 155.0 105.2 Q 154.5 105.9, 154.5 107.3 Q 154.5 108.7, 155.1 109.4 Q 155.7 110.1, 156.8 110.1 Q 157.6 110.1, 158.5 109.7 L 158.8 110.4 Q 158.4 110.7, 157.8 110.8 Q 157.3 111.0, 156.7 111.0 Q 155.1 111.0, 154.3 110.0 Q 153.5 109.1, 153.5 107.3 \" fill=\"#000000\"/>\n",
       "<path class=\"atom-6\" d=\"M 159.7 109.7 L 160.7 109.7 L 160.7 110.7 L 159.7 110.7 L 159.7 109.7 M 159.7 106.2 L 160.7 106.2 L 160.7 107.2 L 159.7 107.2 L 159.7 106.2 \" fill=\"#000000\"/>\n",
       "<path class=\"atom-6\" d=\"M 164.5 106.4 Q 165.1 106.4, 165.6 106.7 Q 166.1 107.0, 166.4 107.5 Q 166.7 107.9, 166.7 108.6 Q 166.7 109.3, 166.3 109.9 Q 166.0 110.4, 165.4 110.7 Q 164.8 110.9, 164.2 110.9 Q 163.5 110.9, 162.9 110.7 Q 162.3 110.5, 161.9 110.0 L 162.5 109.4 Q 162.8 109.7, 163.3 109.9 Q 163.7 110.1, 164.2 110.1 Q 164.8 110.1, 165.2 109.7 Q 165.7 109.3, 165.7 108.6 Q 165.7 107.9, 165.2 107.5 Q 164.8 107.2, 164.1 107.2 Q 163.5 107.2, 162.8 107.4 L 162.3 107.2 L 162.6 103.8 L 166.2 103.8 L 166.1 104.6 L 163.4 104.6 L 163.2 106.7 Q 163.8 106.4, 164.5 106.4 \" fill=\"#000000\"/>\n",
       "<path class=\"atom-6\" d=\"M 171.0 107.1 Q 171.7 107.3, 172.0 107.8 Q 172.3 108.2, 172.3 108.9 Q 172.3 109.5, 172.0 110.0 Q 171.7 110.4, 171.2 110.7 Q 170.6 111.0, 169.9 111.0 Q 169.1 111.0, 168.6 110.7 Q 168.0 110.4, 167.6 109.9 L 168.1 109.3 Q 168.6 109.8, 168.9 110.0 Q 169.3 110.2, 169.9 110.2 Q 170.6 110.2, 170.9 109.8 Q 171.3 109.5, 171.3 108.9 Q 171.3 108.2, 170.9 107.9 Q 170.5 107.5, 169.6 107.5 L 169.1 107.5 L 169.1 106.8 L 169.6 106.8 Q 170.4 106.8, 170.8 106.5 Q 171.2 106.1, 171.2 105.5 Q 171.2 105.0, 170.8 104.8 Q 170.5 104.5, 169.9 104.5 Q 169.3 104.5, 169.0 104.7 Q 168.6 104.9, 168.3 105.4 L 167.6 105.1 Q 167.9 104.5, 168.5 104.1 Q 169.1 103.7, 169.9 103.7 Q 171.0 103.7, 171.6 104.2 Q 172.2 104.7, 172.2 105.5 Q 172.2 106.1, 171.9 106.5 Q 171.6 106.9, 171.0 107.1 \" fill=\"#000000\"/>\n",
       "<path class=\"atom-7\" d=\"M 166.0 81.4 L 168.3 85.2 Q 168.5 85.6, 168.9 86.2 Q 169.3 86.9, 169.3 86.9 L 169.3 81.4 L 170.2 81.4 L 170.2 88.5 L 169.2 88.5 L 166.8 84.4 Q 166.5 83.9, 166.2 83.4 Q 165.9 82.8, 165.8 82.7 L 165.8 88.5 L 164.8 88.5 L 164.8 81.4 L 166.0 81.4 \" fill=\"#0000FF\"/>\n",
       "<path class=\"atom-7\" d=\"M 171.5 87.3 L 172.5 87.3 L 172.5 88.3 L 171.5 88.3 L 171.5 87.3 M 171.5 83.9 L 172.5 83.9 L 172.5 84.9 L 171.5 84.9 L 171.5 83.9 \" fill=\"#0000FF\"/>\n",
       "<path class=\"atom-7\" d=\"M 176.2 84.1 Q 176.8 84.1, 177.3 84.4 Q 177.9 84.6, 178.1 85.1 Q 178.4 85.6, 178.4 86.3 Q 178.4 87.0, 178.1 87.5 Q 177.7 88.1, 177.1 88.3 Q 176.6 88.6, 175.9 88.6 Q 175.3 88.6, 174.7 88.4 Q 174.1 88.1, 173.6 87.7 L 174.2 87.0 Q 174.6 87.4, 175.0 87.6 Q 175.5 87.8, 175.9 87.8 Q 176.6 87.8, 177.0 87.4 Q 177.4 87.0, 177.4 86.3 Q 177.4 85.5, 177.0 85.2 Q 176.6 84.8, 175.9 84.8 Q 175.3 84.8, 174.6 85.1 L 174.0 84.8 L 174.4 81.4 L 178.0 81.4 L 177.9 82.2 L 175.2 82.2 L 175.0 84.3 Q 175.6 84.1, 176.2 84.1 \" fill=\"#0000FF\"/>\n",
       "<path class=\"atom-7\" d=\"M 179.7 87.7 L 181.3 87.7 L 181.3 82.4 L 179.6 83.0 L 179.3 82.4 L 181.5 81.4 L 182.2 81.5 L 182.2 87.7 L 183.6 87.7 L 183.6 88.5 L 179.7 88.5 L 179.7 87.7 \" fill=\"#0000FF\"/>\n",
       "<path class=\"atom-7\" d=\"M 184.5 81.4 L 185.4 81.4 L 185.4 84.4 L 189.0 84.4 L 189.0 81.4 L 190.0 81.4 L 190.0 88.5 L 189.0 88.5 L 189.0 85.2 L 185.4 85.2 L 185.4 88.5 L 184.5 88.5 L 184.5 81.4 \" fill=\"#0000FF\"/>\n",
       "<path class=\"atom-8\" d=\"M 140.4 67.3 Q 140.4 65.6, 141.2 64.6 Q 142.0 63.7, 143.6 63.7 Q 145.0 63.7, 145.8 64.7 L 145.2 65.3 Q 144.6 64.5, 143.6 64.5 Q 142.5 64.5, 141.9 65.2 Q 141.4 66.0, 141.4 67.3 Q 141.4 68.7, 142.0 69.4 Q 142.6 70.2, 143.7 70.2 Q 144.5 70.2, 145.4 69.7 L 145.7 70.4 Q 145.3 70.7, 144.7 70.8 Q 144.2 71.0, 143.6 71.0 Q 142.0 71.0, 141.2 70.0 Q 140.4 69.1, 140.4 67.3 \" fill=\"#000000\"/>\n",
       "<path class=\"atom-8\" d=\"M 146.6 69.7 L 147.6 69.7 L 147.6 70.7 L 146.6 70.7 L 146.6 69.7 M 146.6 66.3 L 147.6 66.3 L 147.6 67.3 L 146.6 67.3 L 146.6 66.3 \" fill=\"#000000\"/>\n",
       "<path class=\"atom-8\" d=\"M 151.4 66.4 Q 152.0 66.4, 152.5 66.7 Q 153.0 67.0, 153.3 67.5 Q 153.6 68.0, 153.6 68.6 Q 153.6 69.4, 153.2 69.9 Q 152.9 70.4, 152.3 70.7 Q 151.7 70.9, 151.0 70.9 Q 150.4 70.9, 149.8 70.7 Q 149.2 70.5, 148.8 70.0 L 149.4 69.4 Q 149.7 69.7, 150.2 69.9 Q 150.6 70.1, 151.1 70.1 Q 151.7 70.1, 152.1 69.7 Q 152.6 69.4, 152.6 68.6 Q 152.6 67.9, 152.1 67.5 Q 151.7 67.2, 151.0 67.2 Q 150.4 67.2, 149.7 67.5 L 149.2 67.2 L 149.5 63.8 L 153.1 63.8 L 153.0 64.6 L 150.3 64.6 L 150.1 66.7 Q 150.7 66.4, 151.4 66.4 \" fill=\"#000000\"/>\n",
       "<path class=\"atom-8\" d=\"M 154.5 65.1 Q 154.7 64.4, 155.4 64.1 Q 156.0 63.7, 156.8 63.7 Q 157.9 63.7, 158.5 64.3 Q 159.1 64.9, 159.1 65.9 Q 159.1 66.9, 158.3 67.9 Q 157.6 68.9, 156.0 70.1 L 159.2 70.1 L 159.2 70.9 L 154.5 70.9 L 154.5 70.2 Q 155.8 69.3, 156.6 68.6 Q 157.4 67.9, 157.7 67.2 Q 158.1 66.6, 158.1 65.9 Q 158.1 65.3, 157.8 64.9 Q 157.4 64.5, 156.8 64.5 Q 156.3 64.5, 155.9 64.7 Q 155.5 65.0, 155.2 65.5 L 154.5 65.1 \" fill=\"#000000\"/>\n",
       "<path class=\"atom-9\" d=\"M 103.4 75.1 L 104.3 75.1 L 104.3 78.2 L 107.9 78.2 L 107.9 75.1 L 108.9 75.1 L 108.9 82.2 L 107.9 82.2 L 107.9 79.0 L 104.3 79.0 L 104.3 82.2 L 103.4 82.2 L 103.4 75.1 \" fill=\"#0000FF\"/>\n",
       "<path class=\"atom-9\" d=\"M 111.3 75.1 L 113.7 78.9 Q 113.9 79.3, 114.3 79.9 Q 114.6 80.6, 114.6 80.6 L 114.6 75.1 L 115.6 75.1 L 115.6 82.2 L 114.6 82.2 L 112.1 78.1 Q 111.8 77.6, 111.5 77.1 Q 111.2 76.5, 111.1 76.4 L 111.1 82.2 L 110.2 82.2 L 110.2 75.1 L 111.3 75.1 \" fill=\"#0000FF\"/>\n",
       "<path class=\"atom-9\" d=\"M 116.9 81.1 L 117.9 81.1 L 117.9 82.1 L 116.9 82.1 L 116.9 81.1 M 116.9 77.6 L 117.9 77.6 L 117.9 78.6 L 116.9 78.6 L 116.9 77.6 \" fill=\"#0000FF\"/>\n",
       "<path class=\"atom-9\" d=\"M 121.6 77.8 Q 122.3 77.8, 122.8 78.1 Q 123.3 78.3, 123.6 78.8 Q 123.9 79.3, 123.9 80.0 Q 123.9 80.7, 123.5 81.2 Q 123.1 81.8, 122.6 82.0 Q 122.0 82.3, 121.3 82.3 Q 120.7 82.3, 120.1 82.1 Q 119.5 81.8, 119.1 81.4 L 119.7 80.7 Q 120.0 81.1, 120.4 81.3 Q 120.9 81.5, 121.4 81.5 Q 122.0 81.5, 122.4 81.1 Q 122.9 80.7, 122.9 80.0 Q 122.9 79.3, 122.4 78.9 Q 122.0 78.5, 121.3 78.5 Q 120.7 78.5, 120.0 78.8 L 119.4 78.6 L 119.8 75.1 L 123.4 75.1 L 123.3 75.9 L 120.6 75.9 L 120.4 78.0 Q 121.0 77.8, 121.6 77.8 \" fill=\"#0000FF\"/>\n",
       "<path class=\"atom-9\" d=\"M 129.4 79.8 L 130.2 79.8 L 130.2 80.6 L 129.4 80.6 L 129.4 82.2 L 128.5 82.2 L 128.5 80.6 L 124.8 80.6 L 124.8 80.0 L 127.9 75.1 L 129.4 75.1 L 129.4 79.8 M 125.9 79.8 L 128.5 79.8 L 128.5 75.8 L 125.9 79.8 \" fill=\"#0000FF\"/>\n",
       "<path class=\"atom-9\" d=\"M 131.2 76.4 L 132.4 76.4 L 132.4 75.1 L 133.0 75.1 L 133.0 76.4 L 134.3 76.4 L 134.3 76.9 L 133.0 76.9 L 133.0 78.2 L 132.4 78.2 L 132.4 76.9 L 131.2 76.9 L 131.2 76.4 \" fill=\"#0000FF\"/>\n",
       "<path class=\"atom-10\" d=\"M 62.1 132.4 Q 62.1 130.7, 62.9 129.8 Q 63.7 128.8, 65.3 128.8 Q 66.8 128.8, 67.5 129.9 L 66.9 130.4 Q 66.3 129.7, 65.3 129.7 Q 64.2 129.7, 63.6 130.4 Q 63.1 131.1, 63.1 132.4 Q 63.1 133.9, 63.7 134.6 Q 64.3 135.3, 65.4 135.3 Q 66.2 135.3, 67.1 134.8 L 67.4 135.6 Q 67.0 135.8, 66.4 136.0 Q 65.9 136.1, 65.3 136.1 Q 63.7 136.1, 62.9 135.2 Q 62.1 134.2, 62.1 132.4 \" fill=\"#000000\"/>\n",
       "<path class=\"atom-10\" d=\"M 68.4 134.8 L 69.4 134.8 L 69.4 135.8 L 68.4 135.8 L 68.4 134.8 M 68.4 131.4 L 69.4 131.4 L 69.4 132.4 L 68.4 132.4 L 68.4 131.4 \" fill=\"#000000\"/>\n",
       "<path class=\"atom-10\" d=\"M 75.1 133.6 L 76.0 133.6 L 76.0 134.4 L 75.1 134.4 L 75.1 136.0 L 74.2 136.0 L 74.2 134.4 L 70.5 134.4 L 70.5 133.7 L 73.6 128.9 L 75.1 128.9 L 75.1 133.6 M 71.7 133.6 L 74.2 133.6 L 74.2 129.6 L 71.7 133.6 \" fill=\"#000000\"/>\n",
       "<path class=\"atom-10\" d=\"M 79.3 128.8 Q 80.5 128.8, 81.2 129.7 Q 81.8 130.5, 81.8 132.2 Q 81.8 134.1, 81.0 135.1 Q 80.2 136.1, 78.7 136.1 Q 78.3 136.1, 77.9 136.0 Q 77.5 135.9, 77.2 135.7 L 77.6 135.0 Q 78.1 135.3, 78.7 135.3 Q 79.7 135.3, 80.2 134.6 Q 80.7 134.0, 80.8 132.7 Q 80.4 133.0, 80.0 133.2 Q 79.5 133.3, 79.0 133.3 Q 78.4 133.3, 77.9 133.1 Q 77.4 132.8, 77.2 132.3 Q 76.9 131.8, 76.9 131.2 Q 76.9 130.5, 77.2 130.0 Q 77.5 129.4, 78.0 129.1 Q 78.6 128.8, 79.3 128.8 M 77.9 131.2 Q 77.9 131.8, 78.2 132.2 Q 78.6 132.5, 79.2 132.5 Q 79.7 132.5, 80.1 132.4 Q 80.5 132.2, 80.8 131.9 Q 80.8 130.7, 80.4 130.2 Q 80.0 129.7, 79.3 129.7 Q 78.9 129.7, 78.6 129.9 Q 78.3 130.1, 78.1 130.4 Q 77.9 130.8, 77.9 131.2 \" fill=\"#000000\"/>\n",
       "<path class=\"atom-11\" d=\"M 29.2 126.0 Q 29.2 124.3, 30.0 123.3 Q 30.9 122.4, 32.4 122.4 Q 34.0 122.4, 34.9 123.3 Q 35.7 124.3, 35.7 126.0 Q 35.7 127.7, 34.8 128.7 Q 34.0 129.7, 32.4 129.7 Q 30.9 129.7, 30.0 128.7 Q 29.2 127.7, 29.2 126.0 M 32.4 128.9 Q 33.5 128.9, 34.1 128.2 Q 34.7 127.4, 34.7 126.0 Q 34.7 124.6, 34.1 123.9 Q 33.5 123.2, 32.4 123.2 Q 31.4 123.2, 30.8 123.9 Q 30.2 124.6, 30.2 126.0 Q 30.2 127.4, 30.8 128.2 Q 31.4 128.9, 32.4 128.9 \" fill=\"#FF0000\"/>\n",
       "<path class=\"atom-11\" d=\"M 36.6 128.4 L 37.7 128.4 L 37.7 129.4 L 36.6 129.4 L 36.6 128.4 M 36.6 124.9 L 37.7 124.9 L 37.7 125.9 L 36.6 125.9 L 36.6 124.9 \" fill=\"#FF0000\"/>\n",
       "<path class=\"atom-11\" d=\"M 43.5 127.1 L 44.3 127.1 L 44.3 127.9 L 43.5 127.9 L 43.5 129.6 L 42.5 129.6 L 42.5 127.9 L 38.9 127.9 L 38.9 127.3 L 42.0 122.5 L 43.5 122.5 L 43.5 127.1 M 40.0 127.1 L 42.5 127.1 L 42.5 123.1 L 40.0 127.1 \" fill=\"#FF0000\"/>\n",
       "<path class=\"atom-11\" d=\"M 48.9 125.8 Q 49.5 126.1, 49.9 126.5 Q 50.3 126.9, 50.3 127.6 Q 50.3 128.2, 49.9 128.7 Q 49.6 129.2, 49.1 129.4 Q 48.5 129.7, 47.8 129.7 Q 46.6 129.7, 45.9 129.1 Q 45.2 128.6, 45.2 127.6 Q 45.2 127.0, 45.5 126.6 Q 45.8 126.2, 46.5 125.8 Q 46.0 125.6, 45.8 125.2 Q 45.5 124.8, 45.5 124.2 Q 45.5 123.4, 46.1 122.9 Q 46.7 122.4, 47.8 122.4 Q 48.8 122.4, 49.4 122.9 Q 50.0 123.4, 50.0 124.2 Q 50.0 124.7, 49.7 125.1 Q 49.4 125.5, 48.9 125.8 M 47.8 123.1 Q 47.2 123.1, 46.8 123.4 Q 46.5 123.7, 46.5 124.2 Q 46.5 124.6, 46.7 124.8 Q 47.0 125.1, 47.3 125.2 Q 47.6 125.3, 48.2 125.6 Q 48.6 125.3, 48.8 124.9 Q 49.0 124.6, 49.0 124.2 Q 49.0 123.7, 48.7 123.4 Q 48.3 123.1, 47.8 123.1 M 47.8 128.9 Q 48.5 128.9, 48.9 128.6 Q 49.3 128.2, 49.3 127.6 Q 49.3 127.2, 49.0 127.0 Q 48.8 126.8, 48.5 126.6 Q 48.2 126.5, 47.6 126.3 L 47.2 126.1 Q 46.7 126.4, 46.5 126.8 Q 46.2 127.2, 46.2 127.6 Q 46.2 128.2, 46.7 128.6 Q 47.1 128.9, 47.8 128.9 \" fill=\"#FF0000\"/>\n",
       "<path class=\"atom-12\" d=\"M 75.2 156.6 Q 75.2 154.9, 76.0 154.0 Q 76.9 153.0, 78.5 153.0 Q 80.0 153.0, 80.9 154.0 Q 81.7 154.9, 81.7 156.6 Q 81.7 158.3, 80.9 159.3 Q 80.0 160.3, 78.5 160.3 Q 76.9 160.3, 76.0 159.3 Q 75.2 158.3, 75.2 156.6 M 78.5 159.5 Q 79.5 159.5, 80.1 158.8 Q 80.7 158.0, 80.7 156.6 Q 80.7 155.2, 80.1 154.5 Q 79.5 153.8, 78.5 153.8 Q 77.4 153.8, 76.8 154.5 Q 76.2 155.2, 76.2 156.6 Q 76.2 158.0, 76.8 158.8 Q 77.4 159.5, 78.5 159.5 \" fill=\"#FF0000\"/>\n",
       "<path class=\"atom-12\" d=\"M 82.6 159.0 L 83.6 159.0 L 83.6 160.0 L 82.6 160.0 L 82.6 159.0 M 82.6 155.6 L 83.6 155.6 L 83.6 156.6 L 82.6 156.6 L 82.6 155.6 \" fill=\"#FF0000\"/>\n",
       "<path class=\"atom-12\" d=\"M 87.4 155.7 Q 88.0 155.7, 88.5 156.0 Q 89.0 156.3, 89.3 156.8 Q 89.6 157.3, 89.6 157.9 Q 89.6 158.7, 89.2 159.2 Q 88.9 159.7, 88.3 160.0 Q 87.7 160.3, 87.1 160.3 Q 86.4 160.3, 85.8 160.0 Q 85.2 159.8, 84.8 159.3 L 85.4 158.7 Q 85.7 159.0, 86.2 159.2 Q 86.6 159.4, 87.1 159.4 Q 87.7 159.4, 88.2 159.0 Q 88.6 158.7, 88.6 157.9 Q 88.6 157.2, 88.2 156.8 Q 87.7 156.5, 87.0 156.5 Q 86.4 156.5, 85.7 156.8 L 85.2 156.5 L 85.5 153.1 L 89.2 153.1 L 89.1 153.9 L 86.3 153.9 L 86.1 156.0 Q 86.8 155.7, 87.4 155.7 \" fill=\"#FF0000\"/>\n",
       "<path class=\"atom-12\" d=\"M 93.1 160.3 Q 91.8 160.3, 91.2 159.3 Q 90.5 158.3, 90.5 156.6 Q 90.5 154.9, 91.2 154.0 Q 91.8 153.0, 93.1 153.0 Q 94.4 153.0, 95.1 154.0 Q 95.7 154.9, 95.7 156.6 Q 95.7 158.3, 95.0 159.3 Q 94.4 160.3, 93.1 160.3 M 93.1 159.4 Q 93.9 159.4, 94.3 158.7 Q 94.7 158.0, 94.7 156.6 Q 94.7 155.2, 94.3 154.5 Q 93.9 153.8, 93.1 153.8 Q 92.3 153.8, 91.9 154.5 Q 91.5 155.2, 91.5 156.6 Q 91.5 158.0, 91.9 158.7 Q 92.3 159.4, 93.1 159.4 \" fill=\"#FF0000\"/>\n",
       "<path class=\"atom-12\" d=\"M 96.8 154.2 L 99.2 154.2 L 99.2 154.7 L 96.8 154.7 L 96.8 154.2 \" fill=\"#FF0000\"/>\n",
       "<path class=\"atom-13\" d=\"M 10.0 74.1 L 11.0 74.1 L 11.0 77.2 L 14.6 77.2 L 14.6 74.1 L 15.5 74.1 L 15.5 81.2 L 14.6 81.2 L 14.6 78.0 L 11.0 78.0 L 11.0 81.2 L 10.0 81.2 L 10.0 74.1 \" fill=\"#FF0000\"/>\n",
       "<path class=\"atom-13\" d=\"M 16.9 77.7 Q 16.9 76.0, 17.7 75.0 Q 18.5 74.1, 20.1 74.1 Q 21.7 74.1, 22.5 75.0 Q 23.4 76.0, 23.4 77.7 Q 23.4 79.4, 22.5 80.4 Q 21.7 81.3, 20.1 81.3 Q 18.5 81.3, 17.7 80.4 Q 16.9 79.4, 16.9 77.7 M 20.1 80.5 Q 21.2 80.5, 21.8 79.8 Q 22.4 79.1, 22.4 77.7 Q 22.4 76.3, 21.8 75.6 Q 21.2 74.9, 20.1 74.9 Q 19.0 74.9, 18.4 75.6 Q 17.9 76.3, 17.9 77.7 Q 17.9 79.1, 18.4 79.8 Q 19.0 80.5, 20.1 80.5 \" fill=\"#FF0000\"/>\n",
       "<path class=\"atom-13\" d=\"M 24.3 80.1 L 25.3 80.1 L 25.3 81.1 L 24.3 81.1 L 24.3 80.1 M 24.3 76.6 L 25.3 76.6 L 25.3 77.6 L 24.3 77.6 L 24.3 76.6 \" fill=\"#FF0000\"/>\n",
       "<path class=\"atom-13\" d=\"M 29.1 76.8 Q 29.7 76.8, 30.2 77.1 Q 30.7 77.3, 31.0 77.8 Q 31.3 78.3, 31.3 79.0 Q 31.3 79.7, 31.0 80.2 Q 30.6 80.8, 30.0 81.0 Q 29.4 81.3, 28.8 81.3 Q 28.1 81.3, 27.5 81.1 Q 26.9 80.8, 26.5 80.4 L 27.1 79.7 Q 27.5 80.1, 27.9 80.3 Q 28.4 80.5, 28.8 80.5 Q 29.4 80.5, 29.9 80.1 Q 30.3 79.7, 30.3 79.0 Q 30.3 78.3, 29.9 77.9 Q 29.4 77.5, 28.8 77.5 Q 28.1 77.5, 27.4 77.8 L 26.9 77.6 L 27.2 74.1 L 30.9 74.1 L 30.8 74.9 L 28.1 74.9 L 27.8 77.0 Q 28.5 76.8, 29.1 76.8 \" fill=\"#FF0000\"/>\n",
       "<path class=\"atom-13\" d=\"M 34.6 74.1 Q 35.9 74.1, 36.5 74.9 Q 37.2 75.8, 37.2 77.5 Q 37.2 79.4, 36.4 80.3 Q 35.6 81.3, 34.1 81.3 Q 33.6 81.3, 33.3 81.2 Q 32.9 81.1, 32.5 80.9 L 32.9 80.2 Q 33.4 80.5, 34.1 80.5 Q 35.1 80.5, 35.6 79.9 Q 36.1 79.2, 36.2 77.9 Q 35.8 78.2, 35.3 78.4 Q 34.9 78.6, 34.4 78.6 Q 33.8 78.6, 33.3 78.3 Q 32.8 78.0, 32.5 77.5 Q 32.3 77.0, 32.3 76.4 Q 32.3 75.7, 32.6 75.2 Q 32.9 74.7, 33.4 74.4 Q 33.9 74.1, 34.6 74.1 M 33.3 76.4 Q 33.3 77.0, 33.6 77.4 Q 34.0 77.8, 34.6 77.8 Q 35.0 77.8, 35.4 77.6 Q 35.9 77.4, 36.2 77.1 Q 36.1 75.9, 35.8 75.4 Q 35.4 74.9, 34.6 74.9 Q 34.2 74.9, 33.9 75.1 Q 33.6 75.3, 33.4 75.6 Q 33.3 76.0, 33.3 76.4 \" fill=\"#FF0000\"/>\n",
       "<path class=\"atom-14\" d=\"M 49.7 108.3 Q 49.7 106.5, 50.6 105.6 Q 51.4 104.7, 53.0 104.7 Q 54.4 104.7, 55.2 105.7 L 54.5 106.3 Q 54.0 105.5, 53.0 105.5 Q 51.9 105.5, 51.3 106.2 Q 50.8 106.9, 50.8 108.3 Q 50.8 109.7, 51.3 110.4 Q 51.9 111.1, 53.1 111.1 Q 53.8 111.1, 54.8 110.7 L 55.0 111.4 Q 54.7 111.7, 54.1 111.8 Q 53.5 111.9, 52.9 111.9 Q 51.4 111.9, 50.6 111.0 Q 49.7 110.1, 49.7 108.3 \" fill=\"#000000\"/>\n",
       "<path class=\"atom-14\" d=\"M 56.0 110.7 L 57.0 110.7 L 57.0 111.7 L 56.0 111.7 L 56.0 110.7 M 56.0 107.2 L 57.0 107.2 L 57.0 108.2 L 56.0 108.2 L 56.0 107.2 \" fill=\"#000000\"/>\n",
       "<path class=\"atom-14\" d=\"M 61.0 107.4 Q 61.6 107.4, 62.1 107.7 Q 62.6 108.0, 62.8 108.5 Q 63.1 109.0, 63.1 109.6 Q 63.1 110.3, 62.8 110.8 Q 62.5 111.3, 61.9 111.6 Q 61.4 111.9, 60.7 111.9 Q 59.5 111.9, 58.8 111.1 Q 58.2 110.2, 58.2 108.5 Q 58.2 106.6, 59.0 105.7 Q 59.8 104.7, 61.3 104.7 Q 61.7 104.7, 62.1 104.8 Q 62.5 104.9, 62.8 105.1 L 62.4 105.8 Q 61.9 105.5, 61.3 105.5 Q 60.3 105.5, 59.8 106.1 Q 59.3 106.8, 59.2 108.1 Q 59.6 107.8, 60.0 107.6 Q 60.5 107.4, 61.0 107.4 M 60.7 111.1 Q 61.1 111.1, 61.4 110.9 Q 61.7 110.7, 61.9 110.4 Q 62.1 110.0, 62.1 109.6 Q 62.1 109.0, 61.7 108.6 Q 61.4 108.2, 60.8 108.2 Q 60.3 108.2, 59.9 108.4 Q 59.5 108.6, 59.2 108.9 Q 59.2 110.1, 59.6 110.6 Q 60.0 111.1, 60.7 111.1 \" fill=\"#000000\"/>\n",
       "<path class=\"atom-14\" d=\"M 66.7 111.9 Q 65.4 111.9, 64.7 111.0 Q 64.1 110.0, 64.1 108.3 Q 64.1 106.6, 64.7 105.6 Q 65.3 104.7, 66.7 104.7 Q 68.0 104.7, 68.6 105.6 Q 69.2 106.6, 69.2 108.3 Q 69.2 110.0, 68.6 111.0 Q 68.0 111.9, 66.7 111.9 M 66.7 111.1 Q 67.4 111.1, 67.8 110.4 Q 68.2 109.7, 68.2 108.3 Q 68.2 106.9, 67.8 106.2 Q 67.4 105.5, 66.7 105.5 Q 65.9 105.5, 65.5 106.2 Q 65.1 106.9, 65.1 108.3 Q 65.1 109.7, 65.5 110.4 Q 65.9 111.1, 66.7 111.1 \" fill=\"#000000\"/>\n",
       "<path class=\"atom-15\" d=\"M 35.7 42.2 Q 35.7 40.5, 36.5 39.6 Q 37.3 38.6, 38.9 38.6 Q 40.5 38.6, 41.3 39.6 Q 42.2 40.5, 42.2 42.2 Q 42.2 44.0, 41.3 44.9 Q 40.5 45.9, 38.9 45.9 Q 37.3 45.9, 36.5 44.9 Q 35.7 44.0, 35.7 42.2 M 38.9 45.1 Q 40.0 45.1, 40.6 44.4 Q 41.2 43.7, 41.2 42.2 Q 41.2 40.9, 40.6 40.1 Q 40.0 39.4, 38.9 39.4 Q 37.8 39.4, 37.2 40.1 Q 36.7 40.8, 36.7 42.2 Q 36.7 43.7, 37.2 44.4 Q 37.8 45.1, 38.9 45.1 \" fill=\"#FF0000\"/>\n",
       "<path class=\"atom-15\" d=\"M 43.1 44.6 L 44.1 44.6 L 44.1 45.6 L 43.1 45.6 L 43.1 44.6 M 43.1 41.2 L 44.1 41.2 L 44.1 42.2 L 43.1 42.2 L 43.1 41.2 \" fill=\"#FF0000\"/>\n",
       "<path class=\"atom-15\" d=\"M 48.6 42.1 Q 49.3 42.3, 49.7 42.7 Q 50.0 43.2, 50.0 43.9 Q 50.0 44.5, 49.7 44.9 Q 49.4 45.4, 48.8 45.7 Q 48.3 45.9, 47.6 45.9 Q 46.8 45.9, 46.2 45.6 Q 45.7 45.4, 45.2 44.8 L 45.8 44.3 Q 46.2 44.7, 46.6 44.9 Q 47.0 45.1, 47.6 45.1 Q 48.2 45.1, 48.6 44.8 Q 49.0 44.4, 49.0 43.9 Q 49.0 43.1, 48.6 42.8 Q 48.2 42.5, 47.3 42.5 L 46.8 42.5 L 46.8 41.8 L 47.3 41.8 Q 48.0 41.8, 48.4 41.4 Q 48.8 41.1, 48.8 40.4 Q 48.8 40.0, 48.5 39.7 Q 48.2 39.4, 47.6 39.4 Q 47.0 39.4, 46.6 39.6 Q 46.3 39.9, 46.0 40.4 L 45.3 40.0 Q 45.5 39.4, 46.1 39.0 Q 46.7 38.6, 47.6 38.6 Q 48.6 38.6, 49.2 39.1 Q 49.8 39.6, 49.8 40.4 Q 49.8 41.0, 49.5 41.4 Q 49.2 41.8, 48.6 42.1 \" fill=\"#FF0000\"/>\n",
       "<path class=\"atom-16\" d=\"M 88.2 52.6 L 89.2 51.5 L 87.8 51.2 L 88.0 50.5 L 89.3 51.2 L 89.1 49.8 L 89.9 49.8 L 89.7 51.2 L 91.0 50.6 L 91.2 51.2 L 89.8 51.5 L 90.8 52.6 L 90.2 53.0 L 89.5 51.7 L 88.8 53.0 L 88.2 52.6 \" fill=\"#191919\"/>\n",
       "<path class=\"atom-16\" d=\"M 91.8 55.8 L 92.8 55.8 L 92.8 56.8 L 91.8 56.8 L 91.8 55.8 M 91.8 52.4 L 92.8 52.4 L 92.8 53.4 L 91.8 53.4 L 91.8 52.4 \" fill=\"#191919\"/>\n",
       "<path class=\"atom-16\" d=\"M 98.5 54.5 L 99.4 54.5 L 99.4 55.3 L 98.5 55.3 L 98.5 57.0 L 97.6 57.0 L 97.6 55.3 L 93.9 55.3 L 93.9 54.7 L 97.0 49.9 L 98.5 49.9 L 98.5 54.5 M 95.1 54.5 L 97.6 54.5 L 97.6 50.5 L 95.1 54.5 \" fill=\"#191919\"/>\n",
       "</svg>"
      ],
      "text/plain": [
       "<IPython.core.display.SVG object>"
      ]
     },
     "execution_count": 47,
     "metadata": {},
     "output_type": "execute_result"
    }
   ],
   "source": [
    "SVG(draw_molecule('[C:1]([C:2]([N+:46]([CH:47]([CH2:45][c:55]1[cH:53][nH:51][cH:52][nH+:54]1)[C:49](=[O:48])[O-:50])([H:61])[H:62])([O:59][H:57])[CH3:60])(=[O:3])[*:4]'))"
   ]
  },
  {
   "cell_type": "code",
   "execution_count": null,
   "metadata": {},
   "outputs": [],
   "source": [
    "from lxml import etree"
   ]
  },
  {
   "cell_type": "code",
   "execution_count": null,
   "metadata": {},
   "outputs": [],
   "source": [
    "file_path = '/home/stef/enz_rxn_data/data/raw/mcsa/mech_steps/219_2_1.mrv'\n",
    "tree = etree.parse(file_path)\n",
    "root = tree.getroot()"
   ]
  },
  {
   "cell_type": "code",
   "execution_count": null,
   "metadata": {},
   "outputs": [
    {
     "data": {
      "text/plain": [
       "<Element {http://www.chemaxon.com}cml at 0x7f6b7d3cda80>"
      ]
     },
     "execution_count": 13,
     "metadata": {},
     "output_type": "execute_result"
    }
   ],
   "source": [
    "root"
   ]
  },
  {
   "cell_type": "code",
   "execution_count": null,
   "metadata": {},
   "outputs": [
    {
     "data": {
      "text/plain": [
       "['__bool__',\n",
       " '__class__',\n",
       " '__contains__',\n",
       " '__copy__',\n",
       " '__deepcopy__',\n",
       " '__delattr__',\n",
       " '__delitem__',\n",
       " '__dir__',\n",
       " '__doc__',\n",
       " '__eq__',\n",
       " '__format__',\n",
       " '__ge__',\n",
       " '__getattribute__',\n",
       " '__getitem__',\n",
       " '__getstate__',\n",
       " '__gt__',\n",
       " '__hash__',\n",
       " '__init__',\n",
       " '__init_subclass__',\n",
       " '__iter__',\n",
       " '__le__',\n",
       " '__len__',\n",
       " '__lt__',\n",
       " '__ne__',\n",
       " '__new__',\n",
       " '__reduce__',\n",
       " '__reduce_ex__',\n",
       " '__repr__',\n",
       " '__reversed__',\n",
       " '__setattr__',\n",
       " '__setitem__',\n",
       " '__sizeof__',\n",
       " '__str__',\n",
       " '__subclasshook__',\n",
       " '_init',\n",
       " 'addnext',\n",
       " 'addprevious',\n",
       " 'append',\n",
       " 'attrib',\n",
       " 'base',\n",
       " 'clear',\n",
       " 'cssselect',\n",
       " 'extend',\n",
       " 'find',\n",
       " 'findall',\n",
       " 'findtext',\n",
       " 'get',\n",
       " 'getchildren',\n",
       " 'getiterator',\n",
       " 'getnext',\n",
       " 'getparent',\n",
       " 'getprevious',\n",
       " 'getroottree',\n",
       " 'index',\n",
       " 'insert',\n",
       " 'items',\n",
       " 'iter',\n",
       " 'iterancestors',\n",
       " 'iterchildren',\n",
       " 'iterdescendants',\n",
       " 'iterfind',\n",
       " 'itersiblings',\n",
       " 'itertext',\n",
       " 'keys',\n",
       " 'makeelement',\n",
       " 'nsmap',\n",
       " 'prefix',\n",
       " 'remove',\n",
       " 'replace',\n",
       " 'set',\n",
       " 'sourceline',\n",
       " 'tag',\n",
       " 'tail',\n",
       " 'text',\n",
       " 'values',\n",
       " 'xpath']"
      ]
     },
     "execution_count": 14,
     "metadata": {},
     "output_type": "execute_result"
    }
   ],
   "source": [
    "dir(root)"
   ]
  },
  {
   "cell_type": "code",
   "execution_count": null,
   "metadata": {},
   "outputs": [],
   "source": [
    "txt = etree.tostring(root, pretty_print=True).decode()"
   ]
  },
  {
   "cell_type": "code",
   "execution_count": null,
   "metadata": {},
   "outputs": [],
   "source": [
    "with open('test.mrv', 'w') as f:\n",
    "    f.write(txt)"
   ]
  },
  {
   "cell_type": "code",
   "execution_count": null,
   "metadata": {},
   "outputs": [
    {
     "name": "stdout",
     "output_type": "stream",
     "text": [
      "{None: 'http://www.chemaxon.com', 'xsi': 'http://www.w3.org/2001/XMLSchema-instance'}\n",
      "{'a1': {'elementType': 'C', 'x2': '8.60486659782773', 'y2': '0.36091999711263867', 'mrvAlias': 'His258A', 'mrvExtraLabel': None, 'lonePair': None, 'formalCharge': None}, 'a2': {'elementType': 'C', 'x2': '8.284546600390293', 'y2': '-1.1452933241709893', 'mrvAlias': None, 'mrvExtraLabel': 'res:His258A', 'lonePair': None, 'formalCharge': None}, 'a3': {'elementType': 'C', 'x2': '6.819959945440321', 'y2': '-1.6212933203629873', 'mrvAlias': None, 'mrvExtraLabel': 'res:His258A', 'lonePair': None, 'formalCharge': None}, 'a4': {'elementType': 'C', 'x2': '6.344146615913491', 'y2': '-3.0858799753129595', 'mrvAlias': None, 'mrvExtraLabel': 'res:His258A', 'lonePair': None, 'formalCharge': None}, 'a5': {'elementType': 'N', 'x2': '4.804146628233493', 'y2': '-3.0858799753129595', 'mrvAlias': None, 'mrvExtraLabel': 'res:His258A', 'lonePair': '1', 'formalCharge': None}, 'a6': {'elementType': 'C', 'x2': '4.328146632041491', 'y2': '-1.6212933203629873', 'mrvAlias': None, 'mrvExtraLabel': 'res:His258A', 'lonePair': None, 'formalCharge': None}, 'a7': {'elementType': 'N', 'x2': '5.574146622073492', 'y2': '-0.7161466609374934', 'mrvAlias': None, 'mrvExtraLabel': 'res:His258A', 'lonePair': '1', 'formalCharge': None}, 'a8': {'elementType': 'N', 'x2': '1.9292933178989848', 'y2': '-6.601186613857173', 'mrvAlias': None, 'mrvExtraLabel': 'res:Lys244A', 'lonePair': '1', 'formalCharge': None}, 'a9': {'elementType': 'C', 'x2': '3.4692933055789865', 'y2': '-6.601186613857173', 'mrvAlias': None, 'mrvExtraLabel': 'res:Lys244A', 'lonePair': None, 'formalCharge': None}, 'a10': {'elementType': 'C', 'x2': '4.239293299418986', 'y2': '-7.9349199365206395', 'mrvAlias': None, 'mrvExtraLabel': 'res:Lys244A', 'lonePair': None, 'formalCharge': None}, 'a11': {'elementType': 'C', 'x2': '5.779293287098984', 'y2': '-7.9349199365206395', 'mrvAlias': None, 'mrvExtraLabel': 'res:Lys244A', 'lonePair': None, 'formalCharge': None}, 'a12': {'elementType': 'C', 'x2': '6.549293280938983', 'y2': '-9.268466592518934', 'mrvAlias': None, 'mrvExtraLabel': 'res:Lys244A', 'lonePair': None, 'formalCharge': None}, 'a13': {'elementType': 'C', 'x2': '8.089293268618984', 'y2': '-9.268466592518934', 'mrvAlias': 'Lys244A', 'mrvExtraLabel': None, 'lonePair': None, 'formalCharge': None}, 'a14': {'elementType': 'Mg', 'x2': '6.69475994844192', 'y2': '7.821573270427415', 'mrvAlias': None, 'mrvExtraLabel': 'chebi:18420', 'lonePair': None, 'formalCharge': '2'}, 'a15': {'elementType': 'C', 'x2': '-5.006866626611735', 'y2': '7.1357999429136', 'mrvAlias': None, 'mrvExtraLabel': 'chebi:58937', 'lonePair': None, 'formalCharge': None}, 'a16': {'elementType': 'C', 'x2': '-5.327186624049174', 'y2': '5.6293999549648', 'mrvAlias': None, 'mrvExtraLabel': 'chebi:58937', 'lonePair': None, 'formalCharge': None}, 'a17': {'elementType': 'C', 'x2': '-6.151319950789443', 'y2': '8.1661999346704', 'mrvAlias': None, 'mrvExtraLabel': 'chebi:58937', 'lonePair': None, 'formalCharge': None}, 'a18': {'elementType': 'N', 'x2': '-6.791773278999148', 'y2': '5.153773292103148', 'mrvAlias': None, 'mrvExtraLabel': 'chebi:58937', 'lonePair': '1', 'formalCharge': None}, 'a19': {'elementType': 'N', 'x2': '-4.601613296520428', 'y2': '4.808626628197652', 'mrvAlias': None, 'mrvExtraLabel': 'chebi:58937', 'lonePair': '1', 'formalCharge': None}, 'a20': {'elementType': 'N', 'x2': '-7.615906605739416', 'y2': '7.690386605143573', 'mrvAlias': None, 'mrvExtraLabel': 'chebi:58937', 'lonePair': None, 'formalCharge': '1'}, 'a21': {'elementType': 'C', 'x2': '-7.936226603176856', 'y2': '6.183986617194774', 'mrvAlias': None, 'mrvExtraLabel': 'chebi:58937', 'lonePair': None, 'formalCharge': None}, 'a22': {'elementType': 'C', 'x2': '-9.400813258126828', 'y2': '5.708173287667947', 'mrvAlias': None, 'mrvExtraLabel': 'chebi:58937', 'lonePair': None, 'formalCharge': None}, 'a23': {'elementType': 'C', 'x2': '-2.1786799825705607', 'y2': '5.604199955166401', 'mrvAlias': None, 'mrvExtraLabel': 'chebi:58937', 'lonePair': '1', 'formalCharge': '-1'}, 'a24': {'elementType': 'S', 'x2': '-0.6722799946217624', 'y2': '5.284253291059308', 'mrvAlias': None, 'mrvExtraLabel': None, 'lonePair': '2', 'formalCharge': None}, 'a25': {'elementType': 'C', 'x2': '-0.9326799925385618', 'y2': '7.762066604570133', 'mrvAlias': None, 'mrvExtraLabel': None, 'lonePair': None, 'formalCharge': None}, 'a26': {'elementType': 'C', 'x2': '-0.6125466617662951', 'y2': '9.268466592518934', 'mrvAlias': None, 'mrvExtraLabel': None, 'lonePair': None, 'formalCharge': None}, 'a27': {'elementType': 'C', 'x2': '0.09771999921823848', 'y2': '6.617613280392426', 'mrvAlias': None, 'mrvExtraLabel': None, 'lonePair': None, 'formalCharge': None}, 'a28': {'elementType': 'C', 'x2': '1.629319986965438', 'y2': '6.7787066124370146', 'mrvAlias': None, 'mrvExtraLabel': None, 'lonePair': None, 'formalCharge': None}, 'a29': {'elementType': 'N', 'x2': '-2.339586647949977', 'y2': '7.1357999429136', 'mrvAlias': None, 'mrvExtraLabel': None, 'lonePair': None, 'formalCharge': '1'}, 'a30': {'elementType': 'C', 'x2': '2.5344666463909284', 'y2': '5.532893289070188', 'mrvAlias': None, 'mrvExtraLabel': None, 'lonePair': None, 'formalCharge': None}, 'a31': {'elementType': 'O', 'x2': '4.0660666341381315', 'y2': '5.6937999544496005', 'mrvAlias': None, 'mrvExtraLabel': None, 'lonePair': '2', 'formalCharge': None}, 'a32': {'elementType': 'O', 'x2': '4.629799962961599', 'y2': '3.5902533046113074', 'mrvAlias': None, 'mrvExtraLabel': None, 'lonePair': '2', 'formalCharge': None}, 'a33': {'elementType': 'O', 'x2': '6.733346612799892', 'y2': '4.153986633434773', 'mrvAlias': None, 'mrvExtraLabel': None, 'lonePair': '2', 'formalCharge': None}, 'a34': {'elementType': 'O', 'x2': '9.400813258126828', 'y2': '5.6937999544496005', 'mrvAlias': None, 'mrvExtraLabel': None, 'lonePair': '3', 'formalCharge': '-1'}, 'a35': {'elementType': 'O', 'x2': '8.837079929303357', 'y2': '3.5902533046113074', 'mrvAlias': None, 'mrvExtraLabel': None, 'lonePair': '3', 'formalCharge': '-1'}, 'a36': {'elementType': 'P', 'x2': '8.067079935463358', 'y2': '4.923986627274774', 'mrvAlias': None, 'mrvExtraLabel': None, 'lonePair': None, 'formalCharge': None}, 'a37': {'elementType': 'O', 'x2': '7.297079941623359', 'y2': '6.257533283273068', 'mrvAlias': None, 'mrvExtraLabel': None, 'lonePair': '2', 'formalCharge': None}, 'a38': {'elementType': 'P', 'x2': '5.399799956801598', 'y2': '4.923986627274774', 'mrvAlias': None, 'mrvExtraLabel': None, 'lonePair': None, 'formalCharge': None}, 'a39': {'elementType': 'C', 'x2': '-3.6733199706134414', 'y2': '7.905799936753601', 'mrvAlias': None, 'mrvExtraLabel': None, 'lonePair': None, 'formalCharge': None}, 'a40': {'elementType': 'H', 'x2': '-8.760359929917122', 'y2': '8.720786596900375', 'mrvAlias': None, 'mrvExtraLabel': None, 'lonePair': None, 'formalCharge': None}, 'a41': {'elementType': 'C', 'x2': '-3.554786638228375', 'y2': '0.7880133270292262', 'mrvAlias': None, 'mrvExtraLabel': 'chebi:57483', 'lonePair': None, 'formalCharge': None}, 'a42': {'elementType': 'O', 'x2': '-4.888519960891843', 'y2': '1.5580133208692288', 'mrvAlias': None, 'mrvExtraLabel': 'chebi:57483', 'lonePair': '2', 'formalCharge': None}, 'a43': {'elementType': 'C', 'x2': '-3.554786638228375', 'y2': '-0.7519866606507719', 'mrvAlias': None, 'mrvExtraLabel': 'chebi:57483', 'lonePair': None, 'formalCharge': None}, 'a44': {'elementType': 'C', 'x2': '-2.221053315564909', 'y2': '1.5580133208692288', 'mrvAlias': None, 'mrvExtraLabel': 'chebi:57483', 'lonePair': None, 'formalCharge': None}, 'a45': {'elementType': 'O', 'x2': '-0.6851599945187221', 'y2': '0.7243599942051215', 'mrvAlias': None, 'mrvExtraLabel': 'chebi:57483', 'lonePair': '2', 'formalCharge': None}, 'a46': {'elementType': 'C', 'x2': '-4.888519960891843', 'y2': '-1.521986654490771', 'mrvAlias': None, 'mrvExtraLabel': 'chebi:57483', 'lonePair': None, 'formalCharge': None}, 'a47': {'elementType': 'O', 'x2': '-2.221053315564909', 'y2': '-1.521986654490771', 'mrvAlias': None, 'mrvExtraLabel': 'chebi:57483', 'lonePair': '2', 'formalCharge': None}, 'a48': {'elementType': 'O', 'x2': '-6.222066616890135', 'y2': '-0.7519866606507719', 'mrvAlias': None, 'mrvExtraLabel': 'chebi:57483', 'lonePair': '2', 'formalCharge': None}, 'a49': {'elementType': 'C', 'x2': '-4.888519960891843', 'y2': '-3.0619866421707727', 'mrvAlias': None, 'mrvExtraLabel': 'chebi:57483', 'lonePair': None, 'formalCharge': None}, 'a50': {'elementType': 'O', 'x2': '-6.480786614820376', 'y2': '-3.90235996878112', 'mrvAlias': None, 'mrvExtraLabel': None, 'lonePair': '2', 'formalCharge': None}, 'a51': {'elementType': 'P', 'x2': '-6.480786614820376', 'y2': '-5.442359956461122', 'mrvAlias': None, 'mrvExtraLabel': None, 'lonePair': None, 'formalCharge': None}, 'a52': {'elementType': 'O', 'x2': '-6.480786614820376', 'y2': '-6.98235994414112', 'mrvAlias': None, 'mrvExtraLabel': None, 'lonePair': '3', 'formalCharge': '-1'}, 'a53': {'elementType': 'O', 'x2': '-8.020786602500376', 'y2': '-5.442359956461122', 'mrvAlias': None, 'mrvExtraLabel': None, 'lonePair': '2', 'formalCharge': None}, 'a54': {'elementType': 'O', 'x2': '-4.940786627140374', 'y2': '-5.442359956461122', 'mrvAlias': None, 'mrvExtraLabel': None, 'lonePair': '3', 'formalCharge': '-1'}, 'a55': {'elementType': 'H', 'x2': '-0.6810533278849089', 'y2': '-1.521986654490771', 'mrvAlias': None, 'mrvExtraLabel': None, 'lonePair': None, 'formalCharge': None}, 'a56': {'elementType': 'H', 'x2': '-5.519639955842882', 'y2': '3.8385199692918412', 'mrvAlias': None, 'mrvExtraLabel': None, 'lonePair': None, 'formalCharge': None}, 'a57': {'elementType': 'H', 'x2': '-4.087906633963415', 'y2': '3.7636666365573355', 'mrvAlias': None, 'mrvExtraLabel': None, 'lonePair': None, 'formalCharge': None}, 'a58': {'elementType': 'H', 'x2': '3.8988133021428233', 'y2': '-4.3316932986797845', 'mrvAlias': None, 'mrvExtraLabel': None, 'lonePair': None, 'formalCharge': None}, 'a59': {'elementType': 'O', 'x2': '6.1697999506416', 'y2': '6.257533283273068', 'mrvAlias': None, 'mrvExtraLabel': None, 'lonePair': '3', 'formalCharge': '-1'}}\n"
     ]
    }
   ],
   "source": [
    "from lxml import etree\n",
    "\n",
    "# Parse the XML file\n",
    "tree = etree.parse('/home/stef/enz_rxn_data/test.mrv')\n",
    "root = tree.getroot()\n",
    "print(root.nsmap)\n",
    "\n",
    "# Define the namespace\n",
    "# Define the namespace\n",
    "tag_ns = root.tag.split('}')\n",
    "if len(tag_ns) == 1:\n",
    "    tag = ''\n",
    "    ns = None\n",
    "elif len(tag_ns) == 2:\n",
    "    tag = tag_ns[-1] + ':'\n",
    "    ns = {tag.strip(':') : tag_ns[0].strip('{')}\n",
    "\n",
    "# Find all atom elements\n",
    "# atoms = root.findall('.//cml:atom', namespaces=ns)\n",
    "atoms = root.xpath(f\".//{tag}atom\", namespaces=ns)\n",
    "\n",
    "# Create a dictionary to store atom elements\n",
    "atom_dict = {}\n",
    "\n",
    "# Iterate through each atom element and add it to the dictionary\n",
    "for atom in atoms:\n",
    "    atom_id = atom.get('id')\n",
    "    atom_dict[atom_id] = {\n",
    "        'elementType': atom.get('elementType'),\n",
    "        'x2': atom.get('x2'),\n",
    "        'y2': atom.get('y2'),\n",
    "        'mrvAlias': atom.get('mrvAlias'),\n",
    "        'mrvExtraLabel': atom.get('mrvExtraLabel'),\n",
    "        'lonePair': atom.get('lonePair'),\n",
    "        'formalCharge': atom.get('formalCharge')\n",
    "    }\n",
    "\n",
    "# Print the dictionary\n",
    "print(atom_dict)"
   ]
  },
  {
   "cell_type": "code",
   "execution_count": null,
   "metadata": {},
   "outputs": [
    {
     "data": {
      "text/plain": [
       "{'': 'http://www.chemaxon.com'}"
      ]
     },
     "execution_count": 60,
     "metadata": {},
     "output_type": "execute_result"
    }
   ],
   "source": [
    "ns"
   ]
  },
  {
   "cell_type": "code",
   "execution_count": null,
   "metadata": {},
   "outputs": [
    {
     "data": {
      "text/plain": [
       "('cml:', {':': 'http://www.chemaxon.com'})"
      ]
     },
     "execution_count": 58,
     "metadata": {},
     "output_type": "execute_result"
    }
   ],
   "source": [
    "tag_ns = root.tag.split('}')\n",
    "if len(tag_ns) == 1:\n",
    "    tag = ''\n",
    "    ns = None\n",
    "elif len(tag_ns) == 2:\n",
    "    tag = tag_ns[-1] + ':'\n",
    "    ns = {tag[-1]: tag_ns[0].strip('{')}\n",
    "\n",
    "tag, ns"
   ]
  },
  {
   "cell_type": "code",
   "execution_count": null,
   "metadata": {},
   "outputs": [],
   "source": [
    "# Extract atoms\n",
    "atoms = {}\n",
    "for atom in root.xpath('//atomArray/atom'):\n",
    "    atom_data = {\n",
    "        'id': atom.get('id'),\n",
    "        'element_type': atom.get('elementType'),\n",
    "        'x': atom.get('x2'),\n",
    "        'y': atom.get('y2'),\n",
    "        'lone_pair': atom.get('lonePair'),\n",
    "        'formal_charge': atom.get('formalCharge', 0),\n",
    "        'mrv_alias': atom.get('mrvAlias'),\n",
    "        'rgroup_ref': atom.get('rgroupRef'),\n",
    "        'mrv_extra_label': atom.get('mrvExtraLabel')\n",
    "    }\n",
    "    catom = CmlAtom(**atom_data)\n",
    "    atoms[catom.id] = catom\n",
    "\n",
    "# Extract bonds\n",
    "bonds = {}\n",
    "for bond in root.xpath('//bondArray/bond'):\n",
    "    bond_data = {\n",
    "        'id': bond.get('id'),\n",
    "        'atom_refs': tuple(bond.get('atomRefs2').split(' ')),\n",
    "        'order': bond.get('order'),\n",
    "        'convention': bond.get('convention')\n",
    "    }\n",
    "    cbond = CmlBond(**bond_data)\n",
    "    bonds[cbond.atom_refs] = cbond\n",
    "\n",
    "# Extract MEFlow elements\n",
    "meflows = {}\n",
    "for meflow in root.xpath('//MEFlow'):\n",
    "    from_to = [child.get('atomRef') or child.get('atomRefs') for child in meflow]\n",
    "    from_to = [elt.replace('m1.', '') for elt in from_to if elt is not None]\n",
    "    meflow_data = {\n",
    "        'id': meflow.get('id'),\n",
    "        'from_': tuple(from_to[0].split(' ')) if len(from_to) > 0 else None,\n",
    "        'to': tuple(from_to[1].split(' ')) if len(from_to) > 1 else None,\n",
    "    }\n",
    "    cmeflow = CmlMEFlow(**meflow_data)\n",
    "    meflows[cmeflow.id] = cmeflow"
   ]
  },
  {
   "cell_type": "code",
   "execution_count": null,
   "metadata": {},
   "outputs": [
    {
     "data": {
      "text/plain": [
       "'{http://www.chemaxon.com}cml'"
      ]
     },
     "execution_count": 35,
     "metadata": {},
     "output_type": "execute_result"
    }
   ],
   "source": [
    "root.tag"
   ]
  },
  {
   "cell_type": "code",
   "execution_count": null,
   "metadata": {},
   "outputs": [
    {
     "name": "stdout",
     "output_type": "stream",
     "text": [
      "{'a1': {'elementType': 'C', 'x2': '8.450624879719854', 'y2': '-7.9924424852075235', 'mrvAlias': None, 'mrvExtraLabel': None, 'lonePair': None, 'formalCharge': None}, 'a2': {'elementType': 'C', 'x2': '9.990624879719853', 'y2': '-7.9924424852075235', 'mrvAlias': None, 'mrvExtraLabel': None, 'lonePair': None, 'formalCharge': None}, 'a3': {'elementType': 'O', 'x2': '7.680624879719854', 'y2': '-9.32612160703556', 'mrvAlias': None, 'mrvExtraLabel': None, 'lonePair': '2', 'formalCharge': None}, 'a4': {'elementType': 'R', 'x2': '7.680624879719854', 'y2': '-6.658763363379484', 'mrvAlias': 'Pyr1F', 'mrvExtraLabel': None, 'lonePair': None, 'formalCharge': None}, 'a5': {'elementType': 'C', 'x2': '21.789125252380167', 'y2': '0.5038249316842172', 'mrvAlias': 'Tyr62A', 'mrvExtraLabel': None, 'lonePair': None, 'formalCharge': None}, 'a6': {'elementType': 'C', 'x2': '22.559010536686472', 'y2': '-0.8297879518942328', 'mrvAlias': None, 'mrvExtraLabel': None, 'lonePair': None, 'formalCharge': None}, 'a7': {'elementType': 'C', 'x2': '21.789010542846476', 'y2': '-2.163467063052834', 'mrvAlias': None, 'mrvExtraLabel': None, 'lonePair': None, 'formalCharge': None}, 'a8': {'elementType': 'C', 'x2': '22.559057485226866', 'y2': '-3.4971732799638677', 'mrvAlias': None, 'mrvExtraLabel': None, 'lonePair': None, 'formalCharge': None}, 'a9': {'elementType': 'C', 'x2': '21.789057491386867', 'y2': '-4.8308523911224714', 'mrvAlias': None, 'mrvExtraLabel': None, 'lonePair': None, 'formalCharge': None}, 'a10': {'elementType': 'C', 'x2': '20.24901055516648', 'y2': '-4.8308252853700395', 'mrvAlias': None, 'mrvExtraLabel': None, 'lonePair': None, 'formalCharge': None}, 'a11': {'elementType': 'O', 'x2': '19.479010561326476', 'y2': '-6.164504396528644', 'mrvAlias': None, 'mrvExtraLabel': None, 'lonePair': '2', 'formalCharge': None}, 'a12': {'elementType': 'C', 'x2': '19.479125270860166', 'y2': '-3.4972124017915953', 'mrvAlias': None, 'mrvExtraLabel': None, 'lonePair': None, 'formalCharge': None}, 'a13': {'elementType': 'C', 'x2': '20.24912526470017', 'y2': '-2.163533290632988', 'mrvAlias': None, 'mrvExtraLabel': None, 'lonePair': None, 'formalCharge': None}, 'a14': {'elementType': 'C', 'x2': '19.578880365557122', 'y2': '0.1126110253838255', 'mrvAlias': 'Asp63A', 'mrvExtraLabel': None, 'lonePair': None, 'formalCharge': None}, 'a15': {'elementType': 'C', 'x2': '19.57869160173061', 'y2': '-1.4273425775039796', 'mrvAlias': None, 'mrvExtraLabel': None, 'lonePair': None, 'formalCharge': None}, 'a16': {'elementType': 'C', 'x2': '18.245240376226242', 'y2': '-2.197321195142877', 'mrvAlias': None, 'mrvExtraLabel': None, 'lonePair': None, 'formalCharge': None}, 'a17': {'elementType': 'O', 'x2': '18.24505161239973', 'y2': '-3.737274798030679', 'mrvAlias': None, 'mrvExtraLabel': None, 'lonePair': '3', 'formalCharge': '-1'}, 'a18': {'elementType': 'O', 'x2': '16.911561265067636', 'y2': '-1.4273212013028753', 'mrvAlias': None, 'mrvExtraLabel': None, 'lonePair': '2', 'formalCharge': None}, 'a19': {'elementType': 'C', 'x2': '21.88857223106162', 'y2': '-7.274557334074744', 'mrvAlias': 'Glu66A', 'mrvExtraLabel': None, 'lonePair': None, 'formalCharge': None}, 'a20': {'elementType': 'C', 'x2': '20.348758910046794', 'y2': '-7.274557334074744', 'mrvAlias': None, 'mrvExtraLabel': None, 'lonePair': None, 'formalCharge': None}, 'a21': {'elementType': 'C', 'x2': '19.57875891620679', 'y2': '-8.608290656738209', 'mrvAlias': None, 'mrvExtraLabel': None, 'lonePair': None, 'formalCharge': None}, 'a22': {'elementType': 'C', 'x2': '18.038758928526793', 'y2': '-8.608290656738209', 'mrvAlias': None, 'mrvExtraLabel': None, 'lonePair': None, 'formalCharge': None}, 'a23': {'elementType': 'O', 'x2': '17.268758934686794', 'y2': '-9.94165064607133', 'mrvAlias': None, 'mrvExtraLabel': None, 'lonePair': '3', 'formalCharge': '-1'}, 'a24': {'elementType': 'O', 'x2': '17.268758934686794', 'y2': '-7.274557334074744', 'mrvAlias': None, 'mrvExtraLabel': None, 'lonePair': '2', 'formalCharge': None}, 'a25': {'elementType': 'C', 'x2': '14.330625624858527', 'y2': '-9.652317315052663', 'mrvAlias': None, 'mrvExtraLabel': None, 'lonePair': None, 'formalCharge': None}, 'a26': {'elementType': 'C', 'x2': '14.330625624858527', 'y2': '-8.112503994037837', 'mrvAlias': None, 'mrvExtraLabel': None, 'lonePair': None, 'formalCharge': None}, 'a27': {'elementType': 'N', 'x2': '15.664358947521993', 'y2': '-10.422317308892662', 'mrvAlias': None, 'mrvExtraLabel': None, 'lonePair': '1', 'formalCharge': None}, 'a28': {'elementType': 'O', 'x2': '12.996892302195059', 'y2': '-7.342504000197837', 'mrvAlias': None, 'mrvExtraLabel': None, 'lonePair': '3', 'formalCharge': '-1'}, 'a29': {'elementType': 'O', 'x2': '15.664358947521993', 'y2': '-7.342504000197837', 'mrvAlias': None, 'mrvExtraLabel': None, 'lonePair': '2', 'formalCharge': None}, 'a30': {'elementType': 'C', 'x2': '15.664358947521993', 'y2': '-11.962317296572664', 'mrvAlias': 'R', 'mrvExtraLabel': None, 'lonePair': None, 'formalCharge': None}, 'a31': {'elementType': 'R', 'x2': '12.996892302195059', 'y2': '-10.422317308892662', 'mrvAlias': 'Ser81E', 'mrvExtraLabel': None, 'lonePair': None, 'formalCharge': None}, 'a32': {'elementType': 'C', 'x2': '6.458144451567709', 'y2': '-12.041777876746504', 'mrvAlias': None, 'mrvExtraLabel': None, 'lonePair': None, 'formalCharge': None}, 'a33': {'elementType': 'C', 'x2': '7.922682845143498', 'y2': '-12.517565610909841', 'mrvAlias': None, 'mrvExtraLabel': None, 'lonePair': None, 'formalCharge': None}, 'a34': {'elementType': 'N', 'x2': '6.138049080071566', 'y2': '-10.535529017034214', 'mrvAlias': None, 'mrvExtraLabel': None, 'lonePair': '1', 'formalCharge': None}, 'a35': {'elementType': 'N', 'x2': '8.242903121018495', 'y2': '-14.023953190988447', 'mrvAlias': 'R', 'mrvExtraLabel': None, 'lonePair': '1', 'formalCharge': None}, 'a36': {'elementType': 'O', 'x2': '9.06712586722314', 'y2': '-11.487104485360891', 'mrvAlias': None, 'mrvExtraLabel': None, 'lonePair': '2', 'formalCharge': None}, 'a37': {'elementType': 'C', 'x2': '4.673385782116924', 'y2': '-10.059602562504562', 'mrvAlias': 'R', 'mrvExtraLabel': None, 'lonePair': None, 'formalCharge': None}, 'a38': {'elementType': 'C', 'x2': '5.3137014294880665', 'y2': '-13.072239002295454', 'mrvAlias': 'Phe195F', 'mrvExtraLabel': None, 'lonePair': None, 'formalCharge': None}, 'a39': {'elementType': 'C', 'x2': '7.085159016155593', 'y2': '3.67306924501091', 'mrvAlias': 'Glu197F', 'mrvExtraLabel': None, 'lonePair': None, 'formalCharge': None}, 'a40': {'elementType': 'C', 'x2': '6.3151590223155925', 'y2': '2.339335922347442', 'mrvAlias': None, 'mrvExtraLabel': None, 'lonePair': None, 'formalCharge': None}, 'a41': {'elementType': 'C', 'x2': '7.085159016155593', 'y2': '1.0056025996839777', 'mrvAlias': None, 'mrvExtraLabel': None, 'lonePair': None, 'formalCharge': None}, 'a42': {'elementType': 'C', 'x2': '6.3151590223155925', 'y2': '-0.32794405631431633', 'mrvAlias': None, 'mrvExtraLabel': None, 'lonePair': None, 'formalCharge': None}, 'a43': {'elementType': 'O', 'x2': '7.085159016155593', 'y2': '-1.6616773789777834', 'mrvAlias': None, 'mrvExtraLabel': None, 'lonePair': '2', 'formalCharge': None}, 'a44': {'elementType': 'O', 'x2': '4.7751590346355925', 'y2': '-0.32794405631431633', 'mrvAlias': None, 'mrvExtraLabel': None, 'lonePair': '2', 'formalCharge': None}, 'a45': {'elementType': 'C', 'x2': '12.90897230289842', 'y2': '-2.606397371420024', 'mrvAlias': None, 'mrvExtraLabel': None, 'lonePair': None, 'formalCharge': None}, 'a46': {'elementType': 'N', 'x2': '11.575238980234953', 'y2': '-4.916397352940023', 'mrvAlias': None, 'mrvExtraLabel': None, 'lonePair': None, 'formalCharge': '1'}, 'a47': {'elementType': 'C', 'x2': '11.575238980234953', 'y2': '-3.3763973652600248', 'mrvAlias': None, 'mrvExtraLabel': 'chebi:32526', 'lonePair': None, 'formalCharge': None}, 'a48': {'elementType': 'O', 'x2': '10.241505657571485', 'y2': '-1.066397383740024', 'mrvAlias': None, 'mrvExtraLabel': 'chebi:32526', 'lonePair': '2', 'formalCharge': None}, 'a49': {'elementType': 'C', 'x2': '10.241505657571485', 'y2': '-2.606397371420024', 'mrvAlias': None, 'mrvExtraLabel': 'chebi:32526', 'lonePair': None, 'formalCharge': None}, 'a50': {'elementType': 'O', 'x2': '8.90777233490802', 'y2': '-3.3763973652600248', 'mrvAlias': None, 'mrvExtraLabel': 'chebi:32526', 'lonePair': '3', 'formalCharge': '-1'}, 'a51': {'elementType': 'N', 'x2': '16.679825606064924', 'y2': '-3.8943973611160247', 'mrvAlias': None, 'mrvExtraLabel': 'chebi:32526', 'lonePair': '1', 'formalCharge': None}, 'a52': {'elementType': 'C', 'x2': '15.909825612224926', 'y2': '-5.228130683779491', 'mrvAlias': None, 'mrvExtraLabel': 'chebi:32526', 'lonePair': None, 'formalCharge': None}, 'a53': {'elementType': 'C', 'x2': '15.649425614308125', 'y2': '-2.7499440369383166', 'mrvAlias': None, 'mrvExtraLabel': 'chebi:32526', 'lonePair': None, 'formalCharge': None}, 'a54': {'elementType': 'N', 'x2': '14.4036122909413', 'y2': '-4.907997353007224', 'mrvAlias': None, 'mrvExtraLabel': 'chebi:32526', 'lonePair': None, 'formalCharge': '1'}, 'a55': {'elementType': 'C', 'x2': '14.242518958896714', 'y2': '-3.3763973652600248', 'mrvAlias': None, 'mrvExtraLabel': 'chebi:32526', 'lonePair': None, 'formalCharge': None}, 'a56': {'elementType': 'H', 'x2': '12.90897230289842', 'y2': '-5.686397346780024', 'mrvAlias': None, 'mrvExtraLabel': None, 'lonePair': None, 'formalCharge': None}, 'a57': {'elementType': 'H', 'x2': '17.939125283180168', 'y2': '-6.164570624108798', 'mrvAlias': None, 'mrvExtraLabel': None, 'lonePair': None, 'formalCharge': None}, 'a58': {'elementType': 'H', 'x2': '6.3151590223155925', 'y2': '-2.9954107016412497', 'mrvAlias': None, 'mrvExtraLabel': None, 'lonePair': None, 'formalCharge': None}, 'a59': {'elementType': 'O', 'x2': '10.760624879719852', 'y2': '-6.65876336337949', 'mrvAlias': None, 'mrvExtraLabel': None, 'lonePair': '2', 'formalCharge': None}, 'a60': {'elementType': 'C', 'x2': '10.76062487971986', 'y2': '-9.326121607035557', 'mrvAlias': None, 'mrvExtraLabel': None, 'lonePair': None, 'formalCharge': None}}\n"
     ]
    }
   ],
   "source": [
    "from lxml import etree\n",
    "\n",
    "# Parse the XML file\n",
    "tree = etree.parse('/home/stef/enz_rxn_data/data/raw/mcsa/mech_steps/49_1_1.mrv')\n",
    "root = tree.getroot()\n",
    "\n",
    "# Define the namespace\n",
    "tag_ns = root.tag.split('}')\n",
    "if len(tag_ns) == 1:\n",
    "    tag = ''\n",
    "    ns = None\n",
    "elif len(tag_ns) == 2:\n",
    "    tag = tag_ns[-1] + ':'\n",
    "    ns = {tag.strip(':') : tag_ns[0].strip('{')}\n",
    "\n",
    "# Find all atom elements\n",
    "atoms = root.findall(f\".//{tag}atom\", namespaces=ns)\n",
    "\n",
    "# Create a dictionary to store atom elements\n",
    "atom_dict = {}\n",
    "\n",
    "# Iterate through each atom element and add it to the dictionary\n",
    "for atom in atoms:\n",
    "    atom_id = atom.get('id')\n",
    "    atom_dict[atom_id] = {\n",
    "        'elementType': atom.get('elementType'),\n",
    "        'x2': atom.get('x2'),\n",
    "        'y2': atom.get('y2'),\n",
    "        'mrvAlias': atom.get('mrvAlias'),\n",
    "        'mrvExtraLabel': atom.get('mrvExtraLabel'),\n",
    "        'lonePair': atom.get('lonePair'),\n",
    "        'formalCharge': atom.get('formalCharge')\n",
    "    }\n",
    "\n",
    "# Print the dictionary\n",
    "print(atom_dict)"
   ]
  },
  {
   "cell_type": "code",
   "execution_count": null,
   "metadata": {},
   "outputs": [
    {
     "data": {
      "text/plain": [
       "{}"
      ]
     },
     "execution_count": 47,
     "metadata": {},
     "output_type": "execute_result"
    }
   ],
   "source": [
    "root.nsmap"
   ]
  },
  {
   "cell_type": "code",
   "execution_count": null,
   "metadata": {},
   "outputs": [
    {
     "data": {
      "text/plain": [
       "['cml']"
      ]
     },
     "execution_count": 48,
     "metadata": {},
     "output_type": "execute_result"
    }
   ],
   "source": [
    "root.tag.split('}')"
   ]
  },
  {
   "cell_type": "code",
   "execution_count": null,
   "metadata": {},
   "outputs": [
    {
     "name": "stdout",
     "output_type": "stream",
     "text": [
      "{} cml\n"
     ]
    }
   ],
   "source": [
    "tree = etree.parse('/home/stef/enz_rxn_data/data/raw/mcsa/mech_steps/219_1_1.mrv')\n",
    "root = tree.getroot()\n",
    "print(root.nsmap, root.tag)"
   ]
  },
  {
   "cell_type": "code",
   "execution_count": null,
   "metadata": {},
   "outputs": [
    {
     "name": "stdout",
     "output_type": "stream",
     "text": [
      "{None: 'http://www.chemaxon.com', 'xsi': 'http://www.w3.org/2001/XMLSchema-instance'} {http://www.chemaxon.com}cml\n"
     ]
    }
   ],
   "source": [
    "tree = etree.parse('/home/stef/enz_rxn_data/data/raw/mcsa/mech_steps/219_2_1.mrv')\n",
    "root = tree.getroot()\n",
    "print(root.nsmap, root.tag)"
   ]
  }
 ],
 "metadata": {
  "kernelspec": {
   "display_name": ".venv",
   "language": "python",
   "name": "python3"
  },
  "language_info": {
   "codemirror_mode": {
    "name": "ipython",
    "version": 3
   },
   "file_extension": ".py",
   "mimetype": "text/x-python",
   "name": "python",
   "nbconvert_exporter": "python",
   "pygments_lexer": "ipython3",
   "version": "3.13.0"
  }
 },
 "nbformat": 4,
 "nbformat_minor": 2
}
