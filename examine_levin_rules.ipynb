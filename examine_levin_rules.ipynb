{
 "cells": [
  {
   "cell_type": "code",
   "execution_count": null,
   "id": "c5a51235",
   "metadata": {},
   "outputs": [],
   "source": [
    "import json\n",
    "import pandas as pd"
   ]
  },
  {
   "cell_type": "code",
   "execution_count": 29,
   "id": "ce6bf2ce",
   "metadata": {},
   "outputs": [],
   "source": [
    "def rm_stereo(smarts: str) -> str:\n",
    "    return smarts.replace('/', '').replace(\"\\\\\", '').replace('@', '')"
   ]
  },
  {
   "cell_type": "code",
   "execution_count": 2,
   "id": "ab827948",
   "metadata": {},
   "outputs": [],
   "source": [
    "with open(\"/home/stef/enz_rxn_data/artifacts/rules/bkms-and-reaxys-tempaltes.json\", 'r') as f:\n",
    "    crules = json.load(f)"
   ]
  },
  {
   "cell_type": "code",
   "execution_count": 6,
   "id": "3ed6662e",
   "metadata": {},
   "outputs": [
    {
     "data": {
      "text/plain": [
       "(171707, list)"
      ]
     },
     "execution_count": 6,
     "metadata": {},
     "output_type": "execute_result"
    }
   ],
   "source": [
    "len(crules), type(crules)"
   ]
  },
  {
   "cell_type": "code",
   "execution_count": 9,
   "id": "d00c69ec",
   "metadata": {},
   "outputs": [],
   "source": [
    "rule_sets = set()\n",
    "for r in crules:\n",
    "    rule_sets.add(r['template_set'])"
   ]
  },
  {
   "cell_type": "code",
   "execution_count": 10,
   "id": "bd90a469",
   "metadata": {},
   "outputs": [
    {
     "data": {
      "text/plain": [
       "{'bkms', 'reaxys'}"
      ]
     },
     "execution_count": 10,
     "metadata": {},
     "output_type": "execute_result"
    }
   ],
   "source": [
    "rule_sets"
   ]
  },
  {
   "cell_type": "code",
   "execution_count": 11,
   "id": "6c7d0b9b",
   "metadata": {},
   "outputs": [
    {
     "name": "stdout",
     "output_type": "stream",
     "text": [
      "7984\n"
     ]
    }
   ],
   "source": [
    "biorules = [r for r in crules if r['template_set'] == 'bkms']\n",
    "print(len(biorules))"
   ]
  },
  {
   "cell_type": "code",
   "execution_count": 30,
   "id": "d497b1ae",
   "metadata": {},
   "outputs": [],
   "source": [
    "for rule in biorules:\n",
    "    rule['reaction_smarts'] = rm_stereo(rule['reaction_smarts'])"
   ]
  },
  {
   "cell_type": "code",
   "execution_count": 34,
   "id": "9ae7a2c0",
   "metadata": {},
   "outputs": [],
   "source": [
    "for rule in biorules:\n",
    "    assert '/' not in rule['reaction_smarts'], f\"Found '/' in rule index {i}\"\n",
    "    assert '\\\\' not in rule['reaction_smarts'], f\"Found '\\\\' in rule index {i}\"\n",
    "    assert '@' not in rule['reaction_smarts'], f\"Found '@' in rule index {i}\"\n"
   ]
  },
  {
   "cell_type": "code",
   "execution_count": 37,
   "id": "4dafa677",
   "metadata": {},
   "outputs": [
    {
     "data": {
      "text/html": [
       "<div>\n",
       "<style scoped>\n",
       "    .dataframe tbody tr th:only-of-type {\n",
       "        vertical-align: middle;\n",
       "    }\n",
       "\n",
       "    .dataframe tbody tr th {\n",
       "        vertical-align: top;\n",
       "    }\n",
       "\n",
       "    .dataframe thead th {\n",
       "        text-align: right;\n",
       "    }\n",
       "</style>\n",
       "<table border=\"1\" class=\"dataframe\">\n",
       "  <thead>\n",
       "    <tr style=\"text-align: right;\">\n",
       "      <th></th>\n",
       "      <th>id</th>\n",
       "      <th>smarts</th>\n",
       "      <th>levin_id</th>\n",
       "    </tr>\n",
       "  </thead>\n",
       "  <tbody>\n",
       "    <tr>\n",
       "      <th>0</th>\n",
       "      <td>0</td>\n",
       "      <td>[CH3;D1;+0:1][CH;D2;+0:2]=[CH;D2;+0:3][C:4]=[O...</td>\n",
       "      <td>0f94deda94405d6784354f53c192a2b5</td>\n",
       "    </tr>\n",
       "    <tr>\n",
       "      <th>1</th>\n",
       "      <td>1</td>\n",
       "      <td>[C:4]-[NH;D2;+0:5]-[C;H0;D3;+0:1](-[C:2])=[O;D...</td>\n",
       "      <td>e90495e032398914a2bc30231f78c717</td>\n",
       "    </tr>\n",
       "    <tr>\n",
       "      <th>2</th>\n",
       "      <td>2</td>\n",
       "      <td>[#7:4]-[C:5](=[O;D1;H0:6])-[C:7]-[NH;D2;+0:8]-...</td>\n",
       "      <td>0b3c7f7b62406a64fc3ed6b82f0b53b6</td>\n",
       "    </tr>\n",
       "    <tr>\n",
       "      <th>3</th>\n",
       "      <td>3</td>\n",
       "      <td>[C:2]-[C;H0;D3;+0:1](=[O;D1;H0:3])-[NH;D2;+0:4...</td>\n",
       "      <td>593282ac9cb5e1ec3fd083ff8b6bcb5e</td>\n",
       "    </tr>\n",
       "    <tr>\n",
       "      <th>4</th>\n",
       "      <td>4</td>\n",
       "      <td>[O;D1;H0:1]=[C:2]1-[#8:3]-[C:4]-[C;H0;D3;+0:5]...</td>\n",
       "      <td>4f5920ee796e6e28d607b8c9224f9b3d</td>\n",
       "    </tr>\n",
       "  </tbody>\n",
       "</table>\n",
       "</div>"
      ],
      "text/plain": [
       "   id                                             smarts  \\\n",
       "0   0  [CH3;D1;+0:1][CH;D2;+0:2]=[CH;D2;+0:3][C:4]=[O...   \n",
       "1   1  [C:4]-[NH;D2;+0:5]-[C;H0;D3;+0:1](-[C:2])=[O;D...   \n",
       "2   2  [#7:4]-[C:5](=[O;D1;H0:6])-[C:7]-[NH;D2;+0:8]-...   \n",
       "3   3  [C:2]-[C;H0;D3;+0:1](=[O;D1;H0:3])-[NH;D2;+0:4...   \n",
       "4   4  [O;D1;H0:1]=[C:2]1-[#8:3]-[C:4]-[C;H0;D3;+0:5]...   \n",
       "\n",
       "                           levin_id  \n",
       "0  0f94deda94405d6784354f53c192a2b5  \n",
       "1  e90495e032398914a2bc30231f78c717  \n",
       "2  0b3c7f7b62406a64fc3ed6b82f0b53b6  \n",
       "3  593282ac9cb5e1ec3fd083ff8b6bcb5e  \n",
       "4  4f5920ee796e6e28d607b8c9224f9b3d  "
      ]
     },
     "execution_count": 37,
     "metadata": {},
     "output_type": "execute_result"
    }
   ],
   "source": [
    "df = pd.DataFrame(\n",
    "    data=[\n",
    "        (i, r['reaction_smarts'], r['_id'])\n",
    "        for i, r in enumerate(biorules)\n",
    "    ],\n",
    "    columns=['id', 'smarts', 'levin_id']\n",
    ")\n",
    "\n",
    "df.head()"
   ]
  },
  {
   "cell_type": "code",
   "execution_count": 38,
   "id": "267a0ae5",
   "metadata": {},
   "outputs": [],
   "source": [
    "df.to_csv('/home/stef/enz_rxn_data/artifacts/rules/levin_no_stereo_rules.csv', index=False)"
   ]
  }
 ],
 "metadata": {
  "kernelspec": {
   "display_name": "enz_rxn_data",
   "language": "python",
   "name": "python3"
  },
  "language_info": {
   "codemirror_mode": {
    "name": "ipython",
    "version": 3
   },
   "file_extension": ".py",
   "mimetype": "text/x-python",
   "name": "python",
   "nbconvert_exporter": "python",
   "pygments_lexer": "ipython3",
   "version": "3.13.0"
  }
 },
 "nbformat": 4,
 "nbformat_minor": 5
}
