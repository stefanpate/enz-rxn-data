{
 "cells": [
  {
   "cell_type": "code",
   "execution_count": 1,
   "metadata": {},
   "outputs": [],
   "source": [
    "from hydra import initialize, compose\n",
    "from pathlib import Path\n",
    "import pandas as pd\n",
    "from ergochemics.draw import draw_reaction, draw_molecule\n",
    "from ergochemics.mapping import rc_to_nest\n",
    "\n",
    "with initialize(version_base=None, config_path=\"./conf/filepaths\"):\n",
    "    cfg = compose(config_name=\"filepaths\")"
   ]
  },
  {
   "cell_type": "code",
   "execution_count": 2,
   "metadata": {},
   "outputs": [
    {
     "name": "stdout",
     "output_type": "stream",
     "text": [
      "Total known reactions: 28142\n"
     ]
    }
   ],
   "source": [
    "krs = pd.read_parquet(Path(cfg.processed_data) / \"pathway\" / \"known_reactions.parquet\")\n",
    "tot_krs = len(krs)\n",
    "print(f\"Total known reactions: {tot_krs}\")"
   ]
  },
  {
   "cell_type": "code",
   "execution_count": 4,
   "metadata": {},
   "outputs": [
    {
     "name": "stdout",
     "output_type": "stream",
     "text": [
      "mechinformed kr coverage: 43.1%, 12137 total reactions\n",
      "mechinferred_dt_01 kr coverage: 69.1%, 19433 total reactions\n",
      "mechinferred_dt_02 kr coverage: 69.1%, 19433 total reactions\n",
      "mechinferred_dt_04 kr coverage: 69.1%, 19439 total reactions\n",
      "mechinferred_dt_13 kr coverage: 69.1%, 19439 total reactions\n",
      "mechinferred_dt_91 kr coverage: 69.1%, 19439 total reactions\n",
      "rc_plus_0 kr coverage: 69.1%, 19433 total reactions\n",
      "rc_plus_1 kr coverage: 69.1%, 19437 total reactions\n",
      "rc_plus_2 kr coverage: 69.1%, 19437 total reactions\n",
      "rc_plus_3 kr coverage: 69.1%, 19435 total reactions\n",
      "rc_plus_4 kr coverage: 69.1%, 19437 total reactions\n"
     ]
    }
   ],
   "source": [
    "rules = [\n",
    "    \"mechinformed\",\n",
    "    \"mechinferred_dt_01\",\n",
    "    \"mechinferred_dt_02\",\n",
    "    \"mechinferred_dt_04\",\n",
    "    \"mechinferred_dt_13\",\n",
    "    \"mechinferred_dt_91\",\n",
    "    \"rc_plus_0\",\n",
    "    \"rc_plus_1\",\n",
    "    \"rc_plus_2\",\n",
    "    \"rc_plus_3\",\n",
    "    \"rc_plus_4\",\n",
    "]\n",
    "\n",
    "\n",
    "for rule in rules:\n",
    "    fn = f\"mapped_known_reactions_x_{rule}_rules.parquet\"\n",
    "    df = pd.read_parquet(Path(cfg.processed_data) / \"pathway\" / fn)\n",
    "    df[\"template_aidxs\"] = df[\"template_aidxs\"].apply(rc_to_nest)\n",
    "    print(f\"{rule} kr coverage: {len(df) * 100 / tot_krs:.1f}%, {len(df)} total reactions\")"
   ]
  }
 ],
 "metadata": {
  "kernelspec": {
   "display_name": "enz_rxn_data",
   "language": "python",
   "name": "python3"
  },
  "language_info": {
   "codemirror_mode": {
    "name": "ipython",
    "version": 3
   },
   "file_extension": ".py",
   "mimetype": "text/x-python",
   "name": "python",
   "nbconvert_exporter": "python",
   "pygments_lexer": "ipython3",
   "version": "3.13.0"
  }
 },
 "nbformat": 4,
 "nbformat_minor": 2
}
