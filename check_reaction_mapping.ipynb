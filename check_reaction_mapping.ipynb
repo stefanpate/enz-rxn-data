{
 "cells": [
  {
   "cell_type": "code",
   "execution_count": 7,
   "metadata": {},
   "outputs": [],
   "source": [
    "from hydra import initialize, compose\n",
    "from pathlib import Path\n",
    "import pandas as pd\n",
    "from ergochemics.draw import draw_reaction, draw_molecule\n",
    "from ergochemics.mapping import rc_to_nest\n",
    "\n",
    "with initialize(version_base=None, config_path=\"./conf/filepaths\"):\n",
    "    cfg = compose(config_name=\"filepaths\")"
   ]
  },
  {
   "cell_type": "code",
   "execution_count": 8,
   "metadata": {},
   "outputs": [
    {
     "name": "stdout",
     "output_type": "stream",
     "text": [
      "Total known reactions: 28142\n"
     ]
    }
   ],
   "source": [
    "krs = pd.read_parquet(Path(cfg.processed_data) / \"pathway\" / \"known_reactions.parquet\")\n",
    "tot_krs = len(krs)\n",
    "print(f\"Total known reactions: {tot_krs}\")"
   ]
  },
  {
   "cell_type": "code",
   "execution_count": 9,
   "metadata": {},
   "outputs": [
    {
     "name": "stdout",
     "output_type": "stream",
     "text": [
      "12137\n",
      "mechinformed kr coverage: 43.1%\n",
      "19433\n",
      "rc_plus_0 kr coverage: 69.1%\n"
     ]
    }
   ],
   "source": [
    "rules = [\n",
    "    \"mechinformed\",\n",
    "    # \"mechinferred_dt_\",\n",
    "    \"rc_plus_0\",\n",
    "    # \"rc_plus_1\",\n",
    "    # \"rc_plus_2\",\n",
    "    # \"rc_plus_3\",\n",
    "    # \"rc_plus_4\",\n",
    "]\n",
    "\n",
    "\n",
    "for rule in rules:\n",
    "    fn = f\"mapped_known_reactions_x_{rule}_rules.parquet\"\n",
    "    df = pd.read_parquet(Path(cfg.processed_data) / \"pathway\" / fn)\n",
    "    df[\"template_aidxs\"] = df[\"template_aidxs\"].apply(rc_to_nest)\n",
    "    print(len(df))\n",
    "    print(f\"{rule} kr coverage: {len(df) * 100 / tot_krs:.1f}%\")"
   ]
  }
 ],
 "metadata": {
  "kernelspec": {
   "display_name": "enz_rxn_data",
   "language": "python",
   "name": "python3"
  },
  "language_info": {
   "codemirror_mode": {
    "name": "ipython",
    "version": 3
   },
   "file_extension": ".py",
   "mimetype": "text/x-python",
   "name": "python",
   "nbconvert_exporter": "python",
   "pygments_lexer": "ipython3",
   "version": "3.13.0"
  }
 },
 "nbformat": 4,
 "nbformat_minor": 2
}
