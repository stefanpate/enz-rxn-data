{
 "cells": [
  {
   "cell_type": "code",
   "execution_count": 1,
   "metadata": {},
   "outputs": [],
   "source": [
    "from hydra import initialize, compose\n",
    "from pathlib import Path\n",
    "import pandas as pd\n",
    "from ergochemics.draw import draw_reaction, draw_molecule\n",
    "from ergochemics.mapping import rc_to_nest\n",
    "\n",
    "with initialize(version_base=None, config_path=\"./conf/filepaths\"):\n",
    "    cfg = compose(config_name=\"filepaths\")"
   ]
  },
  {
   "cell_type": "code",
   "execution_count": 2,
   "metadata": {},
   "outputs": [
    {
     "name": "stdout",
     "output_type": "stream",
     "text": [
      "Total known reactions: 28142\n"
     ]
    }
   ],
   "source": [
    "krs = pd.read_parquet(Path(cfg.processed_data) / \"pathway\" / \"known_reactions.parquet\")\n",
    "tot_krs = len(krs)\n",
    "print(f\"Total known reactions: {tot_krs}\")"
   ]
  },
  {
   "cell_type": "code",
   "execution_count": 3,
   "metadata": {},
   "outputs": [
    {
     "name": "stdout",
     "output_type": "stream",
     "text": [
      "mechinformed kr coverage: 43.1%, 12137 total reactions\n",
      "mechinferred_dt_01 kr coverage: 69.1%, 19433 total reactions\n",
      "mechinferred_dt_02 kr coverage: 69.1%, 19433 total reactions\n",
      "mechinferred_dt_04 kr coverage: 69.1%, 19439 total reactions\n",
      "mechinferred_dt_13 kr coverage: 69.1%, 19439 total reactions\n",
      "mechinferred_dt_91 kr coverage: 69.1%, 19439 total reactions\n",
      "rc_plus_0 kr coverage: 69.1%, 19433 total reactions\n",
      "rc_plus_1 kr coverage: 69.1%, 19437 total reactions\n",
      "rc_plus_2 kr coverage: 69.1%, 19437 total reactions\n",
      "rc_plus_3 kr coverage: 69.1%, 19435 total reactions\n",
      "rc_plus_4 kr coverage: 69.1%, 19437 total reactions\n"
     ]
    }
   ],
   "source": [
    "rules = [\n",
    "    \"mechinformed\",\n",
    "    \"mechinferred_dt_01\",\n",
    "    \"mechinferred_dt_02\",\n",
    "    \"mechinferred_dt_04\",\n",
    "    \"mechinferred_dt_13\",\n",
    "    \"mechinferred_dt_91\",\n",
    "    \"rc_plus_0\",\n",
    "    \"rc_plus_1\",\n",
    "    \"rc_plus_2\",\n",
    "    \"rc_plus_3\",\n",
    "    \"rc_plus_4\",\n",
    "]\n",
    "\n",
    "\n",
    "for rule in rules:\n",
    "    fn = f\"mapped_known_reactions_x_{rule}_rules.parquet\"\n",
    "    df = pd.read_parquet(Path(cfg.processed_data) / \"pathway\" / fn)\n",
    "    df[\"template_aidxs\"] = df[\"template_aidxs\"].apply(rc_to_nest)\n",
    "    print(f\"{rule} kr coverage: {len(df) * 100 / tot_krs:.1f}%, {len(df)} total reactions\")"
   ]
  },
  {
   "cell_type": "code",
   "execution_count": 4,
   "metadata": {},
   "outputs": [],
   "source": [
    "import polars as pl"
   ]
  },
  {
   "cell_type": "code",
   "execution_count": 5,
   "metadata": {},
   "outputs": [
    {
     "data": {
      "text/html": [
       "<div><style>\n",
       ".dataframe > thead > tr,\n",
       ".dataframe > tbody > tr {\n",
       "  text-align: right;\n",
       "  white-space: pre-wrap;\n",
       "}\n",
       "</style>\n",
       "<small>shape: (5, 5)</small><table border=\"1\" class=\"dataframe\"><thead><tr><th>id</th><th>smarts</th><th>enzymes</th><th>reverse</th><th>db_ids</th></tr><tr><td>str</td><td>str</td><td>list[str]</td><td>str</td><td>list[str]</td></tr></thead><tbody><tr><td>&quot;e908a824c912d1e39c46de92d1f738…</td><td>&quot;**.NC(CCC(=O)NC(CS)C(=O)NCC(=O…</td><td>[&quot;P10649&quot;, &quot;P50472&quot;, … &quot;Q08863&quot;]</td><td>&quot;3bbe8e6dca0da1c745e7678c8efebe…</td><td>[&quot;RHEA:16438&quot;]</td></tr><tr><td>&quot;d86d99a8143d3be8fc861a5de5e625…</td><td>&quot;*.*.*.*.*.*.*.*.*.*.CC(C)(COP(…</td><td>[&quot;A0A0C6E0I7&quot;, &quot;A0A0C6DWS6&quot;, … &quot;Q0UK50&quot;]</td><td>&quot;e99fb0b75e799eba72aee21c1d04ee…</td><td>[&quot;RHEA:51350&quot;]</td></tr><tr><td>&quot;2972b2db66715ba6f3d6aeaf07f31b…</td><td>&quot;*.*.*.*.*.*.*.*.*NC(COP(=O)(O)…</td><td>[&quot;G0REX6&quot;, &quot;A0A482N9V7&quot;, &quot;P0DO30&quot;]</td><td>&quot;5a7fffef224c65b7cd431ddc668eb2…</td><td>[&quot;RHEA:64546&quot;]</td></tr><tr><td>&quot;572e4a84a946af07c9ab6fd1c0347b…</td><td>&quot;*.*.*.*.*.*.*.*.*OP(=O)(O)OCC(…</td><td>[&quot;A5UNX8&quot;, &quot;Q57952&quot;, … &quot;Q9V2B0&quot;]</td><td>&quot;c4c936d8d985a457a128601b8d2769…</td><td>[&quot;RHEA:64377&quot;]</td></tr><tr><td>&quot;dfe7fc761de3c213bf2b18fae4f8a5…</td><td>&quot;*.*.*.*.*.*.*.*.CC(C)CCCC(C)CC…</td><td>[&quot;A5UNX8&quot;, &quot;Q57952&quot;, … &quot;Q9V2B0&quot;]</td><td>&quot;2e026380a550baa6b343604e6f5500…</td><td>[&quot;RHEA:64369&quot;]</td></tr></tbody></table></div>"
      ],
      "text/plain": [
       "shape: (5, 5)\n",
       "┌────────────────────┬────────────────────┬───────────────────┬───────────────────┬────────────────┐\n",
       "│ id                 ┆ smarts             ┆ enzymes           ┆ reverse           ┆ db_ids         │\n",
       "│ ---                ┆ ---                ┆ ---               ┆ ---               ┆ ---            │\n",
       "│ str                ┆ str                ┆ list[str]         ┆ str               ┆ list[str]      │\n",
       "╞════════════════════╪════════════════════╪═══════════════════╪═══════════════════╪════════════════╡\n",
       "│ e908a824c912d1e39c ┆ **.NC(CCC(=O)NC(CS ┆ [\"P10649\",        ┆ 3bbe8e6dca0da1c74 ┆ [\"RHEA:16438\"] │\n",
       "│ 46de92d1f738…      ┆ )C(=O)NCC(=O…      ┆ \"P50472\", …       ┆ 5e7678c8efebe…    ┆                │\n",
       "│                    ┆                    ┆ \"Q08863…          ┆                   ┆                │\n",
       "│ d86d99a8143d3be8fc ┆ *.*.*.*.*.*.*.*.*. ┆ [\"A0A0C6E0I7\",    ┆ e99fb0b75e799eba7 ┆ [\"RHEA:51350\"] │\n",
       "│ 861a5de5e625…      ┆ *.CC(C)(COP(…      ┆ \"A0A0C6DWS6\", ……  ┆ 2aee21c1d04ee…    ┆                │\n",
       "│ 2972b2db66715ba6f3 ┆ *.*.*.*.*.*.*.*.*N ┆ [\"G0REX6\",        ┆ 5a7fffef224c65b7c ┆ [\"RHEA:64546\"] │\n",
       "│ d6aeaf07f31b…      ┆ C(COP(=O)(O)…      ┆ \"A0A482N9V7\",     ┆ d431ddc668eb2…    ┆                │\n",
       "│                    ┆                    ┆ \"P0DO…            ┆                   ┆                │\n",
       "│ 572e4a84a946af07c9 ┆ *.*.*.*.*.*.*.*.*O ┆ [\"A5UNX8\",        ┆ c4c936d8d985a457a ┆ [\"RHEA:64377\"] │\n",
       "│ ab6fd1c0347b…      ┆ P(=O)(O)OCC(…      ┆ \"Q57952\", …       ┆ 128601b8d2769…    ┆                │\n",
       "│                    ┆                    ┆ \"Q9V2B0…          ┆                   ┆                │\n",
       "│ dfe7fc761de3c213bf ┆ *.*.*.*.*.*.*.*.CC ┆ [\"A5UNX8\",        ┆ 2e026380a550baa6b ┆ [\"RHEA:64369\"] │\n",
       "│ 2b18fae4f8a5…      ┆ (C)CCCC(C)CC…      ┆ \"Q57952\", …       ┆ 343604e6f5500…    ┆                │\n",
       "│                    ┆                    ┆ \"Q9V2B0…          ┆                   ┆                │\n",
       "└────────────────────┴────────────────────┴───────────────────┴───────────────────┴────────────────┘"
      ]
     },
     "execution_count": 5,
     "metadata": {},
     "output_type": "execute_result"
    }
   ],
   "source": [
    "krs = pl.read_parquet(\"/home/stef/enz_rxn_data/data/processed/pathway/known_reactions.parquet\")\n",
    "krs.head()"
   ]
  },
  {
   "cell_type": "code",
   "execution_count": 6,
   "metadata": {},
   "outputs": [
    {
     "data": {
      "text/html": [
       "<div><style>\n",
       ".dataframe > thead > tr,\n",
       ".dataframe > tbody > tr {\n",
       "  text-align: right;\n",
       "  white-space: pre-wrap;\n",
       "}\n",
       "</style>\n",
       "<small>shape: (1, 5)</small><table border=\"1\" class=\"dataframe\"><thead><tr><th>id</th><th>smarts</th><th>enzymes</th><th>reverse</th><th>db_ids</th></tr><tr><td>str</td><td>str</td><td>list[str]</td><td>str</td><td>list[str]</td></tr></thead><tbody><tr><td>&quot;be524f61739a1a072c6f4a7100dd55…</td><td>&quot;CC(C)C(N)C(=O)O.O=C(O)CCC(=O)C…</td><td>[&quot;Q5HIC1&quot;, &quot;Q9ZJF1&quot;, … &quot;P54691&quot;]</td><td>&quot;3ca7439df427de8a3930ebbd6bffe3…</td><td>[&quot;RHEA:24814&quot;]</td></tr></tbody></table></div>"
      ],
      "text/plain": [
       "shape: (1, 5)\n",
       "┌──────────────────────┬──────────────────────┬─────────────┬─────────────────────┬────────────────┐\n",
       "│ id                   ┆ smarts               ┆ enzymes     ┆ reverse             ┆ db_ids         │\n",
       "│ ---                  ┆ ---                  ┆ ---         ┆ ---                 ┆ ---            │\n",
       "│ str                  ┆ str                  ┆ list[str]   ┆ str                 ┆ list[str]      │\n",
       "╞══════════════════════╪══════════════════════╪═════════════╪═════════════════════╪════════════════╡\n",
       "│ be524f61739a1a072c6f ┆ CC(C)C(N)C(=O)O.O=C( ┆ [\"Q5HIC1\",  ┆ 3ca7439df427de8a393 ┆ [\"RHEA:24814\"] │\n",
       "│ 4a7100dd55…          ┆ O)CCC(=O)C…          ┆ \"Q9ZJF1\", … ┆ 0ebbd6bffe3…        ┆                │\n",
       "│                      ┆                      ┆ \"P54691…    ┆                     ┆                │\n",
       "└──────────────────────┴──────────────────────┴─────────────┴─────────────────────┴────────────────┘"
      ]
     },
     "execution_count": 6,
     "metadata": {},
     "output_type": "execute_result"
    }
   ],
   "source": [
    "krs.filter(\n",
    "    pl.col(\"db_ids\").list.contains(\"RHEA:24814\")\n",
    ")"
   ]
  },
  {
   "cell_type": "code",
   "execution_count": 7,
   "metadata": {},
   "outputs": [],
   "source": [
    "up = pl.read_csv(\n",
    "    \"/home/stef/enz_rxn_data/data/raw/pathway/uniprotkb_reviewed_true_2025_04_01.tsv\",\n",
    "    separator=\"\\t\",\n",
    ")"
   ]
  },
  {
   "cell_type": "code",
   "execution_count": 8,
   "metadata": {},
   "outputs": [
    {
     "data": {
      "text/html": [
       "<div><style>\n",
       ".dataframe > thead > tr,\n",
       ".dataframe > tbody > tr {\n",
       "  text-align: right;\n",
       "  white-space: pre-wrap;\n",
       "}\n",
       "</style>\n",
       "<small>shape: (5, 10)</small><table border=\"1\" class=\"dataframe\"><thead><tr><th>Entry</th><th>Reviewed</th><th>Protein names</th><th>Protein existence</th><th>Length</th><th>Sequence</th><th>EC number</th><th>Organism</th><th>Gene Names</th><th>Catalytic activity</th></tr><tr><td>str</td><td>str</td><td>str</td><td>str</td><td>i64</td><td>str</td><td>str</td><td>str</td><td>str</td><td>str</td></tr></thead><tbody><tr><td>&quot;A0A009IHW8&quot;</td><td>&quot;reviewed&quot;</td><td>&quot;2&#x27; cyclic ADP-D-ribose synthas…</td><td>&quot;Evidence at protein level&quot;</td><td>269</td><td>&quot;MSLEQKKGADIISKILQIQNSIGKTTSPST…</td><td>&quot;3.2.2.-; 3.2.2.6&quot;</td><td>&quot;Acinetobacter baumannii (strai…</td><td>&quot;J512_3302&quot;</td><td>&quot;CATALYTIC ACTIVITY: Reaction=N…</td></tr><tr><td>&quot;A0A023I7E1&quot;</td><td>&quot;reviewed&quot;</td><td>&quot;Glucan endo-1,3-beta-D-glucosi…</td><td>&quot;Evidence at protein level&quot;</td><td>796</td><td>&quot;MRFQVIVAAATITMITSYIPGVASQSTSDG…</td><td>&quot;3.2.1.39&quot;</td><td>&quot;Rhizomucor miehei&quot;</td><td>&quot;ENG1 LAM81A&quot;</td><td>&quot;CATALYTIC ACTIVITY: Reaction=H…</td></tr><tr><td>&quot;A0A024B7W1&quot;</td><td>&quot;reviewed&quot;</td><td>&quot;Genome polyprotein [Cleaved in…</td><td>&quot;Evidence at protein level&quot;</td><td>3423</td><td>&quot;MKNPKKKSGGFRIVNMLKRGVARVSPFGGL…</td><td>&quot;2.1.1.56; 2.1.1.57; 2.7.7.48; …</td><td>&quot;Zika virus (isolate ZIKV/Human…</td><td>null</td><td>&quot;CATALYTIC ACTIVITY: [RNA-direc…</td></tr><tr><td>&quot;A0A024RXP8&quot;</td><td>&quot;reviewed&quot;</td><td>&quot;Exoglucanase 1 (EC 3.2.1.91) (…</td><td>&quot;Evidence at protein level&quot;</td><td>514</td><td>&quot;MYRKLAVISAFLATARAQSACTLQSETHPP…</td><td>&quot;3.2.1.91&quot;</td><td>&quot;Hypocrea jecorina (strain ATCC…</td><td>&quot;cbh1 M419DRAFT_125125&quot;</td><td>&quot;CATALYTIC ACTIVITY: Reaction=H…</td></tr><tr><td>&quot;A0A024SC78&quot;</td><td>&quot;reviewed&quot;</td><td>&quot;Cutinase (EC 3.1.1.74)&quot;</td><td>&quot;Evidence at protein level&quot;</td><td>248</td><td>&quot;MRSLAILTTLLAGHAFAYPKPAPQSVNRRD…</td><td>&quot;3.1.1.74&quot;</td><td>&quot;Hypocrea jecorina (strain ATCC…</td><td>&quot;M419DRAFT_76732&quot;</td><td>&quot;CATALYTIC ACTIVITY: Reaction=c…</td></tr></tbody></table></div>"
      ],
      "text/plain": [
       "shape: (5, 10)\n",
       "┌───────────┬──────────┬───────────┬───────────┬───┬───────────┬───────────┬───────────┬───────────┐\n",
       "│ Entry     ┆ Reviewed ┆ Protein   ┆ Protein   ┆ … ┆ EC number ┆ Organism  ┆ Gene      ┆ Catalytic │\n",
       "│ ---       ┆ ---      ┆ names     ┆ existence ┆   ┆ ---       ┆ ---       ┆ Names     ┆ activity  │\n",
       "│ str       ┆ str      ┆ ---       ┆ ---       ┆   ┆ str       ┆ str       ┆ ---       ┆ ---       │\n",
       "│           ┆          ┆ str       ┆ str       ┆   ┆           ┆           ┆ str       ┆ str       │\n",
       "╞═══════════╪══════════╪═══════════╪═══════════╪═══╪═══════════╪═══════════╪═══════════╪═══════════╡\n",
       "│ A0A009IHW ┆ reviewed ┆ 2' cyclic ┆ Evidence  ┆ … ┆ 3.2.2.-;  ┆ Acinetoba ┆ J512_3302 ┆ CATALYTIC │\n",
       "│ 8         ┆          ┆ ADP-D-rib ┆ at        ┆   ┆ 3.2.2.6   ┆ cter      ┆           ┆ ACTIVITY: │\n",
       "│           ┆          ┆ ose       ┆ protein   ┆   ┆           ┆ baumannii ┆           ┆ Reaction= │\n",
       "│           ┆          ┆ synthas…  ┆ level     ┆   ┆           ┆ (strai…   ┆           ┆ N…        │\n",
       "│ A0A023I7E ┆ reviewed ┆ Glucan    ┆ Evidence  ┆ … ┆ 3.2.1.39  ┆ Rhizomuco ┆ ENG1      ┆ CATALYTIC │\n",
       "│ 1         ┆          ┆ endo-1,3- ┆ at        ┆   ┆           ┆ r miehei  ┆ LAM81A    ┆ ACTIVITY: │\n",
       "│           ┆          ┆ beta-D-gl ┆ protein   ┆   ┆           ┆           ┆           ┆ Reaction= │\n",
       "│           ┆          ┆ ucosi…    ┆ level     ┆   ┆           ┆           ┆           ┆ H…        │\n",
       "│ A0A024B7W ┆ reviewed ┆ Genome    ┆ Evidence  ┆ … ┆ 2.1.1.56; ┆ Zika      ┆ null      ┆ CATALYTIC │\n",
       "│ 1         ┆          ┆ polyprote ┆ at        ┆   ┆ 2.1.1.57; ┆ virus     ┆           ┆ ACTIVITY: │\n",
       "│           ┆          ┆ in        ┆ protein   ┆   ┆ 2.7.7.48; ┆ (isolate  ┆           ┆ [RNA-dire │\n",
       "│           ┆          ┆ [Cleaved  ┆ level     ┆   ┆ …         ┆ ZIKV/Huma ┆           ┆ c…        │\n",
       "│           ┆          ┆ in…       ┆           ┆   ┆           ┆ n…        ┆           ┆           │\n",
       "│ A0A024RXP ┆ reviewed ┆ Exoglucan ┆ Evidence  ┆ … ┆ 3.2.1.91  ┆ Hypocrea  ┆ cbh1 M419 ┆ CATALYTIC │\n",
       "│ 8         ┆          ┆ ase 1 (EC ┆ at        ┆   ┆           ┆ jecorina  ┆ DRAFT_125 ┆ ACTIVITY: │\n",
       "│           ┆          ┆ 3.2.1.91) ┆ protein   ┆   ┆           ┆ (strain   ┆ 125       ┆ Reaction= │\n",
       "│           ┆          ┆ (…        ┆ level     ┆   ┆           ┆ ATCC…     ┆           ┆ H…        │\n",
       "│ A0A024SC7 ┆ reviewed ┆ Cutinase  ┆ Evidence  ┆ … ┆ 3.1.1.74  ┆ Hypocrea  ┆ M419DRAFT ┆ CATALYTIC │\n",
       "│ 8         ┆          ┆ (EC       ┆ at        ┆   ┆           ┆ jecorina  ┆ _76732    ┆ ACTIVITY: │\n",
       "│           ┆          ┆ 3.1.1.74) ┆ protein   ┆   ┆           ┆ (strain   ┆           ┆ Reaction= │\n",
       "│           ┆          ┆           ┆ level     ┆   ┆           ┆ ATCC…     ┆           ┆ c…        │\n",
       "└───────────┴──────────┴───────────┴───────────┴───┴───────────┴───────────┴───────────┴───────────┘"
      ]
     },
     "execution_count": 8,
     "metadata": {},
     "output_type": "execute_result"
    }
   ],
   "source": [
    "up.head()"
   ]
  },
  {
   "cell_type": "code",
   "execution_count": null,
   "metadata": {},
   "outputs": [],
   "source": []
  }
 ],
 "metadata": {
  "kernelspec": {
   "display_name": "enz_rxn_data",
   "language": "python",
   "name": "python3"
  },
  "language_info": {
   "codemirror_mode": {
    "name": "ipython",
    "version": 3
   },
   "file_extension": ".py",
   "mimetype": "text/x-python",
   "name": "python",
   "nbconvert_exporter": "python",
   "pygments_lexer": "ipython3",
   "version": "3.13.0"
  }
 },
 "nbformat": 4,
 "nbformat_minor": 2
}
