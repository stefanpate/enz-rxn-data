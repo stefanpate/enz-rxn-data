{
 "cells": [
  {
   "cell_type": "code",
   "execution_count": 32,
   "metadata": {},
   "outputs": [],
   "source": [
    "from hydra import initialize, compose\n",
    "from pathlib import Path\n",
    "import pandas as pd\n",
    "from ergochemics.draw import draw_reaction, draw_molecule\n",
    "from ergochemics.mapping import rc_to_nest\n",
    "from IPython.display import SVG\n",
    "import json\n",
    "from rdkit import Chem\n",
    "from rdkit.Chem import AllChem\n",
    "\n",
    "with initialize(version_base=None, config_path=\"./conf/filepaths\"):\n",
    "    cfg = compose(config_name=\"filepaths\")"
   ]
  },
  {
   "cell_type": "code",
   "execution_count": 2,
   "metadata": {},
   "outputs": [
    {
     "name": "stdout",
     "output_type": "stream",
     "text": [
      "18954\n",
      "13114\n"
     ]
    }
   ],
   "source": [
    "with open(Path(cfg.raw_data) / \"pathway\" / \"sprhea_240310_v3_mapped_no_subunits.json\", 'r') as f:\n",
    "    rhea = json.load(f)\n",
    "print(len(rhea))\n",
    "print(len({k: v for k, v in rhea.items() if v['min_rule'] is not None}))\n",
    "\n",
    "min_rules = pd.read_csv(Path(cfg.rules) / \"rc_plus_0_rules.csv\", sep=',')"
   ]
  },
  {
   "cell_type": "code",
   "execution_count": 3,
   "metadata": {},
   "outputs": [
    {
     "name": "stdout",
     "output_type": "stream",
     "text": [
      "641\n",
      "rule0273\n",
      "837\n"
     ]
    }
   ],
   "source": [
    "# To pull out rule of interest\n",
    "\n",
    "rhea_id = 25250\n",
    "for k, v in rhea.items():\n",
    "    if rhea_id in v['rhea_ids']:\n",
    "        rxn_id = k\n",
    "        print(k)\n",
    "        break\n",
    "\n",
    "ni_id = rhea[rxn_id]['min_rule']\n",
    "print(ni_id)\n",
    "\n",
    "for k, v in min_rules.iterrows():\n",
    "    if ni_id in v['ni_ids']:\n",
    "        print(v['id'])\n",
    "        break"
   ]
  },
  {
   "cell_type": "code",
   "execution_count": 3,
   "metadata": {},
   "outputs": [
    {
     "name": "stdout",
     "output_type": "stream",
     "text": [
      "12268\n",
      "64.7%\n"
     ]
    },
    {
     "data": {
      "text/html": [
       "<div>\n",
       "<style scoped>\n",
       "    .dataframe tbody tr th:only-of-type {\n",
       "        vertical-align: middle;\n",
       "    }\n",
       "\n",
       "    .dataframe tbody tr th {\n",
       "        vertical-align: top;\n",
       "    }\n",
       "\n",
       "    .dataframe thead th {\n",
       "        text-align: right;\n",
       "    }\n",
       "</style>\n",
       "<table border=\"1\" class=\"dataframe\">\n",
       "  <thead>\n",
       "    <tr style=\"text-align: right;\">\n",
       "      <th></th>\n",
       "      <th>rxn_id</th>\n",
       "      <th>smarts</th>\n",
       "      <th>am_smarts</th>\n",
       "      <th>rule</th>\n",
       "      <th>template_aidxs</th>\n",
       "      <th>rule_id</th>\n",
       "    </tr>\n",
       "  </thead>\n",
       "  <tbody>\n",
       "    <tr>\n",
       "      <th>0</th>\n",
       "      <td>1</td>\n",
       "      <td>CC(O)C(O)C(O)C(O)C(=O)O&gt;&gt;CC(O)C(O)CC(=O)C(=O)O.O</td>\n",
       "      <td>[CH3:8][CH:6]([OH:9])[CH:1]([OH:7])[CH:2]([OH:...</td>\n",
       "      <td>[C&amp;D3&amp;v4&amp;H1&amp;0*&amp;!R&amp;z1:1]-[C&amp;D3&amp;v4&amp;H1&amp;0*&amp;!R&amp;z1:2...</td>\n",
       "      <td>(((3, 5, 6, 7, 8, 9),), ((3, 5, 6, 7, 8), (0,)))</td>\n",
       "      <td>1</td>\n",
       "    </tr>\n",
       "    <tr>\n",
       "      <th>1</th>\n",
       "      <td>10</td>\n",
       "      <td>CCCCCCCCCCCC(=O)OP(=O)(O)OCC1OC(n2cnc3c(N)ncnc...</td>\n",
       "      <td>[CH3:14][CH2:13][CH2:12][CH2:11][CH2:10][CH2:9...</td>\n",
       "      <td>[C&amp;D2&amp;v4&amp;H2&amp;0*&amp;!R&amp;z0:1]-[C&amp;D3&amp;v4&amp;H0&amp;0*&amp;!R&amp;z2:2...</td>\n",
       "      <td>(((10, 11, 12, 13, 14), (0, 1, 2, 3, 4)), ((10...</td>\n",
       "      <td>2</td>\n",
       "    </tr>\n",
       "    <tr>\n",
       "      <th>2</th>\n",
       "      <td>100</td>\n",
       "      <td>*C(=O)OCC(COP(=O)(O)OC1C(O)C(OP(=O)(O)O)C(O)C(...</td>\n",
       "      <td>[*:30][C:27](=[O:31])[O:25][CH2:23][CH:22]([CH...</td>\n",
       "      <td>[*:1]-[O&amp;D2&amp;v2&amp;H0&amp;0*&amp;!R:2]-[P&amp;D4&amp;v5&amp;H0&amp;0*&amp;!R:3...</td>\n",
       "      <td>(((15, 16, 17, 18, 19, 20), (0,)), ((15, 16), ...</td>\n",
       "      <td>3698</td>\n",
       "    </tr>\n",
       "    <tr>\n",
       "      <th>3</th>\n",
       "      <td>10003</td>\n",
       "      <td>O=C(O)CCCCCCCCCCCCCCC(=O)O.O=P(O)(O)O.Nc1ncnc2...</td>\n",
       "      <td>[O:2]=[C:3]([OH:1])[CH2:5][CH2:6][CH2:7][CH2:8...</td>\n",
       "      <td>[O&amp;D1&amp;v2&amp;H0&amp;0*&amp;!R:1]=[C&amp;D3&amp;v4&amp;H0&amp;0*&amp;!R&amp;z2:2](-...</td>\n",
       "      <td>(((0, 1, 2, 3), (0, 1, 2, 3, 4), (19, 21)), ((...</td>\n",
       "      <td>6</td>\n",
       "    </tr>\n",
       "    <tr>\n",
       "      <th>4</th>\n",
       "      <td>10008</td>\n",
       "      <td>O=[N+]([O-])c1ccc(OP(=O)(O)O)cc1.O&gt;&gt;O=[N+]([O-...</td>\n",
       "      <td>[O:9]=[N+:8]([O-:10])[c:7]1[cH:5][cH:3][c:1]([...</td>\n",
       "      <td>[*:1]-[O&amp;D2&amp;v2&amp;H0&amp;0*&amp;!R:2]-[P&amp;D4&amp;v5&amp;H0&amp;0*&amp;!R:3...</td>\n",
       "      <td>(((6, 7, 8, 9, 10, 11), (0,)), ((6, 7), (0, 1,...</td>\n",
       "      <td>3698</td>\n",
       "    </tr>\n",
       "  </tbody>\n",
       "</table>\n",
       "</div>"
      ],
      "text/plain": [
       "  rxn_id                                             smarts  \\\n",
       "0      1   CC(O)C(O)C(O)C(O)C(=O)O>>CC(O)C(O)CC(=O)C(=O)O.O   \n",
       "1     10  CCCCCCCCCCCC(=O)OP(=O)(O)OCC1OC(n2cnc3c(N)ncnc...   \n",
       "2    100  *C(=O)OCC(COP(=O)(O)OC1C(O)C(OP(=O)(O)O)C(O)C(...   \n",
       "3  10003  O=C(O)CCCCCCCCCCCCCCC(=O)O.O=P(O)(O)O.Nc1ncnc2...   \n",
       "4  10008  O=[N+]([O-])c1ccc(OP(=O)(O)O)cc1.O>>O=[N+]([O-...   \n",
       "\n",
       "                                           am_smarts  \\\n",
       "0  [CH3:8][CH:6]([OH:9])[CH:1]([OH:7])[CH:2]([OH:...   \n",
       "1  [CH3:14][CH2:13][CH2:12][CH2:11][CH2:10][CH2:9...   \n",
       "2  [*:30][C:27](=[O:31])[O:25][CH2:23][CH:22]([CH...   \n",
       "3  [O:2]=[C:3]([OH:1])[CH2:5][CH2:6][CH2:7][CH2:8...   \n",
       "4  [O:9]=[N+:8]([O-:10])[c:7]1[cH:5][cH:3][c:1]([...   \n",
       "\n",
       "                                                rule  \\\n",
       "0  [C&D3&v4&H1&0*&!R&z1:1]-[C&D3&v4&H1&0*&!R&z1:2...   \n",
       "1  [C&D2&v4&H2&0*&!R&z0:1]-[C&D3&v4&H0&0*&!R&z2:2...   \n",
       "2  [*:1]-[O&D2&v2&H0&0*&!R:2]-[P&D4&v5&H0&0*&!R:3...   \n",
       "3  [O&D1&v2&H0&0*&!R:1]=[C&D3&v4&H0&0*&!R&z2:2](-...   \n",
       "4  [*:1]-[O&D2&v2&H0&0*&!R:2]-[P&D4&v5&H0&0*&!R:3...   \n",
       "\n",
       "                                      template_aidxs  rule_id  \n",
       "0   (((3, 5, 6, 7, 8, 9),), ((3, 5, 6, 7, 8), (0,)))        1  \n",
       "1  (((10, 11, 12, 13, 14), (0, 1, 2, 3, 4)), ((10...        2  \n",
       "2  (((15, 16, 17, 18, 19, 20), (0,)), ((15, 16), ...     3698  \n",
       "3  (((0, 1, 2, 3), (0, 1, 2, 3, 4), (19, 21)), ((...        6  \n",
       "4  (((6, 7, 8, 9, 10, 11), (0,)), ((6, 7), (0, 1,...     3698  "
      ]
     },
     "execution_count": 3,
     "metadata": {},
     "output_type": "execute_result"
    }
   ],
   "source": [
    "fn = \"mapped_sprhea_240310_v3_mapped_no_subunits_x_rc_plus_1_rules.parquet\"\n",
    "df = pd.read_parquet(Path(cfg.processed_data) / \"pathway\" / fn)\n",
    "df[\"template_aidxs\"] = df[\"template_aidxs\"].apply(rc_to_nest)\n",
    "print(len(df))\n",
    "print(f\"{len(df) * 100 / len(rhea):.1f}%\")\n",
    "df.head()"
   ]
  },
  {
   "cell_type": "code",
   "execution_count": 4,
   "metadata": {},
   "outputs": [
    {
     "name": "stdout",
     "output_type": "stream",
     "text": [
      "13851\n"
     ]
    }
   ],
   "source": [
    "fn = \"mapped_sprhea_240310_v3_mapped_no_subunits_x_rc_plus_0_rules.parquet\"\n",
    "rc0_maps = pd.read_parquet(Path(cfg.processed_data) / \"pathway\" / fn)\n",
    "print(len(rc0_maps))"
   ]
  },
  {
   "cell_type": "code",
   "execution_count": 8,
   "metadata": {},
   "outputs": [],
   "source": [
    "missed = list(set(rc0_maps[\"rxn_id\"]) - set(df[\"rxn_id\"]))"
   ]
  },
  {
   "cell_type": "code",
   "execution_count": 97,
   "metadata": {},
   "outputs": [
    {
     "name": "stdout",
     "output_type": "stream",
     "text": [
      "AtomAnd\n",
      "  AtomAnd\n",
      "    AtomAnd\n",
      "      AtomAnd\n",
      "        AtomAnd\n",
      "          AtomType 7 = val\n",
      "          AtomExplicitDegree 3 = val\n",
      "        AtomTotalValence 3 = val\n",
      "      AtomHCount 0 = val\n",
      "    AtomInNRings -1 = val\n",
      "  AtomIsotope 0 = val\n",
      "\n"
     ]
    }
   ],
   "source": [
    "print(Chem.AtomFromSmarts('[N&D3&v3&H0&R&0*:10]').DescribeQuery())"
   ]
  },
  {
   "cell_type": "code",
   "execution_count": null,
   "metadata": {},
   "outputs": [],
   "source": []
  }
 ],
 "metadata": {
  "kernelspec": {
   "display_name": "enz_rxn_data",
   "language": "python",
   "name": "python3"
  },
  "language_info": {
   "codemirror_mode": {
    "name": "ipython",
    "version": 3
   },
   "file_extension": ".py",
   "mimetype": "text/x-python",
   "name": "python",
   "nbconvert_exporter": "python",
   "pygments_lexer": "ipython3",
   "version": "3.13.0"
  }
 },
 "nbformat": 4,
 "nbformat_minor": 2
}
