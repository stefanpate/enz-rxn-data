{
 "cells": [
  {
   "cell_type": "code",
   "execution_count": 5,
   "metadata": {},
   "outputs": [],
   "source": [
    "from hydra import initialize, compose\n",
    "from pathlib import Path\n",
    "import pandas as pd\n",
    "from ergochemics.draw import draw_reaction, draw_molecule\n",
    "from ergochemics.mapping import rc_to_nest\n",
    "from IPython.display import SVG\n",
    "\n",
    "with initialize(version_base=None, config_path=\"./conf/filepaths\"):\n",
    "    cfg = compose(config_name=\"filepaths\")"
   ]
  },
  {
   "cell_type": "code",
   "execution_count": 6,
   "metadata": {},
   "outputs": [
    {
     "name": "stdout",
     "output_type": "stream",
     "text": [
      "18954\n",
      "13114\n"
     ]
    }
   ],
   "source": [
    "import json\n",
    "with open(Path(cfg.raw_data) / \"pathway\" / \"sprhea_240310_v3_mapped_no_subunits.json\", 'r') as f:\n",
    "    rhea = json.load(f)\n",
    "print(len(rhea))\n",
    "print(len({k: v for k, v in rhea.items() if v['min_rule'] is not None}))"
   ]
  },
  {
   "cell_type": "code",
   "execution_count": 7,
   "metadata": {},
   "outputs": [
    {
     "name": "stdout",
     "output_type": "stream",
     "text": [
      "13851\n",
      "73.1%\n"
     ]
    },
    {
     "data": {
      "text/html": [
       "<div>\n",
       "<style scoped>\n",
       "    .dataframe tbody tr th:only-of-type {\n",
       "        vertical-align: middle;\n",
       "    }\n",
       "\n",
       "    .dataframe tbody tr th {\n",
       "        vertical-align: top;\n",
       "    }\n",
       "\n",
       "    .dataframe thead th {\n",
       "        text-align: right;\n",
       "    }\n",
       "</style>\n",
       "<table border=\"1\" class=\"dataframe\">\n",
       "  <thead>\n",
       "    <tr style=\"text-align: right;\">\n",
       "      <th></th>\n",
       "      <th>rxn_id</th>\n",
       "      <th>smarts</th>\n",
       "      <th>am_smarts</th>\n",
       "      <th>rule</th>\n",
       "      <th>reaction_center</th>\n",
       "      <th>rule_id</th>\n",
       "    </tr>\n",
       "  </thead>\n",
       "  <tbody>\n",
       "    <tr>\n",
       "      <th>0</th>\n",
       "      <td>0</td>\n",
       "      <td>NC(CCC=O)C(=O)O.NC(=O)c1ccc[n+](C2OC(COP(=O)(O...</td>\n",
       "      <td>[NH2:7][CH:6]([CH2:5][CH2:3][CH:1]=[O:4])[C:8]...</td>\n",
       "      <td>[#6:1].[#6:2]1:[#6:3]:[#6:4]:[#6:5]:[#7+:6]:[#...</td>\n",
       "      <td>(((4,), (3, 4, 5, 6, 7, 47), (2,)), ((0, 1), (...</td>\n",
       "      <td>819</td>\n",
       "    </tr>\n",
       "    <tr>\n",
       "      <th>1</th>\n",
       "      <td>1</td>\n",
       "      <td>CC(O)C(O)C(O)C(O)C(=O)O&gt;&gt;CC(O)C(O)CC(=O)C(=O)O.O</td>\n",
       "      <td>[CH3:7][CH:5]([OH:8])[CH:4]([OH:6])[CH:1]([OH:...</td>\n",
       "      <td>([#6:1]-[#8:2].[#6:3]-[#8:4])&gt;&gt;([#6:1].[#6:3]=...</td>\n",
       "      <td>(((5, 6, 7, 8),), ((0, 1, 2), (0,)))</td>\n",
       "      <td>402</td>\n",
       "    </tr>\n",
       "    <tr>\n",
       "      <th>2</th>\n",
       "      <td>10</td>\n",
       "      <td>CCCCCCCCCCCC(=O)OP(=O)(O)OCC1OC(n2cnc3c(N)ncnc...</td>\n",
       "      <td>[CH3:14][CH2:13][CH2:12][CH2:11][CH2:10][CH2:9...</td>\n",
       "      <td>[#6:1]-[#8:2].[#8:3]-[#15:4]&gt;&gt;[#6:1]-[#8:3].[#...</td>\n",
       "      <td>(((11, 13), (2, 1)), ((0, 1), (0, 1)))</td>\n",
       "      <td>994</td>\n",
       "    </tr>\n",
       "    <tr>\n",
       "      <th>3</th>\n",
       "      <td>100</td>\n",
       "      <td>*C(=O)OCC(COP(=O)(O)OC1C(O)C(OP(=O)(O)O)C(O)C(...</td>\n",
       "      <td>[*:30][C:27](=[O:31])[O:25][CH2:23][CH:22]([CH...</td>\n",
       "      <td>[#6:1]-[#8:2].[#8:3]&gt;&gt;[#6:1]-[#8:3].[#8:2]</td>\n",
       "      <td>(((15, 16), (0,)), ((0, 1), (0,)))</td>\n",
       "      <td>517</td>\n",
       "    </tr>\n",
       "    <tr>\n",
       "      <th>4</th>\n",
       "      <td>1000</td>\n",
       "      <td>CCC=O.NC(=O)c1ccc[n+](C2OC(COP(=O)(O)OP(=O)(O)...</td>\n",
       "      <td>[CH3:5][CH2:3][CH:1]=[O:4].[NH2:13][C:12](=[O:...</td>\n",
       "      <td>[#6:1].[#6:2]1:[#6:3]:[#6:4]:[#6:5]:[#7+:6]:[#...</td>\n",
       "      <td>(((2,), (3, 4, 5, 6, 7, 47), (0,)), ((0, 1), (...</td>\n",
       "      <td>819</td>\n",
       "    </tr>\n",
       "  </tbody>\n",
       "</table>\n",
       "</div>"
      ],
      "text/plain": [
       "  rxn_id                                             smarts  \\\n",
       "0      0  NC(CCC=O)C(=O)O.NC(=O)c1ccc[n+](C2OC(COP(=O)(O...   \n",
       "1      1   CC(O)C(O)C(O)C(O)C(=O)O>>CC(O)C(O)CC(=O)C(=O)O.O   \n",
       "2     10  CCCCCCCCCCCC(=O)OP(=O)(O)OCC1OC(n2cnc3c(N)ncnc...   \n",
       "3    100  *C(=O)OCC(COP(=O)(O)OC1C(O)C(OP(=O)(O)O)C(O)C(...   \n",
       "4   1000  CCC=O.NC(=O)c1ccc[n+](C2OC(COP(=O)(O)OP(=O)(O)...   \n",
       "\n",
       "                                           am_smarts  \\\n",
       "0  [NH2:7][CH:6]([CH2:5][CH2:3][CH:1]=[O:4])[C:8]...   \n",
       "1  [CH3:7][CH:5]([OH:8])[CH:4]([OH:6])[CH:1]([OH:...   \n",
       "2  [CH3:14][CH2:13][CH2:12][CH2:11][CH2:10][CH2:9...   \n",
       "3  [*:30][C:27](=[O:31])[O:25][CH2:23][CH:22]([CH...   \n",
       "4  [CH3:5][CH2:3][CH:1]=[O:4].[NH2:13][C:12](=[O:...   \n",
       "\n",
       "                                                rule  \\\n",
       "0  [#6:1].[#6:2]1:[#6:3]:[#6:4]:[#6:5]:[#7+:6]:[#...   \n",
       "1  ([#6:1]-[#8:2].[#6:3]-[#8:4])>>([#6:1].[#6:3]=...   \n",
       "2  [#6:1]-[#8:2].[#8:3]-[#15:4]>>[#6:1]-[#8:3].[#...   \n",
       "3         [#6:1]-[#8:2].[#8:3]>>[#6:1]-[#8:3].[#8:2]   \n",
       "4  [#6:1].[#6:2]1:[#6:3]:[#6:4]:[#6:5]:[#7+:6]:[#...   \n",
       "\n",
       "                                     reaction_center  rule_id  \n",
       "0  (((4,), (3, 4, 5, 6, 7, 47), (2,)), ((0, 1), (...      819  \n",
       "1               (((5, 6, 7, 8),), ((0, 1, 2), (0,)))      402  \n",
       "2             (((11, 13), (2, 1)), ((0, 1), (0, 1)))      994  \n",
       "3                 (((15, 16), (0,)), ((0, 1), (0,)))      517  \n",
       "4  (((2,), (3, 4, 5, 6, 7, 47), (0,)), ((0, 1), (...      819  "
      ]
     },
     "execution_count": 7,
     "metadata": {},
     "output_type": "execute_result"
    }
   ],
   "source": [
    "fn = \"mapped_sprhea_240310_v3_mapped_no_subunits_x_min_rules.parquet\"\n",
    "df = pd.read_parquet(Path(cfg.processed_data) / \"pathway\" / fn)\n",
    "df[\"reaction_center\"] = df[\"reaction_center\"].apply(rc_to_nest)\n",
    "print(len(df))\n",
    "print(f\"{len(df) * 100 / len(rhea):.1f}%\")\n",
    "df.head()"
   ]
  },
  {
   "cell_type": "code",
   "execution_count": 9,
   "metadata": {},
   "outputs": [],
   "source": [
    "rule_of_i = 919\n",
    "for _, row in df.loc[df['rule_id'] == rule_of_i].iloc[:10].iterrows():\n",
    "    print(f\"Reaction: {row['rxn_id']}\")\n",
    "    display(SVG(draw_reaction(row[\"am_smarts\"])))\n",
    "    for smi, rc in zip(row[\"am_smarts\"].split(\">>\")[0].split(\".\"), row[\"reaction_center\"][0]):\n",
    "        display(SVG(draw_molecule(smi, size=(300, 150), highlight_atoms=rc)))"
   ]
  }
 ],
 "metadata": {
  "kernelspec": {
   "display_name": ".venv",
   "language": "python",
   "name": "python3"
  },
  "language_info": {
   "codemirror_mode": {
    "name": "ipython",
    "version": 3
   },
   "file_extension": ".py",
   "mimetype": "text/x-python",
   "name": "python",
   "nbconvert_exporter": "python",
   "pygments_lexer": "ipython3",
   "version": "3.13.0"
  }
 },
 "nbformat": 4,
 "nbformat_minor": 2
}
