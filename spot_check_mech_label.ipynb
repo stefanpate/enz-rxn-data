{
 "cells": [
  {
   "cell_type": "code",
   "execution_count": null,
   "metadata": {},
   "outputs": [],
   "source": [
    "from hydra import initialize, compose\n",
    "import json\n",
    "from rdkit import Chem\n",
    "from pathlib import Path\n",
    "from ergochemics.draw import draw_reaction, draw_molecule\n",
    "from ast import literal_eval\n",
    "from IPython.display import SVG\n",
    "import pandas as pd\n",
    "from collections import Counter\n",
    "import matplotlib.pyplot as plt"
   ]
  },
  {
   "cell_type": "code",
   "execution_count": null,
   "metadata": {},
   "outputs": [],
   "source": [
    "with initialize(version_base=None, config_path=\"./conf/filepaths\"):\n",
    "    filepaths = compose(config_name=\"filepaths\")"
   ]
  },
  {
   "cell_type": "code",
   "execution_count": null,
   "metadata": {},
   "outputs": [],
   "source": [
    "entries = {}\n",
    "for i in range(0, 11):\n",
    "    with open(Path(filepaths.raw_mcsa) / f\"entries_{i}.json\", \"r\") as f:\n",
    "        entries = {**entries, **json.load(f)}\n",
    "\n",
    "mech_ct = 0\n",
    "detailed_ct = 0\n",
    "for id, entry in entries.items():\n",
    "    mechanisms = entry['reaction']['mechanisms']\n",
    "    if mechanisms is None:\n",
    "        continue\n",
    "\n",
    "    for mech in mechanisms:\n",
    "        mech_ct += 1\n",
    "        if mech['is_detailed']:\n",
    "            detailed_ct += 1\n",
    "\n",
    "print(f\"Total number of mechanisms: {mech_ct}\")\n",
    "print(f\"Number of detailed mechanisms: {detailed_ct} ({detailed_ct/mech_ct*100:.2f}%)\")\n",
    "print(f\"Total number of entries: {len(entries)}\")\n"
   ]
  },
  {
   "cell_type": "code",
   "execution_count": null,
   "metadata": {},
   "outputs": [],
   "source": [
    "mech_df = pd.read_csv(Path(filepaths.interim_data) / 'mcsa' / 'mech_labeled_reactions.csv', sep=\",\")\n",
    "mech_df[\"mech_atoms\"] = mech_df[\"mech_atoms\"].apply(literal_eval)\n",
    "n_unique = len(set(mech_df[[\"entry_id\", \"mechanism_id\"]].apply(tuple, axis=1)))\n",
    "print(f\"{n_unique/detailed_ct*100:.2f}% of detailed mechanisms have been processed\")\n",
    "mech_df.head(10)"
   ]
  },
  {
   "cell_type": "code",
   "execution_count": null,
   "metadata": {},
   "outputs": [],
   "source": [
    "ecs = []\n",
    "n_digits = 1\n",
    "for eid in mech_df['entry_id']:\n",
    "    ecs.append(entries[str(eid)]['reaction']['ec'])\n",
    "\n",
    "ec_trunc = [elt[:n_digits] for elt in ecs]\n",
    "ec_counts = Counter(ec_trunc)\n",
    "ec_counts = sorted(ec_counts.items(), key=lambda x: x[0])\n",
    "\n",
    "fig, ax = plt.subplots()\n",
    "x = [i for i in range(len(ec_counts))]\n",
    "ax.bar(x, [elt[1] for elt in ec_counts], color='gray')\n",
    "ax.set_xticks(x)\n",
    "ax.set_xticklabels([elt[0] for elt in ec_counts])\n",
    "ax.set_xlabel('EC number')\n",
    "ax.set_ylabel('Number of mechanisms')\n",
    "plt.show()"
   ]
  },
  {
   "cell_type": "code",
   "execution_count": null,
   "metadata": {},
   "outputs": [],
   "source": [
    "def display_mech_labeled_rxn(entry_id: int, de_am: bool = False):\n",
    "    sma2mol = lambda x : Chem.MolFromSmiles(Chem.MolToSmiles(Chem.MolFromSmarts(x)))\n",
    "\n",
    "    # Get the reaction\n",
    "    smarts = mech_df.loc[mech_df['entry_id'] == entry_id, 'smarts'].iloc[0]\n",
    "\n",
    "    these_mechs = mech_df.loc[mech_df['entry_id'] == entry_id]\n",
    "    for _, row in these_mechs.iterrows():\n",
    "        print(f\"Mechanism: #{row['mechanism_id']}\")\n",
    "        smarts = row['smarts']\n",
    "        lhs = [sma2mol(elt) for elt in smarts.split('>>')[0].split('.')]\n",
    "        mech_atom_map_nums = row['mech_atoms']\n",
    "\n",
    "        # Get atoms involved in the reaction\n",
    "        involved_atoms = []\n",
    "        for i, mol in enumerate(lhs):\n",
    "            involved_atoms.append([])\n",
    "\n",
    "            for atom in mol.GetAtoms():\n",
    "                if atom.GetAtomMapNum() in mech_atom_map_nums:\n",
    "                    involved_atoms[i].append(atom.GetIdx())\n",
    "        \n",
    "        if de_am:\n",
    "            for mol in lhs:\n",
    "                for atom in mol.GetAtoms():\n",
    "                    atom.SetAtomMapNum(0)\n",
    "\n",
    "            smarts = '.'.join([Chem.MolToSmiles(mol) for mol in lhs]) + '>>' + smarts.split('>>')[1]\n",
    "        \n",
    "        # Display\n",
    "        display(SVG(draw_reaction(smarts, sub_img_size=(150, 100))))\n",
    "        for i, rct in enumerate(lhs):\n",
    "            display(SVG(draw_molecule(rct, size=(300, 200), highlight_atoms=involved_atoms[i], draw_options={\"addAtomIndices\": False})))"
   ]
  },
  {
   "cell_type": "code",
   "execution_count": null,
   "metadata": {},
   "outputs": [],
   "source": [
    "display_mech_labeled_rxn(49)"
   ]
  },
  {
   "cell_type": "code",
   "execution_count": null,
   "metadata": {},
   "outputs": [],
   "source": [
    "display_mech_labeled_rxn(50)"
   ]
  },
  {
   "cell_type": "code",
   "execution_count": null,
   "metadata": {},
   "outputs": [],
   "source": [
    "display_mech_labeled_rxn(722)"
   ]
  },
  {
   "cell_type": "code",
   "execution_count": null,
   "metadata": {},
   "outputs": [],
   "source": [
    "display_mech_labeled_rxn(219)"
   ]
  },
  {
   "cell_type": "code",
   "execution_count": null,
   "metadata": {},
   "outputs": [],
   "source": [
    "display_mech_labeled_rxn(7)"
   ]
  },
  {
   "cell_type": "code",
   "execution_count": null,
   "metadata": {},
   "outputs": [],
   "source": [
    "display_mech_labeled_rxn(220)"
   ]
  },
  {
   "cell_type": "code",
   "execution_count": null,
   "metadata": {},
   "outputs": [],
   "source": [
    "display_mech_labeled_rxn(550)"
   ]
  },
  {
   "cell_type": "code",
   "execution_count": null,
   "metadata": {},
   "outputs": [],
   "source": [
    "display_mech_labeled_rxn(711)"
   ]
  },
  {
   "cell_type": "code",
   "execution_count": null,
   "metadata": {},
   "outputs": [],
   "source": [
    "mm = pd.read_parquet(\n",
    "    Path(filepaths.processed_data) / \"mcsa\" / \"mapped_mech_labeled_reactions.parquet\"\n",
    ")\n",
    "mm.head()"
   ]
  },
  {
   "cell_type": "code",
   "execution_count": null,
   "metadata": {},
   "outputs": [],
   "source": [
    "Chem.MolFromSmarts('[#6:28](-[#8-:29])(-[#6:30](-[#6H3:32])=[#8:33])=[#8:31]')"
   ]
  }
 ],
 "metadata": {
  "kernelspec": {
   "display_name": ".venv",
   "language": "python",
   "name": "python3"
  },
  "language_info": {
   "codemirror_mode": {
    "name": "ipython",
    "version": 3
   },
   "file_extension": ".py",
   "mimetype": "text/x-python",
   "name": "python",
   "nbconvert_exporter": "python",
   "pygments_lexer": "ipython3",
   "version": "3.13.0"
  }
 },
 "nbformat": 4,
 "nbformat_minor": 2
}
