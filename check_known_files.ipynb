{
 "cells": [
  {
   "cell_type": "code",
   "execution_count": 1,
   "id": "7bb65f35",
   "metadata": {},
   "outputs": [],
   "source": [
    "from tqdm import tqdm\n",
    "import polars as pl\n",
    "import json"
   ]
  },
  {
   "cell_type": "code",
   "execution_count": 2,
   "id": "b2638f92",
   "metadata": {},
   "outputs": [
    {
     "data": {
      "text/html": [
       "<div><style>\n",
       ".dataframe > thead > tr,\n",
       ".dataframe > tbody > tr {\n",
       "  text-align: right;\n",
       "  white-space: pre-wrap;\n",
       "}\n",
       "</style>\n",
       "<small>shape: (5, 5)</small><table border=\"1\" class=\"dataframe\"><thead><tr><th>id</th><th>smarts</th><th>enzymes</th><th>reverse</th><th>db_ids</th></tr><tr><td>i32</td><td>str</td><td>list[str]</td><td>i32</td><td>list[str]</td></tr></thead><tbody><tr><td>2035</td><td>&quot;*C1CCC2C3CCC4C(C)(CCC(O)C4(C)C…</td><td>[&quot;Q70VZ7&quot;, &quot;Q96PD6&quot;, … &quot;Q80W94&quot;]</td><td>2039</td><td>[&quot;RHEA:60089&quot;]</td></tr><tr><td>2036</td><td>&quot;*C1CCC2C3CCC4C(C)(CO)C(O)CCC4(…</td><td>[&quot;P52704&quot;]</td><td>2031</td><td>[&quot;RHEA:60057&quot;]</td></tr><tr><td>2037</td><td>&quot;*C1CCC2C3CCC4C(C)(CO)C(O)CCC4(…</td><td>[&quot;P52704&quot;]</td><td>2029</td><td>[&quot;RHEA:60054&quot;]</td></tr><tr><td>2038</td><td>&quot;*C1CCC2C3CCC4C(C)C(=O)CCC4(C)C…</td><td>[&quot;Q8BMJ2&quot;, &quot;Q9P2J5&quot;, &quot;Q5R614&quot;]</td><td>2034</td><td>[&quot;RHEA:60086&quot;]</td></tr><tr><td>2039</td><td>&quot;*C1CCC2C3CCC4C(C)C(=O)CCC4(C)C…</td><td>[&quot;Q70VZ7&quot;, &quot;Q96PD6&quot;, … &quot;Q80W94&quot;]</td><td>2035</td><td>[&quot;RHEA:60090&quot;]</td></tr></tbody></table></div>"
      ],
      "text/plain": [
       "shape: (5, 5)\n",
       "┌──────┬─────────────────────────────────┬────────────────────────┬─────────┬────────────────┐\n",
       "│ id   ┆ smarts                          ┆ enzymes                ┆ reverse ┆ db_ids         │\n",
       "│ ---  ┆ ---                             ┆ ---                    ┆ ---     ┆ ---            │\n",
       "│ i32  ┆ str                             ┆ list[str]              ┆ i32     ┆ list[str]      │\n",
       "╞══════╪═════════════════════════════════╪════════════════════════╪═════════╪════════════════╡\n",
       "│ 2035 ┆ *C1CCC2C3CCC4C(C)(CCC(O)C4(C)C… ┆ [\"Q70VZ7\", \"Q96PD6\", … ┆ 2039    ┆ [\"RHEA:60089\"] │\n",
       "│      ┆                                 ┆ \"Q80W94…               ┆         ┆                │\n",
       "│ 2036 ┆ *C1CCC2C3CCC4C(C)(CO)C(O)CCC4(… ┆ [\"P52704\"]             ┆ 2031    ┆ [\"RHEA:60057\"] │\n",
       "│ 2037 ┆ *C1CCC2C3CCC4C(C)(CO)C(O)CCC4(… ┆ [\"P52704\"]             ┆ 2029    ┆ [\"RHEA:60054\"] │\n",
       "│ 2038 ┆ *C1CCC2C3CCC4C(C)C(=O)CCC4(C)C… ┆ [\"Q8BMJ2\", \"Q9P2J5\",   ┆ 2034    ┆ [\"RHEA:60086\"] │\n",
       "│      ┆                                 ┆ \"Q5R614\"]              ┆         ┆                │\n",
       "│ 2039 ┆ *C1CCC2C3CCC4C(C)C(=O)CCC4(C)C… ┆ [\"Q70VZ7\", \"Q96PD6\", … ┆ 2035    ┆ [\"RHEA:60090\"] │\n",
       "│      ┆                                 ┆ \"Q80W94…               ┆         ┆                │\n",
       "└──────┴─────────────────────────────────┴────────────────────────┴─────────┴────────────────┘"
      ]
     },
     "execution_count": 2,
     "metadata": {},
     "output_type": "execute_result"
    }
   ],
   "source": [
    "krs = pl.read_parquet(\"/home/stef/enz_rxn_data/data/processed/pathway/known_reactions.parquet\")\n",
    "krs[2000:2005]"
   ]
  },
  {
   "cell_type": "code",
   "execution_count": 3,
   "id": "bcf1493b",
   "metadata": {},
   "outputs": [],
   "source": [
    "with open(\"/home/stef/enz_rxn_data/data/raw/pathway/sprhea_240310_v3_mapped_no_subunits.json\", \"r\") as f:\n",
    "    old = json.load(f)"
   ]
  },
  {
   "cell_type": "code",
   "execution_count": 4,
   "id": "4aa0bd65",
   "metadata": {},
   "outputs": [],
   "source": [
    "old_rxns_w_enz = [v for v in old.values() if len(v['enzymes']) > 0]"
   ]
  },
  {
   "cell_type": "code",
   "execution_count": 5,
   "id": "b92bf314",
   "metadata": {},
   "outputs": [],
   "source": [
    "new_rxns_w_enz = krs.filter(pl.col(\"enzymes\").list.len() > 0)"
   ]
  },
  {
   "cell_type": "code",
   "execution_count": 6,
   "id": "74fda260",
   "metadata": {},
   "outputs": [
    {
     "name": "stderr",
     "output_type": "stream",
     "text": [
      "100%|██████████| 18954/18954 [00:00<00:00, 48330.41it/s]\n"
     ]
    }
   ],
   "source": [
    "old_enz = set()\n",
    "old_pairs = set()\n",
    "old_proper_enz = set()\n",
    "old_proper_pairs = set()\n",
    "for k, rxn in tqdm(old.items()):\n",
    "    for enz in rxn['enzymes']:\n",
    "        old_enz.add(enz['uniprot_id'])\n",
    "        old_pairs.add((k, enz['uniprot_id']))\n",
    "\n",
    "        if enz['existence'] in [\"Evidence at protein level\", \"Evidence at transcript level\"]:\n",
    "            old_proper_enz.add(enz['uniprot_id'])\n",
    "            old_proper_pairs.add((k, enz['uniprot_id']))"
   ]
  },
  {
   "cell_type": "code",
   "execution_count": 7,
   "id": "d9d983de",
   "metadata": {},
   "outputs": [
    {
     "data": {
      "text/html": [
       "<div><style>\n",
       ".dataframe > thead > tr,\n",
       ".dataframe > tbody > tr {\n",
       "  text-align: right;\n",
       "  white-space: pre-wrap;\n",
       "}\n",
       "</style>\n",
       "<small>shape: (5, 7)</small><table border=\"1\" class=\"dataframe\"><thead><tr><th>id</th><th>sequence</th><th>existence</th><th>reviewed</th><th>ec</th><th>organism</th><th>name</th></tr><tr><td>str</td><td>str</td><td>enum</td><td>enum</td><td>str</td><td>str</td><td>str</td></tr></thead><tbody><tr><td>&quot;A0A009IHW8&quot;</td><td>&quot;MSLEQKKGADIISKILQIQNSIGKTTSPST…</td><td>&quot;Evidence at protein level&quot;</td><td>&quot;reviewed&quot;</td><td>&quot;3.2.2.-; 3.2.2.6&quot;</td><td>&quot;Acinetobacter baumannii (strai…</td><td>&quot;2&#x27; cyclic ADP-D-ribose synthas…</td></tr><tr><td>&quot;A0A059TC02&quot;</td><td>&quot;MRSVSGQVVCVTGAGGFIASWLVKILLEKG…</td><td>&quot;Evidence at protein level&quot;</td><td>&quot;reviewed&quot;</td><td>&quot;1.2.1.44&quot;</td><td>&quot;Petunia hybrida (Petunia)&quot;</td><td>&quot;Cinnamoyl-CoA reductase 1 (Ph-…</td></tr><tr><td>&quot;A0A061I403&quot;</td><td>&quot;MPMASVIAVAEPKWISVWGRFLWLTLLSMA…</td><td>&quot;Evidence at protein level&quot;</td><td>&quot;reviewed&quot;</td><td>&quot;2.7.7.108; 3.1.4.-&quot;</td><td>&quot;Cricetulus griseus (Chinese ha…</td><td>&quot;Protein adenylyltransferase FI…</td></tr><tr><td>&quot;A0A067XGX8&quot;</td><td>&quot;MALTATATTRGGSALPNSCLQTPKFQSLQK…</td><td>&quot;Evidence at transcript level&quot;</td><td>&quot;reviewed&quot;</td><td>&quot;2.5.1.54&quot;</td><td>&quot;Petunia hybrida (Petunia)&quot;</td><td>&quot;Phospho-2-dehydro-3-deoxyhepto…</td></tr><tr><td>&quot;A0A067XH53&quot;</td><td>&quot;MALSTNSTTSSLLPKTPLVQQPLLKNASLP…</td><td>&quot;Evidence at transcript level&quot;</td><td>&quot;reviewed&quot;</td><td>&quot;2.5.1.54&quot;</td><td>&quot;Petunia hybrida (Petunia)&quot;</td><td>&quot;Phospho-2-dehydro-3-deoxyhepto…</td></tr></tbody></table></div>"
      ],
      "text/plain": [
       "shape: (5, 7)\n",
       "┌────────────┬──────────────┬──────────────┬──────────┬──────────────┬──────────────┬──────────────┐\n",
       "│ id         ┆ sequence     ┆ existence    ┆ reviewed ┆ ec           ┆ organism     ┆ name         │\n",
       "│ ---        ┆ ---          ┆ ---          ┆ ---      ┆ ---          ┆ ---          ┆ ---          │\n",
       "│ str        ┆ str          ┆ enum         ┆ enum     ┆ str          ┆ str          ┆ str          │\n",
       "╞════════════╪══════════════╪══════════════╪══════════╪══════════════╪══════════════╪══════════════╡\n",
       "│ A0A009IHW8 ┆ MSLEQKKGADII ┆ Evidence at  ┆ reviewed ┆ 3.2.2.-;     ┆ Acinetobacte ┆ 2' cyclic    │\n",
       "│            ┆ SKILQIQNSIGK ┆ protein      ┆          ┆ 3.2.2.6      ┆ r baumannii  ┆ ADP-D-ribose │\n",
       "│            ┆ TTSPST…      ┆ level        ┆          ┆              ┆ (strai…      ┆ synthas…     │\n",
       "│ A0A059TC02 ┆ MRSVSGQVVCVT ┆ Evidence at  ┆ reviewed ┆ 1.2.1.44     ┆ Petunia      ┆ Cinnamoyl-Co │\n",
       "│            ┆ GAGGFIASWLVK ┆ protein      ┆          ┆              ┆ hybrida      ┆ A reductase  │\n",
       "│            ┆ ILLEKG…      ┆ level        ┆          ┆              ┆ (Petunia)    ┆ 1 (Ph-…      │\n",
       "│ A0A061I403 ┆ MPMASVIAVAEP ┆ Evidence at  ┆ reviewed ┆ 2.7.7.108;   ┆ Cricetulus   ┆ Protein aden │\n",
       "│            ┆ KWISVWGRFLWL ┆ protein      ┆          ┆ 3.1.4.-      ┆ griseus      ┆ ylyltransfer │\n",
       "│            ┆ TLLSMA…      ┆ level        ┆          ┆              ┆ (Chinese ha… ┆ ase FI…      │\n",
       "│ A0A067XGX8 ┆ MALTATATTRGG ┆ Evidence at  ┆ reviewed ┆ 2.5.1.54     ┆ Petunia      ┆ Phospho-2-de │\n",
       "│            ┆ SALPNSCLQTPK ┆ transcript   ┆          ┆              ┆ hybrida      ┆ hydro-3-deox │\n",
       "│            ┆ FQSLQK…      ┆ level        ┆          ┆              ┆ (Petunia)    ┆ yhepto…      │\n",
       "│ A0A067XH53 ┆ MALSTNSTTSSL ┆ Evidence at  ┆ reviewed ┆ 2.5.1.54     ┆ Petunia      ┆ Phospho-2-de │\n",
       "│            ┆ LPKTPLVQQPLL ┆ transcript   ┆          ┆              ┆ hybrida      ┆ hydro-3-deox │\n",
       "│            ┆ KNASLP…      ┆ level        ┆          ┆              ┆ (Petunia)    ┆ yhepto…      │\n",
       "└────────────┴──────────────┴──────────────┴──────────┴──────────────┴──────────────┴──────────────┘"
      ]
     },
     "execution_count": 7,
     "metadata": {},
     "output_type": "execute_result"
    }
   ],
   "source": [
    "kes = pl.read_parquet(\"/home/stef/enz_rxn_data/data/processed/pathway/known_enzymes.parquet\")\n",
    "kes.head()"
   ]
  },
  {
   "cell_type": "code",
   "execution_count": 8,
   "id": "7e083e0a",
   "metadata": {},
   "outputs": [
    {
     "data": {
      "text/html": [
       "<div><style>\n",
       ".dataframe > thead > tr,\n",
       ".dataframe > tbody > tr {\n",
       "  text-align: right;\n",
       "  white-space: pre-wrap;\n",
       "}\n",
       "</style>\n",
       "<small>shape: (42_511, 7)</small><table border=\"1\" class=\"dataframe\"><thead><tr><th>id</th><th>sequence</th><th>existence</th><th>reviewed</th><th>ec</th><th>organism</th><th>name</th></tr><tr><td>str</td><td>str</td><td>enum</td><td>enum</td><td>str</td><td>str</td><td>str</td></tr></thead><tbody><tr><td>&quot;A0A009IHW8&quot;</td><td>&quot;MSLEQKKGADIISKILQIQNSIGKTTSPST…</td><td>&quot;Evidence at protein level&quot;</td><td>&quot;reviewed&quot;</td><td>&quot;3.2.2.-; 3.2.2.6&quot;</td><td>&quot;Acinetobacter baumannii (strai…</td><td>&quot;2&#x27; cyclic ADP-D-ribose synthas…</td></tr><tr><td>&quot;A0A059TC02&quot;</td><td>&quot;MRSVSGQVVCVTGAGGFIASWLVKILLEKG…</td><td>&quot;Evidence at protein level&quot;</td><td>&quot;reviewed&quot;</td><td>&quot;1.2.1.44&quot;</td><td>&quot;Petunia hybrida (Petunia)&quot;</td><td>&quot;Cinnamoyl-CoA reductase 1 (Ph-…</td></tr><tr><td>&quot;A0A061I403&quot;</td><td>&quot;MPMASVIAVAEPKWISVWGRFLWLTLLSMA…</td><td>&quot;Evidence at protein level&quot;</td><td>&quot;reviewed&quot;</td><td>&quot;2.7.7.108; 3.1.4.-&quot;</td><td>&quot;Cricetulus griseus (Chinese ha…</td><td>&quot;Protein adenylyltransferase FI…</td></tr><tr><td>&quot;A0A067XGX8&quot;</td><td>&quot;MALTATATTRGGSALPNSCLQTPKFQSLQK…</td><td>&quot;Evidence at transcript level&quot;</td><td>&quot;reviewed&quot;</td><td>&quot;2.5.1.54&quot;</td><td>&quot;Petunia hybrida (Petunia)&quot;</td><td>&quot;Phospho-2-dehydro-3-deoxyhepto…</td></tr><tr><td>&quot;A0A067XH53&quot;</td><td>&quot;MALSTNSTTSSLLPKTPLVQQPLLKNASLP…</td><td>&quot;Evidence at transcript level&quot;</td><td>&quot;reviewed&quot;</td><td>&quot;2.5.1.54&quot;</td><td>&quot;Petunia hybrida (Petunia)&quot;</td><td>&quot;Phospho-2-dehydro-3-deoxyhepto…</td></tr><tr><td>&hellip;</td><td>&hellip;</td><td>&hellip;</td><td>&hellip;</td><td>&hellip;</td><td>&hellip;</td><td>&hellip;</td></tr><tr><td>&quot;P80580&quot;</td><td>&quot;MKLYSFFNXRA&quot;</td><td>&quot;Evidence at protein level&quot;</td><td>&quot;reviewed&quot;</td><td>&quot;5.2.1.4&quot;</td><td>&quot;Klebsiella pneumoniae&quot;</td><td>&quot;Maleylpyruvate isomerase (EC 5…</td></tr><tr><td>&quot;P83329&quot;</td><td>&quot;XXFENFLNANXAYVNLD&quot;</td><td>&quot;Evidence at protein level&quot;</td><td>&quot;reviewed&quot;</td><td>&quot;4.2.1.1&quot;</td><td>&quot;Streptococcus thermophilus&quot;</td><td>&quot;Putative carbonic anhydrase (E…</td></tr><tr><td>&quot;P83855&quot;</td><td>&quot;GVYMEIGRCRXEAXRRRKEAV&quot;</td><td>&quot;Evidence at protein level&quot;</td><td>&quot;reviewed&quot;</td><td>&quot;4.6.1.1&quot;</td><td>&quot;Mus musculus (Mouse)&quot;</td><td>&quot;Putative sperm adenylate cycla…</td></tr><tr><td>&quot;P85957&quot;</td><td>&quot;AMAGTATVQGQGTR&quot;</td><td>&quot;Evidence at protein level&quot;</td><td>&quot;reviewed&quot;</td><td>&quot;1.11.1.7&quot;</td><td>&quot;Pseudotsuga menziesii (Douglas…</td><td>&quot;Peroxidase (EC 1.11.1.7)&quot;</td></tr><tr><td>&quot;Q05115&quot;</td><td>&quot;MQQASTPTIGMIVPPAAGLVPADGARLYPD…</td><td>&quot;Evidence at protein level&quot;</td><td>&quot;reviewed&quot;</td><td>&quot;4.1.1.76&quot;</td><td>&quot;Bordetella bronchiseptica (Alc…</td><td>&quot;Arylmalonate decarboxylase (AM…</td></tr></tbody></table></div>"
      ],
      "text/plain": [
       "shape: (42_511, 7)\n",
       "┌────────────┬──────────────┬──────────────┬──────────┬──────────────┬──────────────┬──────────────┐\n",
       "│ id         ┆ sequence     ┆ existence    ┆ reviewed ┆ ec           ┆ organism     ┆ name         │\n",
       "│ ---        ┆ ---          ┆ ---          ┆ ---      ┆ ---          ┆ ---          ┆ ---          │\n",
       "│ str        ┆ str          ┆ enum         ┆ enum     ┆ str          ┆ str          ┆ str          │\n",
       "╞════════════╪══════════════╪══════════════╪══════════╪══════════════╪══════════════╪══════════════╡\n",
       "│ A0A009IHW8 ┆ MSLEQKKGADII ┆ Evidence at  ┆ reviewed ┆ 3.2.2.-;     ┆ Acinetobacte ┆ 2' cyclic    │\n",
       "│            ┆ SKILQIQNSIGK ┆ protein      ┆          ┆ 3.2.2.6      ┆ r baumannii  ┆ ADP-D-ribose │\n",
       "│            ┆ TTSPST…      ┆ level        ┆          ┆              ┆ (strai…      ┆ synthas…     │\n",
       "│ A0A059TC02 ┆ MRSVSGQVVCVT ┆ Evidence at  ┆ reviewed ┆ 1.2.1.44     ┆ Petunia      ┆ Cinnamoyl-Co │\n",
       "│            ┆ GAGGFIASWLVK ┆ protein      ┆          ┆              ┆ hybrida      ┆ A reductase  │\n",
       "│            ┆ ILLEKG…      ┆ level        ┆          ┆              ┆ (Petunia)    ┆ 1 (Ph-…      │\n",
       "│ A0A061I403 ┆ MPMASVIAVAEP ┆ Evidence at  ┆ reviewed ┆ 2.7.7.108;   ┆ Cricetulus   ┆ Protein aden │\n",
       "│            ┆ KWISVWGRFLWL ┆ protein      ┆          ┆ 3.1.4.-      ┆ griseus      ┆ ylyltransfer │\n",
       "│            ┆ TLLSMA…      ┆ level        ┆          ┆              ┆ (Chinese ha… ┆ ase FI…      │\n",
       "│ A0A067XGX8 ┆ MALTATATTRGG ┆ Evidence at  ┆ reviewed ┆ 2.5.1.54     ┆ Petunia      ┆ Phospho-2-de │\n",
       "│            ┆ SALPNSCLQTPK ┆ transcript   ┆          ┆              ┆ hybrida      ┆ hydro-3-deox │\n",
       "│            ┆ FQSLQK…      ┆ level        ┆          ┆              ┆ (Petunia)    ┆ yhepto…      │\n",
       "│ A0A067XH53 ┆ MALSTNSTTSSL ┆ Evidence at  ┆ reviewed ┆ 2.5.1.54     ┆ Petunia      ┆ Phospho-2-de │\n",
       "│            ┆ LPKTPLVQQPLL ┆ transcript   ┆          ┆              ┆ hybrida      ┆ hydro-3-deox │\n",
       "│            ┆ KNASLP…      ┆ level        ┆          ┆              ┆ (Petunia)    ┆ yhepto…      │\n",
       "│ …          ┆ …            ┆ …            ┆ …        ┆ …            ┆ …            ┆ …            │\n",
       "│ P80580     ┆ MKLYSFFNXRA  ┆ Evidence at  ┆ reviewed ┆ 5.2.1.4      ┆ Klebsiella   ┆ Maleylpyruva │\n",
       "│            ┆              ┆ protein      ┆          ┆              ┆ pneumoniae   ┆ te isomerase │\n",
       "│            ┆              ┆ level        ┆          ┆              ┆              ┆ (EC 5…       │\n",
       "│ P83329     ┆ XXFENFLNANXA ┆ Evidence at  ┆ reviewed ┆ 4.2.1.1      ┆ Streptococcu ┆ Putative     │\n",
       "│            ┆ YVNLD        ┆ protein      ┆          ┆              ┆ s            ┆ carbonic     │\n",
       "│            ┆              ┆ level        ┆          ┆              ┆ thermophilus ┆ anhydrase    │\n",
       "│            ┆              ┆              ┆          ┆              ┆              ┆ (E…          │\n",
       "│ P83855     ┆ GVYMEIGRCRXE ┆ Evidence at  ┆ reviewed ┆ 4.6.1.1      ┆ Mus musculus ┆ Putative     │\n",
       "│            ┆ AXRRRKEAV    ┆ protein      ┆          ┆              ┆ (Mouse)      ┆ sperm        │\n",
       "│            ┆              ┆ level        ┆          ┆              ┆              ┆ adenylate    │\n",
       "│            ┆              ┆              ┆          ┆              ┆              ┆ cycla…       │\n",
       "│ P85957     ┆ AMAGTATVQGQG ┆ Evidence at  ┆ reviewed ┆ 1.11.1.7     ┆ Pseudotsuga  ┆ Peroxidase   │\n",
       "│            ┆ TR           ┆ protein      ┆          ┆              ┆ menziesii    ┆ (EC          │\n",
       "│            ┆              ┆ level        ┆          ┆              ┆ (Douglas…    ┆ 1.11.1.7)    │\n",
       "│ Q05115     ┆ MQQASTPTIGMI ┆ Evidence at  ┆ reviewed ┆ 4.1.1.76     ┆ Bordetella   ┆ Arylmalonate │\n",
       "│            ┆ VPPAAGLVPADG ┆ protein      ┆          ┆              ┆ bronchisepti ┆ decarboxylas │\n",
       "│            ┆ ARLYPD…      ┆ level        ┆          ┆              ┆ ca (Alc…     ┆ e (AM…       │\n",
       "└────────────┴──────────────┴──────────────┴──────────┴──────────────┴──────────────┴──────────────┘"
      ]
     },
     "execution_count": 8,
     "metadata": {},
     "output_type": "execute_result"
    }
   ],
   "source": [
    "kes.filter(pl.col(\"existence\").is_in([\"Evidence at protein level\", \"Evidence at transcript level\"]))"
   ]
  },
  {
   "cell_type": "code",
   "execution_count": 9,
   "id": "5b4e0cb4",
   "metadata": {},
   "outputs": [
    {
     "name": "stderr",
     "output_type": "stream",
     "text": [
      "100%|██████████| 28142/28142 [00:00<00:00, 51224.30it/s]\n"
     ]
    },
    {
     "data": {
      "text/plain": [
       "(518578, 164968)"
      ]
     },
     "execution_count": 9,
     "metadata": {},
     "output_type": "execute_result"
    }
   ],
   "source": [
    "enzymes = set()\n",
    "pairs = set()\n",
    "proper_pairs = set()\n",
    "proper_enzymes = set()\n",
    "evidence_dict = dict(zip(kes[\"id\"], kes[\"existence\"]))\n",
    "for row in tqdm(krs.iter_rows(named=True), total=len(krs)):\n",
    "    rxn = row['smarts']\n",
    "    for enz in row['enzymes']:\n",
    "        enzymes.add(enz)\n",
    "        evidence = evidence_dict.get(enz, \"Unknown\")\n",
    "        \n",
    "        if evidence in [\"Evidence at protein level\", \"Evidence at transcript level\"]:\n",
    "            proper_pairs.add((rxn, enz))\n",
    "            proper_enzymes.add(enz)\n",
    "        \n",
    "        pairs.add((rxn, enz))\n",
    "\n",
    "len(pairs), len(proper_pairs)"
   ]
  },
  {
   "cell_type": "code",
   "execution_count": 10,
   "id": "b1e7191e",
   "metadata": {},
   "outputs": [
    {
     "name": "stdout",
     "output_type": "stream",
     "text": [
      "total reacitions\n",
      "old: 18954 vs new: 28142\n",
      "\n",
      "reactions with enzymes\n",
      "old: 18954 vs new: 21034\n"
     ]
    }
   ],
   "source": [
    "print(\"total reacitions\")\n",
    "print(f\"old: {len(old_rxns_w_enz)} vs new: {krs.shape[0]}\")\n",
    "print(\"\\nreactions with enzymes\")\n",
    "print(f\"old: {len(old_rxns_w_enz)} vs new: {new_rxns_w_enz.shape[0]}\")"
   ]
  },
  {
   "cell_type": "code",
   "execution_count": 11,
   "id": "698234c6",
   "metadata": {},
   "outputs": [
    {
     "name": "stdout",
     "output_type": "stream",
     "text": [
      "number of enzymes\n",
      "old: 180013 vs new: 188937\n",
      "\n",
      "number of proper enzymes\n",
      "old: 36531 vs new: 41238\n",
      "\n",
      "number of pairs\n",
      "old: 485570 vs new: 518578\n",
      "\n",
      "number of proper pairs\n",
      "old: 140234 vs new: 164968\n"
     ]
    }
   ],
   "source": [
    "print(\"number of enzymes\")\n",
    "print(f\"old: {len(old_enz)} vs new: {len(enzymes)}\")\n",
    "print(\"\\nnumber of proper enzymes\")\n",
    "print(f\"old: {len(old_proper_enz)} vs new: {len(proper_enzymes)}\")\n",
    "print(\"\\nnumber of pairs\")\n",
    "print(f\"old: {len(old_pairs)} vs new: {len(pairs)}\")\n",
    "print(\"\\nnumber of proper pairs\")\n",
    "print(f\"old: {len(old_proper_pairs)} vs new: {len(proper_pairs)}\")"
   ]
  },
  {
   "cell_type": "code",
   "execution_count": 12,
   "id": "ef88f910",
   "metadata": {},
   "outputs": [
    {
     "data": {
      "text/html": [
       "<div><style>\n",
       ".dataframe > thead > tr,\n",
       ".dataframe > tbody > tr {\n",
       "  text-align: right;\n",
       "  white-space: pre-wrap;\n",
       "}\n",
       "</style>\n",
       "<small>shape: (5, 5)</small><table border=\"1\" class=\"dataframe\"><thead><tr><th>id</th><th>smiles</th><th>name</th><th>chebi_id</th><th>n_atoms</th></tr><tr><td>i32</td><td>str</td><td>str</td><td>str</td><td>i32</td></tr></thead><tbody><tr><td>10589</td><td>&quot;c1ccncc1&quot;</td><td>&quot; pyridine&quot;</td><td>&quot;CHEBI:16227&quot;</td><td>6</td></tr><tr><td>10590</td><td>&quot;c1cn[nH]c1&quot;</td><td>&quot; pyrazole&quot;</td><td>&quot;CHEBI:17241&quot;</td><td>5</td></tr><tr><td>10591</td><td>&quot;c1cncc(C2CCCN2)c1&quot;</td><td>&quot; (S)-nornicotine&quot;</td><td>&quot;CHEBI:190184&quot;</td><td>11</td></tr><tr><td>10592</td><td>&quot;c1ncc2c(n1)=NCCN=2&quot;</td><td>&quot; 6,7-dihydropteridine&quot;</td><td>&quot;CHEBI:30156&quot;</td><td>10</td></tr><tr><td>10593</td><td>&quot;c1ncc2c(n1)NCCN2&quot;</td><td>&quot; 5,6,7,8-tetrahydropteridine&quot;</td><td>&quot;CHEBI:28889&quot;</td><td>10</td></tr></tbody></table></div>"
      ],
      "text/plain": [
       "shape: (5, 5)\n",
       "┌───────┬────────────────────┬──────────────────────────────┬──────────────┬─────────┐\n",
       "│ id    ┆ smiles             ┆ name                         ┆ chebi_id     ┆ n_atoms │\n",
       "│ ---   ┆ ---                ┆ ---                          ┆ ---          ┆ ---     │\n",
       "│ i32   ┆ str                ┆ str                          ┆ str          ┆ i32     │\n",
       "╞═══════╪════════════════════╪══════════════════════════════╪══════════════╪═════════╡\n",
       "│ 10589 ┆ c1ccncc1           ┆  pyridine                    ┆ CHEBI:16227  ┆ 6       │\n",
       "│ 10590 ┆ c1cn[nH]c1         ┆  pyrazole                    ┆ CHEBI:17241  ┆ 5       │\n",
       "│ 10591 ┆ c1cncc(C2CCCN2)c1  ┆  (S)-nornicotine             ┆ CHEBI:190184 ┆ 11      │\n",
       "│ 10592 ┆ c1ncc2c(n1)=NCCN=2 ┆  6,7-dihydropteridine        ┆ CHEBI:30156  ┆ 10      │\n",
       "│ 10593 ┆ c1ncc2c(n1)NCCN2   ┆  5,6,7,8-tetrahydropteridine ┆ CHEBI:28889  ┆ 10      │\n",
       "└───────┴────────────────────┴──────────────────────────────┴──────────────┴─────────┘"
      ]
     },
     "execution_count": 12,
     "metadata": {},
     "output_type": "execute_result"
    }
   ],
   "source": [
    "kcs = pl.read_parquet(\"/home/stef/enz_rxn_data/data/processed/pathway/known_compounds.parquet\")\n",
    "kcs.tail()"
   ]
  },
  {
   "cell_type": "code",
   "execution_count": 13,
   "id": "2c39c255",
   "metadata": {},
   "outputs": [
    {
     "data": {
      "text/plain": [
       "10594"
      ]
     },
     "execution_count": 13,
     "metadata": {},
     "output_type": "execute_result"
    }
   ],
   "source": [
    "len(kcs)"
   ]
  }
 ],
 "metadata": {
  "kernelspec": {
   "display_name": "enz_rxn_data",
   "language": "python",
   "name": "python3"
  },
  "language_info": {
   "codemirror_mode": {
    "name": "ipython",
    "version": 3
   },
   "file_extension": ".py",
   "mimetype": "text/x-python",
   "name": "python",
   "nbconvert_exporter": "python",
   "pygments_lexer": "ipython3",
   "version": "3.13.0"
  }
 },
 "nbformat": 4,
 "nbformat_minor": 5
}
