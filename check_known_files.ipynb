{
 "cells": [
  {
   "cell_type": "code",
   "execution_count": 32,
   "id": "7bb65f35",
   "metadata": {},
   "outputs": [],
   "source": [
    "from tqdm import tqdm\n",
    "import polars as pl\n",
    "import json"
   ]
  },
  {
   "cell_type": "code",
   "execution_count": 33,
   "id": "b2638f92",
   "metadata": {},
   "outputs": [],
   "source": [
    "krs = pl.read_parquet(\"/home/stef/enz_rxn_data/data/processed/pathway/known_reactions.parquet\")"
   ]
  },
  {
   "cell_type": "code",
   "execution_count": 34,
   "id": "bcf1493b",
   "metadata": {},
   "outputs": [],
   "source": [
    "with open(\"/home/stef/enz_rxn_data/data/raw/pathway/sprhea_240310_v3_mapped_no_subunits.json\", \"r\") as f:\n",
    "    old = json.load(f)"
   ]
  },
  {
   "cell_type": "code",
   "execution_count": 35,
   "id": "4aa0bd65",
   "metadata": {},
   "outputs": [],
   "source": [
    "old_rxns_w_enz = [v for v in old.values() if len(v['enzymes']) > 0]"
   ]
  },
  {
   "cell_type": "code",
   "execution_count": 36,
   "id": "b92bf314",
   "metadata": {},
   "outputs": [],
   "source": [
    "new_rxns_w_enz = krs.filter(pl.col(\"enzymes\").list.len() > 0)"
   ]
  },
  {
   "cell_type": "code",
   "execution_count": 37,
   "id": "74fda260",
   "metadata": {},
   "outputs": [
    {
     "name": "stderr",
     "output_type": "stream",
     "text": [
      "100%|██████████| 18954/18954 [00:01<00:00, 15718.02it/s]\n"
     ]
    }
   ],
   "source": [
    "old_enz = set()\n",
    "old_pairs = set()\n",
    "old_proper_enz = set()\n",
    "old_proper_pairs = set()\n",
    "for k, rxn in tqdm(old.items()):\n",
    "    for enz in rxn['enzymes']:\n",
    "        old_enz.add(enz['uniprot_id'])\n",
    "        old_pairs.add((k, enz['uniprot_id']))\n",
    "\n",
    "        if enz['existence'] in [\"Evidence at protein level\", \"Evidence at transcript level\"]:\n",
    "            old_proper_enz.add(enz['uniprot_id'])\n",
    "            old_proper_pairs.add((k, enz['uniprot_id']))"
   ]
  },
  {
   "cell_type": "code",
   "execution_count": 38,
   "id": "d9d983de",
   "metadata": {},
   "outputs": [
    {
     "data": {
      "text/html": [
       "<div><style>\n",
       ".dataframe > thead > tr,\n",
       ".dataframe > tbody > tr {\n",
       "  text-align: right;\n",
       "  white-space: pre-wrap;\n",
       "}\n",
       "</style>\n",
       "<small>shape: (5, 7)</small><table border=\"1\" class=\"dataframe\"><thead><tr><th>id</th><th>sequence</th><th>existence</th><th>reviewed</th><th>ec</th><th>organism</th><th>name</th></tr><tr><td>str</td><td>str</td><td>enum</td><td>enum</td><td>str</td><td>str</td><td>str</td></tr></thead><tbody><tr><td>&quot;A0A009IHW8&quot;</td><td>&quot;MSLEQKKGADIISKILQIQNSIGKTTSPST…</td><td>&quot;Evidence at protein level&quot;</td><td>&quot;reviewed&quot;</td><td>&quot;3.2.2.-; 3.2.2.6&quot;</td><td>&quot;Acinetobacter baumannii (strai…</td><td>&quot;2&#x27; cyclic ADP-D-ribose synthas…</td></tr><tr><td>&quot;A0A059TC02&quot;</td><td>&quot;MRSVSGQVVCVTGAGGFIASWLVKILLEKG…</td><td>&quot;Evidence at protein level&quot;</td><td>&quot;reviewed&quot;</td><td>&quot;1.2.1.44&quot;</td><td>&quot;Petunia hybrida (Petunia)&quot;</td><td>&quot;Cinnamoyl-CoA reductase 1 (Ph-…</td></tr><tr><td>&quot;A0A061I403&quot;</td><td>&quot;MPMASVIAVAEPKWISVWGRFLWLTLLSMA…</td><td>&quot;Evidence at protein level&quot;</td><td>&quot;reviewed&quot;</td><td>&quot;2.7.7.108; 3.1.4.-&quot;</td><td>&quot;Cricetulus griseus (Chinese ha…</td><td>&quot;Protein adenylyltransferase FI…</td></tr><tr><td>&quot;A0A067XGX8&quot;</td><td>&quot;MALTATATTRGGSALPNSCLQTPKFQSLQK…</td><td>&quot;Evidence at transcript level&quot;</td><td>&quot;reviewed&quot;</td><td>&quot;2.5.1.54&quot;</td><td>&quot;Petunia hybrida (Petunia)&quot;</td><td>&quot;Phospho-2-dehydro-3-deoxyhepto…</td></tr><tr><td>&quot;A0A067XH53&quot;</td><td>&quot;MALSTNSTTSSLLPKTPLVQQPLLKNASLP…</td><td>&quot;Evidence at transcript level&quot;</td><td>&quot;reviewed&quot;</td><td>&quot;2.5.1.54&quot;</td><td>&quot;Petunia hybrida (Petunia)&quot;</td><td>&quot;Phospho-2-dehydro-3-deoxyhepto…</td></tr></tbody></table></div>"
      ],
      "text/plain": [
       "shape: (5, 7)\n",
       "┌────────────┬──────────────┬──────────────┬──────────┬──────────────┬──────────────┬──────────────┐\n",
       "│ id         ┆ sequence     ┆ existence    ┆ reviewed ┆ ec           ┆ organism     ┆ name         │\n",
       "│ ---        ┆ ---          ┆ ---          ┆ ---      ┆ ---          ┆ ---          ┆ ---          │\n",
       "│ str        ┆ str          ┆ enum         ┆ enum     ┆ str          ┆ str          ┆ str          │\n",
       "╞════════════╪══════════════╪══════════════╪══════════╪══════════════╪══════════════╪══════════════╡\n",
       "│ A0A009IHW8 ┆ MSLEQKKGADII ┆ Evidence at  ┆ reviewed ┆ 3.2.2.-;     ┆ Acinetobacte ┆ 2' cyclic    │\n",
       "│            ┆ SKILQIQNSIGK ┆ protein      ┆          ┆ 3.2.2.6      ┆ r baumannii  ┆ ADP-D-ribose │\n",
       "│            ┆ TTSPST…      ┆ level        ┆          ┆              ┆ (strai…      ┆ synthas…     │\n",
       "│ A0A059TC02 ┆ MRSVSGQVVCVT ┆ Evidence at  ┆ reviewed ┆ 1.2.1.44     ┆ Petunia      ┆ Cinnamoyl-Co │\n",
       "│            ┆ GAGGFIASWLVK ┆ protein      ┆          ┆              ┆ hybrida      ┆ A reductase  │\n",
       "│            ┆ ILLEKG…      ┆ level        ┆          ┆              ┆ (Petunia)    ┆ 1 (Ph-…      │\n",
       "│ A0A061I403 ┆ MPMASVIAVAEP ┆ Evidence at  ┆ reviewed ┆ 2.7.7.108;   ┆ Cricetulus   ┆ Protein aden │\n",
       "│            ┆ KWISVWGRFLWL ┆ protein      ┆          ┆ 3.1.4.-      ┆ griseus      ┆ ylyltransfer │\n",
       "│            ┆ TLLSMA…      ┆ level        ┆          ┆              ┆ (Chinese ha… ┆ ase FI…      │\n",
       "│ A0A067XGX8 ┆ MALTATATTRGG ┆ Evidence at  ┆ reviewed ┆ 2.5.1.54     ┆ Petunia      ┆ Phospho-2-de │\n",
       "│            ┆ SALPNSCLQTPK ┆ transcript   ┆          ┆              ┆ hybrida      ┆ hydro-3-deox │\n",
       "│            ┆ FQSLQK…      ┆ level        ┆          ┆              ┆ (Petunia)    ┆ yhepto…      │\n",
       "│ A0A067XH53 ┆ MALSTNSTTSSL ┆ Evidence at  ┆ reviewed ┆ 2.5.1.54     ┆ Petunia      ┆ Phospho-2-de │\n",
       "│            ┆ LPKTPLVQQPLL ┆ transcript   ┆          ┆              ┆ hybrida      ┆ hydro-3-deox │\n",
       "│            ┆ KNASLP…      ┆ level        ┆          ┆              ┆ (Petunia)    ┆ yhepto…      │\n",
       "└────────────┴──────────────┴──────────────┴──────────┴──────────────┴──────────────┴──────────────┘"
      ]
     },
     "execution_count": 38,
     "metadata": {},
     "output_type": "execute_result"
    }
   ],
   "source": [
    "kes = pl.read_parquet(\"/home/stef/enz_rxn_data/data/processed/pathway/known_enzymes.parquet\")\n",
    "kes.head()"
   ]
  },
  {
   "cell_type": "code",
   "execution_count": 39,
   "id": "7e083e0a",
   "metadata": {},
   "outputs": [
    {
     "data": {
      "text/html": [
       "<div><style>\n",
       ".dataframe > thead > tr,\n",
       ".dataframe > tbody > tr {\n",
       "  text-align: right;\n",
       "  white-space: pre-wrap;\n",
       "}\n",
       "</style>\n",
       "<small>shape: (42_511, 7)</small><table border=\"1\" class=\"dataframe\"><thead><tr><th>id</th><th>sequence</th><th>existence</th><th>reviewed</th><th>ec</th><th>organism</th><th>name</th></tr><tr><td>str</td><td>str</td><td>enum</td><td>enum</td><td>str</td><td>str</td><td>str</td></tr></thead><tbody><tr><td>&quot;A0A009IHW8&quot;</td><td>&quot;MSLEQKKGADIISKILQIQNSIGKTTSPST…</td><td>&quot;Evidence at protein level&quot;</td><td>&quot;reviewed&quot;</td><td>&quot;3.2.2.-; 3.2.2.6&quot;</td><td>&quot;Acinetobacter baumannii (strai…</td><td>&quot;2&#x27; cyclic ADP-D-ribose synthas…</td></tr><tr><td>&quot;A0A059TC02&quot;</td><td>&quot;MRSVSGQVVCVTGAGGFIASWLVKILLEKG…</td><td>&quot;Evidence at protein level&quot;</td><td>&quot;reviewed&quot;</td><td>&quot;1.2.1.44&quot;</td><td>&quot;Petunia hybrida (Petunia)&quot;</td><td>&quot;Cinnamoyl-CoA reductase 1 (Ph-…</td></tr><tr><td>&quot;A0A061I403&quot;</td><td>&quot;MPMASVIAVAEPKWISVWGRFLWLTLLSMA…</td><td>&quot;Evidence at protein level&quot;</td><td>&quot;reviewed&quot;</td><td>&quot;2.7.7.108; 3.1.4.-&quot;</td><td>&quot;Cricetulus griseus (Chinese ha…</td><td>&quot;Protein adenylyltransferase FI…</td></tr><tr><td>&quot;A0A067XGX8&quot;</td><td>&quot;MALTATATTRGGSALPNSCLQTPKFQSLQK…</td><td>&quot;Evidence at transcript level&quot;</td><td>&quot;reviewed&quot;</td><td>&quot;2.5.1.54&quot;</td><td>&quot;Petunia hybrida (Petunia)&quot;</td><td>&quot;Phospho-2-dehydro-3-deoxyhepto…</td></tr><tr><td>&quot;A0A067XH53&quot;</td><td>&quot;MALSTNSTTSSLLPKTPLVQQPLLKNASLP…</td><td>&quot;Evidence at transcript level&quot;</td><td>&quot;reviewed&quot;</td><td>&quot;2.5.1.54&quot;</td><td>&quot;Petunia hybrida (Petunia)&quot;</td><td>&quot;Phospho-2-dehydro-3-deoxyhepto…</td></tr><tr><td>&hellip;</td><td>&hellip;</td><td>&hellip;</td><td>&hellip;</td><td>&hellip;</td><td>&hellip;</td><td>&hellip;</td></tr><tr><td>&quot;P80580&quot;</td><td>&quot;MKLYSFFNXRA&quot;</td><td>&quot;Evidence at protein level&quot;</td><td>&quot;reviewed&quot;</td><td>&quot;5.2.1.4&quot;</td><td>&quot;Klebsiella pneumoniae&quot;</td><td>&quot;Maleylpyruvate isomerase (EC 5…</td></tr><tr><td>&quot;P83329&quot;</td><td>&quot;XXFENFLNANXAYVNLD&quot;</td><td>&quot;Evidence at protein level&quot;</td><td>&quot;reviewed&quot;</td><td>&quot;4.2.1.1&quot;</td><td>&quot;Streptococcus thermophilus&quot;</td><td>&quot;Putative carbonic anhydrase (E…</td></tr><tr><td>&quot;P83855&quot;</td><td>&quot;GVYMEIGRCRXEAXRRRKEAV&quot;</td><td>&quot;Evidence at protein level&quot;</td><td>&quot;reviewed&quot;</td><td>&quot;4.6.1.1&quot;</td><td>&quot;Mus musculus (Mouse)&quot;</td><td>&quot;Putative sperm adenylate cycla…</td></tr><tr><td>&quot;P85957&quot;</td><td>&quot;AMAGTATVQGQGTR&quot;</td><td>&quot;Evidence at protein level&quot;</td><td>&quot;reviewed&quot;</td><td>&quot;1.11.1.7&quot;</td><td>&quot;Pseudotsuga menziesii (Douglas…</td><td>&quot;Peroxidase (EC 1.11.1.7)&quot;</td></tr><tr><td>&quot;Q05115&quot;</td><td>&quot;MQQASTPTIGMIVPPAAGLVPADGARLYPD…</td><td>&quot;Evidence at protein level&quot;</td><td>&quot;reviewed&quot;</td><td>&quot;4.1.1.76&quot;</td><td>&quot;Bordetella bronchiseptica (Alc…</td><td>&quot;Arylmalonate decarboxylase (AM…</td></tr></tbody></table></div>"
      ],
      "text/plain": [
       "shape: (42_511, 7)\n",
       "┌────────────┬──────────────┬──────────────┬──────────┬──────────────┬──────────────┬──────────────┐\n",
       "│ id         ┆ sequence     ┆ existence    ┆ reviewed ┆ ec           ┆ organism     ┆ name         │\n",
       "│ ---        ┆ ---          ┆ ---          ┆ ---      ┆ ---          ┆ ---          ┆ ---          │\n",
       "│ str        ┆ str          ┆ enum         ┆ enum     ┆ str          ┆ str          ┆ str          │\n",
       "╞════════════╪══════════════╪══════════════╪══════════╪══════════════╪══════════════╪══════════════╡\n",
       "│ A0A009IHW8 ┆ MSLEQKKGADII ┆ Evidence at  ┆ reviewed ┆ 3.2.2.-;     ┆ Acinetobacte ┆ 2' cyclic    │\n",
       "│            ┆ SKILQIQNSIGK ┆ protein      ┆          ┆ 3.2.2.6      ┆ r baumannii  ┆ ADP-D-ribose │\n",
       "│            ┆ TTSPST…      ┆ level        ┆          ┆              ┆ (strai…      ┆ synthas…     │\n",
       "│ A0A059TC02 ┆ MRSVSGQVVCVT ┆ Evidence at  ┆ reviewed ┆ 1.2.1.44     ┆ Petunia      ┆ Cinnamoyl-Co │\n",
       "│            ┆ GAGGFIASWLVK ┆ protein      ┆          ┆              ┆ hybrida      ┆ A reductase  │\n",
       "│            ┆ ILLEKG…      ┆ level        ┆          ┆              ┆ (Petunia)    ┆ 1 (Ph-…      │\n",
       "│ A0A061I403 ┆ MPMASVIAVAEP ┆ Evidence at  ┆ reviewed ┆ 2.7.7.108;   ┆ Cricetulus   ┆ Protein aden │\n",
       "│            ┆ KWISVWGRFLWL ┆ protein      ┆          ┆ 3.1.4.-      ┆ griseus      ┆ ylyltransfer │\n",
       "│            ┆ TLLSMA…      ┆ level        ┆          ┆              ┆ (Chinese ha… ┆ ase FI…      │\n",
       "│ A0A067XGX8 ┆ MALTATATTRGG ┆ Evidence at  ┆ reviewed ┆ 2.5.1.54     ┆ Petunia      ┆ Phospho-2-de │\n",
       "│            ┆ SALPNSCLQTPK ┆ transcript   ┆          ┆              ┆ hybrida      ┆ hydro-3-deox │\n",
       "│            ┆ FQSLQK…      ┆ level        ┆          ┆              ┆ (Petunia)    ┆ yhepto…      │\n",
       "│ A0A067XH53 ┆ MALSTNSTTSSL ┆ Evidence at  ┆ reviewed ┆ 2.5.1.54     ┆ Petunia      ┆ Phospho-2-de │\n",
       "│            ┆ LPKTPLVQQPLL ┆ transcript   ┆          ┆              ┆ hybrida      ┆ hydro-3-deox │\n",
       "│            ┆ KNASLP…      ┆ level        ┆          ┆              ┆ (Petunia)    ┆ yhepto…      │\n",
       "│ …          ┆ …            ┆ …            ┆ …        ┆ …            ┆ …            ┆ …            │\n",
       "│ P80580     ┆ MKLYSFFNXRA  ┆ Evidence at  ┆ reviewed ┆ 5.2.1.4      ┆ Klebsiella   ┆ Maleylpyruva │\n",
       "│            ┆              ┆ protein      ┆          ┆              ┆ pneumoniae   ┆ te isomerase │\n",
       "│            ┆              ┆ level        ┆          ┆              ┆              ┆ (EC 5…       │\n",
       "│ P83329     ┆ XXFENFLNANXA ┆ Evidence at  ┆ reviewed ┆ 4.2.1.1      ┆ Streptococcu ┆ Putative     │\n",
       "│            ┆ YVNLD        ┆ protein      ┆          ┆              ┆ s            ┆ carbonic     │\n",
       "│            ┆              ┆ level        ┆          ┆              ┆ thermophilus ┆ anhydrase    │\n",
       "│            ┆              ┆              ┆          ┆              ┆              ┆ (E…          │\n",
       "│ P83855     ┆ GVYMEIGRCRXE ┆ Evidence at  ┆ reviewed ┆ 4.6.1.1      ┆ Mus musculus ┆ Putative     │\n",
       "│            ┆ AXRRRKEAV    ┆ protein      ┆          ┆              ┆ (Mouse)      ┆ sperm        │\n",
       "│            ┆              ┆ level        ┆          ┆              ┆              ┆ adenylate    │\n",
       "│            ┆              ┆              ┆          ┆              ┆              ┆ cycla…       │\n",
       "│ P85957     ┆ AMAGTATVQGQG ┆ Evidence at  ┆ reviewed ┆ 1.11.1.7     ┆ Pseudotsuga  ┆ Peroxidase   │\n",
       "│            ┆ TR           ┆ protein      ┆          ┆              ┆ menziesii    ┆ (EC          │\n",
       "│            ┆              ┆ level        ┆          ┆              ┆ (Douglas…    ┆ 1.11.1.7)    │\n",
       "│ Q05115     ┆ MQQASTPTIGMI ┆ Evidence at  ┆ reviewed ┆ 4.1.1.76     ┆ Bordetella   ┆ Arylmalonate │\n",
       "│            ┆ VPPAAGLVPADG ┆ protein      ┆          ┆              ┆ bronchisepti ┆ decarboxylas │\n",
       "│            ┆ ARLYPD…      ┆ level        ┆          ┆              ┆ ca (Alc…     ┆ e (AM…       │\n",
       "└────────────┴──────────────┴──────────────┴──────────┴──────────────┴──────────────┴──────────────┘"
      ]
     },
     "execution_count": 39,
     "metadata": {},
     "output_type": "execute_result"
    }
   ],
   "source": [
    "kes.filter(pl.col(\"existence\").is_in([\"Evidence at protein level\", \"Evidence at transcript level\"]))"
   ]
  },
  {
   "cell_type": "code",
   "execution_count": 40,
   "id": "5b4e0cb4",
   "metadata": {},
   "outputs": [
    {
     "name": "stderr",
     "output_type": "stream",
     "text": [
      "100%|██████████| 28142/28142 [00:00<00:00, 52638.85it/s]\n"
     ]
    },
    {
     "data": {
      "text/plain": [
       "(518578, 164968)"
      ]
     },
     "execution_count": 40,
     "metadata": {},
     "output_type": "execute_result"
    }
   ],
   "source": [
    "enzymes = set()\n",
    "pairs = set()\n",
    "proper_pairs = set()\n",
    "proper_enzymes = set()\n",
    "evidence_dict = dict(zip(kes[\"id\"], kes[\"existence\"]))\n",
    "for row in tqdm(krs.iter_rows(named=True), total=len(krs)):\n",
    "    rxn = row['smarts']\n",
    "    for enz in row['enzymes']:\n",
    "        enzymes.add(enz)\n",
    "        evidence = evidence_dict.get(enz, \"Unknown\")\n",
    "        \n",
    "        if evidence in [\"Evidence at protein level\", \"Evidence at transcript level\"]:\n",
    "            proper_pairs.add((rxn, enz))\n",
    "            proper_enzymes.add(enz)\n",
    "        \n",
    "        pairs.add((rxn, enz))\n",
    "\n",
    "len(pairs), len(proper_pairs)"
   ]
  },
  {
   "cell_type": "code",
   "execution_count": 41,
   "id": "b1e7191e",
   "metadata": {},
   "outputs": [
    {
     "name": "stdout",
     "output_type": "stream",
     "text": [
      "total reacitions\n",
      "old: 18954 vs new: 28142\n",
      "\n",
      "reactions with enzymes\n",
      "old: 18954 vs new: 21034\n"
     ]
    }
   ],
   "source": [
    "print(\"total reacitions\")\n",
    "print(f\"old: {len(old_rxns_w_enz)} vs new: {krs.shape[0]}\")\n",
    "print(\"\\nreactions with enzymes\")\n",
    "print(f\"old: {len(old_rxns_w_enz)} vs new: {new_rxns_w_enz.shape[0]}\")"
   ]
  },
  {
   "cell_type": "code",
   "execution_count": 42,
   "id": "698234c6",
   "metadata": {},
   "outputs": [
    {
     "name": "stdout",
     "output_type": "stream",
     "text": [
      "number of enzymes\n",
      "old: 180013 vs new: 188937\n",
      "\n",
      "number of proper enzymes\n",
      "old: 36531 vs new: 41238\n",
      "\n",
      "number of pairs\n",
      "old: 485570 vs new: 518578\n",
      "\n",
      "number of proper pairs\n",
      "old: 140234 vs new: 164968\n"
     ]
    }
   ],
   "source": [
    "print(\"number of enzymes\")\n",
    "print(f\"old: {len(old_enz)} vs new: {len(enzymes)}\")\n",
    "print(\"\\nnumber of proper enzymes\")\n",
    "print(f\"old: {len(old_proper_enz)} vs new: {len(proper_enzymes)}\")\n",
    "print(\"\\nnumber of pairs\")\n",
    "print(f\"old: {len(old_pairs)} vs new: {len(pairs)}\")\n",
    "print(\"\\nnumber of proper pairs\")\n",
    "print(f\"old: {len(old_proper_pairs)} vs new: {len(proper_pairs)}\")"
   ]
  }
 ],
 "metadata": {
  "kernelspec": {
   "display_name": "enz_rxn_data",
   "language": "python",
   "name": "python3"
  },
  "language_info": {
   "codemirror_mode": {
    "name": "ipython",
    "version": 3
   },
   "file_extension": ".py",
   "mimetype": "text/x-python",
   "name": "python",
   "nbconvert_exporter": "python",
   "pygments_lexer": "ipython3",
   "version": "3.13.0"
  }
 },
 "nbformat": 4,
 "nbformat_minor": 5
}
