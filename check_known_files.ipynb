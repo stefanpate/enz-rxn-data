{
 "cells": [
  {
   "cell_type": "code",
   "execution_count": 61,
   "id": "7bb65f35",
   "metadata": {},
   "outputs": [],
   "source": [
    "from tqdm import tqdm\n",
    "import polars as pl"
   ]
  },
  {
   "cell_type": "code",
   "execution_count": 51,
   "id": "b2638f92",
   "metadata": {},
   "outputs": [],
   "source": [
    "krs = pl.read_parquet(\"/home/stef/enz_rxn_data/data/processed/pathway/known_reactions.parquet\")"
   ]
  },
  {
   "cell_type": "code",
   "execution_count": 53,
   "id": "b92bf314",
   "metadata": {},
   "outputs": [
    {
     "data": {
      "text/html": [
       "<div><style>\n",
       ".dataframe > thead > tr,\n",
       ".dataframe > tbody > tr {\n",
       "  text-align: right;\n",
       "  white-space: pre-wrap;\n",
       "}\n",
       "</style>\n",
       "<small>shape: (21_034, 5)</small><table border=\"1\" class=\"dataframe\"><thead><tr><th>id</th><th>smarts</th><th>enzymes</th><th>reverse</th><th>db_ids</th></tr><tr><td>i32</td><td>str</td><td>list[str]</td><td>i32</td><td>list[str]</td></tr></thead><tbody><tr><td>0</td><td>&quot;**.NC(CCC(=O)NC(CS)C(=O)NCC(=O…</td><td>[&quot;Q63688&quot;, &quot;O75881&quot;, &quot;Q60991&quot;]</td><td>4980</td><td>[&quot;RHEA:16438&quot;]</td></tr><tr><td>1</td><td>&quot;*.*.*.*.*.*.*.*.*.*.CC(C)(COP(…</td><td>[&quot;Q03220&quot;, &quot;Q8QZ73&quot;, … &quot;O90368&quot;]</td><td>7915</td><td>[&quot;RHEA:51350&quot;]</td></tr><tr><td>6</td><td>&quot;*.*.*.*.*.C=CC1=C(C)C(=Cc2[nH]…</td><td>[&quot;Q99PW5&quot;, &quot;O97859&quot;, … &quot;Q9Y3R4&quot;]</td><td>6146</td><td>[&quot;RHEA:37365&quot;]</td></tr><tr><td>7</td><td>&quot;*.*.*.*.*.C=CC1=C(C)C(=O)NC1=C…</td><td>[&quot;C8WGQ3&quot;, &quot;C8WJW0&quot;]</td><td>6147</td><td>[&quot;RHEA:37041&quot;]</td></tr><tr><td>8</td><td>&quot;*.*.*.*.*.CC(C)=CCCC(C)=CCCC(C…</td><td>[&quot;Q2XNC8&quot;, &quot;Q91WL5&quot;, … &quot;P51589&quot;]</td><td>9882</td><td>[&quot;RHEA:30976&quot;]</td></tr><tr><td>&hellip;</td><td>&hellip;</td><td>&hellip;</td><td>&hellip;</td><td>&hellip;</td></tr><tr><td>29183</td><td>&quot;[N]=O.[N]=O&gt;&gt;N#[N+][O-].O&quot;</td><td>[&quot;A0A4V8H042&quot;]</td><td>21896</td><td>[&quot;RHEA:10990&quot;]</td></tr><tr><td>29184</td><td>&quot;[N]=O.[O]O&gt;&gt;O=NOO&quot;</td><td>[&quot;Q8NBS3&quot;, &quot;A2AJN7&quot;]</td><td>28240</td><td>[&quot;RHEA:51189&quot;]</td></tr><tr><td>29189</td><td>&quot;[O]C1=C(O)C(=O)OC1C(O)CO.[O]C1…</td><td>[&quot;Q8K4F5&quot;, &quot;Q8NFV4&quot;, … &quot;Q3SZ73&quot;]</td><td>28044</td><td>[&quot;RHEA:30268&quot;]</td></tr><tr><td>29190</td><td>&quot;[O]O.[O]O&gt;&gt;O=O.OO&quot;</td><td>[&quot;P04182&quot;, &quot;Q3ZCF5&quot;, … &quot;Q07805&quot;]</td><td>28293</td><td>[&quot;RHEA:20697&quot;]</td></tr><tr><td>29195</td><td>&quot;c1ccc(C2CO2)cc1&gt;&gt;O=CCc1ccccc1&quot;</td><td>[&quot;P39582&quot;, &quot;P65651&quot;, … &quot;P32166&quot;]</td><td>28209</td><td>[&quot;RHEA:21605&quot;]</td></tr></tbody></table></div>"
      ],
      "text/plain": [
       "shape: (21_034, 5)\n",
       "┌───────┬─────────────────────────────────┬────────────────────────┬─────────┬────────────────┐\n",
       "│ id    ┆ smarts                          ┆ enzymes                ┆ reverse ┆ db_ids         │\n",
       "│ ---   ┆ ---                             ┆ ---                    ┆ ---     ┆ ---            │\n",
       "│ i32   ┆ str                             ┆ list[str]              ┆ i32     ┆ list[str]      │\n",
       "╞═══════╪═════════════════════════════════╪════════════════════════╪═════════╪════════════════╡\n",
       "│ 0     ┆ **.NC(CCC(=O)NC(CS)C(=O)NCC(=O… ┆ [\"Q63688\", \"O75881\",   ┆ 4980    ┆ [\"RHEA:16438\"] │\n",
       "│       ┆                                 ┆ \"Q60991\"]              ┆         ┆                │\n",
       "│ 1     ┆ *.*.*.*.*.*.*.*.*.*.CC(C)(COP(… ┆ [\"Q03220\", \"Q8QZ73\", … ┆ 7915    ┆ [\"RHEA:51350\"] │\n",
       "│       ┆                                 ┆ \"O90368…               ┆         ┆                │\n",
       "│ 6     ┆ *.*.*.*.*.C=CC1=C(C)C(=Cc2[nH]… ┆ [\"Q99PW5\", \"O97859\", … ┆ 6146    ┆ [\"RHEA:37365\"] │\n",
       "│       ┆                                 ┆ \"Q9Y3R4…               ┆         ┆                │\n",
       "│ 7     ┆ *.*.*.*.*.C=CC1=C(C)C(=O)NC1=C… ┆ [\"C8WGQ3\", \"C8WJW0\"]   ┆ 6147    ┆ [\"RHEA:37041\"] │\n",
       "│ 8     ┆ *.*.*.*.*.CC(C)=CCCC(C)=CCCC(C… ┆ [\"Q2XNC8\", \"Q91WL5\", … ┆ 9882    ┆ [\"RHEA:30976\"] │\n",
       "│       ┆                                 ┆ \"P51589…               ┆         ┆                │\n",
       "│ …     ┆ …                               ┆ …                      ┆ …       ┆ …              │\n",
       "│ 29183 ┆ [N]=O.[N]=O>>N#[N+][O-].O       ┆ [\"A0A4V8H042\"]         ┆ 21896   ┆ [\"RHEA:10990\"] │\n",
       "│ 29184 ┆ [N]=O.[O]O>>O=NOO               ┆ [\"Q8NBS3\", \"A2AJN7\"]   ┆ 28240   ┆ [\"RHEA:51189\"] │\n",
       "│ 29189 ┆ [O]C1=C(O)C(=O)OC1C(O)CO.[O]C1… ┆ [\"Q8K4F5\", \"Q8NFV4\", … ┆ 28044   ┆ [\"RHEA:30268\"] │\n",
       "│       ┆                                 ┆ \"Q3SZ73…               ┆         ┆                │\n",
       "│ 29190 ┆ [O]O.[O]O>>O=O.OO               ┆ [\"P04182\", \"Q3ZCF5\", … ┆ 28293   ┆ [\"RHEA:20697\"] │\n",
       "│       ┆                                 ┆ \"Q07805…               ┆         ┆                │\n",
       "│ 29195 ┆ c1ccc(C2CO2)cc1>>O=CCc1ccccc1   ┆ [\"P39582\", \"P65651\", … ┆ 28209   ┆ [\"RHEA:21605\"] │\n",
       "│       ┆                                 ┆ \"P32166…               ┆         ┆                │\n",
       "└───────┴─────────────────────────────────┴────────────────────────┴─────────┴────────────────┘"
      ]
     },
     "execution_count": 53,
     "metadata": {},
     "output_type": "execute_result"
    }
   ],
   "source": [
    "krs.filter(pl.col(\"enzymes\").list.len() > 0)"
   ]
  },
  {
   "cell_type": "code",
   "execution_count": 48,
   "id": "d9d983de",
   "metadata": {},
   "outputs": [
    {
     "data": {
      "text/html": [
       "<div><style>\n",
       ".dataframe > thead > tr,\n",
       ".dataframe > tbody > tr {\n",
       "  text-align: right;\n",
       "  white-space: pre-wrap;\n",
       "}\n",
       "</style>\n",
       "<small>shape: (5, 7)</small><table border=\"1\" class=\"dataframe\"><thead><tr><th>id</th><th>sequence</th><th>existence</th><th>reviewed</th><th>ec</th><th>organism</th><th>name</th></tr><tr><td>str</td><td>str</td><td>enum</td><td>enum</td><td>str</td><td>str</td><td>str</td></tr></thead><tbody><tr><td>&quot;A0A009IHW8&quot;</td><td>&quot;MSLEQKKGADIISKILQIQNSIGKTTSPST…</td><td>&quot;Evidence at protein level&quot;</td><td>&quot;reviewed&quot;</td><td>&quot;3.2.2.-; 3.2.2.6&quot;</td><td>&quot;Acinetobacter baumannii (strai…</td><td>&quot;2&#x27; cyclic ADP-D-ribose synthas…</td></tr><tr><td>&quot;A0A059TC02&quot;</td><td>&quot;MRSVSGQVVCVTGAGGFIASWLVKILLEKG…</td><td>&quot;Evidence at protein level&quot;</td><td>&quot;reviewed&quot;</td><td>&quot;1.2.1.44&quot;</td><td>&quot;Petunia hybrida (Petunia)&quot;</td><td>&quot;Cinnamoyl-CoA reductase 1 (Ph-…</td></tr><tr><td>&quot;A0A061I403&quot;</td><td>&quot;MPMASVIAVAEPKWISVWGRFLWLTLLSMA…</td><td>&quot;Evidence at protein level&quot;</td><td>&quot;reviewed&quot;</td><td>&quot;2.7.7.108; 3.1.4.-&quot;</td><td>&quot;Cricetulus griseus (Chinese ha…</td><td>&quot;Protein adenylyltransferase FI…</td></tr><tr><td>&quot;A0A067XGX8&quot;</td><td>&quot;MALTATATTRGGSALPNSCLQTPKFQSLQK…</td><td>&quot;Evidence at transcript level&quot;</td><td>&quot;reviewed&quot;</td><td>&quot;2.5.1.54&quot;</td><td>&quot;Petunia hybrida (Petunia)&quot;</td><td>&quot;Phospho-2-dehydro-3-deoxyhepto…</td></tr><tr><td>&quot;A0A067XH53&quot;</td><td>&quot;MALSTNSTTSSLLPKTPLVQQPLLKNASLP…</td><td>&quot;Evidence at transcript level&quot;</td><td>&quot;reviewed&quot;</td><td>&quot;2.5.1.54&quot;</td><td>&quot;Petunia hybrida (Petunia)&quot;</td><td>&quot;Phospho-2-dehydro-3-deoxyhepto…</td></tr></tbody></table></div>"
      ],
      "text/plain": [
       "shape: (5, 7)\n",
       "┌────────────┬──────────────┬──────────────┬──────────┬──────────────┬──────────────┬──────────────┐\n",
       "│ id         ┆ sequence     ┆ existence    ┆ reviewed ┆ ec           ┆ organism     ┆ name         │\n",
       "│ ---        ┆ ---          ┆ ---          ┆ ---      ┆ ---          ┆ ---          ┆ ---          │\n",
       "│ str        ┆ str          ┆ enum         ┆ enum     ┆ str          ┆ str          ┆ str          │\n",
       "╞════════════╪══════════════╪══════════════╪══════════╪══════════════╪══════════════╪══════════════╡\n",
       "│ A0A009IHW8 ┆ MSLEQKKGADII ┆ Evidence at  ┆ reviewed ┆ 3.2.2.-;     ┆ Acinetobacte ┆ 2' cyclic    │\n",
       "│            ┆ SKILQIQNSIGK ┆ protein      ┆          ┆ 3.2.2.6      ┆ r baumannii  ┆ ADP-D-ribose │\n",
       "│            ┆ TTSPST…      ┆ level        ┆          ┆              ┆ (strai…      ┆ synthas…     │\n",
       "│ A0A059TC02 ┆ MRSVSGQVVCVT ┆ Evidence at  ┆ reviewed ┆ 1.2.1.44     ┆ Petunia      ┆ Cinnamoyl-Co │\n",
       "│            ┆ GAGGFIASWLVK ┆ protein      ┆          ┆              ┆ hybrida      ┆ A reductase  │\n",
       "│            ┆ ILLEKG…      ┆ level        ┆          ┆              ┆ (Petunia)    ┆ 1 (Ph-…      │\n",
       "│ A0A061I403 ┆ MPMASVIAVAEP ┆ Evidence at  ┆ reviewed ┆ 2.7.7.108;   ┆ Cricetulus   ┆ Protein aden │\n",
       "│            ┆ KWISVWGRFLWL ┆ protein      ┆          ┆ 3.1.4.-      ┆ griseus      ┆ ylyltransfer │\n",
       "│            ┆ TLLSMA…      ┆ level        ┆          ┆              ┆ (Chinese ha… ┆ ase FI…      │\n",
       "│ A0A067XGX8 ┆ MALTATATTRGG ┆ Evidence at  ┆ reviewed ┆ 2.5.1.54     ┆ Petunia      ┆ Phospho-2-de │\n",
       "│            ┆ SALPNSCLQTPK ┆ transcript   ┆          ┆              ┆ hybrida      ┆ hydro-3-deox │\n",
       "│            ┆ FQSLQK…      ┆ level        ┆          ┆              ┆ (Petunia)    ┆ yhepto…      │\n",
       "│ A0A067XH53 ┆ MALSTNSTTSSL ┆ Evidence at  ┆ reviewed ┆ 2.5.1.54     ┆ Petunia      ┆ Phospho-2-de │\n",
       "│            ┆ LPKTPLVQQPLL ┆ transcript   ┆          ┆              ┆ hybrida      ┆ hydro-3-deox │\n",
       "│            ┆ KNASLP…      ┆ level        ┆          ┆              ┆ (Petunia)    ┆ yhepto…      │\n",
       "└────────────┴──────────────┴──────────────┴──────────┴──────────────┴──────────────┴──────────────┘"
      ]
     },
     "execution_count": 48,
     "metadata": {},
     "output_type": "execute_result"
    }
   ],
   "source": [
    "kes = pl.read_parquet(\"/home/stef/enz_rxn_data/data/processed/pathway/known_enzymes.parquet\")\n",
    "kes.head()"
   ]
  },
  {
   "cell_type": "code",
   "execution_count": 49,
   "id": "7e083e0a",
   "metadata": {},
   "outputs": [
    {
     "data": {
      "text/html": [
       "<div><style>\n",
       ".dataframe > thead > tr,\n",
       ".dataframe > tbody > tr {\n",
       "  text-align: right;\n",
       "  white-space: pre-wrap;\n",
       "}\n",
       "</style>\n",
       "<small>shape: (42_511, 7)</small><table border=\"1\" class=\"dataframe\"><thead><tr><th>id</th><th>sequence</th><th>existence</th><th>reviewed</th><th>ec</th><th>organism</th><th>name</th></tr><tr><td>str</td><td>str</td><td>enum</td><td>enum</td><td>str</td><td>str</td><td>str</td></tr></thead><tbody><tr><td>&quot;A0A009IHW8&quot;</td><td>&quot;MSLEQKKGADIISKILQIQNSIGKTTSPST…</td><td>&quot;Evidence at protein level&quot;</td><td>&quot;reviewed&quot;</td><td>&quot;3.2.2.-; 3.2.2.6&quot;</td><td>&quot;Acinetobacter baumannii (strai…</td><td>&quot;2&#x27; cyclic ADP-D-ribose synthas…</td></tr><tr><td>&quot;A0A059TC02&quot;</td><td>&quot;MRSVSGQVVCVTGAGGFIASWLVKILLEKG…</td><td>&quot;Evidence at protein level&quot;</td><td>&quot;reviewed&quot;</td><td>&quot;1.2.1.44&quot;</td><td>&quot;Petunia hybrida (Petunia)&quot;</td><td>&quot;Cinnamoyl-CoA reductase 1 (Ph-…</td></tr><tr><td>&quot;A0A061I403&quot;</td><td>&quot;MPMASVIAVAEPKWISVWGRFLWLTLLSMA…</td><td>&quot;Evidence at protein level&quot;</td><td>&quot;reviewed&quot;</td><td>&quot;2.7.7.108; 3.1.4.-&quot;</td><td>&quot;Cricetulus griseus (Chinese ha…</td><td>&quot;Protein adenylyltransferase FI…</td></tr><tr><td>&quot;A0A067XGX8&quot;</td><td>&quot;MALTATATTRGGSALPNSCLQTPKFQSLQK…</td><td>&quot;Evidence at transcript level&quot;</td><td>&quot;reviewed&quot;</td><td>&quot;2.5.1.54&quot;</td><td>&quot;Petunia hybrida (Petunia)&quot;</td><td>&quot;Phospho-2-dehydro-3-deoxyhepto…</td></tr><tr><td>&quot;A0A067XH53&quot;</td><td>&quot;MALSTNSTTSSLLPKTPLVQQPLLKNASLP…</td><td>&quot;Evidence at transcript level&quot;</td><td>&quot;reviewed&quot;</td><td>&quot;2.5.1.54&quot;</td><td>&quot;Petunia hybrida (Petunia)&quot;</td><td>&quot;Phospho-2-dehydro-3-deoxyhepto…</td></tr><tr><td>&hellip;</td><td>&hellip;</td><td>&hellip;</td><td>&hellip;</td><td>&hellip;</td><td>&hellip;</td><td>&hellip;</td></tr><tr><td>&quot;P80580&quot;</td><td>&quot;MKLYSFFNXRA&quot;</td><td>&quot;Evidence at protein level&quot;</td><td>&quot;reviewed&quot;</td><td>&quot;5.2.1.4&quot;</td><td>&quot;Klebsiella pneumoniae&quot;</td><td>&quot;Maleylpyruvate isomerase (EC 5…</td></tr><tr><td>&quot;P83329&quot;</td><td>&quot;XXFENFLNANXAYVNLD&quot;</td><td>&quot;Evidence at protein level&quot;</td><td>&quot;reviewed&quot;</td><td>&quot;4.2.1.1&quot;</td><td>&quot;Streptococcus thermophilus&quot;</td><td>&quot;Putative carbonic anhydrase (E…</td></tr><tr><td>&quot;P83855&quot;</td><td>&quot;GVYMEIGRCRXEAXRRRKEAV&quot;</td><td>&quot;Evidence at protein level&quot;</td><td>&quot;reviewed&quot;</td><td>&quot;4.6.1.1&quot;</td><td>&quot;Mus musculus (Mouse)&quot;</td><td>&quot;Putative sperm adenylate cycla…</td></tr><tr><td>&quot;P85957&quot;</td><td>&quot;AMAGTATVQGQGTR&quot;</td><td>&quot;Evidence at protein level&quot;</td><td>&quot;reviewed&quot;</td><td>&quot;1.11.1.7&quot;</td><td>&quot;Pseudotsuga menziesii (Douglas…</td><td>&quot;Peroxidase (EC 1.11.1.7)&quot;</td></tr><tr><td>&quot;Q05115&quot;</td><td>&quot;MQQASTPTIGMIVPPAAGLVPADGARLYPD…</td><td>&quot;Evidence at protein level&quot;</td><td>&quot;reviewed&quot;</td><td>&quot;4.1.1.76&quot;</td><td>&quot;Bordetella bronchiseptica (Alc…</td><td>&quot;Arylmalonate decarboxylase (AM…</td></tr></tbody></table></div>"
      ],
      "text/plain": [
       "shape: (42_511, 7)\n",
       "┌────────────┬──────────────┬──────────────┬──────────┬──────────────┬──────────────┬──────────────┐\n",
       "│ id         ┆ sequence     ┆ existence    ┆ reviewed ┆ ec           ┆ organism     ┆ name         │\n",
       "│ ---        ┆ ---          ┆ ---          ┆ ---      ┆ ---          ┆ ---          ┆ ---          │\n",
       "│ str        ┆ str          ┆ enum         ┆ enum     ┆ str          ┆ str          ┆ str          │\n",
       "╞════════════╪══════════════╪══════════════╪══════════╪══════════════╪══════════════╪══════════════╡\n",
       "│ A0A009IHW8 ┆ MSLEQKKGADII ┆ Evidence at  ┆ reviewed ┆ 3.2.2.-;     ┆ Acinetobacte ┆ 2' cyclic    │\n",
       "│            ┆ SKILQIQNSIGK ┆ protein      ┆          ┆ 3.2.2.6      ┆ r baumannii  ┆ ADP-D-ribose │\n",
       "│            ┆ TTSPST…      ┆ level        ┆          ┆              ┆ (strai…      ┆ synthas…     │\n",
       "│ A0A059TC02 ┆ MRSVSGQVVCVT ┆ Evidence at  ┆ reviewed ┆ 1.2.1.44     ┆ Petunia      ┆ Cinnamoyl-Co │\n",
       "│            ┆ GAGGFIASWLVK ┆ protein      ┆          ┆              ┆ hybrida      ┆ A reductase  │\n",
       "│            ┆ ILLEKG…      ┆ level        ┆          ┆              ┆ (Petunia)    ┆ 1 (Ph-…      │\n",
       "│ A0A061I403 ┆ MPMASVIAVAEP ┆ Evidence at  ┆ reviewed ┆ 2.7.7.108;   ┆ Cricetulus   ┆ Protein aden │\n",
       "│            ┆ KWISVWGRFLWL ┆ protein      ┆          ┆ 3.1.4.-      ┆ griseus      ┆ ylyltransfer │\n",
       "│            ┆ TLLSMA…      ┆ level        ┆          ┆              ┆ (Chinese ha… ┆ ase FI…      │\n",
       "│ A0A067XGX8 ┆ MALTATATTRGG ┆ Evidence at  ┆ reviewed ┆ 2.5.1.54     ┆ Petunia      ┆ Phospho-2-de │\n",
       "│            ┆ SALPNSCLQTPK ┆ transcript   ┆          ┆              ┆ hybrida      ┆ hydro-3-deox │\n",
       "│            ┆ FQSLQK…      ┆ level        ┆          ┆              ┆ (Petunia)    ┆ yhepto…      │\n",
       "│ A0A067XH53 ┆ MALSTNSTTSSL ┆ Evidence at  ┆ reviewed ┆ 2.5.1.54     ┆ Petunia      ┆ Phospho-2-de │\n",
       "│            ┆ LPKTPLVQQPLL ┆ transcript   ┆          ┆              ┆ hybrida      ┆ hydro-3-deox │\n",
       "│            ┆ KNASLP…      ┆ level        ┆          ┆              ┆ (Petunia)    ┆ yhepto…      │\n",
       "│ …          ┆ …            ┆ …            ┆ …        ┆ …            ┆ …            ┆ …            │\n",
       "│ P80580     ┆ MKLYSFFNXRA  ┆ Evidence at  ┆ reviewed ┆ 5.2.1.4      ┆ Klebsiella   ┆ Maleylpyruva │\n",
       "│            ┆              ┆ protein      ┆          ┆              ┆ pneumoniae   ┆ te isomerase │\n",
       "│            ┆              ┆ level        ┆          ┆              ┆              ┆ (EC 5…       │\n",
       "│ P83329     ┆ XXFENFLNANXA ┆ Evidence at  ┆ reviewed ┆ 4.2.1.1      ┆ Streptococcu ┆ Putative     │\n",
       "│            ┆ YVNLD        ┆ protein      ┆          ┆              ┆ s            ┆ carbonic     │\n",
       "│            ┆              ┆ level        ┆          ┆              ┆ thermophilus ┆ anhydrase    │\n",
       "│            ┆              ┆              ┆          ┆              ┆              ┆ (E…          │\n",
       "│ P83855     ┆ GVYMEIGRCRXE ┆ Evidence at  ┆ reviewed ┆ 4.6.1.1      ┆ Mus musculus ┆ Putative     │\n",
       "│            ┆ AXRRRKEAV    ┆ protein      ┆          ┆              ┆ (Mouse)      ┆ sperm        │\n",
       "│            ┆              ┆ level        ┆          ┆              ┆              ┆ adenylate    │\n",
       "│            ┆              ┆              ┆          ┆              ┆              ┆ cycla…       │\n",
       "│ P85957     ┆ AMAGTATVQGQG ┆ Evidence at  ┆ reviewed ┆ 1.11.1.7     ┆ Pseudotsuga  ┆ Peroxidase   │\n",
       "│            ┆ TR           ┆ protein      ┆          ┆              ┆ menziesii    ┆ (EC          │\n",
       "│            ┆              ┆ level        ┆          ┆              ┆ (Douglas…    ┆ 1.11.1.7)    │\n",
       "│ Q05115     ┆ MQQASTPTIGMI ┆ Evidence at  ┆ reviewed ┆ 4.1.1.76     ┆ Bordetella   ┆ Arylmalonate │\n",
       "│            ┆ VPPAAGLVPADG ┆ protein      ┆          ┆              ┆ bronchisepti ┆ decarboxylas │\n",
       "│            ┆ ARLYPD…      ┆ level        ┆          ┆              ┆ ca (Alc…     ┆ e (AM…       │\n",
       "└────────────┴──────────────┴──────────────┴──────────┴──────────────┴──────────────┴──────────────┘"
      ]
     },
     "execution_count": 49,
     "metadata": {},
     "output_type": "execute_result"
    }
   ],
   "source": [
    "kes.filter(pl.col(\"existence\").is_in([\"Evidence at protein level\", \"Evidence at transcript level\"]))"
   ]
  },
  {
   "cell_type": "code",
   "execution_count": null,
   "id": "5b4e0cb4",
   "metadata": {},
   "outputs": [
    {
     "name": "stderr",
     "output_type": "stream",
     "text": [
      "100%|██████████| 28142/28142 [00:00<00:00, 45076.05it/s]\n"
     ]
    },
    {
     "data": {
      "text/plain": [
       "(518578, 164968)"
      ]
     },
     "execution_count": 62,
     "metadata": {},
     "output_type": "execute_result"
    }
   ],
   "source": [
    "pairs = set()\n",
    "proper_pairs = set()\n",
    "evidence_dict = dict(zip(kes[\"id\"], kes[\"existence\"]))\n",
    "for row in tqdm(krs.iter_rows(named=True), total=len(krs)):\n",
    "    rxn = row['smarts']\n",
    "    for enz in row['enzymes']:\n",
    "        evidence = evidence_dict.get(enz, \"Unknown\")\n",
    "        \n",
    "        if evidence in [\"Evidence at protein level\", \"Evidence at transcript level\"]:\n",
    "            proper_pairs.add((rxn, enz))\n",
    "        \n",
    "        pairs.add((rxn, enz))\n",
    "\n",
    "len(pairs), len(proper_pairs)"
   ]
  }
 ],
 "metadata": {
  "kernelspec": {
   "display_name": "enz_rxn_data",
   "language": "python",
   "name": "python3"
  },
  "language_info": {
   "codemirror_mode": {
    "name": "ipython",
    "version": 3
   },
   "file_extension": ".py",
   "mimetype": "text/x-python",
   "name": "python",
   "nbconvert_exporter": "python",
   "pygments_lexer": "ipython3",
   "version": "3.13.0"
  }
 },
 "nbformat": 4,
 "nbformat_minor": 5
}
